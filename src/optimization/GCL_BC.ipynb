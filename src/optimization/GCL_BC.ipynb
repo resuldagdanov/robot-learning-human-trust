{
 "cells": [
  {
   "cell_type": "markdown",
   "id": "58015ebe",
   "metadata": {},
   "source": [
    "# Libraries"
   ]
  },
  {
   "cell_type": "code",
   "execution_count": 1,
   "id": "492a83e3",
   "metadata": {},
   "outputs": [],
   "source": [
    "import os\n",
    "import sys\n",
    "\n",
    "import numpy as np\n",
    "import pandas as pd\n",
    "\n",
    "from tqdm import tqdm\n",
    "\n",
    "import torch\n",
    "import random\n",
    "\n",
    "import seaborn as sns\n",
    "import matplotlib.pyplot as plt\n",
    "\n",
    "# get the current script's directory\n",
    "current_directory = os.path.dirname(os.path.abspath(__file__)) if \"__file__\" in locals() else os.getcwd()\n",
    "# get the parent directory\n",
    "parent_directory = os.path.dirname(current_directory)\n",
    "# add the parent directory to the sys.path\n",
    "sys.path.append(parent_directory)\n",
    "\n",
    "from optimization import functions\n",
    "from optimization.updater import Updater\n",
    "\n",
    "from utils import constants, common\n",
    "from utils.config import Config\n",
    "from utils.dataset_loader import PolicyDatasetLoader\n",
    "\n",
    "from models.policy_model import RobotPolicy\n",
    "from models.reward_model import RewardFunction"
   ]
  },
  {
   "cell_type": "markdown",
   "id": "0ae0d6ec",
   "metadata": {},
   "source": [
    "# Constants"
   ]
  },
  {
   "cell_type": "code",
   "execution_count": 2,
   "id": "569ae839",
   "metadata": {},
   "outputs": [],
   "source": [
    "D_demo, D_samp = np.array([]), np.array([])\n",
    "mean_loss_reward, mean_loss_policy = [], []\n",
    "\n",
    "EPISODES_TO_PLAY = 10\n",
    "REWARD_FUNCTION_UPDATE = 5\n",
    "DEMO_BATCH = 256\n",
    "NUM_EPOCHS = 500\n",
    "\n",
    "# Define initial state means and variances\n",
    "initial_state_means = [0.175, 0.5, 0.3]\n",
    "initial_state_variances = [0.075, 0.05, 0.1]\n",
    "\n",
    "# Define specific ranges for squashing\n",
    "min_ranges = [0.10, 0.45, 0.20]\n",
    "max_ranges = [0.25, 0.55, 0.40]"
   ]
  },
  {
   "cell_type": "code",
   "execution_count": 3,
   "id": "e2fdb968",
   "metadata": {},
   "outputs": [],
   "source": [
    "pd.set_option(\"display.max_columns\", None)\n",
    "\n",
    "current_path = os.getcwd()\n",
    "parent_path = os.path.dirname(current_path)\n",
    "grand_parent_path = os.path.dirname(parent_path)\n",
    "\n",
    "results_path = os.path.join(grand_parent_path, \"results\")"
   ]
  },
  {
   "cell_type": "code",
   "execution_count": 4,
   "id": "f08f7e92",
   "metadata": {},
   "outputs": [
    {
     "name": "stdout",
     "output_type": "stream",
     "text": [
      "Current Time:  Feb_13_2024-14_41_48\n",
      "Training Device:  cpu\n",
      "Current Time:  Feb_13_2024-14_41_48\n"
     ]
    },
    {
     "data": {
      "text/plain": [
       "<torch._C.Generator at 0x181a2d407f0>"
      ]
     },
     "execution_count": 4,
     "metadata": {},
     "output_type": "execute_result"
    }
   ],
   "source": [
    "configs = Config()\n",
    "# call the parameters method to set the parameters\n",
    "configs.parameters()\n",
    "\n",
    "device = torch.device(\"cuda\" if torch.cuda.is_available() else \"cpu\")\n",
    "print(\"Training Device: \", device)\n",
    "configs.device = device\n",
    "\n",
    "configs = functions.setup_config(device=device)\n",
    "\n",
    "random.seed(configs.seed)\n",
    "np.random.seed(configs.seed)\n",
    "torch.manual_seed(configs.seed)"
   ]
  },
  {
   "cell_type": "code",
   "execution_count": 5,
   "id": "3d18a789",
   "metadata": {},
   "outputs": [],
   "source": [
    "policy_saving_path, reward_saving_path = functions.create_directories(configs=configs,\n",
    "                                                                      results_path=results_path,\n",
    "                                                                      saving_policy=True,\n",
    "                                                                      saving_reward=True)\n",
    "\n",
    "json_paths_train, results_path = functions.get_directories(parent_directory=parent_directory,\n",
    "                                                           data_folder_name=constants.DEMO_COLLECTION_DATE) # DEMO_COLLECTION_DATE, TEST_COLLECTION_DATE"
   ]
  },
  {
   "cell_type": "code",
   "execution_count": 6,
   "id": "27077ecf",
   "metadata": {},
   "outputs": [
    {
     "name": "stdout",
     "output_type": "stream",
     "text": [
      "\n",
      "================== Policy Dataset Loader ==================\n",
      "\n",
      "Number of Trajectories:  43\n",
      "Each Trajectory Length:  8\n",
      "Full Demo Dataset Size:  333\n"
     ]
    }
   ],
   "source": [
    "training_data = PolicyDatasetLoader(demo_data_json_paths=json_paths_train)\n",
    "\n",
    "train_loader = torch.utils.data.DataLoader(training_data,\n",
    "                                           batch_size=configs.batch_size,\n",
    "                                           shuffle=configs.data_shuffle,\n",
    "                                           num_workers=configs.num_workers)\n",
    "\n",
    "trajectory_indices = functions.find_indices_of_trajectory_changes(dataset=training_data)\n",
    "\n",
    "policy_network = RobotPolicy(state_size=configs.state_size,\n",
    "                             hidden_size=configs.hidden_size,\n",
    "                             out_size=configs.action_size,\n",
    "                             log_std_min=configs.policy_log_std_min,\n",
    "                             log_std_max=configs.policy_log_std_max,\n",
    "                             log_std_init=configs.policy_log_std_init,\n",
    "                             device=configs.device)\n",
    "reward_network = RewardFunction(state_action_size=configs.state_action_size,\n",
    "                                hidden_size=configs.hidden_size,\n",
    "                                out_size=configs.reward_size,\n",
    "                                device=configs.device)\n",
    "\n",
    "updater_obj = Updater(configs=configs,\n",
    "                      policy_network=policy_network,\n",
    "                      reward_network=reward_network)\n",
    "updater_obj.initialize_optimizers()"
   ]
  },
  {
   "cell_type": "markdown",
   "id": "26647e04",
   "metadata": {},
   "source": [
    "# Functions"
   ]
  },
  {
   "cell_type": "code",
   "execution_count": 7,
   "id": "f5cc361e",
   "metadata": {},
   "outputs": [],
   "source": [
    "def preprocess_traj(traj_list_, step_list, is_Demo=False):\n",
    "    step_list = step_list.tolist()\n",
    "    \n",
    "    for traj_df in traj_list_:\n",
    "        \n",
    "        if is_Demo:\n",
    "            states = traj_df[[\"state_label_norm_1\", \"state_label_norm_2\", \"state_label_norm_3\"]].values\n",
    "            actions = traj_df[[\"action_label_norm_1\", \"action_label_norm_2\", \"action_label_norm_3\"]].values\n",
    "            probs = np.ones((actions.shape[0], actions.shape[1]))\n",
    "        \n",
    "        else:\n",
    "            states = np.array([state_tensor[0].detach().numpy() for state_tensor in traj_df[0]])\n",
    "            actions = np.array([action_tensor.clone().detach()[0].numpy() for action_tensor in traj_df[1]])\n",
    "            probs = np.array([prob_tensor.clone().detach()[0].numpy() for prob_tensor in traj_df[2]])\n",
    "        \n",
    "        x = np.concatenate((states, probs, actions), axis=1)\n",
    "        step_list.extend(x)\n",
    "    \n",
    "    return np.array(step_list)\n",
    "\n",
    "\n",
    "def squash_fun(x, min_value, max_value):\n",
    "    return 0.5 * (x + 1) * (max_value - min_value) + min_value\n",
    "\n",
    "\n",
    "def generate_initial_rand_state(how_many=1):\n",
    "    # Generate random samples for the initial state\n",
    "    state_0_rand = np.random.normal(loc=initial_state_means,\n",
    "                                    scale=np.sqrt(initial_state_variances),\n",
    "                                    size=(how_many, len(initial_state_means)))\n",
    "\n",
    "    # Squash the random samples to the specified ranges\n",
    "    state_0_squashed = np.zeros_like(state_0_rand)\n",
    "    for i in range(len(initial_state_means)):\n",
    "        state_0_squashed[:, i] = squash_fun(x=state_0_rand[:, i], min_value=min_ranges[i], max_value=max_ranges[i])\n",
    "\n",
    "    return state_0_squashed\n",
    "\n",
    "\n",
    "def get_cumulative_rewards(rewards, gamma=0.99):\n",
    "    G = torch.zeros_like(rewards, dtype=torch.float64)\n",
    "\n",
    "    G[-1] = rewards[-1]\n",
    "\n",
    "    for idx in range(len(rewards) - 2, -1, -1):\n",
    "        G[idx] = rewards[idx] + gamma * G[idx + 1]\n",
    "\n",
    "    return G\n",
    "\n",
    "\n",
    "def policy_gradient_loss(cumulative_log_probs, advantages, entropy_weight=1e-2):\n",
    "    weighted_log_probs = cumulative_log_probs * advantages\n",
    "    \n",
    "    entropy = -torch.mean(torch.sum(torch.exp(cumulative_log_probs) * cumulative_log_probs, dim=-1))\n",
    "    \n",
    "    loss = - torch.mean(weighted_log_probs) + entropy_weight * entropy\n",
    "\n",
    "    return loss\n",
    "\n",
    "\n",
    "def generate_session(t_max, updater_obj):\n",
    "    states, traj_probs, actions, rewards = [], [], [], []\n",
    "    \n",
    "    state_0 = generate_initial_rand_state(how_many=1)\n",
    "    s = torch.Tensor(state_0)\n",
    "\n",
    "    for t in range(t_max):\n",
    "        output_action_norm, action_std, action_log_prob, action_entropy, action_mu_and_std, action_dist = \\\n",
    "            updater_obj.policy_network.estimate_action(state=s,\n",
    "                                                       is_inference=False)\n",
    "        a = output_action_norm\n",
    "\n",
    "        action_probs = torch.exp(action_log_prob)\n",
    "\n",
    "        output_action_denorm = common.denormalize_action(action_norm=output_action_norm.clone().detach().numpy(),\n",
    "                                                         norm_range_list=training_data.action_norms)\n",
    "        if output_action_denorm[0][-1] < -constants.ROBOT_BASE_HEIGHT:\n",
    "            done = True\n",
    "        else:\n",
    "            done = False\n",
    "        \n",
    "#         norm_state_estim_df = pd.DataFrame(s)\n",
    "#         state_estim_tensor = torch.tensor(norm_state_estim_df.values.astype(np.float64),\n",
    "#                                           dtype=torch.float64,\n",
    "#                                           device=configs.device)\n",
    "        \n",
    "        reward_values_tensor = updater_obj.reward_network.estimate_reward(state_action=s,\n",
    "                                                                          is_inference=True)\n",
    "        r = reward_values_tensor\n",
    "\n",
    "        next_state_denorm = functions.calculate_next_state(action_denorm=output_action_denorm[0],\n",
    "                                                           obstacle_location=np.array(constants.OBSTACLE_LOCATION),\n",
    "                                                           target_location=np.array(constants.TARGET_LOCATION))\n",
    "        new_s = common.normalize_state(state=next_state_denorm,\n",
    "                                       norm_value_list=training_data.state_norms)\n",
    "        \n",
    "        states.append(s.clone().requires_grad_(True))\n",
    "        traj_probs.append(action_probs.clone().requires_grad_(True))\n",
    "        actions.append(a.clone().requires_grad_(True))\n",
    "        rewards.append(r.clone().requires_grad_(True))\n",
    "        \n",
    "        s = torch.Tensor(np.array([new_s]))\n",
    "        \n",
    "        if done:\n",
    "            print(\"DONE\")\n",
    "            break\n",
    "    \n",
    "    return states, actions, traj_probs, rewards"
   ]
  },
  {
   "cell_type": "markdown",
   "id": "41e302b8",
   "metadata": {},
   "source": [
    "# Random State Range"
   ]
  },
  {
   "cell_type": "code",
   "execution_count": 8,
   "id": "dc9a59d5",
   "metadata": {},
   "outputs": [
    {
     "data": {
      "image/png": "[encoded data removed]",
      "text/plain": [
       "<Figure size 640x480 with 1 Axes>"
      ]
     },
     "metadata": {},
     "output_type": "display_data"
    }
   ],
   "source": [
    "squashed_state_0 = generate_initial_rand_state(how_many=1000)\n",
    "\n",
    "# Plot the squashed values\n",
    "for i in range(len(initial_state_means)):\n",
    "    sns.kdeplot(squashed_state_0[:, i], label=f'Dimension {i + 1}')\n",
    "\n",
    "# Add labels and title\n",
    "plt.xlabel('Value')\n",
    "plt.ylabel('Probability Density')\n",
    "plt.title('Kernel Density Plot of Squashed Initial State')\n",
    "\n",
    "# Show the legend\n",
    "plt.legend()\n",
    "\n",
    "# Show the plot\n",
    "plt.show()"
   ]
  },
  {
   "cell_type": "markdown",
   "id": "3adf8af8",
   "metadata": {},
   "source": [
    "# Tests"
   ]
  },
  {
   "cell_type": "code",
   "execution_count": 9,
   "id": "722826cb",
   "metadata": {},
   "outputs": [],
   "source": [
    "demo_traj_list = []\n",
    "\n",
    "for traj_start_index in range(len(trajectory_indices)):\n",
    "    \n",
    "    traj_df, reward_values_demo_data, reward_values_estim_data, logprob_action_estim_avg = \\\n",
    "        functions.get_estimated_rewards(configs=configs,\n",
    "                                        updater_obj=updater_obj,\n",
    "                                        data_loader=training_data,\n",
    "                                        policy_network=updater_obj.policy_network,\n",
    "                                        reward_network=updater_obj.reward_network,\n",
    "                                        trajectory_indices=trajectory_indices,\n",
    "                                        traj_start_index=traj_start_index,\n",
    "                                        is_inference_reward=False,\n",
    "                                        is_inference_policy=False)\n",
    "    demo_traj_list.append(traj_df)\n",
    "    del traj_df\n",
    "\n",
    "D_demo = preprocess_traj(traj_list_=demo_traj_list,\n",
    "                         step_list=D_demo,\n",
    "                         is_Demo=True)"
   ]
  },
  {
   "cell_type": "code",
   "execution_count": 10,
   "id": "ce1303fc",
   "metadata": {},
   "outputs": [],
   "source": [
    "states, actions, traj_probs, rewards = generate_session(t_max=5,\n",
    "                                                        updater_obj=updater_obj)"
   ]
  },
  {
   "cell_type": "code",
   "execution_count": 11,
   "id": "662b582f",
   "metadata": {},
   "outputs": [
    {
     "data": {
      "text/plain": [
       "[tensor([[0.1967, 0.5289, 0.3490]], requires_grad=True),\n",
       " tensor([[0.7842, 0.6097, 0.1001]], requires_grad=True),\n",
       " tensor([[0.3694, 0.5897, 0.3024]], requires_grad=True),\n",
       " tensor([[0.7569, 0.7705, 0.6316]], requires_grad=True),\n",
       " tensor([[0.7842, 0.9696, 0.2929]], requires_grad=True)]"
      ]
     },
     "execution_count": 11,
     "metadata": {},
     "output_type": "execute_result"
    }
   ],
   "source": [
    "states"
   ]
  },
  {
   "cell_type": "code",
   "execution_count": 12,
   "id": "e0f68dab",
   "metadata": {},
   "outputs": [
    {
     "data": {
      "text/plain": [
       "[tensor([[ 0.6026,  0.8337, -0.8681]], grad_fn=<CloneBackward0>),\n",
       " tensor([[-0.7279, -0.1409, -0.2614]], grad_fn=<CloneBackward0>),\n",
       " tensor([[-0.6265,  0.8738,  0.7263]], grad_fn=<CloneBackward0>),\n",
       " tensor([[ 0.8270, -0.5681, -0.2898]], grad_fn=<CloneBackward0>),\n",
       " tensor([[-0.5431,  0.1126, -0.3763]], grad_fn=<CloneBackward0>)]"
      ]
     },
     "execution_count": 12,
     "metadata": {},
     "output_type": "execute_result"
    }
   ],
   "source": [
    "actions"
   ]
  },
  {
   "cell_type": "code",
   "execution_count": 13,
   "id": "0483d60c",
   "metadata": {},
   "outputs": [
    {
     "data": {
      "text/plain": [
       "[tensor([[0.3133, 0.2903, 0.2336]], grad_fn=<CloneBackward0>),\n",
       " tensor([[0.3360, 0.3989, 0.3452]], grad_fn=<CloneBackward0>),\n",
       " tensor([[0.3467, 0.2780, 0.3716]], grad_fn=<CloneBackward0>),\n",
       " tensor([[0.2344, 0.3510, 0.3250]], grad_fn=<CloneBackward0>),\n",
       " tensor([[0.3711, 0.4212, 0.3080]], grad_fn=<CloneBackward0>)]"
      ]
     },
     "execution_count": 13,
     "metadata": {},
     "output_type": "execute_result"
    }
   ],
   "source": [
    "traj_probs"
   ]
  },
  {
   "cell_type": "code",
   "execution_count": 14,
   "id": "4eb75e5d",
   "metadata": {},
   "outputs": [
    {
     "data": {
      "text/plain": [
       "[tensor([[0.5343]], requires_grad=True),\n",
       " tensor([[0.5357]], requires_grad=True),\n",
       " tensor([[0.5332]], requires_grad=True),\n",
       " tensor([[0.5335]], requires_grad=True),\n",
       " tensor([[0.5334]], requires_grad=True)]"
      ]
     },
     "execution_count": 14,
     "metadata": {},
     "output_type": "execute_result"
    }
   ],
   "source": [
    "rewards"
   ]
  },
  {
   "cell_type": "markdown",
   "id": "2b34d170",
   "metadata": {},
   "source": [
    "# Reward Optimization"
   ]
  },
  {
   "cell_type": "code",
   "execution_count": 15,
   "id": "d2b386dd",
   "metadata": {
    "scrolled": true
   },
   "outputs": [
    {
     "name": "stdout",
     "output_type": "stream",
     "text": [
      "Avg. Reward :  0.5302861332893372\n",
      "Saved Reward Network Model: reward_network_epoch_1_loss_2_715348415484064.pt\n",
      "Saved Policy Network Model: policy_network_epoch_1_loss_26_128419494628908.pt\n",
      "Avg. Reward :  0.5031614899635315\n",
      "Saved Reward Network Model: reward_network_epoch_11_loss_2_6454370012267576.pt\n",
      "Saved Policy Network Model: policy_network_epoch_11_loss_24_121614837646483.pt\n",
      "Avg. Reward :  0.47215408086776733\n",
      "Saved Reward Network Model: reward_network_epoch_21_loss_2_636629783436443.pt\n",
      "Saved Policy Network Model: policy_network_epoch_21_loss_21_926929092407228.pt\n",
      "Avg. Reward :  0.4537508189678192\n",
      "Saved Reward Network Model: reward_network_epoch_31_loss_2_5953457398846984.pt\n",
      "Saved Policy Network Model: policy_network_epoch_31_loss_21_610144805908202.pt\n",
      "Avg. Reward :  0.4335209131240845\n",
      "Saved Reward Network Model: reward_network_epoch_41_loss_2_575850391034128.pt\n",
      "Saved Policy Network Model: policy_network_epoch_41_loss_20_09871635437012.pt\n",
      "Avg. Reward :  0.39060166478157043\n",
      "Saved Reward Network Model: reward_network_epoch_51_loss_2_5571004019389.pt\n",
      "Saved Policy Network Model: policy_network_epoch_51_loss_19_238625907897948.pt\n",
      "Avg. Reward :  0.3672778606414795\n",
      "Saved Reward Network Model: reward_network_epoch_61_loss_2_500189020142966.pt\n",
      "Saved Policy Network Model: policy_network_epoch_61_loss_18_552440547943114.pt\n",
      "Avg. Reward :  0.3518679440021515\n",
      "Saved Reward Network Model: reward_network_epoch_71_loss_2_4743769655086334.pt\n",
      "Saved Policy Network Model: policy_network_epoch_71_loss_15_635170555114746.pt\n",
      "Avg. Reward :  0.40101999044418335\n",
      "Saved Reward Network Model: reward_network_epoch_81_loss_2_4111539664421877.pt\n",
      "Saved Policy Network Model: policy_network_epoch_81_loss_15_064006137847901.pt\n",
      "Avg. Reward :  0.276672899723053\n",
      "Saved Reward Network Model: reward_network_epoch_91_loss_2_3653228723261996.pt\n",
      "Saved Policy Network Model: policy_network_epoch_91_loss_14_336172008514405.pt\n",
      "Avg. Reward :  0.2319813221693039\n",
      "Saved Reward Network Model: reward_network_epoch_101_loss_2_308956774413198.pt\n",
      "Saved Policy Network Model: policy_network_epoch_101_loss_12_831509876251221.pt\n",
      "Avg. Reward :  0.35165804624557495\n",
      "Saved Reward Network Model: reward_network_epoch_111_loss_2_2864805557582644.pt\n",
      "Saved Policy Network Model: policy_network_epoch_111_loss_8_213114976882935.pt\n",
      "Avg. Reward :  0.18074998259544373\n",
      "Saved Reward Network Model: reward_network_epoch_121_loss_2_251226864076036.pt\n",
      "Saved Policy Network Model: policy_network_epoch_121_loss_8_243652725219727.pt\n",
      "Avg. Reward :  0.2170538604259491\n",
      "Saved Reward Network Model: reward_network_epoch_131_loss_2_2124928493795433.pt\n",
      "Saved Policy Network Model: policy_network_epoch_131_loss_6_799553442001343.pt\n",
      "Avg. Reward :  0.26921963691711426\n",
      "Saved Reward Network Model: reward_network_epoch_141_loss_2_177241277540314.pt\n",
      "Saved Policy Network Model: policy_network_epoch_141_loss_9_120943570137024.pt\n",
      "Avg. Reward :  0.3156447112560272\n",
      "Saved Reward Network Model: reward_network_epoch_151_loss_2_1560384516686435.pt\n",
      "Saved Policy Network Model: policy_network_epoch_151_loss_6_924560284614563.pt\n",
      "Avg. Reward :  0.2214406132698059\n",
      "Saved Reward Network Model: reward_network_epoch_161_loss_2_1051693575032737.pt\n",
      "Saved Policy Network Model: policy_network_epoch_161_loss_6_987064695358276.pt\n",
      "Avg. Reward :  0.22072520852088928\n",
      "Saved Reward Network Model: reward_network_epoch_171_loss_2_0962080195406876.pt\n",
      "Saved Policy Network Model: policy_network_epoch_171_loss_7_443451070785523.pt\n",
      "Avg. Reward :  0.16114795207977295\n",
      "Saved Reward Network Model: reward_network_epoch_181_loss_2_0986438739741353.pt\n",
      "Saved Policy Network Model: policy_network_epoch_181_loss_6_4909526109695435.pt\n",
      "Avg. Reward :  0.0898468866944313\n",
      "Saved Reward Network Model: reward_network_epoch_191_loss_2_076874778349156.pt\n",
      "Saved Policy Network Model: policy_network_epoch_191_loss_5_206555354595184.pt\n",
      "Avg. Reward :  0.16065827012062073\n",
      "Saved Reward Network Model: reward_network_epoch_201_loss_2_046031959667901.pt\n",
      "Saved Policy Network Model: policy_network_epoch_201_loss_4_082381772994995.pt\n",
      "Avg. Reward :  0.1155010461807251\n",
      "Saved Reward Network Model: reward_network_epoch_211_loss_2_036755803207145.pt\n",
      "Saved Policy Network Model: policy_network_epoch_211_loss_5_5107203155755995.pt\n",
      "Avg. Reward :  0.19124376773834229\n",
      "Saved Reward Network Model: reward_network_epoch_221_loss_2_005188516686779.pt\n",
      "Saved Policy Network Model: policy_network_epoch_221_loss_3_6275846391916273.pt\n",
      "Avg. Reward :  0.08584403246641159\n",
      "Saved Reward Network Model: reward_network_epoch_231_loss_1_9874849418059615.pt\n",
      "Saved Policy Network Model: policy_network_epoch_231_loss_6_055106776952743.pt\n",
      "Avg. Reward :  0.18553589284420013\n",
      "Saved Reward Network Model: reward_network_epoch_241_loss_2_0172144548091286.pt\n",
      "Saved Policy Network Model: policy_network_epoch_241_loss_5_161815071105957.pt\n",
      "Avg. Reward :  0.1347557157278061\n",
      "Saved Reward Network Model: reward_network_epoch_251_loss_1_9920733514572215.pt\n",
      "Saved Policy Network Model: policy_network_epoch_251_loss_3_1259903401136397.pt\n",
      "Avg. Reward :  0.08712220937013626\n",
      "Saved Reward Network Model: reward_network_epoch_261_loss_1_9721733905372614.pt\n",
      "Saved Policy Network Model: policy_network_epoch_261_loss_3_9611473828554153.pt\n",
      "Avg. Reward :  0.11393110454082489\n",
      "Saved Reward Network Model: reward_network_epoch_271_loss_1_980796596099624.pt\n",
      "Saved Policy Network Model: policy_network_epoch_271_loss_2_0994521528482437.pt\n",
      "Avg. Reward :  0.18419575691223145\n",
      "Saved Reward Network Model: reward_network_epoch_281_loss_1_9686994325821978.pt\n",
      "Saved Policy Network Model: policy_network_epoch_281_loss_4_906372249126434.pt\n",
      "Avg. Reward :  0.16498039662837982\n",
      "Saved Reward Network Model: reward_network_epoch_291_loss_1_9602936014660692.pt\n",
      "Saved Policy Network Model: policy_network_epoch_291_loss_2_2644231140613558.pt\n",
      "Avg. Reward :  0.08957979828119278\n",
      "Saved Reward Network Model: reward_network_epoch_301_loss_1_975598404559788.pt\n",
      "Saved Policy Network Model: policy_network_epoch_301_loss_2_6943765014410017.pt\n",
      "Avg. Reward :  0.10959411412477493\n",
      "Saved Reward Network Model: reward_network_epoch_311_loss_1_960412531199254.pt\n",
      "Saved Policy Network Model: policy_network_epoch_311_loss_1_3095328614115715.pt\n",
      "Avg. Reward :  0.11218414455652237\n",
      "Saved Reward Network Model: reward_network_epoch_321_loss_1_9335582196676948.pt\n",
      "Saved Policy Network Model: policy_network_epoch_321_loss_3_497755119204521.pt\n",
      "Avg. Reward :  0.0709361657500267\n",
      "Saved Reward Network Model: reward_network_epoch_331_loss_1_9217091926453573.pt\n",
      "Saved Policy Network Model: policy_network_epoch_331_loss_3_328059460222721.pt\n",
      "Avg. Reward :  0.11705873161554337\n",
      "Saved Reward Network Model: reward_network_epoch_341_loss_1_9397470119433025.pt\n",
      "Saved Policy Network Model: policy_network_epoch_341_loss_2_7024270743131638.pt\n",
      "Avg. Reward :  0.061226457357406616\n",
      "Saved Reward Network Model: reward_network_epoch_351_loss_1_9499979040728543.pt\n",
      "Saved Policy Network Model: policy_network_epoch_351_loss_2_283995771408081.pt\n",
      "Avg. Reward :  0.05988414213061333\n",
      "Saved Reward Network Model: reward_network_epoch_361_loss_1_937892840932743.pt\n",
      "Saved Policy Network Model: policy_network_epoch_361_loss_0_811270372569561.pt\n",
      "Avg. Reward :  0.06218224763870239\n",
      "Saved Reward Network Model: reward_network_epoch_371_loss_1_9502381957041088.pt\n",
      "Saved Policy Network Model: policy_network_epoch_371_loss_3_506979392468929.pt\n",
      "Avg. Reward :  0.17937500774860382\n",
      "Saved Reward Network Model: reward_network_epoch_381_loss_1_9182276176413544.pt\n",
      "Saved Policy Network Model: policy_network_epoch_381_loss_1_661198228597641.pt\n",
      "Avg. Reward :  0.14795269072055817\n",
      "Saved Reward Network Model: reward_network_epoch_391_loss_1_921628590594819.pt\n",
      "Saved Policy Network Model: policy_network_epoch_391_loss_2_8569240137934684.pt\n",
      "Avg. Reward :  0.053417935967445374\n",
      "Saved Reward Network Model: reward_network_epoch_401_loss_1_9166489241119353.pt\n",
      "Saved Policy Network Model: policy_network_epoch_401_loss_2_1228228613734244.pt\n",
      "Avg. Reward :  0.1825563609600067\n",
      "Saved Reward Network Model: reward_network_epoch_411_loss_1_905446867271755.pt\n",
      "Saved Policy Network Model: policy_network_epoch_411_loss_2_736728733778.pt\n",
      "Avg. Reward :  0.060793738812208176\n",
      "Saved Reward Network Model: reward_network_epoch_421_loss_1_8960633401620293.pt\n",
      "Saved Policy Network Model: policy_network_epoch_421_loss_0_2759860023856163.pt\n"
     ]
    },
    {
     "name": "stdout",
     "output_type": "stream",
     "text": [
      "Avg. Reward :  0.03833862021565437\n",
      "Saved Reward Network Model: reward_network_epoch_431_loss_1_9231064975772345.pt\n",
      "Saved Policy Network Model: policy_network_epoch_431_loss_0_4873349189758301.pt\n",
      "Avg. Reward :  0.06440193951129913\n",
      "Saved Reward Network Model: reward_network_epoch_441_loss_1_9082471068285425.pt\n",
      "Saved Policy Network Model: policy_network_epoch_441_loss_1_0910366252064705.pt\n",
      "Avg. Reward :  0.14451095461845398\n",
      "Saved Reward Network Model: reward_network_epoch_451_loss_1_908962420776818.pt\n",
      "Saved Policy Network Model: policy_network_epoch_451_loss_3_2306910812854768.pt\n",
      "Avg. Reward :  0.13344593346118927\n",
      "Saved Reward Network Model: reward_network_epoch_461_loss_1_8907050574995679.pt\n",
      "Saved Policy Network Model: policy_network_epoch_461_loss_1_8154796816408634.pt\n",
      "Avg. Reward :  0.07342272251844406\n",
      "Saved Reward Network Model: reward_network_epoch_471_loss_1_9237274458100089.pt\n",
      "Saved Policy Network Model: policy_network_epoch_471_loss_2_3238033443689345.pt\n",
      "Avg. Reward :  0.051831793040037155\n",
      "Saved Reward Network Model: reward_network_epoch_481_loss_1_9167725464714873.pt\n",
      "Saved Policy Network Model: policy_network_epoch_481_loss_1_154895344376564.pt\n",
      "Avg. Reward :  0.06037192791700363\n",
      "Saved Reward Network Model: reward_network_epoch_491_loss_1_8906425352557954.pt\n",
      "Saved Policy Network Model: policy_network_epoch_491_loss_0_6898961089551449.pt\n"
     ]
    }
   ],
   "source": [
    "all_policy_loss = []\n",
    "mean_reward_value = []\n",
    "\n",
    "for i in range(NUM_EPOCHS):\n",
    "    \n",
    "    t_max = constants.TRAJECTORY_SIZE\n",
    "    samp_trajs = [generate_session(t_max=t_max,\n",
    "                                   updater_obj=updater_obj) for _ in range(EPISODES_TO_PLAY)]\n",
    "    \n",
    "    D_samp = preprocess_traj(traj_list_=samp_trajs,\n",
    "                             step_list=D_samp,\n",
    "                             is_Demo=False)\n",
    "    \n",
    "    loss_reward, loss_policy = [], []\n",
    "    samp_reward_values = []\n",
    "    is_early_stop = False\n",
    "    \n",
    "    for _ in range(REWARD_FUNCTION_UPDATE):\n",
    "        selected_samp = np.random.choice(len(D_samp), DEMO_BATCH)\n",
    "        selected_demo = np.random.choice(len(D_demo), DEMO_BATCH)\n",
    "        \n",
    "        D_s_samp = D_samp[selected_samp]\n",
    "        D_s_demo = D_demo[selected_demo]\n",
    "        \n",
    "        D_s_samp = np.concatenate((D_s_demo, D_s_samp), axis=0)\n",
    "        \n",
    "        states_robot, probs_robot, actions_robot = D_s_samp[:,:3], D_s_samp[:,3:6], D_s_samp[:,6:9]\n",
    "        states_expert, actions_expert = D_s_demo[:,:3], D_s_demo[:,6:9]\n",
    "        \n",
    "        states_robot = torch.tensor(states_robot, dtype=torch.float64).float()\n",
    "        probs_robot = torch.tensor(probs_robot, dtype=torch.float64)\n",
    "        action_probs_robot = torch.prod(probs_robot, dim=1).unsqueeze(1)\n",
    "        actions_robot = torch.tensor(actions_robot, dtype=torch.float64)\n",
    "        \n",
    "        states_expert = torch.tensor(states_expert, dtype=torch.float64).float()\n",
    "        actions_expert = torch.tensor(actions_expert, dtype=torch.float64)\n",
    "        \n",
    "        _, _, expert_action_log_prob, _, _, _ = \\\n",
    "            updater_obj.policy_network.estimate_action(state=states_expert,\n",
    "                                                       is_inference=True)\n",
    "        action_probs_demo = torch.prod(torch.exp(expert_action_log_prob), dim=1).unsqueeze(1)\n",
    "        \n",
    "        samp_rewards = updater_obj.reward_network.estimate_reward(state_action=states_robot, is_inference=False)\n",
    "        demo_rewards = updater_obj.reward_network.estimate_reward(state_action=states_expert, is_inference=False)\n",
    "        \n",
    "        loss_IOC = -torch.mean(demo_rewards) + \\\n",
    "            torch.log(\n",
    "                torch.mean(torch.exp(samp_rewards) / (action_probs_robot + 1e-7)))\n",
    "        \n",
    "        updater_obj.run_reward_optimizer(irl_loss=loss_IOC)\n",
    "        loss_reward.append(loss_IOC.item())\n",
    "        \n",
    "        if torch.mean(demo_rewards) >= 0.99:\n",
    "            is_early_stop = True\n",
    "    \n",
    "    for traj in samp_trajs:\n",
    "        states, actions, traj_probs, rewards = traj\n",
    "        \n",
    "        states_ = torch.cat(states, dim=0)\n",
    "        actions_ = torch.stack(actions).squeeze(1).requires_grad_(True)\n",
    "        traj_probs_ = torch.cat([prob.clone().detach().requires_grad_(True) for prob in traj_probs], dim=0)\n",
    "        \n",
    "        samp_rewards_ = updater_obj.reward_network.estimate_reward(state_action=states_, is_inference=True)\n",
    "        cumulative_returns = get_cumulative_rewards(samp_rewards_, 0.99).to(torch.float32)\n",
    "\n",
    "        action_probs = torch.prod(traj_probs_, dim=1).unsqueeze(1)\n",
    "        action_log_probs = torch.log(action_probs)\n",
    "        cumulative_log_probs = torch.cumsum(action_log_probs, dim=0)\n",
    "        \n",
    "        loss_POL = policy_gradient_loss(cumulative_log_probs=cumulative_log_probs,\n",
    "                                        advantages=cumulative_returns)\n",
    "        updater_obj.run_policy_optimizer(bc_loss=loss_POL)\n",
    "        loss_policy.append(loss_POL.item())\n",
    "        all_policy_loss.append(loss_POL.item())\n",
    "        samp_reward_values.append(torch.mean(samp_rewards_).item())\n",
    "    \n",
    "    mean_loss_reward.append(np.mean(loss_reward))\n",
    "    mean_loss_policy.append(np.mean(loss_policy))\n",
    "    mean_reward_value.append(np.mean(samp_reward_values))\n",
    "    \n",
    "    if i % 10 == 0:\n",
    "        print(\"Avg. Reward : \", torch.mean(samp_rewards_).item())\n",
    "        functions.save_reward(epoch=i,\n",
    "                              reward_network=updater_obj.reward_network,\n",
    "                              saving_path=reward_saving_path,\n",
    "                              loss_value_str=str(abs(np.mean(loss_reward))).replace(\".\", \"_\"))\n",
    "        functions.save_policy(epoch=i,\n",
    "                              policy_network=updater_obj.policy_network,\n",
    "                              saving_path=policy_saving_path,\n",
    "                              loss_value_str=str(abs(np.mean(loss_policy))).replace(\".\", \"_\"))\n",
    "    \n",
    "#     if is_early_stop:\n",
    "#         break"
   ]
  },
  {
   "cell_type": "code",
   "execution_count": 16,
   "id": "94a78aea",
   "metadata": {},
   "outputs": [
    {
     "data": {
      "text/plain": [
       "tensor([[0.7927],\n",
       "        [0.7101],\n",
       "        [0.9789],\n",
       "        [0.9712],\n",
       "        [0.8850],\n",
       "        [0.9948],\n",
       "        [0.9665],\n",
       "        [0.9928],\n",
       "        [0.8851],\n",
       "        [0.9659],\n",
       "        [0.9949],\n",
       "        [0.9527],\n",
       "        [0.7861],\n",
       "        [0.9884],\n",
       "        [0.9938],\n",
       "        [0.9527],\n",
       "        [0.4370],\n",
       "        [0.9169],\n",
       "        [0.9542],\n",
       "        [0.4648],\n",
       "        [0.9353],\n",
       "        [0.9399],\n",
       "        [0.9875],\n",
       "        [0.9953],\n",
       "        [0.9929],\n",
       "        [0.9073],\n",
       "        [0.9793],\n",
       "        [0.9884],\n",
       "        [0.9935],\n",
       "        [0.9940],\n",
       "        [0.9929],\n",
       "        [0.9586],\n",
       "        [0.9489],\n",
       "        [0.9860],\n",
       "        [0.9736],\n",
       "        [0.9940],\n",
       "        [0.9944],\n",
       "        [0.9615],\n",
       "        [0.9665],\n",
       "        [0.2906],\n",
       "        [0.9888],\n",
       "        [0.5323],\n",
       "        [0.4648],\n",
       "        [0.9933],\n",
       "        [0.9649],\n",
       "        [0.9789],\n",
       "        [0.9879],\n",
       "        [0.2669],\n",
       "        [0.9911],\n",
       "        [0.9881],\n",
       "        [0.9781],\n",
       "        [0.9284],\n",
       "        [0.8794],\n",
       "        [0.9939],\n",
       "        [0.9932],\n",
       "        [0.9945],\n",
       "        [0.9900],\n",
       "        [0.9952],\n",
       "        [0.8220],\n",
       "        [0.9925],\n",
       "        [0.9818],\n",
       "        [0.9489],\n",
       "        [0.9929],\n",
       "        [0.8954],\n",
       "        [0.9926],\n",
       "        [0.8272],\n",
       "        [0.9934],\n",
       "        [0.7246],\n",
       "        [0.9436],\n",
       "        [0.9747],\n",
       "        [0.8774],\n",
       "        [0.9953],\n",
       "        [0.9936],\n",
       "        [0.9935],\n",
       "        [0.9387],\n",
       "        [0.9560],\n",
       "        [0.8794],\n",
       "        [0.9937],\n",
       "        [0.9931],\n",
       "        [0.9717],\n",
       "        [0.9665],\n",
       "        [0.9567],\n",
       "        [0.9946],\n",
       "        [0.9938],\n",
       "        [0.8709],\n",
       "        [0.9926],\n",
       "        [0.9930],\n",
       "        [0.2906],\n",
       "        [0.9295],\n",
       "        [0.9835],\n",
       "        [0.9510],\n",
       "        [0.9917],\n",
       "        [0.9930],\n",
       "        [0.9868],\n",
       "        [0.9929],\n",
       "        [0.9952],\n",
       "        [0.9489],\n",
       "        [0.8230],\n",
       "        [0.9586],\n",
       "        [0.9934],\n",
       "        [0.8954],\n",
       "        [0.9922],\n",
       "        [0.9948],\n",
       "        [0.9938],\n",
       "        [0.9947],\n",
       "        [0.9872],\n",
       "        [0.9807],\n",
       "        [0.9665],\n",
       "        [0.9917],\n",
       "        [0.9939],\n",
       "        [0.9862],\n",
       "        [0.9781],\n",
       "        [0.9489],\n",
       "        [0.9936],\n",
       "        [0.9767],\n",
       "        [0.9938],\n",
       "        [0.9932],\n",
       "        [0.9904],\n",
       "        [0.9936],\n",
       "        [0.9932],\n",
       "        [0.9932],\n",
       "        [0.9900],\n",
       "        [0.3204],\n",
       "        [0.9779],\n",
       "        [0.9005],\n",
       "        [0.9952],\n",
       "        [0.9254],\n",
       "        [0.9560],\n",
       "        [0.7081],\n",
       "        [0.9948],\n",
       "        [0.9937],\n",
       "        [0.9934],\n",
       "        [0.9953],\n",
       "        [0.9387],\n",
       "        [0.9715],\n",
       "        [0.9926],\n",
       "        [0.9938],\n",
       "        [0.9779],\n",
       "        [0.9254],\n",
       "        [0.9387],\n",
       "        [0.9694],\n",
       "        [0.9940],\n",
       "        [0.9932],\n",
       "        [0.9752],\n",
       "        [0.9507],\n",
       "        [0.9925],\n",
       "        [0.9228],\n",
       "        [0.9938],\n",
       "        [0.9942],\n",
       "        [0.9937],\n",
       "        [0.9932],\n",
       "        [0.8851],\n",
       "        [0.9931],\n",
       "        [0.9712],\n",
       "        [0.9923],\n",
       "        [0.9860],\n",
       "        [0.9431],\n",
       "        [0.9954],\n",
       "        [0.9073],\n",
       "        [0.9938],\n",
       "        [0.9660],\n",
       "        [0.9952],\n",
       "        [0.5928],\n",
       "        [0.3204],\n",
       "        [0.9941],\n",
       "        [0.9945],\n",
       "        [0.9945],\n",
       "        [0.9932],\n",
       "        [0.9933],\n",
       "        [0.9936],\n",
       "        [0.9945],\n",
       "        [0.9932],\n",
       "        [0.8629],\n",
       "        [0.9897],\n",
       "        [0.7927],\n",
       "        [0.9620],\n",
       "        [0.9855],\n",
       "        [0.8870],\n",
       "        [0.9949],\n",
       "        [0.9789],\n",
       "        [0.7101],\n",
       "        [0.9934],\n",
       "        [0.9674],\n",
       "        [0.8850],\n",
       "        [0.9665],\n",
       "        [0.4648],\n",
       "        [0.9789],\n",
       "        [0.7899],\n",
       "        [0.9869],\n",
       "        [0.5967],\n",
       "        [0.9945],\n",
       "        [0.8794],\n",
       "        [0.9862],\n",
       "        [0.9935],\n",
       "        [0.9944],\n",
       "        [0.9949],\n",
       "        [0.9929],\n",
       "        [0.9932],\n",
       "        [0.9942],\n",
       "        [0.9380],\n",
       "        [0.9894],\n",
       "        [0.9938],\n",
       "        [0.9863],\n",
       "        [0.9906],\n",
       "        [0.9717],\n",
       "        [0.9715],\n",
       "        [0.9665],\n",
       "        [0.9948],\n",
       "        [0.9946],\n",
       "        [0.9942],\n",
       "        [0.9660],\n",
       "        [0.7865],\n",
       "        [0.9937],\n",
       "        [0.9654],\n",
       "        [0.9861],\n",
       "        [0.7000],\n",
       "        [0.9937],\n",
       "        [0.9928],\n",
       "        [0.9952],\n",
       "        [0.9597],\n",
       "        [0.9284],\n",
       "        [0.9674],\n",
       "        [0.9580],\n",
       "        [0.9380],\n",
       "        [0.9944],\n",
       "        [0.9946],\n",
       "        [0.9586],\n",
       "        [0.2047],\n",
       "        [0.9618],\n",
       "        [0.4429],\n",
       "        [0.9431],\n",
       "        [0.9938],\n",
       "        [0.9935],\n",
       "        [0.9367],\n",
       "        [0.9879],\n",
       "        [0.9618],\n",
       "        [0.9932],\n",
       "        [0.9925],\n",
       "        [0.9284],\n",
       "        [0.4463],\n",
       "        [0.9654],\n",
       "        [0.9938],\n",
       "        [0.9387],\n",
       "        [0.9941],\n",
       "        [0.9948],\n",
       "        [0.9932],\n",
       "        [0.9869],\n",
       "        [0.3204],\n",
       "        [0.9935],\n",
       "        [0.9705],\n",
       "        [0.9936],\n",
       "        [0.9945],\n",
       "        [0.9228],\n",
       "        [0.9902],\n",
       "        [0.7446],\n",
       "        [0.9892]], grad_fn=<SigmoidBackward0>)"
      ]
     },
     "execution_count": 16,
     "metadata": {},
     "output_type": "execute_result"
    }
   ],
   "source": [
    "demo_rewards"
   ]
  },
  {
   "cell_type": "code",
   "execution_count": 36,
   "id": "14e94bc5",
   "metadata": {},
   "outputs": [
    {
     "name": "stdout",
     "output_type": "stream",
     "text": [
      "mean reward loss:2.1044362124174096 loss: 1.8858228870429303\n",
      "mean policy loss:7.009385442652554 loss: 0.24265730381011963\n"
     ]
    },
    {
     "data": {
      "image/png": "[encoded data removed]",
      "text/plain": [
       "<Figure size 1600x1200 with 3 Axes>"
      ]
     },
     "metadata": {},
     "output_type": "display_data"
    }
   ],
   "source": [
    "print(f\"mean reward loss:{np.mean(mean_loss_reward)} loss: {loss_IOC.item()}\")\n",
    "print(f\"mean policy loss:{np.mean(mean_loss_policy)} loss: {loss_POL.item()}\")\n",
    "\n",
    "plt.figure(figsize=[16, 12])\n",
    "plt.subplot(3, 1, 1)\n",
    "plt.title(f\"Mean reward function loss value\")\n",
    "plt.plot(mean_loss_reward)\n",
    "plt.grid()\n",
    "\n",
    "plt.subplot(3, 1, 2)\n",
    "plt.title(f\"Mean policy function loss\")\n",
    "plt.plot(mean_loss_policy)\n",
    "plt.grid()\n",
    "\n",
    "plt.subplot(3, 1, 3)\n",
    "plt.title(f\"Mean reward function value\")\n",
    "plt.plot(mean_reward_value)\n",
    "plt.grid()\n",
    "\n",
    "plt.show()"
   ]
  },
  {
   "cell_type": "markdown",
   "id": "9264f49a",
   "metadata": {},
   "source": [
    "# Evaluate Optimized Reward Function"
   ]
  },
  {
   "cell_type": "code",
   "execution_count": 18,
   "id": "ed6cacd0",
   "metadata": {},
   "outputs": [],
   "source": [
    "test_trajectories = []\n",
    "\n",
    "# loop through each separate trajectory inside the testing dataset\n",
    "for traj_start_index in range(len(trajectory_indices)):\n",
    "    \n",
    "    traj_df, reward_values_demo_data, reward_values_estim_data, logprob_action_estim_avg = \\\n",
    "        functions.get_estimated_rewards(configs=configs,\n",
    "                                        updater_obj=updater_obj,\n",
    "                                        data_loader=training_data,\n",
    "                                        policy_network=updater_obj.policy_network,\n",
    "                                        reward_network=updater_obj.reward_network,\n",
    "                                        trajectory_indices=trajectory_indices,\n",
    "                                        traj_start_index=traj_start_index,\n",
    "                                        is_inference_reward=True,\n",
    "                                        is_inference_policy=True)\n",
    "    \n",
    "    # store outputs in the dataframe of trajectory information\n",
    "    traj_df[constants.ACTION_PREDICTION_AVG_LOGPROB_NAME] = logprob_action_estim_avg.numpy().flatten()\n",
    "    traj_df[constants.REWARD_DEMONSTRATION_TRAJECTORY_NAME] = reward_values_demo_data.numpy().flatten()\n",
    "    traj_df[constants.REWARD_ROBOT_TRAJECTORY_NAME] = reward_values_estim_data.numpy().flatten()\n",
    "    \n",
    "    test_trajectories.append(traj_df)\n",
    "    \n",
    "    del traj_df"
   ]
  },
  {
   "cell_type": "code",
   "execution_count": 19,
   "id": "1503c586",
   "metadata": {
    "scrolled": true
   },
   "outputs": [
    {
     "data": {
      "text/html": [
       "<div>\n",
       "<style scoped>\n",
       "    .dataframe tbody tr th:only-of-type {\n",
       "        vertical-align: middle;\n",
       "    }\n",
       "\n",
       "    .dataframe tbody tr th {\n",
       "        vertical-align: top;\n",
       "    }\n",
       "\n",
       "    .dataframe thead th {\n",
       "        text-align: right;\n",
       "    }\n",
       "</style>\n",
       "<table border=\"1\" class=\"dataframe\">\n",
       "  <thead>\n",
       "    <tr style=\"text-align: right;\">\n",
       "      <th></th>\n",
       "      <th>state_label_norm_1</th>\n",
       "      <th>state_label_norm_2</th>\n",
       "      <th>state_label_norm_3</th>\n",
       "      <th>state_label_denorm_1</th>\n",
       "      <th>state_label_denorm_2</th>\n",
       "      <th>state_label_denorm_3</th>\n",
       "      <th>action_label_norm_1</th>\n",
       "      <th>action_label_norm_2</th>\n",
       "      <th>action_label_norm_3</th>\n",
       "      <th>action_label_denorm_1</th>\n",
       "      <th>action_label_denorm_2</th>\n",
       "      <th>action_label_denorm_3</th>\n",
       "      <th>action_pred_logprob_1</th>\n",
       "      <th>action_pred_logprob_2</th>\n",
       "      <th>action_pred_logprob_3</th>\n",
       "      <th>action_pred_norm_1</th>\n",
       "      <th>action_pred_norm_2</th>\n",
       "      <th>action_pred_norm_3</th>\n",
       "      <th>action_pred_std_1</th>\n",
       "      <th>action_pred_std_2</th>\n",
       "      <th>action_pred_std_3</th>\n",
       "      <th>action_pred_denorm_1</th>\n",
       "      <th>action_pred_denorm_2</th>\n",
       "      <th>action_pred_denorm_3</th>\n",
       "      <th>trajectory_index</th>\n",
       "      <th>state_number</th>\n",
       "      <th>gnll_loss</th>\n",
       "      <th>state_est_norm_1</th>\n",
       "      <th>state_est_norm_2</th>\n",
       "      <th>state_est_norm_3</th>\n",
       "      <th>state_est_denorm_1</th>\n",
       "      <th>state_est_denorm_2</th>\n",
       "      <th>state_est_denorm_3</th>\n",
       "      <th>next_state_label_norm_1</th>\n",
       "      <th>next_state_label_norm_2</th>\n",
       "      <th>next_state_label_norm_3</th>\n",
       "      <th>next_state_label_denorm_1</th>\n",
       "      <th>next_state_label_denorm_2</th>\n",
       "      <th>next_state_label_denorm_3</th>\n",
       "      <th>next_state_est_norm_1</th>\n",
       "      <th>next_state_est_norm_2</th>\n",
       "      <th>next_state_est_norm_3</th>\n",
       "      <th>next_state_est_denorm_1</th>\n",
       "      <th>next_state_est_denorm_2</th>\n",
       "      <th>next_state_est_denorm_3</th>\n",
       "      <th>action_pred_avg_logprob</th>\n",
       "      <th>reward_demo_traj</th>\n",
       "      <th>reward_robot_traj</th>\n",
       "    </tr>\n",
       "  </thead>\n",
       "  <tbody>\n",
       "    <tr>\n",
       "      <th>0</th>\n",
       "      <td>0.239584520459</td>\n",
       "      <td>0.549098074436</td>\n",
       "      <td>0.238536208868</td>\n",
       "      <td>0.718753561378</td>\n",
       "      <td>1.647294223309</td>\n",
       "      <td>0.715608626604</td>\n",
       "      <td>-0.366912245750</td>\n",
       "      <td>-0.261662185192</td>\n",
       "      <td>-0.432931691408</td>\n",
       "      <td>-0.733824491501</td>\n",
       "      <td>-0.523324370384</td>\n",
       "      <td>0.567068338394</td>\n",
       "      <td>-0.930947661400</td>\n",
       "      <td>-0.888378441334</td>\n",
       "      <td>-0.846567511559</td>\n",
       "      <td>-0.078880526125</td>\n",
       "      <td>0.030266061425</td>\n",
       "      <td>0.161170154810</td>\n",
       "      <td>1.012081503868</td>\n",
       "      <td>0.969902157784</td>\n",
       "      <td>0.930184662342</td>\n",
       "      <td>-0.157761096954</td>\n",
       "      <td>0.060532093048</td>\n",
       "      <td>1.161170125008</td>\n",
       "      <td>42</td>\n",
       "      <td>0</td>\n",
       "      <td>2.951235294342</td>\n",
       "      <td>0.239584520459</td>\n",
       "      <td>0.549098074436</td>\n",
       "      <td>0.238536208868</td>\n",
       "      <td>0.718753561378</td>\n",
       "      <td>1.647294223309</td>\n",
       "      <td>0.715608626604</td>\n",
       "      <td>0.206956240472</td>\n",
       "      <td>0.511369996287</td>\n",
       "      <td>0.245189446131</td>\n",
       "      <td>0.620868721416</td>\n",
       "      <td>1.534109988861</td>\n",
       "      <td>0.735568338394</td>\n",
       "      <td>0.218835143719</td>\n",
       "      <td>0.506871441759</td>\n",
       "      <td>0.443223375003</td>\n",
       "      <td>0.656505431158</td>\n",
       "      <td>1.520614325277</td>\n",
       "      <td>1.329670125008</td>\n",
       "      <td>-2.665893554688</td>\n",
       "      <td>0.267138391733</td>\n",
       "      <td>0.267138391733</td>\n",
       "    </tr>\n",
       "    <tr>\n",
       "      <th>1</th>\n",
       "      <td>0.206956237555</td>\n",
       "      <td>0.511370003223</td>\n",
       "      <td>0.245189443231</td>\n",
       "      <td>0.620868712664</td>\n",
       "      <td>1.534110009670</td>\n",
       "      <td>0.735568329692</td>\n",
       "      <td>-0.406059920788</td>\n",
       "      <td>-0.071958206594</td>\n",
       "      <td>-0.405145823956</td>\n",
       "      <td>-0.812119841576</td>\n",
       "      <td>-0.143916368484</td>\n",
       "      <td>0.594854176044</td>\n",
       "      <td>-0.917799293995</td>\n",
       "      <td>-0.907481610775</td>\n",
       "      <td>-0.855935752392</td>\n",
       "      <td>-0.103984825313</td>\n",
       "      <td>0.014572793618</td>\n",
       "      <td>0.181134685874</td>\n",
       "      <td>0.998861372471</td>\n",
       "      <td>0.988608479500</td>\n",
       "      <td>0.938938677311</td>\n",
       "      <td>-0.207969665527</td>\n",
       "      <td>0.029145479202</td>\n",
       "      <td>1.181134700775</td>\n",
       "      <td>42</td>\n",
       "      <td>1</td>\n",
       "      <td>2.959395885468</td>\n",
       "      <td>0.218835145235</td>\n",
       "      <td>0.506871461868</td>\n",
       "      <td>0.443223387003</td>\n",
       "      <td>0.656505435705</td>\n",
       "      <td>1.520614385605</td>\n",
       "      <td>1.329670161009</td>\n",
       "      <td>0.146144429566</td>\n",
       "      <td>0.424573652531</td>\n",
       "      <td>0.254451392015</td>\n",
       "      <td>0.438433288698</td>\n",
       "      <td>1.273720957594</td>\n",
       "      <td>0.763354176044</td>\n",
       "      <td>0.218841150211</td>\n",
       "      <td>0.515697205422</td>\n",
       "      <td>0.449878233592</td>\n",
       "      <td>0.656523450634</td>\n",
       "      <td>1.547091616267</td>\n",
       "      <td>1.349634700775</td>\n",
       "      <td>-2.681216716766</td>\n",
       "      <td>0.532716989517</td>\n",
       "      <td>0.112306818366</td>\n",
       "    </tr>\n",
       "    <tr>\n",
       "      <th>2</th>\n",
       "      <td>0.146144434810</td>\n",
       "      <td>0.424573659897</td>\n",
       "      <td>0.254451394081</td>\n",
       "      <td>0.438433304429</td>\n",
       "      <td>1.273720979691</td>\n",
       "      <td>0.763354182243</td>\n",
       "      <td>-0.395780444145</td>\n",
       "      <td>0.137874960899</td>\n",
       "      <td>-0.412418633699</td>\n",
       "      <td>-0.791560888290</td>\n",
       "      <td>0.275749921799</td>\n",
       "      <td>0.587581396103</td>\n",
       "      <td>-0.917791604996</td>\n",
       "      <td>-0.907328665257</td>\n",
       "      <td>-0.854998290539</td>\n",
       "      <td>-0.105191998184</td>\n",
       "      <td>0.015158458613</td>\n",
       "      <td>0.182948693633</td>\n",
       "      <td>0.998853683472</td>\n",
       "      <td>0.988457262516</td>\n",
       "      <td>0.938058733940</td>\n",
       "      <td>-0.210384011269</td>\n",
       "      <td>0.030316829681</td>\n",
       "      <td>1.182948708534</td>\n",
       "      <td>42</td>\n",
       "      <td>2</td>\n",
       "      <td>2.959288597107</td>\n",
       "      <td>0.218841150403</td>\n",
       "      <td>0.515697181225</td>\n",
       "      <td>0.449878245592</td>\n",
       "      <td>0.656523451209</td>\n",
       "      <td>1.547091543674</td>\n",
       "      <td>1.349634736776</td>\n",
       "      <td>0.160029739866</td>\n",
       "      <td>0.333697637197</td>\n",
       "      <td>0.252027132034</td>\n",
       "      <td>0.480089219599</td>\n",
       "      <td>1.001092911591</td>\n",
       "      <td>0.756081396103</td>\n",
       "      <td>0.219203054346</td>\n",
       "      <td>0.515959704320</td>\n",
       "      <td>0.450482902845</td>\n",
       "      <td>0.657609163038</td>\n",
       "      <td>1.547879112959</td>\n",
       "      <td>1.351448708534</td>\n",
       "      <td>-2.680118560791</td>\n",
       "      <td>0.925517559052</td>\n",
       "      <td>0.093558020890</td>\n",
       "    </tr>\n",
       "    <tr>\n",
       "      <th>3</th>\n",
       "      <td>0.160029739141</td>\n",
       "      <td>0.333697617054</td>\n",
       "      <td>0.252027124166</td>\n",
       "      <td>0.480089217424</td>\n",
       "      <td>1.001092851162</td>\n",
       "      <td>0.756081372499</td>\n",
       "      <td>-0.331732362509</td>\n",
       "      <td>0.288093000650</td>\n",
       "      <td>-0.496102273464</td>\n",
       "      <td>-0.663464784622</td>\n",
       "      <td>0.576185941696</td>\n",
       "      <td>0.503897726536</td>\n",
       "      <td>-0.917770624161</td>\n",
       "      <td>-0.907348275185</td>\n",
       "      <td>-0.854958295822</td>\n",
       "      <td>-0.105331808329</td>\n",
       "      <td>0.015107278712</td>\n",
       "      <td>0.183204829693</td>\n",
       "      <td>0.998832702637</td>\n",
       "      <td>0.988476693630</td>\n",
       "      <td>0.938021242619</td>\n",
       "      <td>-0.210663557053</td>\n",
       "      <td>0.030214548111</td>\n",
       "      <td>1.183204889297</td>\n",
       "      <td>42</td>\n",
       "      <td>3</td>\n",
       "      <td>2.969314098358</td>\n",
       "      <td>0.219203054905</td>\n",
       "      <td>0.515959680080</td>\n",
       "      <td>0.450482904911</td>\n",
       "      <td>0.657609164715</td>\n",
       "      <td>1.547879040241</td>\n",
       "      <td>1.351448714733</td>\n",
       "      <td>0.211847473945</td>\n",
       "      <td>0.254246920085</td>\n",
       "      <td>0.224132575512</td>\n",
       "      <td>0.635542421834</td>\n",
       "      <td>0.762740760254</td>\n",
       "      <td>0.672397726536</td>\n",
       "      <td>0.219256318865</td>\n",
       "      <td>0.516041556872</td>\n",
       "      <td>0.450568296432</td>\n",
       "      <td>0.657768956596</td>\n",
       "      <td>1.548124670616</td>\n",
       "      <td>1.351704889297</td>\n",
       "      <td>-2.680077075958</td>\n",
       "      <td>0.970557272434</td>\n",
       "      <td>0.092106044292</td>\n",
       "    </tr>\n",
       "    <tr>\n",
       "      <th>4</th>\n",
       "      <td>0.211847484112</td>\n",
       "      <td>0.254246890545</td>\n",
       "      <td>0.224132582545</td>\n",
       "      <td>0.635542452335</td>\n",
       "      <td>0.762740671635</td>\n",
       "      <td>0.672397747636</td>\n",
       "      <td>-0.250156402588</td>\n",
       "      <td>0.360676974058</td>\n",
       "      <td>-0.861667573452</td>\n",
       "      <td>-0.500312805176</td>\n",
       "      <td>0.721354007721</td>\n",
       "      <td>0.138332426548</td>\n",
       "      <td>-0.917769849300</td>\n",
       "      <td>-0.907347023487</td>\n",
       "      <td>-0.854947507381</td>\n",
       "      <td>-0.105352662504</td>\n",
       "      <td>0.015106986277</td>\n",
       "      <td>0.183241710067</td>\n",
       "      <td>0.998831927776</td>\n",
       "      <td>0.988475441933</td>\n",
       "      <td>0.938011109829</td>\n",
       "      <td>-0.210705280304</td>\n",
       "      <td>0.030214071274</td>\n",
       "      <td>1.183241724968</td>\n",
       "      <td>42</td>\n",
       "      <td>4</td>\n",
       "      <td>3.018643617630</td>\n",
       "      <td>0.219256311655</td>\n",
       "      <td>0.516041576862</td>\n",
       "      <td>0.450568288565</td>\n",
       "      <td>0.657768934965</td>\n",
       "      <td>1.548124730587</td>\n",
       "      <td>1.351704865694</td>\n",
       "      <td>0.279522170649</td>\n",
       "      <td>0.113627194438</td>\n",
       "      <td>0.102277475516</td>\n",
       "      <td>0.838566511946</td>\n",
       "      <td>0.340881583314</td>\n",
       "      <td>0.306832426548</td>\n",
       "      <td>0.219264054269</td>\n",
       "      <td>0.516051012195</td>\n",
       "      <td>0.450580574989</td>\n",
       "      <td>0.657792162806</td>\n",
       "      <td>1.548153036586</td>\n",
       "      <td>1.351741724968</td>\n",
       "      <td>-2.680064439774</td>\n",
       "      <td>0.977413594723</td>\n",
       "      <td>0.091841958463</td>\n",
       "    </tr>\n",
       "    <tr>\n",
       "      <th>5</th>\n",
       "      <td>0.279522150755</td>\n",
       "      <td>0.113627202809</td>\n",
       "      <td>0.102277487516</td>\n",
       "      <td>0.838566452265</td>\n",
       "      <td>0.340881608427</td>\n",
       "      <td>0.306832462549</td>\n",
       "      <td>-0.236513525248</td>\n",
       "      <td>0.349878728390</td>\n",
       "      <td>-0.878065943718</td>\n",
       "      <td>-0.473026990891</td>\n",
       "      <td>0.699757575989</td>\n",
       "      <td>0.121934056282</td>\n",
       "      <td>-0.917769610882</td>\n",
       "      <td>-0.907347083092</td>\n",
       "      <td>-0.854946196079</td>\n",
       "      <td>-0.105355620384</td>\n",
       "      <td>0.015106603503</td>\n",
       "      <td>0.183247044683</td>\n",
       "      <td>0.998831689358</td>\n",
       "      <td>0.988475501537</td>\n",
       "      <td>0.938009858131</td>\n",
       "      <td>-0.210711240768</td>\n",
       "      <td>0.030213117599</td>\n",
       "      <td>1.183247089386</td>\n",
       "      <td>42</td>\n",
       "      <td>5</td>\n",
       "      <td>3.020524740219</td>\n",
       "      <td>0.219264060259</td>\n",
       "      <td>0.516050994396</td>\n",
       "      <td>0.450580567122</td>\n",
       "      <td>0.657792180777</td>\n",
       "      <td>1.548152983189</td>\n",
       "      <td>1.351741701365</td>\n",
       "      <td>0.275211955949</td>\n",
       "      <td>0.106489978584</td>\n",
       "      <td>0.096811352094</td>\n",
       "      <td>0.825635867846</td>\n",
       "      <td>0.319469935752</td>\n",
       "      <td>0.290434056282</td>\n",
       "      <td>0.219265178455</td>\n",
       "      <td>0.516052533789</td>\n",
       "      <td>0.450582363129</td>\n",
       "      <td>0.657795535366</td>\n",
       "      <td>1.548157601366</td>\n",
       "      <td>1.351747089386</td>\n",
       "      <td>-2.680062770844</td>\n",
       "      <td>0.993591308594</td>\n",
       "      <td>0.091806910932</td>\n",
       "    </tr>\n",
       "    <tr>\n",
       "      <th>6</th>\n",
       "      <td>0.275211930275</td>\n",
       "      <td>0.106489986181</td>\n",
       "      <td>0.096811339259</td>\n",
       "      <td>0.825635790825</td>\n",
       "      <td>0.319469958544</td>\n",
       "      <td>0.290434017777</td>\n",
       "      <td>-0.246957927942</td>\n",
       "      <td>0.360255926847</td>\n",
       "      <td>-0.910112738609</td>\n",
       "      <td>-0.493915796280</td>\n",
       "      <td>0.720511913300</td>\n",
       "      <td>0.089887261391</td>\n",
       "      <td>-0.917769551277</td>\n",
       "      <td>-0.907347083092</td>\n",
       "      <td>-0.854946017265</td>\n",
       "      <td>-0.105356052518</td>\n",
       "      <td>0.015106548555</td>\n",
       "      <td>0.183247819543</td>\n",
       "      <td>0.998831629753</td>\n",
       "      <td>0.988475501537</td>\n",
       "      <td>0.938009679317</td>\n",
       "      <td>-0.210712075233</td>\n",
       "      <td>0.030213117599</td>\n",
       "      <td>1.183247804642</td>\n",
       "      <td>42</td>\n",
       "      <td>6</td>\n",
       "      <td>3.026495695114</td>\n",
       "      <td>0.219265177846</td>\n",
       "      <td>0.516052544117</td>\n",
       "      <td>0.450582355261</td>\n",
       "      <td>0.657795533538</td>\n",
       "      <td>1.548157632351</td>\n",
       "      <td>1.351747065783</td>\n",
       "      <td>0.287394082545</td>\n",
       "      <td>0.098401946722</td>\n",
       "      <td>0.086129087130</td>\n",
       "      <td>0.862182247635</td>\n",
       "      <td>0.295205840165</td>\n",
       "      <td>0.258387261391</td>\n",
       "      <td>0.219265326484</td>\n",
       "      <td>0.516052715137</td>\n",
       "      <td>0.450582601547</td>\n",
       "      <td>0.657795979453</td>\n",
       "      <td>1.548158145412</td>\n",
       "      <td>1.351747804642</td>\n",
       "      <td>-2.680062770844</td>\n",
       "      <td>0.994075179100</td>\n",
       "      <td>0.091801598668</td>\n",
       "    </tr>\n",
       "  </tbody>\n",
       "</table>\n",
       "</div>"
      ],
      "text/plain": [
       "   state_label_norm_1  state_label_norm_2  state_label_norm_3  \\\n",
       "0      0.239584520459      0.549098074436      0.238536208868   \n",
       "1      0.206956237555      0.511370003223      0.245189443231   \n",
       "2      0.146144434810      0.424573659897      0.254451394081   \n",
       "3      0.160029739141      0.333697617054      0.252027124166   \n",
       "4      0.211847484112      0.254246890545      0.224132582545   \n",
       "5      0.279522150755      0.113627202809      0.102277487516   \n",
       "6      0.275211930275      0.106489986181      0.096811339259   \n",
       "\n",
       "   state_label_denorm_1  state_label_denorm_2  state_label_denorm_3  \\\n",
       "0        0.718753561378        1.647294223309        0.715608626604   \n",
       "1        0.620868712664        1.534110009670        0.735568329692   \n",
       "2        0.438433304429        1.273720979691        0.763354182243   \n",
       "3        0.480089217424        1.001092851162        0.756081372499   \n",
       "4        0.635542452335        0.762740671635        0.672397747636   \n",
       "5        0.838566452265        0.340881608427        0.306832462549   \n",
       "6        0.825635790825        0.319469958544        0.290434017777   \n",
       "\n",
       "   action_label_norm_1  action_label_norm_2  action_label_norm_3  \\\n",
       "0      -0.366912245750      -0.261662185192      -0.432931691408   \n",
       "1      -0.406059920788      -0.071958206594      -0.405145823956   \n",
       "2      -0.395780444145       0.137874960899      -0.412418633699   \n",
       "3      -0.331732362509       0.288093000650      -0.496102273464   \n",
       "4      -0.250156402588       0.360676974058      -0.861667573452   \n",
       "5      -0.236513525248       0.349878728390      -0.878065943718   \n",
       "6      -0.246957927942       0.360255926847      -0.910112738609   \n",
       "\n",
       "   action_label_denorm_1  action_label_denorm_2  action_label_denorm_3  \\\n",
       "0        -0.733824491501        -0.523324370384         0.567068338394   \n",
       "1        -0.812119841576        -0.143916368484         0.594854176044   \n",
       "2        -0.791560888290         0.275749921799         0.587581396103   \n",
       "3        -0.663464784622         0.576185941696         0.503897726536   \n",
       "4        -0.500312805176         0.721354007721         0.138332426548   \n",
       "5        -0.473026990891         0.699757575989         0.121934056282   \n",
       "6        -0.493915796280         0.720511913300         0.089887261391   \n",
       "\n",
       "   action_pred_logprob_1  action_pred_logprob_2  action_pred_logprob_3  \\\n",
       "0        -0.930947661400        -0.888378441334        -0.846567511559   \n",
       "1        -0.917799293995        -0.907481610775        -0.855935752392   \n",
       "2        -0.917791604996        -0.907328665257        -0.854998290539   \n",
       "3        -0.917770624161        -0.907348275185        -0.854958295822   \n",
       "4        -0.917769849300        -0.907347023487        -0.854947507381   \n",
       "5        -0.917769610882        -0.907347083092        -0.854946196079   \n",
       "6        -0.917769551277        -0.907347083092        -0.854946017265   \n",
       "\n",
       "   action_pred_norm_1  action_pred_norm_2  action_pred_norm_3  \\\n",
       "0     -0.078880526125      0.030266061425      0.161170154810   \n",
       "1     -0.103984825313      0.014572793618      0.181134685874   \n",
       "2     -0.105191998184      0.015158458613      0.182948693633   \n",
       "3     -0.105331808329      0.015107278712      0.183204829693   \n",
       "4     -0.105352662504      0.015106986277      0.183241710067   \n",
       "5     -0.105355620384      0.015106603503      0.183247044683   \n",
       "6     -0.105356052518      0.015106548555      0.183247819543   \n",
       "\n",
       "   action_pred_std_1  action_pred_std_2  action_pred_std_3  \\\n",
       "0     1.012081503868     0.969902157784     0.930184662342   \n",
       "1     0.998861372471     0.988608479500     0.938938677311   \n",
       "2     0.998853683472     0.988457262516     0.938058733940   \n",
       "3     0.998832702637     0.988476693630     0.938021242619   \n",
       "4     0.998831927776     0.988475441933     0.938011109829   \n",
       "5     0.998831689358     0.988475501537     0.938009858131   \n",
       "6     0.998831629753     0.988475501537     0.938009679317   \n",
       "\n",
       "   action_pred_denorm_1  action_pred_denorm_2  action_pred_denorm_3  \\\n",
       "0       -0.157761096954        0.060532093048        1.161170125008   \n",
       "1       -0.207969665527        0.029145479202        1.181134700775   \n",
       "2       -0.210384011269        0.030316829681        1.182948708534   \n",
       "3       -0.210663557053        0.030214548111        1.183204889297   \n",
       "4       -0.210705280304        0.030214071274        1.183241724968   \n",
       "5       -0.210711240768        0.030213117599        1.183247089386   \n",
       "6       -0.210712075233        0.030213117599        1.183247804642   \n",
       "\n",
       "   trajectory_index  state_number      gnll_loss  state_est_norm_1  \\\n",
       "0                42             0 2.951235294342    0.239584520459   \n",
       "1                42             1 2.959395885468    0.218835145235   \n",
       "2                42             2 2.959288597107    0.218841150403   \n",
       "3                42             3 2.969314098358    0.219203054905   \n",
       "4                42             4 3.018643617630    0.219256311655   \n",
       "5                42             5 3.020524740219    0.219264060259   \n",
       "6                42             6 3.026495695114    0.219265177846   \n",
       "\n",
       "   state_est_norm_2  state_est_norm_3  state_est_denorm_1  state_est_denorm_2  \\\n",
       "0    0.549098074436    0.238536208868      0.718753561378      1.647294223309   \n",
       "1    0.506871461868    0.443223387003      0.656505435705      1.520614385605   \n",
       "2    0.515697181225    0.449878245592      0.656523451209      1.547091543674   \n",
       "3    0.515959680080    0.450482904911      0.657609164715      1.547879040241   \n",
       "4    0.516041576862    0.450568288565      0.657768934965      1.548124730587   \n",
       "5    0.516050994396    0.450580567122      0.657792180777      1.548152983189   \n",
       "6    0.516052544117    0.450582355261      0.657795533538      1.548157632351   \n",
       "\n",
       "   state_est_denorm_3  next_state_label_norm_1  next_state_label_norm_2  \\\n",
       "0      0.715608626604           0.206956240472           0.511369996287   \n",
       "1      1.329670161009           0.146144429566           0.424573652531   \n",
       "2      1.349634736776           0.160029739866           0.333697637197   \n",
       "3      1.351448714733           0.211847473945           0.254246920085   \n",
       "4      1.351704865694           0.279522170649           0.113627194438   \n",
       "5      1.351741701365           0.275211955949           0.106489978584   \n",
       "6      1.351747065783           0.287394082545           0.098401946722   \n",
       "\n",
       "   next_state_label_norm_3  next_state_label_denorm_1  \\\n",
       "0           0.245189446131             0.620868721416   \n",
       "1           0.254451392015             0.438433288698   \n",
       "2           0.252027132034             0.480089219599   \n",
       "3           0.224132575512             0.635542421834   \n",
       "4           0.102277475516             0.838566511946   \n",
       "5           0.096811352094             0.825635867846   \n",
       "6           0.086129087130             0.862182247635   \n",
       "\n",
       "   next_state_label_denorm_2  next_state_label_denorm_3  \\\n",
       "0             1.534109988861             0.735568338394   \n",
       "1             1.273720957594             0.763354176044   \n",
       "2             1.001092911591             0.756081396103   \n",
       "3             0.762740760254             0.672397726536   \n",
       "4             0.340881583314             0.306832426548   \n",
       "5             0.319469935752             0.290434056282   \n",
       "6             0.295205840165             0.258387261391   \n",
       "\n",
       "   next_state_est_norm_1  next_state_est_norm_2  next_state_est_norm_3  \\\n",
       "0         0.218835143719         0.506871441759         0.443223375003   \n",
       "1         0.218841150211         0.515697205422         0.449878233592   \n",
       "2         0.219203054346         0.515959704320         0.450482902845   \n",
       "3         0.219256318865         0.516041556872         0.450568296432   \n",
       "4         0.219264054269         0.516051012195         0.450580574989   \n",
       "5         0.219265178455         0.516052533789         0.450582363129   \n",
       "6         0.219265326484         0.516052715137         0.450582601547   \n",
       "\n",
       "   next_state_est_denorm_1  next_state_est_denorm_2  next_state_est_denorm_3  \\\n",
       "0           0.656505431158           1.520614325277           1.329670125008   \n",
       "1           0.656523450634           1.547091616267           1.349634700775   \n",
       "2           0.657609163038           1.547879112959           1.351448708534   \n",
       "3           0.657768956596           1.548124670616           1.351704889297   \n",
       "4           0.657792162806           1.548153036586           1.351741724968   \n",
       "5           0.657795535366           1.548157601366           1.351747089386   \n",
       "6           0.657795979453           1.548158145412           1.351747804642   \n",
       "\n",
       "   action_pred_avg_logprob  reward_demo_traj  reward_robot_traj  \n",
       "0          -2.665893554688    0.267138391733     0.267138391733  \n",
       "1          -2.681216716766    0.532716989517     0.112306818366  \n",
       "2          -2.680118560791    0.925517559052     0.093558020890  \n",
       "3          -2.680077075958    0.970557272434     0.092106044292  \n",
       "4          -2.680064439774    0.977413594723     0.091841958463  \n",
       "5          -2.680062770844    0.993591308594     0.091806910932  \n",
       "6          -2.680062770844    0.994075179100     0.091801598668  "
      ]
     },
     "execution_count": 19,
     "metadata": {},
     "output_type": "execute_result"
    }
   ],
   "source": [
    "test_trajectories[-1]"
   ]
  },
  {
   "cell_type": "markdown",
   "id": "7c828e25",
   "metadata": {},
   "source": [
    "# Train Behavior Cloning Agent"
   ]
  },
  {
   "cell_type": "code",
   "execution_count": 20,
   "id": "f31fc445",
   "metadata": {},
   "outputs": [],
   "source": [
    "updater_obj.policy_network = RobotPolicy(state_size=configs.state_size,\n",
    "                                         hidden_size=configs.hidden_size,\n",
    "                                         out_size=configs.action_size,\n",
    "                                         log_std_min=configs.policy_log_std_min,\n",
    "                                         log_std_max=configs.policy_log_std_max,\n",
    "                                         log_std_init=configs.policy_log_std_init,\n",
    "                                         device=configs.device)\n",
    "updater_obj.policy_optimizer = torch.optim.Adam(updater_obj.policy_network.parameters(),\n",
    "                                                lr=configs.policy_lr)"
   ]
  },
  {
   "cell_type": "code",
   "execution_count": 21,
   "id": "97a67efa",
   "metadata": {},
   "outputs": [],
   "source": [
    "bc_training_epochs = 100"
   ]
  },
  {
   "cell_type": "code",
   "execution_count": 22,
   "id": "84c21f42",
   "metadata": {
    "scrolled": true
   },
   "outputs": [],
   "source": [
    "# lambda_pg = 1.0\n",
    "# lambda_bc = 1.0\n",
    "\n",
    "# mean_loss_bc, mean_loss_pg = [], []\n",
    "\n",
    "# for epoch in range(bc_training_epochs):\n",
    "    \n",
    "#     bc_loss_list, pg_loss_list = [], []\n",
    "    \n",
    "#     for demo_traj_df in demo_traj_list:\n",
    "        \n",
    "#         states_demo = torch.Tensor(demo_traj_df[[\n",
    "#             \"state_label_norm_1\", \"state_label_norm_2\", \"state_label_norm_3\"]].values.astype(np.float32), device=configs.device)\n",
    "#         actions_demo = torch.Tensor(demo_traj_df[[\n",
    "#             \"action_label_norm_1\", \"action_label_norm_2\", \"action_label_norm_3\"]].values.astype(np.float32), device=configs.device)\n",
    "#         probs_demo = torch.Tensor(np.ones((\n",
    "#             actions_demo.shape[0], actions_demo.shape[1])).astype(np.float32), device=configs.device)\n",
    "        \n",
    "#         demo_rewards_ = updater_obj.reward_network.estimate_reward(state_action=states_demo,\n",
    "#                                                                    is_inference=True)\n",
    "#         cumulative_returns = get_cumulative_rewards(demo_rewards_, 0.99).to(torch.float32)\n",
    "        \n",
    "# #         _, _, traj_log_probs, _, actions_pred_mu_std, _ = updater_obj.policy_network.estimate_action(state=states_demo,\n",
    "# #                                                                                                  is_inference=False)\n",
    "# #         cumulative_log_probs = torch.cumsum(traj_log_probs, dim=0)\n",
    "        \n",
    "# #         loss_pg_demo = policy_gradient_loss(cumulative_log_probs=cumulative_log_probs,\n",
    "# #                                             advantages=cumulative_returns)\n",
    "        \n",
    "#         loss_bc_traj = updater_obj.multivariate_gaussian_nll_loss(y_true=actions_demo,\n",
    "#                                                                   y_pred=actions_pred_mu_std)\n",
    "        \n",
    "# #         total_loss = (lambda_pg * loss_pg_demo) + (lambda_bc * loss_bc_traj)\n",
    "        \n",
    "#         updater_obj.run_policy_optimizer(bc_loss=loss_bc_traj)\n",
    "        \n",
    "#         bc_loss_list.append(loss_bc_traj.item())\n",
    "# #         pg_loss_list.append(loss_pg_demo.item())\n",
    "    \n",
    "#     mean_loss_bc.append(np.mean(bc_loss_list))\n",
    "# #     mean_loss_pg.append(np.mean(pg_loss_list))\n",
    "\n",
    "#     print(\"Epoch : \", epoch, \" Avg. BC Loss : \", np.mean(bc_loss_list), \" Avg. PG Loss : \", np.mean(pg_loss_list))"
   ]
  },
  {
   "cell_type": "code",
   "execution_count": 23,
   "id": "de08c6e7",
   "metadata": {
    "scrolled": true
   },
   "outputs": [
    {
     "name": "stderr",
     "output_type": "stream",
     "text": [
      "100%|██████████████████████████████████████████████████████████████████████████████████| 11/11 [00:00<00:00, 31.02it/s]\n"
     ]
    },
    {
     "name": "stdout",
     "output_type": "stream",
     "text": [
      "Epoch 1/100, Batch Loss: 3.09444\n"
     ]
    },
    {
     "name": "stderr",
     "output_type": "stream",
     "text": [
      "100%|██████████████████████████████████████████████████████████████████████████████████| 11/11 [00:00<00:00, 42.87it/s]\n"
     ]
    },
    {
     "name": "stdout",
     "output_type": "stream",
     "text": [
      "Epoch 2/100, Batch Loss: 3.09786\n"
     ]
    },
    {
     "name": "stderr",
     "output_type": "stream",
     "text": [
      "100%|██████████████████████████████████████████████████████████████████████████████████| 11/11 [00:00<00:00, 43.51it/s]\n"
     ]
    },
    {
     "name": "stdout",
     "output_type": "stream",
     "text": [
      "Epoch 3/100, Batch Loss: 3.12405\n"
     ]
    },
    {
     "name": "stderr",
     "output_type": "stream",
     "text": [
      "100%|██████████████████████████████████████████████████████████████████████████████████| 11/11 [00:00<00:00, 41.46it/s]\n"
     ]
    },
    {
     "name": "stdout",
     "output_type": "stream",
     "text": [
      "Epoch 4/100, Batch Loss: 3.06415\n"
     ]
    },
    {
     "name": "stderr",
     "output_type": "stream",
     "text": [
      "100%|██████████████████████████████████████████████████████████████████████████████████| 11/11 [00:00<00:00, 41.43it/s]\n"
     ]
    },
    {
     "name": "stdout",
     "output_type": "stream",
     "text": [
      "Epoch 5/100, Batch Loss: 3.11575\n"
     ]
    },
    {
     "name": "stderr",
     "output_type": "stream",
     "text": [
      "100%|██████████████████████████████████████████████████████████████████████████████████| 11/11 [00:00<00:00, 45.07it/s]\n"
     ]
    },
    {
     "name": "stdout",
     "output_type": "stream",
     "text": [
      "Epoch 6/100, Batch Loss: 3.12231\n"
     ]
    },
    {
     "name": "stderr",
     "output_type": "stream",
     "text": [
      "100%|██████████████████████████████████████████████████████████████████████████████████| 11/11 [00:00<00:00, 43.35it/s]\n"
     ]
    },
    {
     "name": "stdout",
     "output_type": "stream",
     "text": [
      "Epoch 7/100, Batch Loss: 3.04813\n"
     ]
    },
    {
     "name": "stderr",
     "output_type": "stream",
     "text": [
      "100%|██████████████████████████████████████████████████████████████████████████████████| 11/11 [00:00<00:00, 44.75it/s]\n"
     ]
    },
    {
     "name": "stdout",
     "output_type": "stream",
     "text": [
      "Epoch 8/100, Batch Loss: 3.14353\n"
     ]
    },
    {
     "name": "stderr",
     "output_type": "stream",
     "text": [
      "100%|██████████████████████████████████████████████████████████████████████████████████| 11/11 [00:00<00:00, 38.49it/s]\n"
     ]
    },
    {
     "name": "stdout",
     "output_type": "stream",
     "text": [
      "Epoch 9/100, Batch Loss: 3.05301\n"
     ]
    },
    {
     "name": "stderr",
     "output_type": "stream",
     "text": [
      "100%|██████████████████████████████████████████████████████████████████████████████████| 11/11 [00:00<00:00, 39.50it/s]\n"
     ]
    },
    {
     "name": "stdout",
     "output_type": "stream",
     "text": [
      "Epoch 10/100, Batch Loss: 3.11999\n"
     ]
    },
    {
     "name": "stderr",
     "output_type": "stream",
     "text": [
      "100%|██████████████████████████████████████████████████████████████████████████████████| 11/11 [00:00<00:00, 39.25it/s]\n"
     ]
    },
    {
     "name": "stdout",
     "output_type": "stream",
     "text": [
      "Epoch 11/100, Batch Loss: 3.13028\n"
     ]
    },
    {
     "name": "stderr",
     "output_type": "stream",
     "text": [
      "100%|██████████████████████████████████████████████████████████████████████████████████| 11/11 [00:00<00:00, 39.82it/s]\n"
     ]
    },
    {
     "name": "stdout",
     "output_type": "stream",
     "text": [
      "Epoch 12/100, Batch Loss: 3.10999\n"
     ]
    },
    {
     "name": "stderr",
     "output_type": "stream",
     "text": [
      "100%|██████████████████████████████████████████████████████████████████████████████████| 11/11 [00:00<00:00, 41.30it/s]\n"
     ]
    },
    {
     "name": "stdout",
     "output_type": "stream",
     "text": [
      "Epoch 13/100, Batch Loss: 3.13832\n"
     ]
    },
    {
     "name": "stderr",
     "output_type": "stream",
     "text": [
      "100%|██████████████████████████████████████████████████████████████████████████████████| 11/11 [00:00<00:00, 34.07it/s]\n"
     ]
    },
    {
     "name": "stdout",
     "output_type": "stream",
     "text": [
      "Epoch 14/100, Batch Loss: 3.06409\n"
     ]
    },
    {
     "name": "stderr",
     "output_type": "stream",
     "text": [
      "100%|██████████████████████████████████████████████████████████████████████████████████| 11/11 [00:00<00:00, 39.26it/s]\n"
     ]
    },
    {
     "name": "stdout",
     "output_type": "stream",
     "text": [
      "Epoch 15/100, Batch Loss: 3.07889\n"
     ]
    },
    {
     "name": "stderr",
     "output_type": "stream",
     "text": [
      "100%|██████████████████████████████████████████████████████████████████████████████████| 11/11 [00:00<00:00, 44.12it/s]\n"
     ]
    },
    {
     "name": "stdout",
     "output_type": "stream",
     "text": [
      "Epoch 16/100, Batch Loss: 3.10653\n"
     ]
    },
    {
     "name": "stderr",
     "output_type": "stream",
     "text": [
      "100%|██████████████████████████████████████████████████████████████████████████████████| 11/11 [00:00<00:00, 36.65it/s]\n"
     ]
    },
    {
     "name": "stdout",
     "output_type": "stream",
     "text": [
      "Epoch 17/100, Batch Loss: 3.07131\n"
     ]
    },
    {
     "name": "stderr",
     "output_type": "stream",
     "text": [
      "100%|██████████████████████████████████████████████████████████████████████████████████| 11/11 [00:00<00:00, 39.53it/s]\n"
     ]
    },
    {
     "name": "stdout",
     "output_type": "stream",
     "text": [
      "Epoch 18/100, Batch Loss: 3.11069\n"
     ]
    },
    {
     "name": "stderr",
     "output_type": "stream",
     "text": [
      "100%|██████████████████████████████████████████████████████████████████████████████████| 11/11 [00:00<00:00, 41.12it/s]\n"
     ]
    },
    {
     "name": "stdout",
     "output_type": "stream",
     "text": [
      "Epoch 19/100, Batch Loss: 3.09752\n"
     ]
    },
    {
     "name": "stderr",
     "output_type": "stream",
     "text": [
      "100%|██████████████████████████████████████████████████████████████████████████████████| 11/11 [00:00<00:00, 42.34it/s]\n"
     ]
    },
    {
     "name": "stdout",
     "output_type": "stream",
     "text": [
      "Epoch 20/100, Batch Loss: 3.09918\n"
     ]
    },
    {
     "name": "stderr",
     "output_type": "stream",
     "text": [
      "100%|██████████████████████████████████████████████████████████████████████████████████| 11/11 [00:00<00:00, 44.37it/s]\n"
     ]
    },
    {
     "name": "stdout",
     "output_type": "stream",
     "text": [
      "Epoch 21/100, Batch Loss: 3.08597\n"
     ]
    },
    {
     "name": "stderr",
     "output_type": "stream",
     "text": [
      "100%|██████████████████████████████████████████████████████████████████████████████████| 11/11 [00:00<00:00, 42.71it/s]\n"
     ]
    },
    {
     "name": "stdout",
     "output_type": "stream",
     "text": [
      "Epoch 22/100, Batch Loss: 3.06367\n"
     ]
    },
    {
     "name": "stderr",
     "output_type": "stream",
     "text": [
      "100%|██████████████████████████████████████████████████████████████████████████████████| 11/11 [00:00<00:00, 45.41it/s]\n"
     ]
    },
    {
     "name": "stdout",
     "output_type": "stream",
     "text": [
      "Epoch 23/100, Batch Loss: 3.0996\n"
     ]
    },
    {
     "name": "stderr",
     "output_type": "stream",
     "text": [
      "100%|██████████████████████████████████████████████████████████████████████████████████| 11/11 [00:00<00:00, 44.83it/s]\n"
     ]
    },
    {
     "name": "stdout",
     "output_type": "stream",
     "text": [
      "Epoch 24/100, Batch Loss: 3.09508\n"
     ]
    },
    {
     "name": "stderr",
     "output_type": "stream",
     "text": [
      "100%|██████████████████████████████████████████████████████████████████████████████████| 11/11 [00:00<00:00, 40.76it/s]\n"
     ]
    },
    {
     "name": "stdout",
     "output_type": "stream",
     "text": [
      "Epoch 25/100, Batch Loss: 3.09847\n"
     ]
    },
    {
     "name": "stderr",
     "output_type": "stream",
     "text": [
      "100%|██████████████████████████████████████████████████████████████████████████████████| 11/11 [00:00<00:00, 38.20it/s]\n"
     ]
    },
    {
     "name": "stdout",
     "output_type": "stream",
     "text": [
      "Epoch 26/100, Batch Loss: 3.1003\n"
     ]
    },
    {
     "name": "stderr",
     "output_type": "stream",
     "text": [
      "100%|██████████████████████████████████████████████████████████████████████████████████| 11/11 [00:00<00:00, 44.15it/s]\n"
     ]
    },
    {
     "name": "stdout",
     "output_type": "stream",
     "text": [
      "Epoch 27/100, Batch Loss: 3.07529\n"
     ]
    },
    {
     "name": "stderr",
     "output_type": "stream",
     "text": [
      "100%|██████████████████████████████████████████████████████████████████████████████████| 11/11 [00:00<00:00, 43.83it/s]\n"
     ]
    },
    {
     "name": "stdout",
     "output_type": "stream",
     "text": [
      "Epoch 28/100, Batch Loss: 3.04727\n"
     ]
    },
    {
     "name": "stderr",
     "output_type": "stream",
     "text": [
      "100%|██████████████████████████████████████████████████████████████████████████████████| 11/11 [00:00<00:00, 40.46it/s]\n"
     ]
    },
    {
     "name": "stdout",
     "output_type": "stream",
     "text": [
      "Epoch 29/100, Batch Loss: 3.11837\n"
     ]
    },
    {
     "name": "stderr",
     "output_type": "stream",
     "text": [
      "100%|██████████████████████████████████████████████████████████████████████████████████| 11/11 [00:00<00:00, 41.21it/s]\n"
     ]
    },
    {
     "name": "stdout",
     "output_type": "stream",
     "text": [
      "Epoch 30/100, Batch Loss: 3.06381\n"
     ]
    },
    {
     "name": "stderr",
     "output_type": "stream",
     "text": [
      "100%|██████████████████████████████████████████████████████████████████████████████████| 11/11 [00:00<00:00, 44.12it/s]\n"
     ]
    },
    {
     "name": "stdout",
     "output_type": "stream",
     "text": [
      "Epoch 31/100, Batch Loss: 3.08727\n"
     ]
    },
    {
     "name": "stderr",
     "output_type": "stream",
     "text": [
      "100%|██████████████████████████████████████████████████████████████████████████████████| 11/11 [00:00<00:00, 39.09it/s]\n"
     ]
    },
    {
     "name": "stdout",
     "output_type": "stream",
     "text": [
      "Epoch 32/100, Batch Loss: 3.07926\n"
     ]
    },
    {
     "name": "stderr",
     "output_type": "stream",
     "text": [
      "100%|██████████████████████████████████████████████████████████████████████████████████| 11/11 [00:00<00:00, 31.30it/s]\n"
     ]
    },
    {
     "name": "stdout",
     "output_type": "stream",
     "text": [
      "Epoch 33/100, Batch Loss: 3.05674\n"
     ]
    },
    {
     "name": "stderr",
     "output_type": "stream",
     "text": [
      "100%|██████████████████████████████████████████████████████████████████████████████████| 11/11 [00:00<00:00, 35.55it/s]\n"
     ]
    },
    {
     "name": "stdout",
     "output_type": "stream",
     "text": [
      "Epoch 34/100, Batch Loss: 3.06202\n"
     ]
    },
    {
     "name": "stderr",
     "output_type": "stream",
     "text": [
      "100%|██████████████████████████████████████████████████████████████████████████████████| 11/11 [00:00<00:00, 42.16it/s]\n"
     ]
    },
    {
     "name": "stdout",
     "output_type": "stream",
     "text": [
      "Epoch 35/100, Batch Loss: 3.12216\n"
     ]
    },
    {
     "name": "stderr",
     "output_type": "stream",
     "text": [
      "100%|██████████████████████████████████████████████████████████████████████████████████| 11/11 [00:00<00:00, 42.59it/s]\n"
     ]
    },
    {
     "name": "stdout",
     "output_type": "stream",
     "text": [
      "Epoch 36/100, Batch Loss: 3.12881\n"
     ]
    },
    {
     "name": "stderr",
     "output_type": "stream",
     "text": [
      "100%|██████████████████████████████████████████████████████████████████████████████████| 11/11 [00:00<00:00, 43.94it/s]\n"
     ]
    },
    {
     "name": "stdout",
     "output_type": "stream",
     "text": [
      "Epoch 37/100, Batch Loss: 3.12778\n"
     ]
    },
    {
     "name": "stderr",
     "output_type": "stream",
     "text": [
      "100%|██████████████████████████████████████████████████████████████████████████████████| 11/11 [00:00<00:00, 43.37it/s]\n"
     ]
    },
    {
     "name": "stdout",
     "output_type": "stream",
     "text": [
      "Epoch 38/100, Batch Loss: 3.07989\n"
     ]
    },
    {
     "name": "stderr",
     "output_type": "stream",
     "text": [
      "100%|██████████████████████████████████████████████████████████████████████████████████| 11/11 [00:00<00:00, 45.03it/s]\n"
     ]
    },
    {
     "name": "stdout",
     "output_type": "stream",
     "text": [
      "Epoch 39/100, Batch Loss: 3.08948\n"
     ]
    },
    {
     "name": "stderr",
     "output_type": "stream",
     "text": [
      "100%|██████████████████████████████████████████████████████████████████████████████████| 11/11 [00:00<00:00, 43.69it/s]\n"
     ]
    },
    {
     "name": "stdout",
     "output_type": "stream",
     "text": [
      "Epoch 40/100, Batch Loss: 3.05249\n"
     ]
    },
    {
     "name": "stderr",
     "output_type": "stream",
     "text": [
      "100%|██████████████████████████████████████████████████████████████████████████████████| 11/11 [00:00<00:00, 44.19it/s]\n"
     ]
    },
    {
     "name": "stdout",
     "output_type": "stream",
     "text": [
      "Epoch 41/100, Batch Loss: 3.081\n"
     ]
    },
    {
     "name": "stderr",
     "output_type": "stream",
     "text": [
      "100%|██████████████████████████████████████████████████████████████████████████████████| 11/11 [00:00<00:00, 36.10it/s]\n"
     ]
    },
    {
     "name": "stdout",
     "output_type": "stream",
     "text": [
      "Epoch 42/100, Batch Loss: 3.0688\n"
     ]
    },
    {
     "name": "stderr",
     "output_type": "stream",
     "text": [
      "100%|██████████████████████████████████████████████████████████████████████████████████| 11/11 [00:00<00:00, 43.27it/s]\n"
     ]
    },
    {
     "name": "stdout",
     "output_type": "stream",
     "text": [
      "Epoch 43/100, Batch Loss: 3.097\n"
     ]
    },
    {
     "name": "stderr",
     "output_type": "stream",
     "text": [
      "100%|██████████████████████████████████████████████████████████████████████████████████| 11/11 [00:00<00:00, 42.58it/s]\n"
     ]
    },
    {
     "name": "stdout",
     "output_type": "stream",
     "text": [
      "Epoch 44/100, Batch Loss: 3.12077\n"
     ]
    },
    {
     "name": "stderr",
     "output_type": "stream",
     "text": [
      "100%|██████████████████████████████████████████████████████████████████████████████████| 11/11 [00:00<00:00, 43.64it/s]\n"
     ]
    },
    {
     "name": "stdout",
     "output_type": "stream",
     "text": [
      "Epoch 45/100, Batch Loss: 3.05379\n"
     ]
    },
    {
     "name": "stderr",
     "output_type": "stream",
     "text": [
      "100%|██████████████████████████████████████████████████████████████████████████████████| 11/11 [00:00<00:00, 42.65it/s]\n"
     ]
    },
    {
     "name": "stdout",
     "output_type": "stream",
     "text": [
      "Epoch 46/100, Batch Loss: 3.09836\n"
     ]
    },
    {
     "name": "stderr",
     "output_type": "stream",
     "text": [
      "100%|██████████████████████████████████████████████████████████████████████████████████| 11/11 [00:00<00:00, 43.82it/s]\n"
     ]
    },
    {
     "name": "stdout",
     "output_type": "stream",
     "text": [
      "Epoch 47/100, Batch Loss: 3.06546\n"
     ]
    },
    {
     "name": "stderr",
     "output_type": "stream",
     "text": [
      "100%|██████████████████████████████████████████████████████████████████████████████████| 11/11 [00:00<00:00, 40.78it/s]\n"
     ]
    },
    {
     "name": "stdout",
     "output_type": "stream",
     "text": [
      "Epoch 48/100, Batch Loss: 3.08371\n"
     ]
    },
    {
     "name": "stderr",
     "output_type": "stream",
     "text": [
      "100%|██████████████████████████████████████████████████████████████████████████████████| 11/11 [00:00<00:00, 38.34it/s]\n"
     ]
    },
    {
     "name": "stdout",
     "output_type": "stream",
     "text": [
      "Epoch 49/100, Batch Loss: 3.12901\n"
     ]
    },
    {
     "name": "stderr",
     "output_type": "stream",
     "text": [
      "100%|██████████████████████████████████████████████████████████████████████████████████| 11/11 [00:00<00:00, 35.24it/s]\n"
     ]
    },
    {
     "name": "stdout",
     "output_type": "stream",
     "text": [
      "Epoch 50/100, Batch Loss: 3.06525\n"
     ]
    },
    {
     "name": "stderr",
     "output_type": "stream",
     "text": [
      "100%|██████████████████████████████████████████████████████████████████████████████████| 11/11 [00:00<00:00, 40.13it/s]\n"
     ]
    },
    {
     "name": "stdout",
     "output_type": "stream",
     "text": [
      "Epoch 51/100, Batch Loss: 3.09764\n"
     ]
    },
    {
     "name": "stderr",
     "output_type": "stream",
     "text": [
      "100%|██████████████████████████████████████████████████████████████████████████████████| 11/11 [00:00<00:00, 43.84it/s]\n"
     ]
    },
    {
     "name": "stdout",
     "output_type": "stream",
     "text": [
      "Epoch 52/100, Batch Loss: 3.08121\n"
     ]
    },
    {
     "name": "stderr",
     "output_type": "stream",
     "text": [
      "100%|██████████████████████████████████████████████████████████████████████████████████| 11/11 [00:00<00:00, 44.40it/s]\n"
     ]
    },
    {
     "name": "stdout",
     "output_type": "stream",
     "text": [
      "Epoch 53/100, Batch Loss: 3.06189\n"
     ]
    },
    {
     "name": "stderr",
     "output_type": "stream",
     "text": [
      "100%|██████████████████████████████████████████████████████████████████████████████████| 11/11 [00:00<00:00, 44.49it/s]\n"
     ]
    },
    {
     "name": "stdout",
     "output_type": "stream",
     "text": [
      "Epoch 54/100, Batch Loss: 3.09835\n"
     ]
    },
    {
     "name": "stderr",
     "output_type": "stream",
     "text": [
      "100%|██████████████████████████████████████████████████████████████████████████████████| 11/11 [00:00<00:00, 43.61it/s]\n"
     ]
    },
    {
     "name": "stdout",
     "output_type": "stream",
     "text": [
      "Epoch 55/100, Batch Loss: 3.06431\n"
     ]
    },
    {
     "name": "stderr",
     "output_type": "stream",
     "text": [
      "100%|██████████████████████████████████████████████████████████████████████████████████| 11/11 [00:00<00:00, 44.34it/s]\n"
     ]
    },
    {
     "name": "stdout",
     "output_type": "stream",
     "text": [
      "Epoch 56/100, Batch Loss: 3.05345\n"
     ]
    },
    {
     "name": "stderr",
     "output_type": "stream",
     "text": [
      "100%|██████████████████████████████████████████████████████████████████████████████████| 11/11 [00:00<00:00, 43.01it/s]\n"
     ]
    },
    {
     "name": "stdout",
     "output_type": "stream",
     "text": [
      "Epoch 57/100, Batch Loss: 3.09917\n"
     ]
    },
    {
     "name": "stderr",
     "output_type": "stream",
     "text": [
      "100%|██████████████████████████████████████████████████████████████████████████████████| 11/11 [00:00<00:00, 40.54it/s]\n"
     ]
    },
    {
     "name": "stdout",
     "output_type": "stream",
     "text": [
      "Epoch 58/100, Batch Loss: 3.10047\n"
     ]
    },
    {
     "name": "stderr",
     "output_type": "stream",
     "text": [
      "100%|██████████████████████████████████████████████████████████████████████████████████| 11/11 [00:00<00:00, 37.62it/s]\n"
     ]
    },
    {
     "name": "stdout",
     "output_type": "stream",
     "text": [
      "Epoch 59/100, Batch Loss: 3.0819\n"
     ]
    },
    {
     "name": "stderr",
     "output_type": "stream",
     "text": [
      "100%|██████████████████████████████████████████████████████████████████████████████████| 11/11 [00:00<00:00, 45.04it/s]\n"
     ]
    },
    {
     "name": "stdout",
     "output_type": "stream",
     "text": [
      "Epoch 60/100, Batch Loss: 3.06601\n"
     ]
    },
    {
     "name": "stderr",
     "output_type": "stream",
     "text": [
      "100%|██████████████████████████████████████████████████████████████████████████████████| 11/11 [00:00<00:00, 40.69it/s]\n"
     ]
    },
    {
     "name": "stdout",
     "output_type": "stream",
     "text": [
      "Epoch 61/100, Batch Loss: 3.09592\n"
     ]
    },
    {
     "name": "stderr",
     "output_type": "stream",
     "text": [
      "100%|██████████████████████████████████████████████████████████████████████████████████| 11/11 [00:00<00:00, 45.14it/s]\n"
     ]
    },
    {
     "name": "stdout",
     "output_type": "stream",
     "text": [
      "Epoch 62/100, Batch Loss: 3.13312\n"
     ]
    },
    {
     "name": "stderr",
     "output_type": "stream",
     "text": [
      "100%|██████████████████████████████████████████████████████████████████████████████████| 11/11 [00:00<00:00, 44.33it/s]\n"
     ]
    },
    {
     "name": "stdout",
     "output_type": "stream",
     "text": [
      "Epoch 63/100, Batch Loss: 3.11023\n"
     ]
    },
    {
     "name": "stderr",
     "output_type": "stream",
     "text": [
      "100%|██████████████████████████████████████████████████████████████████████████████████| 11/11 [00:00<00:00, 43.92it/s]\n"
     ]
    },
    {
     "name": "stdout",
     "output_type": "stream",
     "text": [
      "Epoch 64/100, Batch Loss: 3.07558\n"
     ]
    },
    {
     "name": "stderr",
     "output_type": "stream",
     "text": [
      "100%|██████████████████████████████████████████████████████████████████████████████████| 11/11 [00:00<00:00, 44.38it/s]\n"
     ]
    },
    {
     "name": "stdout",
     "output_type": "stream",
     "text": [
      "Epoch 65/100, Batch Loss: 3.11436\n"
     ]
    },
    {
     "name": "stderr",
     "output_type": "stream",
     "text": [
      "100%|██████████████████████████████████████████████████████████████████████████████████| 11/11 [00:00<00:00, 44.34it/s]\n"
     ]
    },
    {
     "name": "stdout",
     "output_type": "stream",
     "text": [
      "Epoch 66/100, Batch Loss: 3.08909\n"
     ]
    },
    {
     "name": "stderr",
     "output_type": "stream",
     "text": [
      "100%|██████████████████████████████████████████████████████████████████████████████████| 11/11 [00:00<00:00, 37.32it/s]\n"
     ]
    },
    {
     "name": "stdout",
     "output_type": "stream",
     "text": [
      "Epoch 67/100, Batch Loss: 3.08211\n"
     ]
    },
    {
     "name": "stderr",
     "output_type": "stream",
     "text": [
      "100%|██████████████████████████████████████████████████████████████████████████████████| 11/11 [00:00<00:00, 43.38it/s]\n"
     ]
    },
    {
     "name": "stdout",
     "output_type": "stream",
     "text": [
      "Epoch 68/100, Batch Loss: 3.09946\n"
     ]
    },
    {
     "name": "stderr",
     "output_type": "stream",
     "text": [
      "100%|██████████████████████████████████████████████████████████████████████████████████| 11/11 [00:00<00:00, 44.09it/s]\n"
     ]
    },
    {
     "name": "stdout",
     "output_type": "stream",
     "text": [
      "Epoch 69/100, Batch Loss: 3.07385\n"
     ]
    },
    {
     "name": "stderr",
     "output_type": "stream",
     "text": [
      "100%|██████████████████████████████████████████████████████████████████████████████████| 11/11 [00:00<00:00, 43.80it/s]\n"
     ]
    },
    {
     "name": "stdout",
     "output_type": "stream",
     "text": [
      "Epoch 70/100, Batch Loss: 3.093\n"
     ]
    },
    {
     "name": "stderr",
     "output_type": "stream",
     "text": [
      "100%|██████████████████████████████████████████████████████████████████████████████████| 11/11 [00:00<00:00, 41.24it/s]\n"
     ]
    },
    {
     "name": "stdout",
     "output_type": "stream",
     "text": [
      "Epoch 71/100, Batch Loss: 3.08678\n"
     ]
    },
    {
     "name": "stderr",
     "output_type": "stream",
     "text": [
      "100%|██████████████████████████████████████████████████████████████████████████████████| 11/11 [00:00<00:00, 43.43it/s]\n"
     ]
    },
    {
     "name": "stdout",
     "output_type": "stream",
     "text": [
      "Epoch 72/100, Batch Loss: 3.08008\n"
     ]
    },
    {
     "name": "stderr",
     "output_type": "stream",
     "text": [
      "100%|██████████████████████████████████████████████████████████████████████████████████| 11/11 [00:00<00:00, 40.74it/s]\n"
     ]
    },
    {
     "name": "stdout",
     "output_type": "stream",
     "text": [
      "Epoch 73/100, Batch Loss: 3.10287\n"
     ]
    },
    {
     "name": "stderr",
     "output_type": "stream",
     "text": [
      "100%|██████████████████████████████████████████████████████████████████████████████████| 11/11 [00:00<00:00, 38.59it/s]\n"
     ]
    },
    {
     "name": "stdout",
     "output_type": "stream",
     "text": [
      "Epoch 74/100, Batch Loss: 3.08098\n"
     ]
    },
    {
     "name": "stderr",
     "output_type": "stream",
     "text": [
      "100%|██████████████████████████████████████████████████████████████████████████████████| 11/11 [00:00<00:00, 32.17it/s]\n"
     ]
    },
    {
     "name": "stdout",
     "output_type": "stream",
     "text": [
      "Epoch 75/100, Batch Loss: 3.11656\n"
     ]
    },
    {
     "name": "stderr",
     "output_type": "stream",
     "text": [
      "100%|██████████████████████████████████████████████████████████████████████████████████| 11/11 [00:00<00:00, 38.61it/s]\n"
     ]
    },
    {
     "name": "stdout",
     "output_type": "stream",
     "text": [
      "Epoch 76/100, Batch Loss: 3.10536\n"
     ]
    },
    {
     "name": "stderr",
     "output_type": "stream",
     "text": [
      "100%|██████████████████████████████████████████████████████████████████████████████████| 11/11 [00:00<00:00, 42.61it/s]\n"
     ]
    },
    {
     "name": "stdout",
     "output_type": "stream",
     "text": [
      "Epoch 77/100, Batch Loss: 3.04066\n"
     ]
    },
    {
     "name": "stderr",
     "output_type": "stream",
     "text": [
      "100%|██████████████████████████████████████████████████████████████████████████████████| 11/11 [00:00<00:00, 42.09it/s]\n"
     ]
    },
    {
     "name": "stdout",
     "output_type": "stream",
     "text": [
      "Epoch 78/100, Batch Loss: 3.10911\n"
     ]
    },
    {
     "name": "stderr",
     "output_type": "stream",
     "text": [
      "100%|██████████████████████████████████████████████████████████████████████████████████| 11/11 [00:00<00:00, 36.58it/s]\n"
     ]
    },
    {
     "name": "stdout",
     "output_type": "stream",
     "text": [
      "Epoch 79/100, Batch Loss: 3.08965\n"
     ]
    },
    {
     "name": "stderr",
     "output_type": "stream",
     "text": [
      "100%|██████████████████████████████████████████████████████████████████████████████████| 11/11 [00:00<00:00, 41.44it/s]\n"
     ]
    },
    {
     "name": "stdout",
     "output_type": "stream",
     "text": [
      "Epoch 80/100, Batch Loss: 3.08274\n"
     ]
    },
    {
     "name": "stderr",
     "output_type": "stream",
     "text": [
      "100%|██████████████████████████████████████████████████████████████████████████████████| 11/11 [00:00<00:00, 42.41it/s]\n"
     ]
    },
    {
     "name": "stdout",
     "output_type": "stream",
     "text": [
      "Epoch 81/100, Batch Loss: 3.05621\n"
     ]
    },
    {
     "name": "stderr",
     "output_type": "stream",
     "text": [
      "100%|██████████████████████████████████████████████████████████████████████████████████| 11/11 [00:00<00:00, 43.32it/s]\n"
     ]
    },
    {
     "name": "stdout",
     "output_type": "stream",
     "text": [
      "Epoch 82/100, Batch Loss: 3.07638\n"
     ]
    },
    {
     "name": "stderr",
     "output_type": "stream",
     "text": [
      "100%|██████████████████████████████████████████████████████████████████████████████████| 11/11 [00:00<00:00, 37.17it/s]\n"
     ]
    },
    {
     "name": "stdout",
     "output_type": "stream",
     "text": [
      "Epoch 83/100, Batch Loss: 3.09848\n"
     ]
    },
    {
     "name": "stderr",
     "output_type": "stream",
     "text": [
      "100%|██████████████████████████████████████████████████████████████████████████████████| 11/11 [00:00<00:00, 42.51it/s]\n"
     ]
    },
    {
     "name": "stdout",
     "output_type": "stream",
     "text": [
      "Epoch 84/100, Batch Loss: 3.08309\n"
     ]
    },
    {
     "name": "stderr",
     "output_type": "stream",
     "text": [
      "100%|██████████████████████████████████████████████████████████████████████████████████| 11/11 [00:00<00:00, 42.84it/s]\n"
     ]
    },
    {
     "name": "stdout",
     "output_type": "stream",
     "text": [
      "Epoch 85/100, Batch Loss: 3.06885\n"
     ]
    },
    {
     "name": "stderr",
     "output_type": "stream",
     "text": [
      "100%|██████████████████████████████████████████████████████████████████████████████████| 11/11 [00:00<00:00, 43.21it/s]\n"
     ]
    },
    {
     "name": "stdout",
     "output_type": "stream",
     "text": [
      "Epoch 86/100, Batch Loss: 3.09827\n"
     ]
    },
    {
     "name": "stderr",
     "output_type": "stream",
     "text": [
      "100%|██████████████████████████████████████████████████████████████████████████████████| 11/11 [00:00<00:00, 43.97it/s]\n"
     ]
    },
    {
     "name": "stdout",
     "output_type": "stream",
     "text": [
      "Epoch 87/100, Batch Loss: 3.08746\n"
     ]
    },
    {
     "name": "stderr",
     "output_type": "stream",
     "text": [
      "100%|██████████████████████████████████████████████████████████████████████████████████| 11/11 [00:00<00:00, 44.57it/s]\n"
     ]
    },
    {
     "name": "stdout",
     "output_type": "stream",
     "text": [
      "Epoch 88/100, Batch Loss: 3.05961\n"
     ]
    },
    {
     "name": "stderr",
     "output_type": "stream",
     "text": [
      "100%|██████████████████████████████████████████████████████████████████████████████████| 11/11 [00:00<00:00, 43.93it/s]\n"
     ]
    },
    {
     "name": "stdout",
     "output_type": "stream",
     "text": [
      "Epoch 89/100, Batch Loss: 3.06985\n"
     ]
    },
    {
     "name": "stderr",
     "output_type": "stream",
     "text": [
      "100%|██████████████████████████████████████████████████████████████████████████████████| 11/11 [00:00<00:00, 36.35it/s]\n"
     ]
    },
    {
     "name": "stdout",
     "output_type": "stream",
     "text": [
      "Epoch 90/100, Batch Loss: 3.07604\n"
     ]
    },
    {
     "name": "stderr",
     "output_type": "stream",
     "text": [
      "100%|██████████████████████████████████████████████████████████████████████████████████| 11/11 [00:00<00:00, 30.23it/s]\n"
     ]
    },
    {
     "name": "stdout",
     "output_type": "stream",
     "text": [
      "Epoch 91/100, Batch Loss: 3.09077\n"
     ]
    },
    {
     "name": "stderr",
     "output_type": "stream",
     "text": [
      "100%|██████████████████████████████████████████████████████████████████████████████████| 11/11 [00:00<00:00, 36.56it/s]\n"
     ]
    },
    {
     "name": "stdout",
     "output_type": "stream",
     "text": [
      "Epoch 92/100, Batch Loss: 3.08474\n"
     ]
    },
    {
     "name": "stderr",
     "output_type": "stream",
     "text": [
      "100%|██████████████████████████████████████████████████████████████████████████████████| 11/11 [00:00<00:00, 38.66it/s]\n"
     ]
    },
    {
     "name": "stdout",
     "output_type": "stream",
     "text": [
      "Epoch 93/100, Batch Loss: 3.05953\n"
     ]
    },
    {
     "name": "stderr",
     "output_type": "stream",
     "text": [
      "100%|██████████████████████████████████████████████████████████████████████████████████| 11/11 [00:00<00:00, 42.19it/s]\n"
     ]
    },
    {
     "name": "stdout",
     "output_type": "stream",
     "text": [
      "Epoch 94/100, Batch Loss: 3.07684\n"
     ]
    },
    {
     "name": "stderr",
     "output_type": "stream",
     "text": [
      "100%|██████████████████████████████████████████████████████████████████████████████████| 11/11 [00:00<00:00, 44.74it/s]\n"
     ]
    },
    {
     "name": "stdout",
     "output_type": "stream",
     "text": [
      "Epoch 95/100, Batch Loss: 3.06552\n"
     ]
    },
    {
     "name": "stderr",
     "output_type": "stream",
     "text": [
      "100%|██████████████████████████████████████████████████████████████████████████████████| 11/11 [00:00<00:00, 43.60it/s]\n"
     ]
    },
    {
     "name": "stdout",
     "output_type": "stream",
     "text": [
      "Epoch 96/100, Batch Loss: 3.07645\n"
     ]
    },
    {
     "name": "stderr",
     "output_type": "stream",
     "text": [
      "100%|██████████████████████████████████████████████████████████████████████████████████| 11/11 [00:00<00:00, 44.48it/s]\n"
     ]
    },
    {
     "name": "stdout",
     "output_type": "stream",
     "text": [
      "Epoch 97/100, Batch Loss: 3.12243\n"
     ]
    },
    {
     "name": "stderr",
     "output_type": "stream",
     "text": [
      "100%|██████████████████████████████████████████████████████████████████████████████████| 11/11 [00:00<00:00, 43.67it/s]\n"
     ]
    },
    {
     "name": "stdout",
     "output_type": "stream",
     "text": [
      "Epoch 98/100, Batch Loss: 3.10052\n"
     ]
    },
    {
     "name": "stderr",
     "output_type": "stream",
     "text": [
      "100%|██████████████████████████████████████████████████████████████████████████████████| 11/11 [00:00<00:00, 40.98it/s]\n"
     ]
    },
    {
     "name": "stdout",
     "output_type": "stream",
     "text": [
      "Epoch 99/100, Batch Loss: 3.09687\n"
     ]
    },
    {
     "name": "stderr",
     "output_type": "stream",
     "text": [
      "100%|██████████████████████████████████████████████████████████████████████████████████| 11/11 [00:00<00:00, 36.93it/s]"
     ]
    },
    {
     "name": "stdout",
     "output_type": "stream",
     "text": [
      "Epoch 100/100, Batch Loss: 3.0936\n"
     ]
    },
    {
     "name": "stderr",
     "output_type": "stream",
     "text": [
      "\n"
     ]
    }
   ],
   "source": [
    "for epoch in range(bc_training_epochs):\n",
    "    \n",
    "    # loop through each batch inside the dataset\n",
    "    for batch_train_data in tqdm(train_loader):\n",
    "        \n",
    "        # get batch of data\n",
    "        input_state, output_action, _, _ = functions.read_each_loader(configs=configs,\n",
    "                                                                      sample_data=tuple(batch_train_data))\n",
    "        \n",
    "        # forward pass to get mean of Gaussian distribution\n",
    "        action_pred, action_std, action_log_prob, action_entropy, action_mu_and_std, action_dist = \\\n",
    "            policy_network.estimate_action(state=input_state,\n",
    "                                           is_inference=False)\n",
    "        \n",
    "        # compute negative log-likelihood loss value for maximum likelihood estimation\n",
    "        loss_bc_traj = updater_obj.multivariate_gaussian_nll_loss(y_true=output_action,\n",
    "                                                                  y_pred=action_mu_and_std)\n",
    "        batch_loss = loss_bc_traj.mean()\n",
    "        \n",
    "        updater_obj.run_policy_optimizer(bc_loss=loss_bc_traj)\n",
    "        \n",
    "        loss_value = round(batch_loss.item(), 5)\n",
    "        loss_value_str = str(loss_value).replace(\".\", \"_\")\n",
    "        \n",
    "    print(f\"Epoch {epoch + 1}/{bc_training_epochs}, Batch Loss: {loss_value}\")"
   ]
  },
  {
   "cell_type": "code",
   "execution_count": 24,
   "id": "e10ae6dc",
   "metadata": {
    "scrolled": true
   },
   "outputs": [
    {
     "data": {
      "text/plain": [
       "tensor([[-0.8679, -0.7961, -0.4347],\n",
       "        [-0.4226,  0.7860,  0.6861],\n",
       "        [ 0.7589,  0.7822,  0.2804],\n",
       "        [ 0.3342,  0.0031, -0.8683],\n",
       "        [ 0.7567, -0.3043,  0.5662],\n",
       "        [ 0.4417,  0.9912, -0.7483],\n",
       "        [-0.3643,  0.9848,  0.6764],\n",
       "        [-0.4028, -0.4145,  0.6598],\n",
       "        [ 0.0969, -0.5801,  0.8074],\n",
       "        [-0.9846, -0.2906,  0.0044],\n",
       "        [-0.7168,  0.6970,  0.2005],\n",
       "        [ 0.3917, -0.8583,  0.2793],\n",
       "        [ 0.5351, -0.1582, -0.5679]], grad_fn=<TanhBackward0>)"
      ]
     },
     "execution_count": 24,
     "metadata": {},
     "output_type": "execute_result"
    }
   ],
   "source": [
    "action_pred"
   ]
  },
  {
   "cell_type": "code",
   "execution_count": 25,
   "id": "ecac15a8",
   "metadata": {},
   "outputs": [
    {
     "data": {
      "text/plain": [
       "tensor([[-0.8679, -0.7961, -0.4347,  1.0036,  0.9912,  0.9817],\n",
       "        [-0.4226,  0.7860,  0.6861,  1.0056,  0.9958,  0.9956],\n",
       "        [ 0.7589,  0.7822,  0.2804,  1.0060,  0.9918,  0.9551],\n",
       "        [ 0.3342,  0.0031, -0.8683,  1.0099,  0.9831,  0.9429],\n",
       "        [ 0.7567, -0.3043,  0.5662,  1.0020,  0.9911,  0.9687],\n",
       "        [ 0.4417,  0.9912, -0.7483,  0.9997,  0.9936,  0.9617],\n",
       "        [-0.3643,  0.9848,  0.6764,  1.0015,  1.0031,  1.0126],\n",
       "        [-0.4028, -0.4145,  0.6598,  1.0135,  0.9811,  0.9480],\n",
       "        [ 0.0969, -0.5801,  0.8074,  1.0057,  0.9908,  0.9563],\n",
       "        [-0.9846, -0.2906,  0.0044,  1.0092,  0.9852,  0.9456],\n",
       "        [-0.7168,  0.6970,  0.2005,  1.0064,  0.9891,  0.9501],\n",
       "        [ 0.3917, -0.8583,  0.2793,  1.0053,  0.9937,  0.9884],\n",
       "        [ 0.5351, -0.1582, -0.5679,  1.0059,  0.9964,  0.9968]],\n",
       "       grad_fn=<CatBackward0>)"
      ]
     },
     "execution_count": 25,
     "metadata": {},
     "output_type": "execute_result"
    }
   ],
   "source": [
    "action_mu_and_std"
   ]
  },
  {
   "cell_type": "markdown",
   "id": "468f695e",
   "metadata": {},
   "source": [
    "# Generate Random Initial State Trajectories with Trained BC Policy"
   ]
  },
  {
   "cell_type": "code",
   "execution_count": 26,
   "id": "740ea432",
   "metadata": {},
   "outputs": [],
   "source": [
    "for param in updater_obj.policy_network.parameters():\n",
    "    param.requires_grad = False\n",
    "updater_obj.policy_network = updater_obj.policy_network.eval()"
   ]
  },
  {
   "cell_type": "code",
   "execution_count": 27,
   "id": "e6853b74",
   "metadata": {},
   "outputs": [],
   "source": [
    "# bc_trajs = [generate_session(t_max=constants.TRAJECTORY_SIZE, updater_obj=updater_obj) for _ in range(5)]"
   ]
  },
  {
   "cell_type": "code",
   "execution_count": 28,
   "id": "28619746",
   "metadata": {},
   "outputs": [],
   "source": [
    "state_0 = generate_initial_rand_state()\n",
    "input_state_norm = torch.Tensor(state_0)\n",
    "    \n",
    "created_trajectory_df, logprob_action_sum_tensor, reward_values_tensor = \\\n",
    "    functions.trajectory_generation(configs=configs,\n",
    "                                    state_norms=training_data.state_norms,\n",
    "                                    action_norms=training_data.action_norms,\n",
    "                                    policy_network=updater_obj.policy_network,\n",
    "                                    reward_network=updater_obj.reward_network,\n",
    "                                    input_state_norm=input_state_norm)"
   ]
  },
  {
   "cell_type": "code",
   "execution_count": 29,
   "id": "36e550dc",
   "metadata": {
    "scrolled": true
   },
   "outputs": [
    {
     "data": {
      "text/html": [
       "<div>\n",
       "<style scoped>\n",
       "    .dataframe tbody tr th:only-of-type {\n",
       "        vertical-align: middle;\n",
       "    }\n",
       "\n",
       "    .dataframe tbody tr th {\n",
       "        vertical-align: top;\n",
       "    }\n",
       "\n",
       "    .dataframe thead th {\n",
       "        text-align: right;\n",
       "    }\n",
       "</style>\n",
       "<table border=\"1\" class=\"dataframe\">\n",
       "  <thead>\n",
       "    <tr style=\"text-align: right;\">\n",
       "      <th></th>\n",
       "      <th>state_number</th>\n",
       "      <th>state_est_norm_1</th>\n",
       "      <th>state_est_norm_2</th>\n",
       "      <th>state_est_norm_3</th>\n",
       "      <th>state_est_denorm_1</th>\n",
       "      <th>state_est_denorm_2</th>\n",
       "      <th>state_est_denorm_3</th>\n",
       "      <th>action_pred_norm_1</th>\n",
       "      <th>action_pred_norm_2</th>\n",
       "      <th>action_pred_norm_3</th>\n",
       "      <th>action_pred_denorm_1</th>\n",
       "      <th>action_pred_denorm_2</th>\n",
       "      <th>action_pred_denorm_3</th>\n",
       "      <th>action_pred_logprob_1</th>\n",
       "      <th>action_pred_logprob_2</th>\n",
       "      <th>action_pred_logprob_3</th>\n",
       "      <th>next_state_est_norm_1</th>\n",
       "      <th>next_state_est_norm_2</th>\n",
       "      <th>next_state_est_norm_3</th>\n",
       "      <th>next_state_est_denorm_1</th>\n",
       "      <th>next_state_est_denorm_2</th>\n",
       "      <th>next_state_est_denorm_3</th>\n",
       "    </tr>\n",
       "  </thead>\n",
       "  <tbody>\n",
       "    <tr>\n",
       "      <th>0</th>\n",
       "      <td>0</td>\n",
       "      <td>0.179816171527</td>\n",
       "      <td>0.516094446182</td>\n",
       "      <td>0.335611283779</td>\n",
       "      <td>0.539448514581</td>\n",
       "      <td>1.548283338547</td>\n",
       "      <td>1.006833851337</td>\n",
       "      <td>-0.034162975848</td>\n",
       "      <td>0.024130750448</td>\n",
       "      <td>-0.073407463729</td>\n",
       "      <td>-0.068325996399</td>\n",
       "      <td>0.048261404037</td>\n",
       "      <td>0.926592528820</td>\n",
       "      <td>-0.973102211952</td>\n",
       "      <td>-0.871624708176</td>\n",
       "      <td>-0.945504844189</td>\n",
       "      <td>0.167053551067</td>\n",
       "      <td>0.447860093724</td>\n",
       "      <td>0.365030842940</td>\n",
       "      <td>0.501160653201</td>\n",
       "      <td>1.343580281173</td>\n",
       "      <td>1.095092528820</td>\n",
       "    </tr>\n",
       "    <tr>\n",
       "      <th>1</th>\n",
       "      <td>1</td>\n",
       "      <td>0.167053550482</td>\n",
       "      <td>0.447860091925</td>\n",
       "      <td>0.365030854940</td>\n",
       "      <td>0.501160651445</td>\n",
       "      <td>1.343580275774</td>\n",
       "      <td>1.095092564821</td>\n",
       "      <td>-0.026187738404</td>\n",
       "      <td>0.030674453825</td>\n",
       "      <td>-0.074206098914</td>\n",
       "      <td>-0.052375435829</td>\n",
       "      <td>0.061348915100</td>\n",
       "      <td>0.925793886185</td>\n",
       "      <td>-0.958585500717</td>\n",
       "      <td>-0.882730364799</td>\n",
       "      <td>-0.948771893978</td>\n",
       "      <td>0.170892175493</td>\n",
       "      <td>0.446504739548</td>\n",
       "      <td>0.364764628728</td>\n",
       "      <td>0.512676526480</td>\n",
       "      <td>1.339514218645</td>\n",
       "      <td>1.094293886185</td>\n",
       "    </tr>\n",
       "    <tr>\n",
       "      <th>2</th>\n",
       "      <td>2</td>\n",
       "      <td>0.170892179012</td>\n",
       "      <td>0.446504741907</td>\n",
       "      <td>0.364764630795</td>\n",
       "      <td>0.512676537037</td>\n",
       "      <td>1.339514225721</td>\n",
       "      <td>1.094293892384</td>\n",
       "      <td>-0.026078887284</td>\n",
       "      <td>0.031496267766</td>\n",
       "      <td>-0.074214428663</td>\n",
       "      <td>-0.052157759666</td>\n",
       "      <td>0.062992572784</td>\n",
       "      <td>0.925785541534</td>\n",
       "      <td>-0.958188056946</td>\n",
       "      <td>-0.882431626320</td>\n",
       "      <td>-0.949751675129</td>\n",
       "      <td>0.171005775497</td>\n",
       "      <td>0.446229536535</td>\n",
       "      <td>0.364761847178</td>\n",
       "      <td>0.513017326491</td>\n",
       "      <td>1.338688609604</td>\n",
       "      <td>1.094285541534</td>\n",
       "    </tr>\n",
       "    <tr>\n",
       "      <th>3</th>\n",
       "      <td>3</td>\n",
       "      <td>0.171005770564</td>\n",
       "      <td>0.446229547262</td>\n",
       "      <td>0.364761859179</td>\n",
       "      <td>0.513017311692</td>\n",
       "      <td>1.338688641787</td>\n",
       "      <td>1.094285577536</td>\n",
       "      <td>-0.026055125520</td>\n",
       "      <td>0.031556405127</td>\n",
       "      <td>-0.074198842049</td>\n",
       "      <td>-0.052110195160</td>\n",
       "      <td>0.063112735748</td>\n",
       "      <td>0.925801157951</td>\n",
       "      <td>-0.958147644997</td>\n",
       "      <td>-0.882435560226</td>\n",
       "      <td>-0.949782788754</td>\n",
       "      <td>0.171025220616</td>\n",
       "      <td>0.446216285447</td>\n",
       "      <td>0.364767052650</td>\n",
       "      <td>0.513075661847</td>\n",
       "      <td>1.338648856340</td>\n",
       "      <td>1.094301157951</td>\n",
       "    </tr>\n",
       "    <tr>\n",
       "      <th>4</th>\n",
       "      <td>4</td>\n",
       "      <td>0.171025216579</td>\n",
       "      <td>0.446216285229</td>\n",
       "      <td>0.364767044783</td>\n",
       "      <td>0.513075649738</td>\n",
       "      <td>1.338648855686</td>\n",
       "      <td>1.094301134348</td>\n",
       "      <td>-0.026053803042</td>\n",
       "      <td>0.031562741846</td>\n",
       "      <td>-0.074199154973</td>\n",
       "      <td>-0.052107572556</td>\n",
       "      <td>0.063125371933</td>\n",
       "      <td>0.925800859928</td>\n",
       "      <td>-0.958144724369</td>\n",
       "      <td>-0.882434487343</td>\n",
       "      <td>-0.949787735939</td>\n",
       "      <td>0.171026259549</td>\n",
       "      <td>0.446214181099</td>\n",
       "      <td>0.364766953309</td>\n",
       "      <td>0.513078778647</td>\n",
       "      <td>1.338642543296</td>\n",
       "      <td>1.094300859928</td>\n",
       "    </tr>\n",
       "    <tr>\n",
       "      <th>5</th>\n",
       "      <td>5</td>\n",
       "      <td>0.171026259661</td>\n",
       "      <td>0.446214169264</td>\n",
       "      <td>0.364766955376</td>\n",
       "      <td>0.513078778982</td>\n",
       "      <td>1.338642507792</td>\n",
       "      <td>1.094300866127</td>\n",
       "      <td>-0.026053629816</td>\n",
       "      <td>0.031563233584</td>\n",
       "      <td>-0.074199005961</td>\n",
       "      <td>-0.052107214928</td>\n",
       "      <td>0.063126564026</td>\n",
       "      <td>0.925800979137</td>\n",
       "      <td>-0.958144545555</td>\n",
       "      <td>-0.882434487343</td>\n",
       "      <td>-0.949787974358</td>\n",
       "      <td>0.171026418063</td>\n",
       "      <td>0.446214031171</td>\n",
       "      <td>0.364766993046</td>\n",
       "      <td>0.513079254189</td>\n",
       "      <td>1.338642093514</td>\n",
       "      <td>1.094300979137</td>\n",
       "    </tr>\n",
       "    <tr>\n",
       "      <th>6</th>\n",
       "      <td>6</td>\n",
       "      <td>0.171026423573</td>\n",
       "      <td>0.446214020252</td>\n",
       "      <td>0.364766985178</td>\n",
       "      <td>0.513079270720</td>\n",
       "      <td>1.338642060757</td>\n",
       "      <td>1.094300955534</td>\n",
       "      <td>-0.026053598151</td>\n",
       "      <td>0.031563278288</td>\n",
       "      <td>-0.074198998511</td>\n",
       "      <td>-0.052107214928</td>\n",
       "      <td>0.063126564026</td>\n",
       "      <td>0.925800979137</td>\n",
       "      <td>-0.958144426346</td>\n",
       "      <td>-0.882434546947</td>\n",
       "      <td>-0.949788093567</td>\n",
       "      <td>0.171026418063</td>\n",
       "      <td>0.446214031171</td>\n",
       "      <td>0.364766993046</td>\n",
       "      <td>0.513079254189</td>\n",
       "      <td>1.338642093514</td>\n",
       "      <td>1.094300979137</td>\n",
       "    </tr>\n",
       "    <tr>\n",
       "      <th>7</th>\n",
       "      <td>NaN</td>\n",
       "      <td>NaN</td>\n",
       "      <td>NaN</td>\n",
       "      <td>NaN</td>\n",
       "      <td>NaN</td>\n",
       "      <td>NaN</td>\n",
       "      <td>NaN</td>\n",
       "      <td>NaN</td>\n",
       "      <td>NaN</td>\n",
       "      <td>NaN</td>\n",
       "      <td>NaN</td>\n",
       "      <td>NaN</td>\n",
       "      <td>NaN</td>\n",
       "      <td>NaN</td>\n",
       "      <td>NaN</td>\n",
       "      <td>NaN</td>\n",
       "      <td>NaN</td>\n",
       "      <td>NaN</td>\n",
       "      <td>NaN</td>\n",
       "      <td>NaN</td>\n",
       "      <td>NaN</td>\n",
       "      <td>NaN</td>\n",
       "    </tr>\n",
       "  </tbody>\n",
       "</table>\n",
       "</div>"
      ],
      "text/plain": [
       "  state_number state_est_norm_1 state_est_norm_2 state_est_norm_3  \\\n",
       "0            0   0.179816171527   0.516094446182   0.335611283779   \n",
       "1            1   0.167053550482   0.447860091925   0.365030854940   \n",
       "2            2   0.170892179012   0.446504741907   0.364764630795   \n",
       "3            3   0.171005770564   0.446229547262   0.364761859179   \n",
       "4            4   0.171025216579   0.446216285229   0.364767044783   \n",
       "5            5   0.171026259661   0.446214169264   0.364766955376   \n",
       "6            6   0.171026423573   0.446214020252   0.364766985178   \n",
       "7          NaN              NaN              NaN              NaN   \n",
       "\n",
       "  state_est_denorm_1 state_est_denorm_2 state_est_denorm_3 action_pred_norm_1  \\\n",
       "0     0.539448514581     1.548283338547     1.006833851337    -0.034162975848   \n",
       "1     0.501160651445     1.343580275774     1.095092564821    -0.026187738404   \n",
       "2     0.512676537037     1.339514225721     1.094293892384    -0.026078887284   \n",
       "3     0.513017311692     1.338688641787     1.094285577536    -0.026055125520   \n",
       "4     0.513075649738     1.338648855686     1.094301134348    -0.026053803042   \n",
       "5     0.513078778982     1.338642507792     1.094300866127    -0.026053629816   \n",
       "6     0.513079270720     1.338642060757     1.094300955534    -0.026053598151   \n",
       "7                NaN                NaN                NaN                NaN   \n",
       "\n",
       "  action_pred_norm_2 action_pred_norm_3 action_pred_denorm_1  \\\n",
       "0     0.024130750448    -0.073407463729      -0.068325996399   \n",
       "1     0.030674453825    -0.074206098914      -0.052375435829   \n",
       "2     0.031496267766    -0.074214428663      -0.052157759666   \n",
       "3     0.031556405127    -0.074198842049      -0.052110195160   \n",
       "4     0.031562741846    -0.074199154973      -0.052107572556   \n",
       "5     0.031563233584    -0.074199005961      -0.052107214928   \n",
       "6     0.031563278288    -0.074198998511      -0.052107214928   \n",
       "7                NaN                NaN                  NaN   \n",
       "\n",
       "  action_pred_denorm_2 action_pred_denorm_3 action_pred_logprob_1  \\\n",
       "0       0.048261404037       0.926592528820       -0.973102211952   \n",
       "1       0.061348915100       0.925793886185       -0.958585500717   \n",
       "2       0.062992572784       0.925785541534       -0.958188056946   \n",
       "3       0.063112735748       0.925801157951       -0.958147644997   \n",
       "4       0.063125371933       0.925800859928       -0.958144724369   \n",
       "5       0.063126564026       0.925800979137       -0.958144545555   \n",
       "6       0.063126564026       0.925800979137       -0.958144426346   \n",
       "7                  NaN                  NaN                   NaN   \n",
       "\n",
       "  action_pred_logprob_2 action_pred_logprob_3 next_state_est_norm_1  \\\n",
       "0       -0.871624708176       -0.945504844189        0.167053551067   \n",
       "1       -0.882730364799       -0.948771893978        0.170892175493   \n",
       "2       -0.882431626320       -0.949751675129        0.171005775497   \n",
       "3       -0.882435560226       -0.949782788754        0.171025220616   \n",
       "4       -0.882434487343       -0.949787735939        0.171026259549   \n",
       "5       -0.882434487343       -0.949787974358        0.171026418063   \n",
       "6       -0.882434546947       -0.949788093567        0.171026418063   \n",
       "7                   NaN                   NaN                   NaN   \n",
       "\n",
       "  next_state_est_norm_2 next_state_est_norm_3 next_state_est_denorm_1  \\\n",
       "0        0.447860093724        0.365030842940          0.501160653201   \n",
       "1        0.446504739548        0.364764628728          0.512676526480   \n",
       "2        0.446229536535        0.364761847178          0.513017326491   \n",
       "3        0.446216285447        0.364767052650          0.513075661847   \n",
       "4        0.446214181099        0.364766953309          0.513078778647   \n",
       "5        0.446214031171        0.364766993046          0.513079254189   \n",
       "6        0.446214031171        0.364766993046          0.513079254189   \n",
       "7                   NaN                   NaN                     NaN   \n",
       "\n",
       "  next_state_est_denorm_2 next_state_est_denorm_3  \n",
       "0          1.343580281173          1.095092528820  \n",
       "1          1.339514218645          1.094293886185  \n",
       "2          1.338688609604          1.094285541534  \n",
       "3          1.338648856340          1.094301157951  \n",
       "4          1.338642543296          1.094300859928  \n",
       "5          1.338642093514          1.094300979137  \n",
       "6          1.338642093514          1.094300979137  \n",
       "7                     NaN                     NaN  "
      ]
     },
     "execution_count": 29,
     "metadata": {},
     "output_type": "execute_result"
    }
   ],
   "source": [
    "created_trajectory_df"
   ]
  },
  {
   "cell_type": "code",
   "execution_count": 30,
   "id": "c6c2b80d",
   "metadata": {
    "scrolled": true
   },
   "outputs": [
    {
     "data": {
      "text/plain": [
       "tensor([[0.4144],\n",
       "        [0.6552],\n",
       "        [0.6436],\n",
       "        [0.6441],\n",
       "        [0.6440],\n",
       "        [0.6440],\n",
       "        [0.6440],\n",
       "        [   nan]])"
      ]
     },
     "execution_count": 30,
     "metadata": {},
     "output_type": "execute_result"
    }
   ],
   "source": [
    "reward_values_tensor"
   ]
  },
  {
   "cell_type": "markdown",
   "id": "0fef8533",
   "metadata": {},
   "source": [
    "# Evalutions"
   ]
  },
  {
   "cell_type": "code",
   "execution_count": 31,
   "id": "1a909242",
   "metadata": {},
   "outputs": [],
   "source": [
    "# test_bc_trajectories = []\n",
    "\n",
    "# # loop through each separate trajectory inside the testing dataset\n",
    "# for traj_start_index in range(len(trajectory_indices)):\n",
    "    \n",
    "#     traj_df, reward_values_demo_data, reward_values_estim_data, logprob_action_estim_avg = \\\n",
    "#         functions.get_estimated_rewards(configs=configs,\n",
    "#                                         updater_obj=updater_obj,\n",
    "#                                         data_loader=training_data,\n",
    "#                                         policy_network=updater_obj.policy_network,\n",
    "#                                         reward_network=updater_obj.reward_network,\n",
    "#                                         trajectory_indices=trajectory_indices,\n",
    "#                                         traj_start_index=traj_start_index,\n",
    "#                                         is_inference_reward=True,\n",
    "#                                         is_inference_policy=True)\n",
    "    \n",
    "#     # store outputs in the dataframe of trajectory information\n",
    "#     traj_df[constants.ACTION_PREDICTION_AVG_LOGPROB_NAME] = logprob_action_estim_avg.numpy().flatten()\n",
    "#     traj_df[constants.REWARD_DEMONSTRATION_TRAJECTORY_NAME] = reward_values_demo_data.numpy().flatten()\n",
    "#     traj_df[constants.REWARD_ROBOT_TRAJECTORY_NAME] = reward_values_estim_data.numpy().flatten()\n",
    "    \n",
    "#     test_bc_trajectories.append(traj_df)\n",
    "    \n",
    "#     del traj_df"
   ]
  },
  {
   "cell_type": "code",
   "execution_count": 32,
   "id": "36e768e6",
   "metadata": {
    "scrolled": true
   },
   "outputs": [],
   "source": [
    "# test_bc_trajectories[-1]"
   ]
  },
  {
   "cell_type": "code",
   "execution_count": null,
   "id": "7e9f5f8c",
   "metadata": {},
   "outputs": [],
   "source": []
  },
  {
   "cell_type": "code",
   "execution_count": null,
   "id": "82209998",
   "metadata": {},
   "outputs": [],
   "source": []
  },
  {
   "cell_type": "code",
   "execution_count": null,
   "id": "e7e514a3",
   "metadata": {},
   "outputs": [],
   "source": []
  },
  {
   "cell_type": "code",
   "execution_count": 33,
   "id": "27bafe47",
   "metadata": {},
   "outputs": [],
   "source": [
    "maxi = 0.2\n",
    "\n",
    "for traj in demo_traj_list:\n",
    "    first = traj[\"state_label_norm_3\"].iloc[0]\n",
    "    \n",
    "    if first > maxi:\n",
    "        maxi = first"
   ]
  },
  {
   "cell_type": "code",
   "execution_count": 34,
   "id": "77d6b642",
   "metadata": {},
   "outputs": [
    {
     "data": {
      "text/plain": [
       "0.381481"
      ]
     },
     "execution_count": 34,
     "metadata": {},
     "output_type": "execute_result"
    }
   ],
   "source": [
    "maxi"
   ]
  },
  {
   "cell_type": "code",
   "execution_count": 35,
   "id": "5d96c06f",
   "metadata": {},
   "outputs": [
    {
     "data": {
      "text/plain": [
       "0   0.239584520459\n",
       "1   0.206956237555\n",
       "2   0.146144434810\n",
       "3   0.160029739141\n",
       "4   0.211847484112\n",
       "5   0.279522150755\n",
       "6   0.275211930275\n",
       "Name: state_label_norm_1, dtype: float32"
      ]
     },
     "execution_count": 35,
     "metadata": {},
     "output_type": "execute_result"
    }
   ],
   "source": [
    "traj[\"state_label_norm_1\"]"
   ]
  },
  {
   "cell_type": "code",
   "execution_count": null,
   "id": "dd69e075",
   "metadata": {},
   "outputs": [],
   "source": []
  }
 ],
 "metadata": {
  "kernelspec": {
   "display_name": "Python 3 (ipykernel)",
   "language": "python",
   "name": "python3"
  },
  "language_info": {
   "codemirror_mode": {
    "name": "ipython",
    "version": 3
   },
   "file_extension": ".py",
   "mimetype": "text/x-python",
   "name": "python",
   "nbconvert_exporter": "python",
   "pygments_lexer": "ipython3",
   "version": "3.10.9"
  }
 },
 "nbformat": 4,
 "nbformat_minor": 5
}
