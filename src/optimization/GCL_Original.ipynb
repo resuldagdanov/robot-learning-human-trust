{
 "cells": [
  {
   "cell_type": "markdown",
   "id": "58015ebe",
   "metadata": {},
   "source": [
    "# Libraries"
   ]
  },
  {
   "cell_type": "code",
   "execution_count": 1,
   "id": "492a83e3",
   "metadata": {},
   "outputs": [],
   "source": [
    "import os\n",
    "import sys\n",
    "\n",
    "import numpy as np\n",
    "import pandas as pd\n",
    "\n",
    "from tqdm import tqdm\n",
    "\n",
    "import torch\n",
    "import random\n",
    "\n",
    "import matplotlib.pyplot as plt\n",
    "\n",
    "# get the current script's directory\n",
    "current_directory = os.path.dirname(os.path.abspath(__file__)) if \"__file__\" in locals() else os.getcwd()\n",
    "# get the parent directory\n",
    "parent_directory = os.path.dirname(current_directory)\n",
    "# add the parent directory to the sys.path\n",
    "sys.path.append(parent_directory)\n",
    "\n",
    "from optimization import functions\n",
    "from optimization.updater import Updater\n",
    "\n",
    "from utils import constants, common\n",
    "from utils.config import Config\n",
    "from utils.dataset_loader import PolicyDatasetLoader\n",
    "\n",
    "from models.policy_model import RobotPolicy\n",
    "from models.reward_model import RewardFunction\n",
    "\n",
    "from environment.environment import RobotEnvironment\n",
    "from environment.buffer import ReplayBuffer"
   ]
  },
  {
   "cell_type": "markdown",
   "id": "0ae0d6ec",
   "metadata": {},
   "source": [
    "# Constants"
   ]
  },
  {
   "cell_type": "code",
   "execution_count": 2,
   "id": "569ae839",
   "metadata": {},
   "outputs": [],
   "source": [
    "D_demo, D_samp = torch.tensor([]), torch.tensor([])\n",
    "mean_loss_reward, mean_loss_policy = [], []\n",
    "\n",
    "EPISODES_TO_PLAY = 3 # 3\n",
    "REWARD_FUNCTION_UPDATE = 1\n",
    "POLICY_FUNCTION_UPDATE = 2\n",
    "DEMO_BATCH = 128 # 16\n",
    "NUM_EPOCHS = 1000"
   ]
  },
  {
   "cell_type": "code",
   "execution_count": 3,
   "id": "e2fdb968",
   "metadata": {},
   "outputs": [],
   "source": [
    "pd.set_option(\"display.max_columns\", None)\n",
    "\n",
    "current_path = os.getcwd()\n",
    "parent_path = os.path.dirname(current_path)\n",
    "grand_parent_path = os.path.dirname(parent_path)\n",
    "\n",
    "results_path = os.path.join(grand_parent_path, \"results\")"
   ]
  },
  {
   "cell_type": "code",
   "execution_count": 4,
   "id": "f08f7e92",
   "metadata": {},
   "outputs": [
    {
     "name": "stdout",
     "output_type": "stream",
     "text": [
      "Current Time:  Feb_19_2024-15_49_58\n",
      "Training Device:  cpu\n",
      "Current Time:  Feb_19_2024-15_49_58\n"
     ]
    }
   ],
   "source": [
    "configs = Config()\n",
    "# call the parameters method to set the parameters\n",
    "configs.parameters()\n",
    "\n",
    "device = torch.device(\"cuda\" if torch.cuda.is_available() else \"cpu\")\n",
    "print(\"Training Device: \", device)\n",
    "configs.device = device\n",
    "\n",
    "configs = functions.setup_config(device=device)\n",
    "\n",
    "# random.seed(configs.seed)\n",
    "# np.random.seed(configs.seed)\n",
    "# torch.manual_seed(configs.seed)"
   ]
  },
  {
   "cell_type": "code",
   "execution_count": 5,
   "id": "3d18a789",
   "metadata": {},
   "outputs": [],
   "source": [
    "policy_saving_path, reward_saving_path = functions.create_directories(configs=configs,\n",
    "                                                                      results_path=results_path,\n",
    "                                                                      saving_policy=True,\n",
    "                                                                      saving_reward=True)\n",
    "\n",
    "json_paths_train, results_path = functions.get_directories(parent_directory=parent_directory,\n",
    "                                                           data_folder_name=constants.DEMO_COLLECTION_DATE) # DEMO_COLLECTION_DATE, TEST_COLLECTION_DATE"
   ]
  },
  {
   "cell_type": "code",
   "execution_count": 6,
   "id": "27077ecf",
   "metadata": {},
   "outputs": [
    {
     "name": "stdout",
     "output_type": "stream",
     "text": [
      "\n",
      "================== Policy Dataset Loader ==================\n",
      "\n",
      "Number of Trajectories:  43\n",
      "Each Trajectory Length:  20\n",
      "Full Demo Dataset Size:  879\n"
     ]
    }
   ],
   "source": [
    "training_data = PolicyDatasetLoader(demo_data_json_paths=json_paths_train)\n",
    "\n",
    "train_loader = torch.utils.data.DataLoader(training_data,\n",
    "                                           batch_size=configs.batch_size_policy,\n",
    "                                           shuffle=configs.data_shuffle,\n",
    "                                           num_workers=configs.num_workers)\n",
    "\n",
    "trajectory_indices = functions.find_indices_of_trajectory_changes(dataset=training_data)\n",
    "\n",
    "policy_network = RobotPolicy(state_size=configs.state_size,\n",
    "                             hidden_size=configs.hidden_size,\n",
    "                             out_size=configs.action_size,\n",
    "                             log_std_min=configs.policy_log_std_min,\n",
    "                             log_std_max=configs.policy_log_std_max,\n",
    "                             device=configs.device)\n",
    "reward_network = RewardFunction(state_size=configs.state_size,\n",
    "                                hidden_size=configs.hidden_size,\n",
    "                                out_size=configs.reward_size,\n",
    "                                device=configs.device)\n",
    "\n",
    "updater_obj = Updater(configs=configs,\n",
    "                      policy_network=policy_network,\n",
    "                      reward_network=reward_network)\n",
    "reward_optimizer = updater_obj.initialize_optimizers()\n",
    "\n",
    "env = RobotEnvironment()\n",
    "env.set_reward_network(reward_network)\n",
    "env.is_reward_inference = False\n",
    "\n",
    "capacity = 10000\n",
    "replay_buffer = ReplayBuffer(capacity=capacity)"
   ]
  },
  {
   "cell_type": "markdown",
   "id": "26647e04",
   "metadata": {},
   "source": [
    "# Functions"
   ]
  },
  {
   "cell_type": "code",
   "execution_count": 7,
   "id": "8ebd5130",
   "metadata": {},
   "outputs": [],
   "source": [
    "def calculate_discounted_return(rewards, gamma=0.99):\n",
    "    # rewards: PyTorch tensor of shape [trajectory_length, 1]\n",
    "    # gamma: Discount factor\n",
    "    \n",
    "    T = rewards.size(0)\n",
    "    discounted_returns = torch.zeros(T, 1)\n",
    "    \n",
    "    for t in range(T):\n",
    "        discounted_sum = 0\n",
    "        for t_prime in range(t, T):\n",
    "            discounted_sum += (gamma ** (t_prime - t)) * rewards[t_prime]\n",
    "        discounted_returns[t] = discounted_sum\n",
    "    \n",
    "    return discounted_returns"
   ]
  },
  {
   "cell_type": "code",
   "execution_count": 8,
   "id": "f8d10cf1",
   "metadata": {},
   "outputs": [],
   "source": [
    "def get_cumulative_rewards(rewards, gamma=0.99):\n",
    "    G = torch.zeros_like(rewards, dtype=torch.float64)\n",
    "\n",
    "    G[-1] = rewards[-1].clone()\n",
    "\n",
    "    for idx in range(len(rewards) - 2, -1, -1):\n",
    "        G[idx] = rewards[idx] + gamma * G[idx + 1]\n",
    "\n",
    "    return G"
   ]
  },
  {
   "cell_type": "code",
   "execution_count": 9,
   "id": "c01e5df9",
   "metadata": {},
   "outputs": [],
   "source": [
    "def generate_session(t_max,\n",
    "                     updater_obj,\n",
    "                     replay_buffer,\n",
    "                     is_policy_inference,\n",
    "                     is_policy_update,\n",
    "                     is_deterministic):\n",
    "    pol_loss = None\n",
    "    \n",
    "    states, traj_log_probs, actions, rewards, entropy_values = [], [], [], [], []\n",
    "    \n",
    "    state = env.reset()\n",
    "    \n",
    "    for t in range(t_max):\n",
    "        action, action_std, action_log_prob, entropy_value = policy_network.estimate_action(state=state,\n",
    "                                                                                            is_policy_inference=is_policy_inference,\n",
    "                                                                                            is_deterministic=is_deterministic)\n",
    "        \n",
    "        next_state, reward, done = env.step(state=state,\n",
    "                                            action=action)\n",
    "        \n",
    "        states.append(state.clone())\n",
    "        actions.append(action.clone())\n",
    "        traj_log_probs.append(action_log_prob.clone())\n",
    "        rewards.append(reward.clone())\n",
    "        entropy_values.append(entropy_value.clone())\n",
    "        \n",
    "        replay_buffer.push(state,\n",
    "                           action,\n",
    "                           reward,\n",
    "                           next_state,\n",
    "                           done,\n",
    "                           action_log_prob)\n",
    "        \n",
    "        state = next_state.detach()\n",
    "        \n",
    "        if done:\n",
    "            \n",
    "            if is_policy_update:\n",
    "                \n",
    "                entropy = torch.stack(entropy_values, dim=0).float().clone()\n",
    "                cumulative_log_probs = torch.cumsum(torch.stack(traj_log_probs, dim=0).float().clone(), dim=0)\n",
    "                \n",
    "                # print(\"torch.stack(rewards, dim=0).float().clone() : \", torch.stack(rewards, dim=0).float().clone(), torch.stack(rewards, dim=0).float().clone().shape)\n",
    "                \n",
    "#                 cumulative_returns = get_cumulative_rewards(torch.stack(rewards, dim=0).float().clone(), 0.99)\n",
    "                cumulative_returns = calculate_discounted_return(torch.stack(rewards, dim=0).float().clone(), 0.5)\n",
    "                \n",
    "#                 loss_policy = updater_obj.calculate_policy_gradient_loss(cumulative_log_probs=torch.stack(traj_log_probs, dim=0).float().clone().unsqueeze(1),\n",
    "#                                                                          advantages=torch.stack(rewards, dim=0).float().clone(),\n",
    "#                                                                          entropy=entropy)\n",
    "                loss_policy = updater_obj.calculate_policy_gradient_loss(cumulative_log_probs=cumulative_log_probs.unsqueeze(1),\n",
    "                                                                         advantages=cumulative_returns,\n",
    "                                                                         entropy=entropy)\n",
    "                updater_obj.run_policy_optimizer(policy_loss=loss_policy)\n",
    "                pol_loss = loss_policy.detach().item()\n",
    "                \n",
    "                weighted_log_probs = cumulative_log_probs.unsqueeze(1) * cumulative_returns\n",
    "                pl = - torch.mean(weighted_log_probs, dim=0)\n",
    "                \n",
    "#                 entr = torch.mean(torch.exp(cumulative_log_probs.unsqueeze(1)) * cumulative_log_probs.unsqueeze(1), dim=0)\n",
    "                \n",
    "                # TODO: kl divergence loss addition between human demonstration gaussian actions and predicted action distribution\n",
    "                \n",
    "#                 print(\"cumulative_log_probs : \", cumulative_log_probs)\n",
    "#                 print(\"cumulative_log_probs.unsqueeze(1) : \", cumulative_log_probs.unsqueeze(1))\n",
    "#                 print(\"cumulative_returns : \", cumulative_returns)\n",
    "#                 print(\"weighted_log_probs : \", weighted_log_probs)\n",
    "# #                 print(\"entr : \", entr)\n",
    "#                 print(\"entropy : \", entropy)\n",
    "#                 print(\"pl : \", pl)\n",
    "#                 print(\"pol_loss : \", pol_loss)\n",
    "                \n",
    "            break\n",
    "    \n",
    "    return states, actions, traj_log_probs, rewards, pol_loss"
   ]
  },
  {
   "cell_type": "code",
   "execution_count": 10,
   "id": "6af443a5",
   "metadata": {},
   "outputs": [],
   "source": [
    "def preprocess_traj(traj_list_,\n",
    "                    step_tensor,\n",
    "                    is_Demo=False):\n",
    "    \n",
    "    for traj_df in traj_list_:\n",
    "        \n",
    "        if is_Demo:\n",
    "            states = torch.tensor(traj_df[[\"state_label_norm_1\", \"state_label_norm_2\", \"state_label_norm_3\"]].values)\n",
    "            actions = torch.tensor(traj_df[[\"action_label_norm_1\", \"action_label_norm_2\", \"action_label_norm_3\"]].values)\n",
    "            log_probs = torch.tensor(np.zeros((actions.shape[0], 1)))\n",
    "        \n",
    "        else:\n",
    "            states = torch.stack(traj_df[0])\n",
    "            actions = torch.stack(traj_df[1])\n",
    "            log_probs = torch.stack(traj_df[3])\n",
    "        \n",
    "        mdp = torch.cat((states, log_probs, actions), dim=1)\n",
    "        step_tensor = torch.cat((step_tensor.clone(), mdp.clone()), dim=0)\n",
    "    \n",
    "    return step_tensor"
   ]
  },
  {
   "cell_type": "code",
   "execution_count": 11,
   "id": "bb636c2d",
   "metadata": {},
   "outputs": [],
   "source": [
    "# def compute_annealing_factor(epoch):\n",
    "    \n",
    "#     initial_std_weight = 1.0\n",
    "#     final_std_weight = 0.1\n",
    "#     max_epoch = 300.0\n",
    "    \n",
    "#     fraction = min(1.0, epoch / max_epoch)\n",
    "    \n",
    "#     annealing_factor = initial_std_weight + fraction * (final_std_weight - initial_std_weight)\n",
    "    \n",
    "#     print(\"fraction : \", fraction)\n",
    "#     print(\"annealing_factor : \", annealing_factor)\n",
    "    \n",
    "#     return annealing_factor"
   ]
  },
  {
   "cell_type": "code",
   "execution_count": 12,
   "id": "b5c96a75",
   "metadata": {},
   "outputs": [],
   "source": [
    "# Early Exploration: In the early stages of training, when the agent's knowledge is limited,\n",
    "#     you want to encourage more exploration. By assigning a lower weight to the standard deviation term,\n",
    "#     you are placing less emphasis on minimizing the standard deviation,\n",
    "#     allowing the agent to explore the state space more thoroughly.\n",
    "\n",
    "# Gradual Exploitation: As the agent gains more experience and learns a better policy,\n",
    "#     you gradually increase the weight on the standard deviation term.\n",
    "#     This encourages the agent to reduce its exploration and focus more on exploiting the learned policy.\n",
    "#     Increasing the weight on the standard deviation term can help stabilize the policy as\n",
    "#     the agent converges towards a more deterministic behavior.\n",
    "\n",
    "def compute_annealing_factor(epoch):\n",
    "    \n",
    "    max_epochs = NUM_EPOCHS\n",
    "    initial_std_weight = 0.05\n",
    "    final_std_weight = 1.0\n",
    "    \n",
    "    fraction = min(1.0, epoch / max_epochs)\n",
    "    \n",
    "    annealing_factor = initial_std_weight + fraction * (final_std_weight - initial_std_weight)\n",
    "    \n",
    "#     print(\"fraction : \", fraction)\n",
    "#     print(\"annealing_factor : \", annealing_factor)\n",
    "    \n",
    "    return annealing_factor"
   ]
  },
  {
   "cell_type": "markdown",
   "id": "3adf8af8",
   "metadata": {},
   "source": [
    "# Tests"
   ]
  },
  {
   "cell_type": "code",
   "execution_count": 13,
   "id": "722826cb",
   "metadata": {},
   "outputs": [],
   "source": [
    "demo_traj_list = []\n",
    "\n",
    "for traj_start_index in range(len(trajectory_indices)):\n",
    "    \n",
    "    traj_df, reward_values_demo_data, reward_values_estim_data, logprob_action_estim_avg = \\\n",
    "        functions.get_estimated_rewards(configs=configs,\n",
    "                                        updater_obj=updater_obj,\n",
    "                                        data_loader=training_data,\n",
    "                                        policy_network=updater_obj.policy_network,\n",
    "                                        reward_network=updater_obj.reward_network,\n",
    "                                        trajectory_indices=trajectory_indices,\n",
    "                                        traj_start_index=traj_start_index,\n",
    "                                        is_inference_reward=True,\n",
    "                                        is_inference_policy=True,\n",
    "                                        is_deterministic=True)\n",
    "    demo_traj_list.append(traj_df)\n",
    "    del traj_df"
   ]
  },
  {
   "cell_type": "code",
   "execution_count": 14,
   "id": "d5e1b7b0",
   "metadata": {},
   "outputs": [],
   "source": [
    "D_demo = preprocess_traj(traj_list_=demo_traj_list,\n",
    "                         step_tensor=D_demo,\n",
    "                         is_Demo=True)"
   ]
  },
  {
   "cell_type": "markdown",
   "id": "e31c64ac",
   "metadata": {},
   "source": [
    "# Test BC"
   ]
  },
  {
   "cell_type": "code",
   "execution_count": 15,
   "id": "d67c4bee",
   "metadata": {},
   "outputs": [],
   "source": [
    "# bc_training_epochs = 50\n",
    "\n",
    "# for epoch in range(bc_training_epochs):\n",
    "    \n",
    "#     # loop through each batch inside the dataset\n",
    "#     for batch_train_data in tqdm(train_loader):\n",
    "        \n",
    "#         # get batch of data\n",
    "#         input_state, output_action, _, _ = functions.read_each_loader(configs=configs,\n",
    "#                                                                       sample_data=tuple(batch_train_data))\n",
    "        \n",
    "#         # forward pass to get mean of Gaussian distribution\n",
    "#         action, action_std, action_log_prob, action_entropy = policy_network.estimate_action(state=input_state,\n",
    "#                                                                                              is_policy_inference=False)\n",
    "        \n",
    "#         # compute negative log-likelihood loss value for maximum likelihood estimation\n",
    "#         loss_bc_traj = updater_obj.multivariate_gaussian_nll_loss(y_true=output_action,\n",
    "#                                                                   mu=action,\n",
    "#                                                                   log_sigma=action_std)\n",
    "# #         print(\"output_action : \", output_action)\n",
    "# #         print(\"action : \", action)\n",
    "#         print(\"loss_bc_traj : \", loss_bc_traj)\n",
    "#         batch_loss = loss_bc_traj.mean()\n",
    "        \n",
    "#         updater_obj.run_policy_optimizer(policy_loss=loss_bc_traj)\n",
    "        \n",
    "#         loss_value = round(batch_loss.item(), 5)\n",
    "#         loss_value_str = str(loss_value).replace(\".\", \"_\")\n",
    "        \n",
    "#     print(f\"Epoch {epoch + 1}/{bc_training_epochs}, Batch Loss: {loss_value}\")"
   ]
  },
  {
   "cell_type": "markdown",
   "id": "56fc3ddf",
   "metadata": {},
   "source": [
    "# Test PG"
   ]
  },
  {
   "cell_type": "code",
   "execution_count": 16,
   "id": "f1e421ec",
   "metadata": {
    "scrolled": true
   },
   "outputs": [],
   "source": [
    "# for i in range(500):\n",
    "#     print(\"Epoch : \", i)\n",
    "#     for _ in range(EPISODES_TO_PLAY):\n",
    "#         samp_trajs = generate_session(t_max=constants.TRAJECTORY_SIZE,\n",
    "#                                       updater_obj=updater_obj,\n",
    "#                                       replay_buffer=replay_buffer,\n",
    "#                                       is_policy_inference=False,\n",
    "#                                       is_policy_update=True)"
   ]
  },
  {
   "cell_type": "code",
   "execution_count": 17,
   "id": "3ce71c76",
   "metadata": {
    "scrolled": true
   },
   "outputs": [],
   "source": [
    "# samp_trajs"
   ]
  },
  {
   "cell_type": "markdown",
   "id": "2b34d170",
   "metadata": {},
   "source": [
    "# Reward Optimization"
   ]
  },
  {
   "cell_type": "code",
   "execution_count": 18,
   "id": "d2b386dd",
   "metadata": {
    "scrolled": true
   },
   "outputs": [
    {
     "name": "stderr",
     "output_type": "stream",
     "text": [
      "100%|██████████████████████████████████████████████████████████████████████████████████| 28/28 [00:01<00:00, 27.43it/s]\n"
     ]
    },
    {
     "name": "stdout",
     "output_type": "stream",
     "text": [
      "Epoch :  0 Epoch 1/1, Batch Loss: 48.08291\n"
     ]
    },
    {
     "name": "stderr",
     "output_type": "stream",
     "text": [
      "100%|██████████████████████████████████████████████████████████████████████████████████| 28/28 [00:01<00:00, 26.99it/s]\n"
     ]
    },
    {
     "name": "stdout",
     "output_type": "stream",
     "text": [
      "Epoch :  1 Epoch 1/1, Batch Loss: 46.3733\n"
     ]
    },
    {
     "name": "stderr",
     "output_type": "stream",
     "text": [
      "100%|██████████████████████████████████████████████████████████████████████████████████| 28/28 [00:01<00:00, 27.74it/s]\n"
     ]
    },
    {
     "name": "stdout",
     "output_type": "stream",
     "text": [
      "Epoch :  2 Epoch 1/1, Batch Loss: 46.83238\n"
     ]
    },
    {
     "name": "stderr",
     "output_type": "stream",
     "text": [
      "100%|██████████████████████████████████████████████████████████████████████████████████| 28/28 [00:01<00:00, 26.41it/s]\n"
     ]
    },
    {
     "name": "stdout",
     "output_type": "stream",
     "text": [
      "Epoch :  3 Epoch 1/1, Batch Loss: 45.19479\n"
     ]
    },
    {
     "name": "stderr",
     "output_type": "stream",
     "text": [
      "100%|██████████████████████████████████████████████████████████████████████████████████| 28/28 [00:01<00:00, 27.77it/s]\n"
     ]
    },
    {
     "name": "stdout",
     "output_type": "stream",
     "text": [
      "Epoch :  4 Epoch 1/1, Batch Loss: 45.25866\n"
     ]
    },
    {
     "name": "stderr",
     "output_type": "stream",
     "text": [
      "100%|██████████████████████████████████████████████████████████████████████████████████| 28/28 [00:01<00:00, 26.20it/s]\n"
     ]
    },
    {
     "name": "stdout",
     "output_type": "stream",
     "text": [
      "Epoch :  5 Epoch 1/1, Batch Loss: 45.39006\n"
     ]
    },
    {
     "name": "stderr",
     "output_type": "stream",
     "text": [
      "100%|██████████████████████████████████████████████████████████████████████████████████| 28/28 [00:01<00:00, 26.64it/s]\n"
     ]
    },
    {
     "name": "stdout",
     "output_type": "stream",
     "text": [
      "Epoch :  6 Epoch 1/1, Batch Loss: 46.81293\n"
     ]
    },
    {
     "name": "stderr",
     "output_type": "stream",
     "text": [
      "100%|██████████████████████████████████████████████████████████████████████████████████| 28/28 [00:01<00:00, 25.71it/s]\n"
     ]
    },
    {
     "name": "stdout",
     "output_type": "stream",
     "text": [
      "Epoch :  7 Epoch 1/1, Batch Loss: 46.30909\n"
     ]
    },
    {
     "name": "stderr",
     "output_type": "stream",
     "text": [
      "100%|██████████████████████████████████████████████████████████████████████████████████| 28/28 [00:01<00:00, 27.95it/s]\n"
     ]
    },
    {
     "name": "stdout",
     "output_type": "stream",
     "text": [
      "Epoch :  8 Epoch 1/1, Batch Loss: 44.22013\n"
     ]
    },
    {
     "name": "stderr",
     "output_type": "stream",
     "text": [
      "100%|██████████████████████████████████████████████████████████████████████████████████| 28/28 [00:01<00:00, 25.87it/s]\n"
     ]
    },
    {
     "name": "stdout",
     "output_type": "stream",
     "text": [
      "Epoch :  9 Epoch 1/1, Batch Loss: 44.892\n"
     ]
    },
    {
     "name": "stderr",
     "output_type": "stream",
     "text": [
      "100%|██████████████████████████████████████████████████████████████████████████████████| 28/28 [00:01<00:00, 25.76it/s]\n"
     ]
    },
    {
     "name": "stdout",
     "output_type": "stream",
     "text": [
      "Epoch :  10 Epoch 1/1, Batch Loss: 44.21898\n"
     ]
    },
    {
     "name": "stderr",
     "output_type": "stream",
     "text": [
      "100%|██████████████████████████████████████████████████████████████████████████████████| 28/28 [00:01<00:00, 26.27it/s]\n"
     ]
    },
    {
     "name": "stdout",
     "output_type": "stream",
     "text": [
      "Epoch :  11 Epoch 1/1, Batch Loss: 45.0025\n"
     ]
    },
    {
     "name": "stderr",
     "output_type": "stream",
     "text": [
      "100%|██████████████████████████████████████████████████████████████████████████████████| 28/28 [00:01<00:00, 27.00it/s]\n"
     ]
    },
    {
     "name": "stdout",
     "output_type": "stream",
     "text": [
      "Epoch :  12 Epoch 1/1, Batch Loss: 44.87811\n"
     ]
    },
    {
     "name": "stderr",
     "output_type": "stream",
     "text": [
      "100%|██████████████████████████████████████████████████████████████████████████████████| 28/28 [00:01<00:00, 26.07it/s]\n"
     ]
    },
    {
     "name": "stdout",
     "output_type": "stream",
     "text": [
      "Epoch :  13 Epoch 1/1, Batch Loss: 45.11611\n"
     ]
    },
    {
     "name": "stderr",
     "output_type": "stream",
     "text": [
      "100%|██████████████████████████████████████████████████████████████████████████████████| 28/28 [00:01<00:00, 26.22it/s]\n"
     ]
    },
    {
     "name": "stdout",
     "output_type": "stream",
     "text": [
      "Epoch :  14 Epoch 1/1, Batch Loss: 44.22158\n"
     ]
    },
    {
     "name": "stderr",
     "output_type": "stream",
     "text": [
      "100%|██████████████████████████████████████████████████████████████████████████████████| 28/28 [00:01<00:00, 25.48it/s]\n"
     ]
    },
    {
     "name": "stdout",
     "output_type": "stream",
     "text": [
      "Epoch :  15 Epoch 1/1, Batch Loss: 44.3756\n"
     ]
    },
    {
     "name": "stderr",
     "output_type": "stream",
     "text": [
      "100%|██████████████████████████████████████████████████████████████████████████████████| 28/28 [00:01<00:00, 26.29it/s]\n"
     ]
    },
    {
     "name": "stdout",
     "output_type": "stream",
     "text": [
      "Epoch :  16 Epoch 1/1, Batch Loss: 44.9837\n"
     ]
    },
    {
     "name": "stderr",
     "output_type": "stream",
     "text": [
      "100%|██████████████████████████████████████████████████████████████████████████████████| 28/28 [00:01<00:00, 26.13it/s]\n"
     ]
    },
    {
     "name": "stdout",
     "output_type": "stream",
     "text": [
      "Epoch :  17 Epoch 1/1, Batch Loss: 43.84815\n"
     ]
    },
    {
     "name": "stderr",
     "output_type": "stream",
     "text": [
      "100%|██████████████████████████████████████████████████████████████████████████████████| 28/28 [00:01<00:00, 25.05it/s]\n"
     ]
    },
    {
     "name": "stdout",
     "output_type": "stream",
     "text": [
      "Epoch :  18 Epoch 1/1, Batch Loss: 44.08788\n"
     ]
    },
    {
     "name": "stderr",
     "output_type": "stream",
     "text": [
      "100%|██████████████████████████████████████████████████████████████████████████████████| 28/28 [00:01<00:00, 26.34it/s]\n"
     ]
    },
    {
     "name": "stdout",
     "output_type": "stream",
     "text": [
      "Epoch :  19 Epoch 1/1, Batch Loss: 43.87646\n"
     ]
    },
    {
     "name": "stderr",
     "output_type": "stream",
     "text": [
      "100%|██████████████████████████████████████████████████████████████████████████████████| 28/28 [00:01<00:00, 26.82it/s]\n"
     ]
    },
    {
     "name": "stdout",
     "output_type": "stream",
     "text": [
      "Epoch :  20 Epoch 1/1, Batch Loss: 43.69992\n"
     ]
    },
    {
     "name": "stderr",
     "output_type": "stream",
     "text": [
      "100%|██████████████████████████████████████████████████████████████████████████████████| 28/28 [00:01<00:00, 26.34it/s]\n"
     ]
    },
    {
     "name": "stdout",
     "output_type": "stream",
     "text": [
      "Epoch :  21 Epoch 1/1, Batch Loss: 44.2957\n"
     ]
    },
    {
     "name": "stderr",
     "output_type": "stream",
     "text": [
      "100%|██████████████████████████████████████████████████████████████████████████████████| 28/28 [00:01<00:00, 27.11it/s]\n"
     ]
    },
    {
     "name": "stdout",
     "output_type": "stream",
     "text": [
      "Epoch :  22 Epoch 1/1, Batch Loss: 43.11884\n"
     ]
    },
    {
     "name": "stderr",
     "output_type": "stream",
     "text": [
      "100%|██████████████████████████████████████████████████████████████████████████████████| 28/28 [00:01<00:00, 26.37it/s]\n"
     ]
    },
    {
     "name": "stdout",
     "output_type": "stream",
     "text": [
      "Epoch :  23 Epoch 1/1, Batch Loss: 43.16209\n"
     ]
    },
    {
     "name": "stderr",
     "output_type": "stream",
     "text": [
      "100%|██████████████████████████████████████████████████████████████████████████████████| 28/28 [00:01<00:00, 26.16it/s]\n"
     ]
    },
    {
     "name": "stdout",
     "output_type": "stream",
     "text": [
      "Epoch :  24 Epoch 1/1, Batch Loss: 43.01251\n"
     ]
    },
    {
     "name": "stderr",
     "output_type": "stream",
     "text": [
      "100%|██████████████████████████████████████████████████████████████████████████████████| 28/28 [00:01<00:00, 25.97it/s]\n"
     ]
    },
    {
     "name": "stdout",
     "output_type": "stream",
     "text": [
      "Epoch :  25 Epoch 1/1, Batch Loss: 43.08968\n"
     ]
    },
    {
     "name": "stderr",
     "output_type": "stream",
     "text": [
      "100%|██████████████████████████████████████████████████████████████████████████████████| 28/28 [00:01<00:00, 26.94it/s]\n"
     ]
    },
    {
     "name": "stdout",
     "output_type": "stream",
     "text": [
      "Epoch :  26 Epoch 1/1, Batch Loss: 42.82737\n"
     ]
    },
    {
     "name": "stderr",
     "output_type": "stream",
     "text": [
      "100%|██████████████████████████████████████████████████████████████████████████████████| 28/28 [00:01<00:00, 26.57it/s]\n"
     ]
    },
    {
     "name": "stdout",
     "output_type": "stream",
     "text": [
      "Epoch :  27 Epoch 1/1, Batch Loss: 42.71767\n"
     ]
    },
    {
     "name": "stderr",
     "output_type": "stream",
     "text": [
      "100%|██████████████████████████████████████████████████████████████████████████████████| 28/28 [00:01<00:00, 24.72it/s]\n"
     ]
    },
    {
     "name": "stdout",
     "output_type": "stream",
     "text": [
      "Epoch :  28 Epoch 1/1, Batch Loss: 42.3977\n"
     ]
    },
    {
     "name": "stderr",
     "output_type": "stream",
     "text": [
      "100%|██████████████████████████████████████████████████████████████████████████████████| 28/28 [00:01<00:00, 24.95it/s]\n"
     ]
    },
    {
     "name": "stdout",
     "output_type": "stream",
     "text": [
      "Epoch :  29 Epoch 1/1, Batch Loss: 42.53957\n"
     ]
    },
    {
     "name": "stderr",
     "output_type": "stream",
     "text": [
      "100%|██████████████████████████████████████████████████████████████████████████████████| 28/28 [00:01<00:00, 25.27it/s]\n"
     ]
    },
    {
     "name": "stdout",
     "output_type": "stream",
     "text": [
      "Epoch :  30 Epoch 1/1, Batch Loss: 42.56909\n"
     ]
    },
    {
     "name": "stderr",
     "output_type": "stream",
     "text": [
      "100%|██████████████████████████████████████████████████████████████████████████████████| 28/28 [00:01<00:00, 24.98it/s]\n"
     ]
    },
    {
     "name": "stdout",
     "output_type": "stream",
     "text": [
      "Epoch :  31 Epoch 1/1, Batch Loss: 42.48135\n"
     ]
    },
    {
     "name": "stderr",
     "output_type": "stream",
     "text": [
      "100%|██████████████████████████████████████████████████████████████████████████████████| 28/28 [00:01<00:00, 27.40it/s]\n"
     ]
    },
    {
     "name": "stdout",
     "output_type": "stream",
     "text": [
      "Epoch :  32 Epoch 1/1, Batch Loss: 42.58911\n"
     ]
    },
    {
     "name": "stderr",
     "output_type": "stream",
     "text": [
      "100%|██████████████████████████████████████████████████████████████████████████████████| 28/28 [00:01<00:00, 25.90it/s]\n"
     ]
    },
    {
     "name": "stdout",
     "output_type": "stream",
     "text": [
      "Epoch :  33 Epoch 1/1, Batch Loss: 42.15566\n"
     ]
    },
    {
     "name": "stderr",
     "output_type": "stream",
     "text": [
      "100%|██████████████████████████████████████████████████████████████████████████████████| 28/28 [00:01<00:00, 27.10it/s]\n"
     ]
    },
    {
     "name": "stdout",
     "output_type": "stream",
     "text": [
      "Epoch :  34 Epoch 1/1, Batch Loss: 42.05924\n"
     ]
    },
    {
     "name": "stderr",
     "output_type": "stream",
     "text": [
      "100%|██████████████████████████████████████████████████████████████████████████████████| 28/28 [00:01<00:00, 26.28it/s]\n"
     ]
    },
    {
     "name": "stdout",
     "output_type": "stream",
     "text": [
      "Epoch :  35 Epoch 1/1, Batch Loss: 41.87186\n"
     ]
    },
    {
     "name": "stderr",
     "output_type": "stream",
     "text": [
      "100%|██████████████████████████████████████████████████████████████████████████████████| 28/28 [00:01<00:00, 25.45it/s]\n"
     ]
    },
    {
     "name": "stdout",
     "output_type": "stream",
     "text": [
      "Epoch :  36 Epoch 1/1, Batch Loss: 42.16445\n"
     ]
    },
    {
     "name": "stderr",
     "output_type": "stream",
     "text": [
      "100%|██████████████████████████████████████████████████████████████████████████████████| 28/28 [00:01<00:00, 25.79it/s]\n"
     ]
    },
    {
     "name": "stdout",
     "output_type": "stream",
     "text": [
      "Epoch :  37 Epoch 1/1, Batch Loss: 42.06969\n"
     ]
    },
    {
     "name": "stderr",
     "output_type": "stream",
     "text": [
      "100%|██████████████████████████████████████████████████████████████████████████████████| 28/28 [00:01<00:00, 26.58it/s]\n"
     ]
    },
    {
     "name": "stdout",
     "output_type": "stream",
     "text": [
      "Epoch :  38 Epoch 1/1, Batch Loss: 41.75141\n"
     ]
    },
    {
     "name": "stderr",
     "output_type": "stream",
     "text": [
      "100%|██████████████████████████████████████████████████████████████████████████████████| 28/28 [00:01<00:00, 26.07it/s]\n"
     ]
    },
    {
     "name": "stdout",
     "output_type": "stream",
     "text": [
      "Epoch :  39 Epoch 1/1, Batch Loss: 41.97271\n"
     ]
    },
    {
     "name": "stderr",
     "output_type": "stream",
     "text": [
      "100%|██████████████████████████████████████████████████████████████████████████████████| 28/28 [00:01<00:00, 27.46it/s]\n"
     ]
    },
    {
     "name": "stdout",
     "output_type": "stream",
     "text": [
      "Epoch :  40 Epoch 1/1, Batch Loss: 42.04464\n"
     ]
    },
    {
     "name": "stderr",
     "output_type": "stream",
     "text": [
      "100%|██████████████████████████████████████████████████████████████████████████████████| 28/28 [00:01<00:00, 26.36it/s]\n"
     ]
    },
    {
     "name": "stdout",
     "output_type": "stream",
     "text": [
      "Epoch :  41 Epoch 1/1, Batch Loss: 41.33535\n"
     ]
    },
    {
     "name": "stderr",
     "output_type": "stream",
     "text": [
      "100%|██████████████████████████████████████████████████████████████████████████████████| 28/28 [00:01<00:00, 26.04it/s]\n"
     ]
    },
    {
     "name": "stdout",
     "output_type": "stream",
     "text": [
      "Epoch :  42 Epoch 1/1, Batch Loss: 41.34301\n"
     ]
    },
    {
     "name": "stderr",
     "output_type": "stream",
     "text": [
      "100%|██████████████████████████████████████████████████████████████████████████████████| 28/28 [00:01<00:00, 24.61it/s]\n"
     ]
    },
    {
     "name": "stdout",
     "output_type": "stream",
     "text": [
      "Epoch :  43 Epoch 1/1, Batch Loss: 41.23755\n"
     ]
    },
    {
     "name": "stderr",
     "output_type": "stream",
     "text": [
      "100%|██████████████████████████████████████████████████████████████████████████████████| 28/28 [00:01<00:00, 25.58it/s]\n"
     ]
    },
    {
     "name": "stdout",
     "output_type": "stream",
     "text": [
      "Epoch :  44 Epoch 1/1, Batch Loss: 40.76391\n"
     ]
    },
    {
     "name": "stderr",
     "output_type": "stream",
     "text": [
      "100%|██████████████████████████████████████████████████████████████████████████████████| 28/28 [00:01<00:00, 25.74it/s]\n"
     ]
    },
    {
     "name": "stdout",
     "output_type": "stream",
     "text": [
      "Epoch :  45 Epoch 1/1, Batch Loss: 40.66361\n"
     ]
    },
    {
     "name": "stderr",
     "output_type": "stream",
     "text": [
      "100%|██████████████████████████████████████████████████████████████████████████████████| 28/28 [00:01<00:00, 26.56it/s]\n"
     ]
    },
    {
     "name": "stdout",
     "output_type": "stream",
     "text": [
      "Epoch :  46 Epoch 1/1, Batch Loss: 41.37086\n"
     ]
    },
    {
     "name": "stderr",
     "output_type": "stream",
     "text": [
      "100%|██████████████████████████████████████████████████████████████████████████████████| 28/28 [00:01<00:00, 26.44it/s]\n"
     ]
    },
    {
     "name": "stdout",
     "output_type": "stream",
     "text": [
      "Epoch :  47 Epoch 1/1, Batch Loss: 41.04041\n"
     ]
    },
    {
     "name": "stderr",
     "output_type": "stream",
     "text": [
      "100%|██████████████████████████████████████████████████████████████████████████████████| 28/28 [00:00<00:00, 28.36it/s]\n"
     ]
    },
    {
     "name": "stdout",
     "output_type": "stream",
     "text": [
      "Epoch :  48 Epoch 1/1, Batch Loss: 41.21066\n"
     ]
    },
    {
     "name": "stderr",
     "output_type": "stream",
     "text": [
      "100%|██████████████████████████████████████████████████████████████████████████████████| 28/28 [00:01<00:00, 26.46it/s]\n"
     ]
    },
    {
     "name": "stdout",
     "output_type": "stream",
     "text": [
      "Epoch :  49 Epoch 1/1, Batch Loss: 40.82462\n"
     ]
    },
    {
     "name": "stderr",
     "output_type": "stream",
     "text": [
      "100%|██████████████████████████████████████████████████████████████████████████████████| 28/28 [00:01<00:00, 26.94it/s]\n"
     ]
    },
    {
     "name": "stdout",
     "output_type": "stream",
     "text": [
      "Epoch :  50 Epoch 1/1, Batch Loss: 40.68869\n"
     ]
    },
    {
     "name": "stderr",
     "output_type": "stream",
     "text": [
      "100%|██████████████████████████████████████████████████████████████████████████████████| 28/28 [00:01<00:00, 25.58it/s]\n"
     ]
    },
    {
     "name": "stdout",
     "output_type": "stream",
     "text": [
      "Epoch :  51 Epoch 1/1, Batch Loss: 40.89435\n"
     ]
    },
    {
     "name": "stderr",
     "output_type": "stream",
     "text": [
      "100%|██████████████████████████████████████████████████████████████████████████████████| 28/28 [00:01<00:00, 26.25it/s]\n"
     ]
    },
    {
     "name": "stdout",
     "output_type": "stream",
     "text": [
      "Epoch :  52 Epoch 1/1, Batch Loss: 40.66879\n"
     ]
    },
    {
     "name": "stderr",
     "output_type": "stream",
     "text": [
      "100%|██████████████████████████████████████████████████████████████████████████████████| 28/28 [00:01<00:00, 25.32it/s]\n"
     ]
    },
    {
     "name": "stdout",
     "output_type": "stream",
     "text": [
      "Epoch :  53 Epoch 1/1, Batch Loss: 40.70782\n"
     ]
    },
    {
     "name": "stderr",
     "output_type": "stream",
     "text": [
      "100%|██████████████████████████████████████████████████████████████████████████████████| 28/28 [00:01<00:00, 26.76it/s]\n"
     ]
    },
    {
     "name": "stdout",
     "output_type": "stream",
     "text": [
      "Epoch :  54 Epoch 1/1, Batch Loss: 40.44146\n"
     ]
    },
    {
     "name": "stderr",
     "output_type": "stream",
     "text": [
      "100%|██████████████████████████████████████████████████████████████████████████████████| 28/28 [00:01<00:00, 26.26it/s]\n"
     ]
    },
    {
     "name": "stdout",
     "output_type": "stream",
     "text": [
      "Epoch :  55 Epoch 1/1, Batch Loss: 40.59768\n"
     ]
    },
    {
     "name": "stderr",
     "output_type": "stream",
     "text": [
      "100%|██████████████████████████████████████████████████████████████████████████████████| 28/28 [00:01<00:00, 26.23it/s]\n"
     ]
    },
    {
     "name": "stdout",
     "output_type": "stream",
     "text": [
      "Epoch :  56 Epoch 1/1, Batch Loss: 40.40893\n"
     ]
    },
    {
     "name": "stderr",
     "output_type": "stream",
     "text": [
      "100%|██████████████████████████████████████████████████████████████████████████████████| 28/28 [00:01<00:00, 26.37it/s]\n"
     ]
    },
    {
     "name": "stdout",
     "output_type": "stream",
     "text": [
      "Epoch :  57 Epoch 1/1, Batch Loss: 39.96319\n"
     ]
    },
    {
     "name": "stderr",
     "output_type": "stream",
     "text": [
      "100%|██████████████████████████████████████████████████████████████████████████████████| 28/28 [00:01<00:00, 26.47it/s]\n"
     ]
    },
    {
     "name": "stdout",
     "output_type": "stream",
     "text": [
      "Epoch :  58 Epoch 1/1, Batch Loss: 40.0841\n"
     ]
    },
    {
     "name": "stderr",
     "output_type": "stream",
     "text": [
      "100%|██████████████████████████████████████████████████████████████████████████████████| 28/28 [00:01<00:00, 26.30it/s]\n"
     ]
    },
    {
     "name": "stdout",
     "output_type": "stream",
     "text": [
      "Epoch :  59 Epoch 1/1, Batch Loss: 40.08892\n"
     ]
    },
    {
     "name": "stderr",
     "output_type": "stream",
     "text": [
      "100%|██████████████████████████████████████████████████████████████████████████████████| 28/28 [00:01<00:00, 26.19it/s]\n"
     ]
    },
    {
     "name": "stdout",
     "output_type": "stream",
     "text": [
      "Epoch :  60 Epoch 1/1, Batch Loss: 39.79337\n"
     ]
    },
    {
     "name": "stderr",
     "output_type": "stream",
     "text": [
      "100%|██████████████████████████████████████████████████████████████████████████████████| 28/28 [00:01<00:00, 26.15it/s]\n"
     ]
    },
    {
     "name": "stdout",
     "output_type": "stream",
     "text": [
      "Epoch :  61 Epoch 1/1, Batch Loss: 39.64808\n"
     ]
    },
    {
     "name": "stderr",
     "output_type": "stream",
     "text": [
      "100%|██████████████████████████████████████████████████████████████████████████████████| 28/28 [00:01<00:00, 27.73it/s]\n"
     ]
    },
    {
     "name": "stdout",
     "output_type": "stream",
     "text": [
      "Epoch :  62 Epoch 1/1, Batch Loss: 39.68806\n"
     ]
    },
    {
     "name": "stderr",
     "output_type": "stream",
     "text": [
      "100%|██████████████████████████████████████████████████████████████████████████████████| 28/28 [00:01<00:00, 25.84it/s]\n"
     ]
    },
    {
     "name": "stdout",
     "output_type": "stream",
     "text": [
      "Epoch :  63 Epoch 1/1, Batch Loss: 39.5474\n"
     ]
    },
    {
     "name": "stderr",
     "output_type": "stream",
     "text": [
      "100%|██████████████████████████████████████████████████████████████████████████████████| 28/28 [00:01<00:00, 27.26it/s]\n"
     ]
    },
    {
     "name": "stdout",
     "output_type": "stream",
     "text": [
      "Epoch :  64 Epoch 1/1, Batch Loss: 39.4545\n"
     ]
    },
    {
     "name": "stderr",
     "output_type": "stream",
     "text": [
      "100%|██████████████████████████████████████████████████████████████████████████████████| 28/28 [00:01<00:00, 26.54it/s]\n"
     ]
    },
    {
     "name": "stdout",
     "output_type": "stream",
     "text": [
      "Epoch :  65 Epoch 1/1, Batch Loss: 39.79933\n"
     ]
    },
    {
     "name": "stderr",
     "output_type": "stream",
     "text": [
      "100%|██████████████████████████████████████████████████████████████████████████████████| 28/28 [00:01<00:00, 26.44it/s]\n"
     ]
    },
    {
     "name": "stdout",
     "output_type": "stream",
     "text": [
      "Epoch :  66 Epoch 1/1, Batch Loss: 39.26075\n"
     ]
    },
    {
     "name": "stderr",
     "output_type": "stream",
     "text": [
      "100%|██████████████████████████████████████████████████████████████████████████████████| 28/28 [00:01<00:00, 24.91it/s]\n"
     ]
    },
    {
     "name": "stdout",
     "output_type": "stream",
     "text": [
      "Epoch :  67 Epoch 1/1, Batch Loss: 39.1656\n"
     ]
    },
    {
     "name": "stderr",
     "output_type": "stream",
     "text": [
      "100%|██████████████████████████████████████████████████████████████████████████████████| 28/28 [00:01<00:00, 27.67it/s]\n"
     ]
    },
    {
     "name": "stdout",
     "output_type": "stream",
     "text": [
      "Epoch :  68 Epoch 1/1, Batch Loss: 39.02744\n"
     ]
    },
    {
     "name": "stderr",
     "output_type": "stream",
     "text": [
      "100%|██████████████████████████████████████████████████████████████████████████████████| 28/28 [00:01<00:00, 25.54it/s]\n"
     ]
    },
    {
     "name": "stdout",
     "output_type": "stream",
     "text": [
      "Epoch :  69 Epoch 1/1, Batch Loss: 39.36553\n"
     ]
    },
    {
     "name": "stderr",
     "output_type": "stream",
     "text": [
      "100%|██████████████████████████████████████████████████████████████████████████████████| 28/28 [00:01<00:00, 27.55it/s]\n"
     ]
    },
    {
     "name": "stdout",
     "output_type": "stream",
     "text": [
      "Epoch :  70 Epoch 1/1, Batch Loss: 39.35214\n"
     ]
    },
    {
     "name": "stderr",
     "output_type": "stream",
     "text": [
      "100%|██████████████████████████████████████████████████████████████████████████████████| 28/28 [00:01<00:00, 24.45it/s]\n"
     ]
    },
    {
     "name": "stdout",
     "output_type": "stream",
     "text": [
      "Epoch :  71 Epoch 1/1, Batch Loss: 38.97056\n"
     ]
    },
    {
     "name": "stderr",
     "output_type": "stream",
     "text": [
      "100%|██████████████████████████████████████████████████████████████████████████████████| 28/28 [00:01<00:00, 26.16it/s]\n"
     ]
    },
    {
     "name": "stdout",
     "output_type": "stream",
     "text": [
      "Epoch :  72 Epoch 1/1, Batch Loss: 38.91234\n"
     ]
    },
    {
     "name": "stderr",
     "output_type": "stream",
     "text": [
      "100%|██████████████████████████████████████████████████████████████████████████████████| 28/28 [00:01<00:00, 24.98it/s]\n"
     ]
    },
    {
     "name": "stdout",
     "output_type": "stream",
     "text": [
      "Epoch :  73 Epoch 1/1, Batch Loss: 38.61662\n"
     ]
    },
    {
     "name": "stderr",
     "output_type": "stream",
     "text": [
      "100%|██████████████████████████████████████████████████████████████████████████████████| 28/28 [00:01<00:00, 27.00it/s]\n"
     ]
    },
    {
     "name": "stdout",
     "output_type": "stream",
     "text": [
      "Epoch :  74 Epoch 1/1, Batch Loss: 38.4298\n"
     ]
    },
    {
     "name": "stderr",
     "output_type": "stream",
     "text": [
      "100%|██████████████████████████████████████████████████████████████████████████████████| 28/28 [00:01<00:00, 26.11it/s]\n"
     ]
    },
    {
     "name": "stdout",
     "output_type": "stream",
     "text": [
      "Epoch :  75 Epoch 1/1, Batch Loss: 38.17392\n"
     ]
    },
    {
     "name": "stderr",
     "output_type": "stream",
     "text": [
      "100%|██████████████████████████████████████████████████████████████████████████████████| 28/28 [00:01<00:00, 27.37it/s]\n"
     ]
    },
    {
     "name": "stdout",
     "output_type": "stream",
     "text": [
      "Epoch :  76 Epoch 1/1, Batch Loss: 38.29803\n"
     ]
    },
    {
     "name": "stderr",
     "output_type": "stream",
     "text": [
      "100%|██████████████████████████████████████████████████████████████████████████████████| 28/28 [00:01<00:00, 25.90it/s]\n"
     ]
    },
    {
     "name": "stdout",
     "output_type": "stream",
     "text": [
      "Epoch :  77 Epoch 1/1, Batch Loss: 38.32306\n"
     ]
    },
    {
     "name": "stderr",
     "output_type": "stream",
     "text": [
      "100%|██████████████████████████████████████████████████████████████████████████████████| 28/28 [00:01<00:00, 27.26it/s]\n"
     ]
    },
    {
     "name": "stdout",
     "output_type": "stream",
     "text": [
      "Epoch :  78 Epoch 1/1, Batch Loss: 38.20655\n"
     ]
    },
    {
     "name": "stderr",
     "output_type": "stream",
     "text": [
      "100%|██████████████████████████████████████████████████████████████████████████████████| 28/28 [00:01<00:00, 26.38it/s]\n"
     ]
    },
    {
     "name": "stdout",
     "output_type": "stream",
     "text": [
      "Epoch :  79 Epoch 1/1, Batch Loss: 38.27683\n"
     ]
    },
    {
     "name": "stderr",
     "output_type": "stream",
     "text": [
      "100%|██████████████████████████████████████████████████████████████████████████████████| 28/28 [00:01<00:00, 26.18it/s]\n"
     ]
    },
    {
     "name": "stdout",
     "output_type": "stream",
     "text": [
      "Epoch :  80 Epoch 1/1, Batch Loss: 37.94631\n"
     ]
    },
    {
     "name": "stderr",
     "output_type": "stream",
     "text": [
      "100%|██████████████████████████████████████████████████████████████████████████████████| 28/28 [00:01<00:00, 25.55it/s]\n"
     ]
    },
    {
     "name": "stdout",
     "output_type": "stream",
     "text": [
      "Epoch :  81 Epoch 1/1, Batch Loss: 38.55366\n"
     ]
    },
    {
     "name": "stderr",
     "output_type": "stream",
     "text": [
      "100%|██████████████████████████████████████████████████████████████████████████████████| 28/28 [00:01<00:00, 26.01it/s]\n"
     ]
    },
    {
     "name": "stdout",
     "output_type": "stream",
     "text": [
      "Epoch :  82 Epoch 1/1, Batch Loss: 37.43486\n"
     ]
    },
    {
     "name": "stderr",
     "output_type": "stream",
     "text": [
      "100%|██████████████████████████████████████████████████████████████████████████████████| 28/28 [00:01<00:00, 23.12it/s]\n"
     ]
    },
    {
     "name": "stdout",
     "output_type": "stream",
     "text": [
      "Epoch :  83 Epoch 1/1, Batch Loss: 37.52824\n"
     ]
    },
    {
     "name": "stderr",
     "output_type": "stream",
     "text": [
      "100%|██████████████████████████████████████████████████████████████████████████████████| 28/28 [00:01<00:00, 26.14it/s]\n"
     ]
    },
    {
     "name": "stdout",
     "output_type": "stream",
     "text": [
      "Epoch :  84 Epoch 1/1, Batch Loss: 37.72707\n"
     ]
    },
    {
     "name": "stderr",
     "output_type": "stream",
     "text": [
      "100%|██████████████████████████████████████████████████████████████████████████████████| 28/28 [00:01<00:00, 24.24it/s]\n"
     ]
    },
    {
     "name": "stdout",
     "output_type": "stream",
     "text": [
      "Epoch :  85 Epoch 1/1, Batch Loss: 37.32412\n"
     ]
    },
    {
     "name": "stderr",
     "output_type": "stream",
     "text": [
      "100%|██████████████████████████████████████████████████████████████████████████████████| 28/28 [00:01<00:00, 26.18it/s]\n"
     ]
    },
    {
     "name": "stdout",
     "output_type": "stream",
     "text": [
      "Epoch :  86 Epoch 1/1, Batch Loss: 37.6384\n"
     ]
    },
    {
     "name": "stderr",
     "output_type": "stream",
     "text": [
      "100%|██████████████████████████████████████████████████████████████████████████████████| 28/28 [00:01<00:00, 26.69it/s]\n"
     ]
    },
    {
     "name": "stdout",
     "output_type": "stream",
     "text": [
      "Epoch :  87 Epoch 1/1, Batch Loss: 37.5285\n"
     ]
    },
    {
     "name": "stderr",
     "output_type": "stream",
     "text": [
      "100%|██████████████████████████████████████████████████████████████████████████████████| 28/28 [00:01<00:00, 26.15it/s]\n"
     ]
    },
    {
     "name": "stdout",
     "output_type": "stream",
     "text": [
      "Epoch :  88 Epoch 1/1, Batch Loss: 37.29932\n"
     ]
    },
    {
     "name": "stderr",
     "output_type": "stream",
     "text": [
      "100%|██████████████████████████████████████████████████████████████████████████████████| 28/28 [00:01<00:00, 27.61it/s]\n"
     ]
    },
    {
     "name": "stdout",
     "output_type": "stream",
     "text": [
      "Epoch :  89 Epoch 1/1, Batch Loss: 37.41545\n"
     ]
    },
    {
     "name": "stderr",
     "output_type": "stream",
     "text": [
      "100%|██████████████████████████████████████████████████████████████████████████████████| 28/28 [00:01<00:00, 25.91it/s]\n"
     ]
    },
    {
     "name": "stdout",
     "output_type": "stream",
     "text": [
      "Epoch :  90 Epoch 1/1, Batch Loss: 37.20068\n"
     ]
    },
    {
     "name": "stderr",
     "output_type": "stream",
     "text": [
      "100%|██████████████████████████████████████████████████████████████████████████████████| 28/28 [00:01<00:00, 26.61it/s]\n"
     ]
    },
    {
     "name": "stdout",
     "output_type": "stream",
     "text": [
      "Epoch :  91 Epoch 1/1, Batch Loss: 38.4847\n"
     ]
    },
    {
     "name": "stderr",
     "output_type": "stream",
     "text": [
      "100%|██████████████████████████████████████████████████████████████████████████████████| 28/28 [00:01<00:00, 25.53it/s]\n"
     ]
    },
    {
     "name": "stdout",
     "output_type": "stream",
     "text": [
      "Epoch :  92 Epoch 1/1, Batch Loss: 36.58203\n"
     ]
    },
    {
     "name": "stderr",
     "output_type": "stream",
     "text": [
      "100%|██████████████████████████████████████████████████████████████████████████████████| 28/28 [00:01<00:00, 26.18it/s]\n"
     ]
    },
    {
     "name": "stdout",
     "output_type": "stream",
     "text": [
      "Epoch :  93 Epoch 1/1, Batch Loss: 36.99256\n"
     ]
    },
    {
     "name": "stderr",
     "output_type": "stream",
     "text": [
      "100%|██████████████████████████████████████████████████████████████████████████████████| 28/28 [00:01<00:00, 25.67it/s]\n"
     ]
    },
    {
     "name": "stdout",
     "output_type": "stream",
     "text": [
      "Epoch :  94 Epoch 1/1, Batch Loss: 37.00913\n"
     ]
    },
    {
     "name": "stderr",
     "output_type": "stream",
     "text": [
      "100%|██████████████████████████████████████████████████████████████████████████████████| 28/28 [00:01<00:00, 26.51it/s]\n"
     ]
    },
    {
     "name": "stdout",
     "output_type": "stream",
     "text": [
      "Epoch :  95 Epoch 1/1, Batch Loss: 37.48178\n"
     ]
    },
    {
     "name": "stderr",
     "output_type": "stream",
     "text": [
      "100%|██████████████████████████████████████████████████████████████████████████████████| 28/28 [00:01<00:00, 23.75it/s]\n"
     ]
    },
    {
     "name": "stdout",
     "output_type": "stream",
     "text": [
      "Epoch :  96 Epoch 1/1, Batch Loss: 36.80753\n"
     ]
    },
    {
     "name": "stderr",
     "output_type": "stream",
     "text": [
      "100%|██████████████████████████████████████████████████████████████████████████████████| 28/28 [00:01<00:00, 25.58it/s]\n"
     ]
    },
    {
     "name": "stdout",
     "output_type": "stream",
     "text": [
      "Epoch :  97 Epoch 1/1, Batch Loss: 36.79055\n"
     ]
    },
    {
     "name": "stderr",
     "output_type": "stream",
     "text": [
      "100%|██████████████████████████████████████████████████████████████████████████████████| 28/28 [00:01<00:00, 25.45it/s]\n"
     ]
    },
    {
     "name": "stdout",
     "output_type": "stream",
     "text": [
      "Epoch :  98 Epoch 1/1, Batch Loss: 37.08273\n"
     ]
    },
    {
     "name": "stderr",
     "output_type": "stream",
     "text": [
      "100%|██████████████████████████████████████████████████████████████████████████████████| 28/28 [00:01<00:00, 26.70it/s]\n"
     ]
    },
    {
     "name": "stdout",
     "output_type": "stream",
     "text": [
      "Epoch :  99 Epoch 1/1, Batch Loss: 36.82782\n"
     ]
    },
    {
     "name": "stderr",
     "output_type": "stream",
     "text": [
      "100%|██████████████████████████████████████████████████████████████████████████████████| 28/28 [00:01<00:00, 26.50it/s]\n"
     ]
    },
    {
     "name": "stdout",
     "output_type": "stream",
     "text": [
      "Epoch :  100 Epoch 1/1, Batch Loss: 36.50444\n"
     ]
    },
    {
     "name": "stderr",
     "output_type": "stream",
     "text": [
      "100%|██████████████████████████████████████████████████████████████████████████████████| 28/28 [00:01<00:00, 27.85it/s]\n"
     ]
    },
    {
     "name": "stdout",
     "output_type": "stream",
     "text": [
      "Epoch :  101 Epoch 1/1, Batch Loss: 36.16339\n"
     ]
    },
    {
     "name": "stderr",
     "output_type": "stream",
     "text": [
      "100%|██████████████████████████████████████████████████████████████████████████████████| 28/28 [00:01<00:00, 25.94it/s]\n"
     ]
    },
    {
     "name": "stdout",
     "output_type": "stream",
     "text": [
      "Epoch :  102 Epoch 1/1, Batch Loss: 36.1891\n"
     ]
    },
    {
     "name": "stderr",
     "output_type": "stream",
     "text": [
      "100%|██████████████████████████████████████████████████████████████████████████████████| 28/28 [00:01<00:00, 27.53it/s]\n"
     ]
    },
    {
     "name": "stdout",
     "output_type": "stream",
     "text": [
      "Epoch :  103 Epoch 1/1, Batch Loss: 36.51635\n"
     ]
    },
    {
     "name": "stderr",
     "output_type": "stream",
     "text": [
      "100%|██████████████████████████████████████████████████████████████████████████████████| 28/28 [00:01<00:00, 25.42it/s]\n"
     ]
    },
    {
     "name": "stdout",
     "output_type": "stream",
     "text": [
      "Epoch :  104 Epoch 1/1, Batch Loss: 36.78359\n"
     ]
    },
    {
     "name": "stderr",
     "output_type": "stream",
     "text": [
      "100%|██████████████████████████████████████████████████████████████████████████████████| 28/28 [00:01<00:00, 26.57it/s]\n"
     ]
    },
    {
     "name": "stdout",
     "output_type": "stream",
     "text": [
      "Epoch :  105 Epoch 1/1, Batch Loss: 36.27477\n"
     ]
    },
    {
     "name": "stderr",
     "output_type": "stream",
     "text": [
      "100%|██████████████████████████████████████████████████████████████████████████████████| 28/28 [00:01<00:00, 25.59it/s]\n"
     ]
    },
    {
     "name": "stdout",
     "output_type": "stream",
     "text": [
      "Epoch :  106 Epoch 1/1, Batch Loss: 35.75313\n"
     ]
    },
    {
     "name": "stderr",
     "output_type": "stream",
     "text": [
      "100%|██████████████████████████████████████████████████████████████████████████████████| 28/28 [00:01<00:00, 26.09it/s]\n"
     ]
    },
    {
     "name": "stdout",
     "output_type": "stream",
     "text": [
      "Epoch :  107 Epoch 1/1, Batch Loss: 35.49689\n"
     ]
    },
    {
     "name": "stderr",
     "output_type": "stream",
     "text": [
      "100%|██████████████████████████████████████████████████████████████████████████████████| 28/28 [00:01<00:00, 25.64it/s]\n"
     ]
    },
    {
     "name": "stdout",
     "output_type": "stream",
     "text": [
      "Epoch :  108 Epoch 1/1, Batch Loss: 35.71183\n"
     ]
    },
    {
     "name": "stderr",
     "output_type": "stream",
     "text": [
      "100%|██████████████████████████████████████████████████████████████████████████████████| 28/28 [00:01<00:00, 27.17it/s]\n"
     ]
    },
    {
     "name": "stdout",
     "output_type": "stream",
     "text": [
      "Epoch :  109 Epoch 1/1, Batch Loss: 36.27696\n"
     ]
    },
    {
     "name": "stderr",
     "output_type": "stream",
     "text": [
      "100%|██████████████████████████████████████████████████████████████████████████████████| 28/28 [00:01<00:00, 26.06it/s]\n"
     ]
    },
    {
     "name": "stdout",
     "output_type": "stream",
     "text": [
      "Epoch :  110 Epoch 1/1, Batch Loss: 36.3317\n"
     ]
    },
    {
     "name": "stderr",
     "output_type": "stream",
     "text": [
      "100%|██████████████████████████████████████████████████████████████████████████████████| 28/28 [00:01<00:00, 26.42it/s]\n"
     ]
    },
    {
     "name": "stdout",
     "output_type": "stream",
     "text": [
      "Epoch :  111 Epoch 1/1, Batch Loss: 34.98368\n"
     ]
    },
    {
     "name": "stderr",
     "output_type": "stream",
     "text": [
      "100%|██████████████████████████████████████████████████████████████████████████████████| 28/28 [00:01<00:00, 24.85it/s]\n"
     ]
    },
    {
     "name": "stdout",
     "output_type": "stream",
     "text": [
      "Epoch :  112 Epoch 1/1, Batch Loss: 35.90978\n"
     ]
    },
    {
     "name": "stderr",
     "output_type": "stream",
     "text": [
      "100%|██████████████████████████████████████████████████████████████████████████████████| 28/28 [00:01<00:00, 24.46it/s]\n"
     ]
    },
    {
     "name": "stdout",
     "output_type": "stream",
     "text": [
      "Epoch :  113 Epoch 1/1, Batch Loss: 36.35017\n"
     ]
    },
    {
     "name": "stderr",
     "output_type": "stream",
     "text": [
      "100%|██████████████████████████████████████████████████████████████████████████████████| 28/28 [00:01<00:00, 25.17it/s]\n"
     ]
    },
    {
     "name": "stdout",
     "output_type": "stream",
     "text": [
      "Epoch :  114 Epoch 1/1, Batch Loss: 34.51501\n"
     ]
    },
    {
     "name": "stderr",
     "output_type": "stream",
     "text": [
      "100%|██████████████████████████████████████████████████████████████████████████████████| 28/28 [00:01<00:00, 27.33it/s]\n"
     ]
    },
    {
     "name": "stdout",
     "output_type": "stream",
     "text": [
      "Epoch :  115 Epoch 1/1, Batch Loss: 36.34367\n"
     ]
    },
    {
     "name": "stderr",
     "output_type": "stream",
     "text": [
      "100%|██████████████████████████████████████████████████████████████████████████████████| 28/28 [00:01<00:00, 25.45it/s]\n"
     ]
    },
    {
     "name": "stdout",
     "output_type": "stream",
     "text": [
      "Epoch :  116 Epoch 1/1, Batch Loss: 34.98129\n"
     ]
    },
    {
     "name": "stderr",
     "output_type": "stream",
     "text": [
      "100%|██████████████████████████████████████████████████████████████████████████████████| 28/28 [00:01<00:00, 27.61it/s]\n"
     ]
    },
    {
     "name": "stdout",
     "output_type": "stream",
     "text": [
      "Epoch :  117 Epoch 1/1, Batch Loss: 35.2225\n"
     ]
    },
    {
     "name": "stderr",
     "output_type": "stream",
     "text": [
      "100%|██████████████████████████████████████████████████████████████████████████████████| 28/28 [00:01<00:00, 26.17it/s]\n"
     ]
    },
    {
     "name": "stdout",
     "output_type": "stream",
     "text": [
      "Epoch :  118 Epoch 1/1, Batch Loss: 35.0045\n"
     ]
    },
    {
     "name": "stderr",
     "output_type": "stream",
     "text": [
      "100%|██████████████████████████████████████████████████████████████████████████████████| 28/28 [00:01<00:00, 27.88it/s]\n"
     ]
    },
    {
     "name": "stdout",
     "output_type": "stream",
     "text": [
      "Epoch :  119 Epoch 1/1, Batch Loss: 34.86796\n"
     ]
    },
    {
     "name": "stderr",
     "output_type": "stream",
     "text": [
      "100%|██████████████████████████████████████████████████████████████████████████████████| 28/28 [00:01<00:00, 25.95it/s]\n"
     ]
    },
    {
     "name": "stdout",
     "output_type": "stream",
     "text": [
      "Epoch :  120 Epoch 1/1, Batch Loss: 35.25086\n"
     ]
    },
    {
     "name": "stderr",
     "output_type": "stream",
     "text": [
      "100%|██████████████████████████████████████████████████████████████████████████████████| 28/28 [00:01<00:00, 26.62it/s]\n"
     ]
    },
    {
     "name": "stdout",
     "output_type": "stream",
     "text": [
      "Epoch :  121 Epoch 1/1, Batch Loss: 35.11417\n"
     ]
    },
    {
     "name": "stderr",
     "output_type": "stream",
     "text": [
      "100%|██████████████████████████████████████████████████████████████████████████████████| 28/28 [00:01<00:00, 25.70it/s]\n"
     ]
    },
    {
     "name": "stdout",
     "output_type": "stream",
     "text": [
      "Epoch :  122 Epoch 1/1, Batch Loss: 35.12646\n"
     ]
    },
    {
     "name": "stderr",
     "output_type": "stream",
     "text": [
      "100%|██████████████████████████████████████████████████████████████████████████████████| 28/28 [00:01<00:00, 27.01it/s]\n"
     ]
    },
    {
     "name": "stdout",
     "output_type": "stream",
     "text": [
      "Epoch :  123 Epoch 1/1, Batch Loss: 35.73835\n"
     ]
    },
    {
     "name": "stderr",
     "output_type": "stream",
     "text": [
      "100%|██████████████████████████████████████████████████████████████████████████████████| 28/28 [00:01<00:00, 25.32it/s]\n"
     ]
    },
    {
     "name": "stdout",
     "output_type": "stream",
     "text": [
      "Epoch :  124 Epoch 1/1, Batch Loss: 34.52232\n"
     ]
    },
    {
     "name": "stderr",
     "output_type": "stream",
     "text": [
      "100%|██████████████████████████████████████████████████████████████████████████████████| 28/28 [00:01<00:00, 27.72it/s]\n"
     ]
    },
    {
     "name": "stdout",
     "output_type": "stream",
     "text": [
      "Epoch :  125 Epoch 1/1, Batch Loss: 35.63984\n"
     ]
    },
    {
     "name": "stderr",
     "output_type": "stream",
     "text": [
      "100%|██████████████████████████████████████████████████████████████████████████████████| 28/28 [00:01<00:00, 25.83it/s]\n"
     ]
    },
    {
     "name": "stdout",
     "output_type": "stream",
     "text": [
      "Epoch :  126 Epoch 1/1, Batch Loss: 35.32723\n"
     ]
    },
    {
     "name": "stderr",
     "output_type": "stream",
     "text": [
      "100%|██████████████████████████████████████████████████████████████████████████████████| 28/28 [00:01<00:00, 26.02it/s]\n"
     ]
    },
    {
     "name": "stdout",
     "output_type": "stream",
     "text": [
      "Epoch :  127 Epoch 1/1, Batch Loss: 34.28588\n"
     ]
    },
    {
     "name": "stderr",
     "output_type": "stream",
     "text": [
      "100%|██████████████████████████████████████████████████████████████████████████████████| 28/28 [00:01<00:00, 24.30it/s]\n"
     ]
    },
    {
     "name": "stdout",
     "output_type": "stream",
     "text": [
      "Epoch :  128 Epoch 1/1, Batch Loss: 33.87378\n"
     ]
    },
    {
     "name": "stderr",
     "output_type": "stream",
     "text": [
      "100%|██████████████████████████████████████████████████████████████████████████████████| 28/28 [00:01<00:00, 26.22it/s]\n"
     ]
    },
    {
     "name": "stdout",
     "output_type": "stream",
     "text": [
      "Epoch :  129 Epoch 1/1, Batch Loss: 34.3667\n"
     ]
    },
    {
     "name": "stderr",
     "output_type": "stream",
     "text": [
      "100%|██████████████████████████████████████████████████████████████████████████████████| 28/28 [00:01<00:00, 23.13it/s]\n"
     ]
    },
    {
     "name": "stdout",
     "output_type": "stream",
     "text": [
      "Epoch :  130 Epoch 1/1, Batch Loss: 33.26158\n"
     ]
    },
    {
     "name": "stderr",
     "output_type": "stream",
     "text": [
      "100%|██████████████████████████████████████████████████████████████████████████████████| 28/28 [00:01<00:00, 20.69it/s]\n"
     ]
    },
    {
     "name": "stdout",
     "output_type": "stream",
     "text": [
      "Epoch :  131 Epoch 1/1, Batch Loss: 34.48845\n"
     ]
    },
    {
     "name": "stderr",
     "output_type": "stream",
     "text": [
      "100%|██████████████████████████████████████████████████████████████████████████████████| 28/28 [00:01<00:00, 25.15it/s]\n"
     ]
    },
    {
     "name": "stdout",
     "output_type": "stream",
     "text": [
      "Epoch :  132 Epoch 1/1, Batch Loss: 35.2876\n"
     ]
    },
    {
     "name": "stderr",
     "output_type": "stream",
     "text": [
      "100%|██████████████████████████████████████████████████████████████████████████████████| 28/28 [00:01<00:00, 23.58it/s]\n"
     ]
    },
    {
     "name": "stdout",
     "output_type": "stream",
     "text": [
      "Epoch :  133 Epoch 1/1, Batch Loss: 33.25795\n"
     ]
    },
    {
     "name": "stderr",
     "output_type": "stream",
     "text": [
      "100%|██████████████████████████████████████████████████████████████████████████████████| 28/28 [00:01<00:00, 24.75it/s]\n"
     ]
    },
    {
     "name": "stdout",
     "output_type": "stream",
     "text": [
      "Epoch :  134 Epoch 1/1, Batch Loss: 32.71782\n"
     ]
    },
    {
     "name": "stderr",
     "output_type": "stream",
     "text": [
      "100%|██████████████████████████████████████████████████████████████████████████████████| 28/28 [00:01<00:00, 19.55it/s]\n"
     ]
    },
    {
     "name": "stdout",
     "output_type": "stream",
     "text": [
      "Epoch :  135 Epoch 1/1, Batch Loss: 32.56224\n"
     ]
    },
    {
     "name": "stderr",
     "output_type": "stream",
     "text": [
      "100%|██████████████████████████████████████████████████████████████████████████████████| 28/28 [00:01<00:00, 20.08it/s]\n"
     ]
    },
    {
     "name": "stdout",
     "output_type": "stream",
     "text": [
      "Epoch :  136 Epoch 1/1, Batch Loss: 33.0369\n"
     ]
    },
    {
     "name": "stderr",
     "output_type": "stream",
     "text": [
      "100%|██████████████████████████████████████████████████████████████████████████████████| 28/28 [00:01<00:00, 21.71it/s]\n"
     ]
    },
    {
     "name": "stdout",
     "output_type": "stream",
     "text": [
      "Epoch :  137 Epoch 1/1, Batch Loss: 32.79905\n"
     ]
    },
    {
     "name": "stderr",
     "output_type": "stream",
     "text": [
      "100%|██████████████████████████████████████████████████████████████████████████████████| 28/28 [00:01<00:00, 21.62it/s]\n"
     ]
    },
    {
     "name": "stdout",
     "output_type": "stream",
     "text": [
      "Epoch :  138 Epoch 1/1, Batch Loss: 32.30442\n"
     ]
    },
    {
     "name": "stderr",
     "output_type": "stream",
     "text": [
      "100%|██████████████████████████████████████████████████████████████████████████████████| 28/28 [00:01<00:00, 23.86it/s]\n"
     ]
    },
    {
     "name": "stdout",
     "output_type": "stream",
     "text": [
      "Epoch :  139 Epoch 1/1, Batch Loss: 32.93296\n"
     ]
    },
    {
     "name": "stderr",
     "output_type": "stream",
     "text": [
      "100%|██████████████████████████████████████████████████████████████████████████████████| 28/28 [00:01<00:00, 22.57it/s]\n"
     ]
    },
    {
     "name": "stdout",
     "output_type": "stream",
     "text": [
      "Epoch :  140 Epoch 1/1, Batch Loss: 33.17591\n"
     ]
    },
    {
     "name": "stderr",
     "output_type": "stream",
     "text": [
      "100%|██████████████████████████████████████████████████████████████████████████████████| 28/28 [00:01<00:00, 24.11it/s]\n"
     ]
    },
    {
     "name": "stdout",
     "output_type": "stream",
     "text": [
      "Epoch :  141 Epoch 1/1, Batch Loss: 32.94506\n"
     ]
    },
    {
     "name": "stderr",
     "output_type": "stream",
     "text": [
      "100%|██████████████████████████████████████████████████████████████████████████████████| 28/28 [00:01<00:00, 23.68it/s]\n"
     ]
    },
    {
     "name": "stdout",
     "output_type": "stream",
     "text": [
      "Epoch :  142 Epoch 1/1, Batch Loss: 33.05052\n"
     ]
    },
    {
     "name": "stderr",
     "output_type": "stream",
     "text": [
      "100%|██████████████████████████████████████████████████████████████████████████████████| 28/28 [00:01<00:00, 22.61it/s]\n"
     ]
    },
    {
     "name": "stdout",
     "output_type": "stream",
     "text": [
      "Epoch :  143 Epoch 1/1, Batch Loss: 33.11556\n"
     ]
    },
    {
     "name": "stderr",
     "output_type": "stream",
     "text": [
      "100%|██████████████████████████████████████████████████████████████████████████████████| 28/28 [00:01<00:00, 24.10it/s]\n"
     ]
    },
    {
     "name": "stdout",
     "output_type": "stream",
     "text": [
      "Epoch :  144 Epoch 1/1, Batch Loss: 32.23742\n"
     ]
    },
    {
     "name": "stderr",
     "output_type": "stream",
     "text": [
      "100%|██████████████████████████████████████████████████████████████████████████████████| 28/28 [00:01<00:00, 22.19it/s]\n"
     ]
    },
    {
     "name": "stdout",
     "output_type": "stream",
     "text": [
      "Epoch :  145 Epoch 1/1, Batch Loss: 32.80116\n"
     ]
    },
    {
     "name": "stderr",
     "output_type": "stream",
     "text": [
      "100%|██████████████████████████████████████████████████████████████████████████████████| 28/28 [00:01<00:00, 22.93it/s]\n"
     ]
    },
    {
     "name": "stdout",
     "output_type": "stream",
     "text": [
      "Epoch :  146 Epoch 1/1, Batch Loss: 31.64147\n"
     ]
    },
    {
     "name": "stderr",
     "output_type": "stream",
     "text": [
      "100%|██████████████████████████████████████████████████████████████████████████████████| 28/28 [00:01<00:00, 26.76it/s]\n"
     ]
    },
    {
     "name": "stdout",
     "output_type": "stream",
     "text": [
      "Epoch :  147 Epoch 1/1, Batch Loss: 34.33812\n"
     ]
    },
    {
     "name": "stderr",
     "output_type": "stream",
     "text": [
      "100%|██████████████████████████████████████████████████████████████████████████████████| 28/28 [00:01<00:00, 25.78it/s]\n"
     ]
    },
    {
     "name": "stdout",
     "output_type": "stream",
     "text": [
      "Epoch :  148 Epoch 1/1, Batch Loss: 33.72406\n"
     ]
    },
    {
     "name": "stderr",
     "output_type": "stream",
     "text": [
      "100%|██████████████████████████████████████████████████████████████████████████████████| 28/28 [00:01<00:00, 24.54it/s]\n"
     ]
    },
    {
     "name": "stdout",
     "output_type": "stream",
     "text": [
      "Epoch :  149 Epoch 1/1, Batch Loss: 32.97478\n"
     ]
    },
    {
     "name": "stderr",
     "output_type": "stream",
     "text": [
      "100%|██████████████████████████████████████████████████████████████████████████████████| 28/28 [00:01<00:00, 24.94it/s]\n"
     ]
    },
    {
     "name": "stdout",
     "output_type": "stream",
     "text": [
      "Epoch :  150 Epoch 1/1, Batch Loss: 31.80773\n"
     ]
    },
    {
     "name": "stderr",
     "output_type": "stream",
     "text": [
      "100%|██████████████████████████████████████████████████████████████████████████████████| 28/28 [00:01<00:00, 26.25it/s]\n"
     ]
    },
    {
     "name": "stdout",
     "output_type": "stream",
     "text": [
      "Epoch :  151 Epoch 1/1, Batch Loss: 32.23491\n"
     ]
    },
    {
     "name": "stderr",
     "output_type": "stream",
     "text": [
      "100%|██████████████████████████████████████████████████████████████████████████████████| 28/28 [00:01<00:00, 25.21it/s]\n"
     ]
    },
    {
     "name": "stdout",
     "output_type": "stream",
     "text": [
      "Epoch :  152 Epoch 1/1, Batch Loss: 31.63888\n"
     ]
    },
    {
     "name": "stderr",
     "output_type": "stream",
     "text": [
      "100%|██████████████████████████████████████████████████████████████████████████████████| 28/28 [00:01<00:00, 26.77it/s]\n"
     ]
    },
    {
     "name": "stdout",
     "output_type": "stream",
     "text": [
      "Epoch :  153 Epoch 1/1, Batch Loss: 31.27539\n"
     ]
    },
    {
     "name": "stderr",
     "output_type": "stream",
     "text": [
      "100%|██████████████████████████████████████████████████████████████████████████████████| 28/28 [00:01<00:00, 24.58it/s]\n"
     ]
    },
    {
     "name": "stdout",
     "output_type": "stream",
     "text": [
      "Epoch :  154 Epoch 1/1, Batch Loss: 32.37948\n"
     ]
    },
    {
     "name": "stderr",
     "output_type": "stream",
     "text": [
      "100%|██████████████████████████████████████████████████████████████████████████████████| 28/28 [00:01<00:00, 21.64it/s]\n"
     ]
    },
    {
     "name": "stdout",
     "output_type": "stream",
     "text": [
      "Epoch :  155 Epoch 1/1, Batch Loss: 31.26861\n"
     ]
    },
    {
     "name": "stderr",
     "output_type": "stream",
     "text": [
      "100%|██████████████████████████████████████████████████████████████████████████████████| 28/28 [00:01<00:00, 19.65it/s]\n"
     ]
    },
    {
     "name": "stdout",
     "output_type": "stream",
     "text": [
      "Epoch :  156 Epoch 1/1, Batch Loss: 30.78012\n"
     ]
    },
    {
     "name": "stderr",
     "output_type": "stream",
     "text": [
      "100%|██████████████████████████████████████████████████████████████████████████████████| 28/28 [00:01<00:00, 20.55it/s]\n"
     ]
    },
    {
     "name": "stdout",
     "output_type": "stream",
     "text": [
      "Epoch :  157 Epoch 1/1, Batch Loss: 31.83129\n"
     ]
    },
    {
     "name": "stderr",
     "output_type": "stream",
     "text": [
      "100%|██████████████████████████████████████████████████████████████████████████████████| 28/28 [00:01<00:00, 21.41it/s]\n"
     ]
    },
    {
     "name": "stdout",
     "output_type": "stream",
     "text": [
      "Epoch :  158 Epoch 1/1, Batch Loss: 31.10699\n"
     ]
    },
    {
     "name": "stderr",
     "output_type": "stream",
     "text": [
      "100%|██████████████████████████████████████████████████████████████████████████████████| 28/28 [00:01<00:00, 20.65it/s]\n"
     ]
    },
    {
     "name": "stdout",
     "output_type": "stream",
     "text": [
      "Epoch :  159 Epoch 1/1, Batch Loss: 30.80099\n"
     ]
    },
    {
     "name": "stderr",
     "output_type": "stream",
     "text": [
      "100%|██████████████████████████████████████████████████████████████████████████████████| 28/28 [00:01<00:00, 20.02it/s]\n"
     ]
    },
    {
     "name": "stdout",
     "output_type": "stream",
     "text": [
      "Epoch :  160 Epoch 1/1, Batch Loss: 31.64228\n"
     ]
    },
    {
     "name": "stderr",
     "output_type": "stream",
     "text": [
      "100%|██████████████████████████████████████████████████████████████████████████████████| 28/28 [00:01<00:00, 23.22it/s]\n"
     ]
    },
    {
     "name": "stdout",
     "output_type": "stream",
     "text": [
      "Epoch :  161 Epoch 1/1, Batch Loss: 30.90082\n"
     ]
    },
    {
     "name": "stderr",
     "output_type": "stream",
     "text": [
      "100%|██████████████████████████████████████████████████████████████████████████████████| 28/28 [00:01<00:00, 21.29it/s]\n"
     ]
    },
    {
     "name": "stdout",
     "output_type": "stream",
     "text": [
      "Epoch :  162 Epoch 1/1, Batch Loss: 30.3758\n"
     ]
    },
    {
     "name": "stderr",
     "output_type": "stream",
     "text": [
      "100%|██████████████████████████████████████████████████████████████████████████████████| 28/28 [00:01<00:00, 23.15it/s]\n"
     ]
    },
    {
     "name": "stdout",
     "output_type": "stream",
     "text": [
      "Epoch :  163 Epoch 1/1, Batch Loss: 30.84387\n"
     ]
    },
    {
     "name": "stderr",
     "output_type": "stream",
     "text": [
      "100%|██████████████████████████████████████████████████████████████████████████████████| 28/28 [00:01<00:00, 21.80it/s]\n"
     ]
    },
    {
     "name": "stdout",
     "output_type": "stream",
     "text": [
      "Epoch :  164 Epoch 1/1, Batch Loss: 29.27325\n"
     ]
    },
    {
     "name": "stderr",
     "output_type": "stream",
     "text": [
      "100%|██████████████████████████████████████████████████████████████████████████████████| 28/28 [00:01<00:00, 22.11it/s]\n"
     ]
    },
    {
     "name": "stdout",
     "output_type": "stream",
     "text": [
      "Epoch :  165 Epoch 1/1, Batch Loss: 29.77592\n"
     ]
    },
    {
     "name": "stderr",
     "output_type": "stream",
     "text": [
      "100%|██████████████████████████████████████████████████████████████████████████████████| 28/28 [00:01<00:00, 16.68it/s]\n"
     ]
    },
    {
     "name": "stdout",
     "output_type": "stream",
     "text": [
      "Epoch :  166 Epoch 1/1, Batch Loss: 29.97904\n"
     ]
    },
    {
     "name": "stderr",
     "output_type": "stream",
     "text": [
      "100%|██████████████████████████████████████████████████████████████████████████████████| 28/28 [00:01<00:00, 15.25it/s]\n"
     ]
    },
    {
     "name": "stdout",
     "output_type": "stream",
     "text": [
      "Epoch :  167 Epoch 1/1, Batch Loss: 31.18569\n"
     ]
    },
    {
     "name": "stderr",
     "output_type": "stream",
     "text": [
      "100%|██████████████████████████████████████████████████████████████████████████████████| 28/28 [00:01<00:00, 17.66it/s]\n"
     ]
    },
    {
     "name": "stdout",
     "output_type": "stream",
     "text": [
      "Epoch :  168 Epoch 1/1, Batch Loss: 31.45795\n"
     ]
    },
    {
     "name": "stderr",
     "output_type": "stream",
     "text": [
      "100%|██████████████████████████████████████████████████████████████████████████████████| 28/28 [00:01<00:00, 20.93it/s]\n"
     ]
    },
    {
     "name": "stdout",
     "output_type": "stream",
     "text": [
      "Epoch :  169 Epoch 1/1, Batch Loss: 30.03578\n"
     ]
    },
    {
     "name": "stderr",
     "output_type": "stream",
     "text": [
      "100%|██████████████████████████████████████████████████████████████████████████████████| 28/28 [00:01<00:00, 22.40it/s]\n"
     ]
    },
    {
     "name": "stdout",
     "output_type": "stream",
     "text": [
      "Epoch :  170 Epoch 1/1, Batch Loss: 28.88015\n"
     ]
    },
    {
     "name": "stderr",
     "output_type": "stream",
     "text": [
      "100%|██████████████████████████████████████████████████████████████████████████████████| 28/28 [00:01<00:00, 21.25it/s]\n"
     ]
    },
    {
     "name": "stdout",
     "output_type": "stream",
     "text": [
      "Epoch :  171 Epoch 1/1, Batch Loss: 29.04287\n"
     ]
    },
    {
     "name": "stderr",
     "output_type": "stream",
     "text": [
      "100%|██████████████████████████████████████████████████████████████████████████████████| 28/28 [00:01<00:00, 22.46it/s]\n"
     ]
    },
    {
     "name": "stdout",
     "output_type": "stream",
     "text": [
      "Epoch :  172 Epoch 1/1, Batch Loss: 28.87238\n"
     ]
    },
    {
     "name": "stderr",
     "output_type": "stream",
     "text": [
      "100%|██████████████████████████████████████████████████████████████████████████████████| 28/28 [00:01<00:00, 16.40it/s]\n"
     ]
    },
    {
     "name": "stdout",
     "output_type": "stream",
     "text": [
      "Epoch :  173 Epoch 1/1, Batch Loss: 29.04139\n"
     ]
    },
    {
     "name": "stderr",
     "output_type": "stream",
     "text": [
      "100%|██████████████████████████████████████████████████████████████████████████████████| 28/28 [00:01<00:00, 22.23it/s]\n"
     ]
    },
    {
     "name": "stdout",
     "output_type": "stream",
     "text": [
      "Epoch :  174 Epoch 1/1, Batch Loss: 28.82578\n"
     ]
    },
    {
     "name": "stderr",
     "output_type": "stream",
     "text": [
      "100%|██████████████████████████████████████████████████████████████████████████████████| 28/28 [00:01<00:00, 23.82it/s]\n"
     ]
    },
    {
     "name": "stdout",
     "output_type": "stream",
     "text": [
      "Epoch :  175 Epoch 1/1, Batch Loss: 29.15297\n"
     ]
    },
    {
     "name": "stderr",
     "output_type": "stream",
     "text": [
      "100%|██████████████████████████████████████████████████████████████████████████████████| 28/28 [00:01<00:00, 24.07it/s]\n"
     ]
    },
    {
     "name": "stdout",
     "output_type": "stream",
     "text": [
      "Epoch :  176 Epoch 1/1, Batch Loss: 29.90258\n"
     ]
    },
    {
     "name": "stderr",
     "output_type": "stream",
     "text": [
      "100%|██████████████████████████████████████████████████████████████████████████████████| 28/28 [00:01<00:00, 27.15it/s]\n"
     ]
    },
    {
     "name": "stdout",
     "output_type": "stream",
     "text": [
      "Epoch :  177 Epoch 1/1, Batch Loss: 27.76515\n"
     ]
    },
    {
     "name": "stderr",
     "output_type": "stream",
     "text": [
      "100%|██████████████████████████████████████████████████████████████████████████████████| 28/28 [00:01<00:00, 26.42it/s]\n"
     ]
    },
    {
     "name": "stdout",
     "output_type": "stream",
     "text": [
      "Epoch :  178 Epoch 1/1, Batch Loss: 29.49875\n"
     ]
    },
    {
     "name": "stderr",
     "output_type": "stream",
     "text": [
      "100%|██████████████████████████████████████████████████████████████████████████████████| 28/28 [00:01<00:00, 27.94it/s]\n"
     ]
    },
    {
     "name": "stdout",
     "output_type": "stream",
     "text": [
      "Epoch :  179 Epoch 1/1, Batch Loss: 28.61793\n"
     ]
    },
    {
     "name": "stderr",
     "output_type": "stream",
     "text": [
      "100%|██████████████████████████████████████████████████████████████████████████████████| 28/28 [00:01<00:00, 26.94it/s]\n"
     ]
    },
    {
     "name": "stdout",
     "output_type": "stream",
     "text": [
      "Epoch :  180 Epoch 1/1, Batch Loss: 28.51052\n"
     ]
    },
    {
     "name": "stderr",
     "output_type": "stream",
     "text": [
      "100%|██████████████████████████████████████████████████████████████████████████████████| 28/28 [00:01<00:00, 27.00it/s]\n"
     ]
    },
    {
     "name": "stdout",
     "output_type": "stream",
     "text": [
      "Epoch :  181 Epoch 1/1, Batch Loss: 28.09832\n"
     ]
    },
    {
     "name": "stderr",
     "output_type": "stream",
     "text": [
      "100%|██████████████████████████████████████████████████████████████████████████████████| 28/28 [00:01<00:00, 26.97it/s]\n"
     ]
    },
    {
     "name": "stdout",
     "output_type": "stream",
     "text": [
      "Epoch :  182 Epoch 1/1, Batch Loss: 28.55438\n"
     ]
    },
    {
     "name": "stderr",
     "output_type": "stream",
     "text": [
      "100%|██████████████████████████████████████████████████████████████████████████████████| 28/28 [00:01<00:00, 27.37it/s]\n"
     ]
    },
    {
     "name": "stdout",
     "output_type": "stream",
     "text": [
      "Epoch :  183 Epoch 1/1, Batch Loss: 27.59277\n"
     ]
    },
    {
     "name": "stderr",
     "output_type": "stream",
     "text": [
      "100%|██████████████████████████████████████████████████████████████████████████████████| 28/28 [00:01<00:00, 27.19it/s]\n"
     ]
    },
    {
     "name": "stdout",
     "output_type": "stream",
     "text": [
      "Epoch :  184 Epoch 1/1, Batch Loss: 27.2292\n"
     ]
    },
    {
     "name": "stderr",
     "output_type": "stream",
     "text": [
      "100%|██████████████████████████████████████████████████████████████████████████████████| 28/28 [00:01<00:00, 27.65it/s]\n"
     ]
    },
    {
     "name": "stdout",
     "output_type": "stream",
     "text": [
      "Epoch :  185 Epoch 1/1, Batch Loss: 28.44879\n"
     ]
    },
    {
     "name": "stderr",
     "output_type": "stream",
     "text": [
      "100%|██████████████████████████████████████████████████████████████████████████████████| 28/28 [00:01<00:00, 26.56it/s]\n"
     ]
    },
    {
     "name": "stdout",
     "output_type": "stream",
     "text": [
      "Epoch :  186 Epoch 1/1, Batch Loss: 30.31779\n"
     ]
    },
    {
     "name": "stderr",
     "output_type": "stream",
     "text": [
      "100%|██████████████████████████████████████████████████████████████████████████████████| 28/28 [00:01<00:00, 27.11it/s]\n"
     ]
    },
    {
     "name": "stdout",
     "output_type": "stream",
     "text": [
      "Epoch :  187 Epoch 1/1, Batch Loss: 27.66027\n"
     ]
    },
    {
     "name": "stderr",
     "output_type": "stream",
     "text": [
      "100%|██████████████████████████████████████████████████████████████████████████████████| 28/28 [00:01<00:00, 27.11it/s]\n"
     ]
    },
    {
     "name": "stdout",
     "output_type": "stream",
     "text": [
      "Epoch :  188 Epoch 1/1, Batch Loss: 26.86476\n"
     ]
    },
    {
     "name": "stderr",
     "output_type": "stream",
     "text": [
      "100%|██████████████████████████████████████████████████████████████████████████████████| 28/28 [00:01<00:00, 26.82it/s]\n"
     ]
    },
    {
     "name": "stdout",
     "output_type": "stream",
     "text": [
      "Epoch :  189 Epoch 1/1, Batch Loss: 27.45018\n"
     ]
    },
    {
     "name": "stderr",
     "output_type": "stream",
     "text": [
      "100%|██████████████████████████████████████████████████████████████████████████████████| 28/28 [00:01<00:00, 26.31it/s]\n"
     ]
    },
    {
     "name": "stdout",
     "output_type": "stream",
     "text": [
      "Epoch :  190 Epoch 1/1, Batch Loss: 28.35879\n"
     ]
    },
    {
     "name": "stderr",
     "output_type": "stream",
     "text": [
      "100%|██████████████████████████████████████████████████████████████████████████████████| 28/28 [00:01<00:00, 27.60it/s]\n"
     ]
    },
    {
     "name": "stdout",
     "output_type": "stream",
     "text": [
      "Epoch :  191 Epoch 1/1, Batch Loss: 28.38983\n"
     ]
    },
    {
     "name": "stderr",
     "output_type": "stream",
     "text": [
      "100%|██████████████████████████████████████████████████████████████████████████████████| 28/28 [00:01<00:00, 26.62it/s]\n"
     ]
    },
    {
     "name": "stdout",
     "output_type": "stream",
     "text": [
      "Epoch :  192 Epoch 1/1, Batch Loss: 26.7192\n"
     ]
    },
    {
     "name": "stderr",
     "output_type": "stream",
     "text": [
      "100%|██████████████████████████████████████████████████████████████████████████████████| 28/28 [00:01<00:00, 27.43it/s]\n"
     ]
    },
    {
     "name": "stdout",
     "output_type": "stream",
     "text": [
      "Epoch :  193 Epoch 1/1, Batch Loss: 29.23626\n"
     ]
    },
    {
     "name": "stderr",
     "output_type": "stream",
     "text": [
      "100%|██████████████████████████████████████████████████████████████████████████████████| 28/28 [00:01<00:00, 26.53it/s]\n"
     ]
    },
    {
     "name": "stdout",
     "output_type": "stream",
     "text": [
      "Epoch :  194 Epoch 1/1, Batch Loss: 27.39234\n"
     ]
    },
    {
     "name": "stderr",
     "output_type": "stream",
     "text": [
      "100%|██████████████████████████████████████████████████████████████████████████████████| 28/28 [00:01<00:00, 27.67it/s]\n"
     ]
    },
    {
     "name": "stdout",
     "output_type": "stream",
     "text": [
      "Epoch :  195 Epoch 1/1, Batch Loss: 27.65868\n"
     ]
    },
    {
     "name": "stderr",
     "output_type": "stream",
     "text": [
      "100%|██████████████████████████████████████████████████████████████████████████████████| 28/28 [00:01<00:00, 26.68it/s]\n"
     ]
    },
    {
     "name": "stdout",
     "output_type": "stream",
     "text": [
      "Epoch :  196 Epoch 1/1, Batch Loss: 26.89815\n"
     ]
    },
    {
     "name": "stderr",
     "output_type": "stream",
     "text": [
      "100%|██████████████████████████████████████████████████████████████████████████████████| 28/28 [00:01<00:00, 27.70it/s]\n"
     ]
    },
    {
     "name": "stdout",
     "output_type": "stream",
     "text": [
      "Epoch :  197 Epoch 1/1, Batch Loss: 29.9752\n"
     ]
    },
    {
     "name": "stderr",
     "output_type": "stream",
     "text": [
      "100%|██████████████████████████████████████████████████████████████████████████████████| 28/28 [00:01<00:00, 26.19it/s]\n"
     ]
    },
    {
     "name": "stdout",
     "output_type": "stream",
     "text": [
      "Epoch :  198 Epoch 1/1, Batch Loss: 27.59057\n"
     ]
    },
    {
     "name": "stderr",
     "output_type": "stream",
     "text": [
      "100%|██████████████████████████████████████████████████████████████████████████████████| 28/28 [00:01<00:00, 26.84it/s]\n"
     ]
    },
    {
     "name": "stdout",
     "output_type": "stream",
     "text": [
      "Epoch :  199 Epoch 1/1, Batch Loss: 27.00428\n"
     ]
    },
    {
     "name": "stderr",
     "output_type": "stream",
     "text": [
      "100%|██████████████████████████████████████████████████████████████████████████████████| 28/28 [00:01<00:00, 26.42it/s]\n"
     ]
    },
    {
     "name": "stdout",
     "output_type": "stream",
     "text": [
      "Epoch :  200 Epoch 1/1, Batch Loss: 26.35146\n"
     ]
    },
    {
     "name": "stderr",
     "output_type": "stream",
     "text": [
      "100%|██████████████████████████████████████████████████████████████████████████████████| 28/28 [00:01<00:00, 27.33it/s]\n"
     ]
    },
    {
     "name": "stdout",
     "output_type": "stream",
     "text": [
      "Epoch :  201 Epoch 1/1, Batch Loss: 26.82061\n"
     ]
    },
    {
     "name": "stderr",
     "output_type": "stream",
     "text": [
      "100%|██████████████████████████████████████████████████████████████████████████████████| 28/28 [00:01<00:00, 26.15it/s]\n"
     ]
    },
    {
     "name": "stdout",
     "output_type": "stream",
     "text": [
      "Epoch :  202 Epoch 1/1, Batch Loss: 26.26736\n"
     ]
    },
    {
     "name": "stderr",
     "output_type": "stream",
     "text": [
      "100%|██████████████████████████████████████████████████████████████████████████████████| 28/28 [00:01<00:00, 27.26it/s]\n"
     ]
    },
    {
     "name": "stdout",
     "output_type": "stream",
     "text": [
      "Epoch :  203 Epoch 1/1, Batch Loss: 29.34621\n"
     ]
    },
    {
     "name": "stderr",
     "output_type": "stream",
     "text": [
      "100%|██████████████████████████████████████████████████████████████████████████████████| 28/28 [00:01<00:00, 26.49it/s]\n"
     ]
    },
    {
     "name": "stdout",
     "output_type": "stream",
     "text": [
      "Epoch :  204 Epoch 1/1, Batch Loss: 26.97108\n"
     ]
    },
    {
     "name": "stderr",
     "output_type": "stream",
     "text": [
      "100%|██████████████████████████████████████████████████████████████████████████████████| 28/28 [00:01<00:00, 27.31it/s]\n"
     ]
    },
    {
     "name": "stdout",
     "output_type": "stream",
     "text": [
      "Epoch :  205 Epoch 1/1, Batch Loss: 24.85636\n"
     ]
    },
    {
     "name": "stderr",
     "output_type": "stream",
     "text": [
      "100%|██████████████████████████████████████████████████████████████████████████████████| 28/28 [00:01<00:00, 26.20it/s]\n"
     ]
    },
    {
     "name": "stdout",
     "output_type": "stream",
     "text": [
      "Epoch :  206 Epoch 1/1, Batch Loss: 26.9336\n"
     ]
    },
    {
     "name": "stderr",
     "output_type": "stream",
     "text": [
      "100%|██████████████████████████████████████████████████████████████████████████████████| 28/28 [00:00<00:00, 28.19it/s]\n"
     ]
    },
    {
     "name": "stdout",
     "output_type": "stream",
     "text": [
      "Epoch :  207 Epoch 1/1, Batch Loss: 27.99715\n"
     ]
    },
    {
     "name": "stderr",
     "output_type": "stream",
     "text": [
      "100%|██████████████████████████████████████████████████████████████████████████████████| 28/28 [00:01<00:00, 26.50it/s]\n"
     ]
    },
    {
     "name": "stdout",
     "output_type": "stream",
     "text": [
      "Epoch :  208 Epoch 1/1, Batch Loss: 28.05469\n"
     ]
    },
    {
     "name": "stderr",
     "output_type": "stream",
     "text": [
      "100%|██████████████████████████████████████████████████████████████████████████████████| 28/28 [00:01<00:00, 27.51it/s]\n"
     ]
    },
    {
     "name": "stdout",
     "output_type": "stream",
     "text": [
      "Epoch :  209 Epoch 1/1, Batch Loss: 24.65431\n"
     ]
    },
    {
     "name": "stderr",
     "output_type": "stream",
     "text": [
      "100%|██████████████████████████████████████████████████████████████████████████████████| 28/28 [00:01<00:00, 26.43it/s]\n"
     ]
    },
    {
     "name": "stdout",
     "output_type": "stream",
     "text": [
      "Epoch :  210 Epoch 1/1, Batch Loss: 26.84542\n"
     ]
    },
    {
     "name": "stderr",
     "output_type": "stream",
     "text": [
      "100%|██████████████████████████████████████████████████████████████████████████████████| 28/28 [00:01<00:00, 27.70it/s]\n"
     ]
    },
    {
     "name": "stdout",
     "output_type": "stream",
     "text": [
      "Epoch :  211 Epoch 1/1, Batch Loss: 27.17447\n"
     ]
    },
    {
     "name": "stderr",
     "output_type": "stream",
     "text": [
      "100%|██████████████████████████████████████████████████████████████████████████████████| 28/28 [00:01<00:00, 26.34it/s]\n"
     ]
    },
    {
     "name": "stdout",
     "output_type": "stream",
     "text": [
      "Epoch :  212 Epoch 1/1, Batch Loss: 24.25316\n"
     ]
    },
    {
     "name": "stderr",
     "output_type": "stream",
     "text": [
      "100%|██████████████████████████████████████████████████████████████████████████████████| 28/28 [00:01<00:00, 26.31it/s]\n"
     ]
    },
    {
     "name": "stdout",
     "output_type": "stream",
     "text": [
      "Epoch :  213 Epoch 1/1, Batch Loss: 25.8954\n"
     ]
    },
    {
     "name": "stderr",
     "output_type": "stream",
     "text": [
      "100%|██████████████████████████████████████████████████████████████████████████████████| 28/28 [00:01<00:00, 26.40it/s]\n"
     ]
    },
    {
     "name": "stdout",
     "output_type": "stream",
     "text": [
      "Epoch :  214 Epoch 1/1, Batch Loss: 24.40714\n"
     ]
    },
    {
     "name": "stderr",
     "output_type": "stream",
     "text": [
      "100%|██████████████████████████████████████████████████████████████████████████████████| 28/28 [00:01<00:00, 27.72it/s]\n"
     ]
    },
    {
     "name": "stdout",
     "output_type": "stream",
     "text": [
      "Epoch :  215 Epoch 1/1, Batch Loss: 24.4673\n"
     ]
    },
    {
     "name": "stderr",
     "output_type": "stream",
     "text": [
      "100%|██████████████████████████████████████████████████████████████████████████████████| 28/28 [00:01<00:00, 27.21it/s]\n"
     ]
    },
    {
     "name": "stdout",
     "output_type": "stream",
     "text": [
      "Epoch :  216 Epoch 1/1, Batch Loss: 26.54653\n"
     ]
    },
    {
     "name": "stderr",
     "output_type": "stream",
     "text": [
      "100%|██████████████████████████████████████████████████████████████████████████████████| 28/28 [00:00<00:00, 28.37it/s]\n"
     ]
    },
    {
     "name": "stdout",
     "output_type": "stream",
     "text": [
      "Epoch :  217 Epoch 1/1, Batch Loss: 24.66705\n"
     ]
    },
    {
     "name": "stderr",
     "output_type": "stream",
     "text": [
      "100%|██████████████████████████████████████████████████████████████████████████████████| 28/28 [00:01<00:00, 27.47it/s]\n"
     ]
    },
    {
     "name": "stdout",
     "output_type": "stream",
     "text": [
      "Epoch :  218 Epoch 1/1, Batch Loss: 23.96765\n"
     ]
    },
    {
     "name": "stderr",
     "output_type": "stream",
     "text": [
      "100%|██████████████████████████████████████████████████████████████████████████████████| 28/28 [00:01<00:00, 27.79it/s]\n"
     ]
    },
    {
     "name": "stdout",
     "output_type": "stream",
     "text": [
      "Epoch :  219 Epoch 1/1, Batch Loss: 25.45802\n"
     ]
    },
    {
     "name": "stderr",
     "output_type": "stream",
     "text": [
      "100%|██████████████████████████████████████████████████████████████████████████████████| 28/28 [00:01<00:00, 26.91it/s]\n"
     ]
    },
    {
     "name": "stdout",
     "output_type": "stream",
     "text": [
      "Epoch :  220 Epoch 1/1, Batch Loss: 23.72643\n"
     ]
    },
    {
     "name": "stderr",
     "output_type": "stream",
     "text": [
      "100%|██████████████████████████████████████████████████████████████████████████████████| 28/28 [00:00<00:00, 28.15it/s]\n"
     ]
    },
    {
     "name": "stdout",
     "output_type": "stream",
     "text": [
      "Epoch :  221 Epoch 1/1, Batch Loss: 24.69847\n"
     ]
    },
    {
     "name": "stderr",
     "output_type": "stream",
     "text": [
      "100%|██████████████████████████████████████████████████████████████████████████████████| 28/28 [00:01<00:00, 27.06it/s]\n"
     ]
    },
    {
     "name": "stdout",
     "output_type": "stream",
     "text": [
      "Epoch :  222 Epoch 1/1, Batch Loss: 24.61855\n"
     ]
    },
    {
     "name": "stderr",
     "output_type": "stream",
     "text": [
      "100%|██████████████████████████████████████████████████████████████████████████████████| 28/28 [00:01<00:00, 27.60it/s]\n"
     ]
    },
    {
     "name": "stdout",
     "output_type": "stream",
     "text": [
      "Epoch :  223 Epoch 1/1, Batch Loss: 24.47546\n"
     ]
    },
    {
     "name": "stderr",
     "output_type": "stream",
     "text": [
      "100%|██████████████████████████████████████████████████████████████████████████████████| 28/28 [00:01<00:00, 27.61it/s]\n"
     ]
    },
    {
     "name": "stdout",
     "output_type": "stream",
     "text": [
      "Epoch :  224 Epoch 1/1, Batch Loss: 23.88863\n"
     ]
    },
    {
     "name": "stderr",
     "output_type": "stream",
     "text": [
      "100%|██████████████████████████████████████████████████████████████████████████████████| 28/28 [00:01<00:00, 26.63it/s]\n"
     ]
    },
    {
     "name": "stdout",
     "output_type": "stream",
     "text": [
      "Epoch :  225 Epoch 1/1, Batch Loss: 26.00922\n"
     ]
    },
    {
     "name": "stderr",
     "output_type": "stream",
     "text": [
      "100%|██████████████████████████████████████████████████████████████████████████████████| 28/28 [00:01<00:00, 25.21it/s]\n"
     ]
    },
    {
     "name": "stdout",
     "output_type": "stream",
     "text": [
      "Epoch :  226 Epoch 1/1, Batch Loss: 24.5356\n"
     ]
    },
    {
     "name": "stderr",
     "output_type": "stream",
     "text": [
      "100%|██████████████████████████████████████████████████████████████████████████████████| 28/28 [00:01<00:00, 27.86it/s]\n"
     ]
    },
    {
     "name": "stdout",
     "output_type": "stream",
     "text": [
      "Epoch :  227 Epoch 1/1, Batch Loss: 24.55962\n"
     ]
    },
    {
     "name": "stderr",
     "output_type": "stream",
     "text": [
      "100%|██████████████████████████████████████████████████████████████████████████████████| 28/28 [00:01<00:00, 27.85it/s]\n"
     ]
    },
    {
     "name": "stdout",
     "output_type": "stream",
     "text": [
      "Epoch :  228 Epoch 1/1, Batch Loss: 22.73338\n"
     ]
    },
    {
     "name": "stderr",
     "output_type": "stream",
     "text": [
      "100%|██████████████████████████████████████████████████████████████████████████████████| 28/28 [00:00<00:00, 28.62it/s]\n"
     ]
    },
    {
     "name": "stdout",
     "output_type": "stream",
     "text": [
      "Epoch :  229 Epoch 1/1, Batch Loss: 23.2393\n"
     ]
    },
    {
     "name": "stderr",
     "output_type": "stream",
     "text": [
      "100%|██████████████████████████████████████████████████████████████████████████████████| 28/28 [00:00<00:00, 28.10it/s]\n"
     ]
    },
    {
     "name": "stdout",
     "output_type": "stream",
     "text": [
      "Epoch :  230 Epoch 1/1, Batch Loss: 23.00844\n"
     ]
    },
    {
     "name": "stderr",
     "output_type": "stream",
     "text": [
      "100%|██████████████████████████████████████████████████████████████████████████████████| 28/28 [00:01<00:00, 26.79it/s]\n"
     ]
    },
    {
     "name": "stdout",
     "output_type": "stream",
     "text": [
      "Epoch :  231 Epoch 1/1, Batch Loss: 24.62107\n"
     ]
    },
    {
     "name": "stderr",
     "output_type": "stream",
     "text": [
      "100%|██████████████████████████████████████████████████████████████████████████████████| 28/28 [00:01<00:00, 27.40it/s]\n"
     ]
    },
    {
     "name": "stdout",
     "output_type": "stream",
     "text": [
      "Epoch :  232 Epoch 1/1, Batch Loss: 24.01949\n"
     ]
    },
    {
     "name": "stderr",
     "output_type": "stream",
     "text": [
      "100%|██████████████████████████████████████████████████████████████████████████████████| 28/28 [00:01<00:00, 26.30it/s]\n"
     ]
    },
    {
     "name": "stdout",
     "output_type": "stream",
     "text": [
      "Epoch :  233 Epoch 1/1, Batch Loss: 25.41768\n"
     ]
    },
    {
     "name": "stderr",
     "output_type": "stream",
     "text": [
      "100%|██████████████████████████████████████████████████████████████████████████████████| 28/28 [00:01<00:00, 26.59it/s]\n"
     ]
    },
    {
     "name": "stdout",
     "output_type": "stream",
     "text": [
      "Epoch :  234 Epoch 1/1, Batch Loss: 23.33468\n"
     ]
    },
    {
     "name": "stderr",
     "output_type": "stream",
     "text": [
      "100%|██████████████████████████████████████████████████████████████████████████████████| 28/28 [00:01<00:00, 25.71it/s]\n"
     ]
    },
    {
     "name": "stdout",
     "output_type": "stream",
     "text": [
      "Epoch :  235 Epoch 1/1, Batch Loss: 22.27803\n"
     ]
    },
    {
     "name": "stderr",
     "output_type": "stream",
     "text": [
      "100%|██████████████████████████████████████████████████████████████████████████████████| 28/28 [00:01<00:00, 27.61it/s]\n"
     ]
    },
    {
     "name": "stdout",
     "output_type": "stream",
     "text": [
      "Epoch :  236 Epoch 1/1, Batch Loss: 20.79449\n"
     ]
    },
    {
     "name": "stderr",
     "output_type": "stream",
     "text": [
      "100%|██████████████████████████████████████████████████████████████████████████████████| 28/28 [00:01<00:00, 25.72it/s]\n"
     ]
    },
    {
     "name": "stdout",
     "output_type": "stream",
     "text": [
      "Epoch :  237 Epoch 1/1, Batch Loss: 22.59254\n"
     ]
    },
    {
     "name": "stderr",
     "output_type": "stream",
     "text": [
      "100%|██████████████████████████████████████████████████████████████████████████████████| 28/28 [00:00<00:00, 28.17it/s]\n"
     ]
    },
    {
     "name": "stdout",
     "output_type": "stream",
     "text": [
      "Epoch :  238 Epoch 1/1, Batch Loss: 22.38488\n"
     ]
    },
    {
     "name": "stderr",
     "output_type": "stream",
     "text": [
      "100%|██████████████████████████████████████████████████████████████████████████████████| 28/28 [00:01<00:00, 26.60it/s]\n"
     ]
    },
    {
     "name": "stdout",
     "output_type": "stream",
     "text": [
      "Epoch :  239 Epoch 1/1, Batch Loss: 22.39678\n"
     ]
    },
    {
     "name": "stderr",
     "output_type": "stream",
     "text": [
      "100%|██████████████████████████████████████████████████████████████████████████████████| 28/28 [00:01<00:00, 27.62it/s]\n"
     ]
    },
    {
     "name": "stdout",
     "output_type": "stream",
     "text": [
      "Epoch :  240 Epoch 1/1, Batch Loss: 21.10879\n"
     ]
    },
    {
     "name": "stderr",
     "output_type": "stream",
     "text": [
      "100%|██████████████████████████████████████████████████████████████████████████████████| 28/28 [00:01<00:00, 23.62it/s]\n"
     ]
    },
    {
     "name": "stdout",
     "output_type": "stream",
     "text": [
      "Epoch :  241 Epoch 1/1, Batch Loss: 25.39697\n"
     ]
    },
    {
     "name": "stderr",
     "output_type": "stream",
     "text": [
      "100%|██████████████████████████████████████████████████████████████████████████████████| 28/28 [00:01<00:00, 21.98it/s]\n"
     ]
    },
    {
     "name": "stdout",
     "output_type": "stream",
     "text": [
      "Epoch :  242 Epoch 1/1, Batch Loss: 20.69313\n"
     ]
    },
    {
     "name": "stderr",
     "output_type": "stream",
     "text": [
      "100%|██████████████████████████████████████████████████████████████████████████████████| 28/28 [00:01<00:00, 21.88it/s]\n"
     ]
    },
    {
     "name": "stdout",
     "output_type": "stream",
     "text": [
      "Epoch :  243 Epoch 1/1, Batch Loss: 24.67902\n"
     ]
    },
    {
     "name": "stderr",
     "output_type": "stream",
     "text": [
      "100%|██████████████████████████████████████████████████████████████████████████████████| 28/28 [00:01<00:00, 21.11it/s]\n"
     ]
    },
    {
     "name": "stdout",
     "output_type": "stream",
     "text": [
      "Epoch :  244 Epoch 1/1, Batch Loss: 21.34025\n"
     ]
    },
    {
     "name": "stderr",
     "output_type": "stream",
     "text": [
      "100%|██████████████████████████████████████████████████████████████████████████████████| 28/28 [00:01<00:00, 24.57it/s]\n"
     ]
    },
    {
     "name": "stdout",
     "output_type": "stream",
     "text": [
      "Epoch :  245 Epoch 1/1, Batch Loss: 21.94942\n"
     ]
    },
    {
     "name": "stderr",
     "output_type": "stream",
     "text": [
      "100%|██████████████████████████████████████████████████████████████████████████████████| 28/28 [00:01<00:00, 20.63it/s]\n"
     ]
    },
    {
     "name": "stdout",
     "output_type": "stream",
     "text": [
      "Epoch :  246 Epoch 1/1, Batch Loss: 21.32941\n"
     ]
    },
    {
     "name": "stderr",
     "output_type": "stream",
     "text": [
      "100%|██████████████████████████████████████████████████████████████████████████████████| 28/28 [00:01<00:00, 21.21it/s]\n"
     ]
    },
    {
     "name": "stdout",
     "output_type": "stream",
     "text": [
      "Epoch :  247 Epoch 1/1, Batch Loss: 21.61942\n"
     ]
    },
    {
     "name": "stderr",
     "output_type": "stream",
     "text": [
      "100%|██████████████████████████████████████████████████████████████████████████████████| 28/28 [00:01<00:00, 21.16it/s]\n"
     ]
    },
    {
     "name": "stdout",
     "output_type": "stream",
     "text": [
      "Epoch :  248 Epoch 1/1, Batch Loss: 23.1163\n"
     ]
    },
    {
     "name": "stderr",
     "output_type": "stream",
     "text": [
      "100%|██████████████████████████████████████████████████████████████████████████████████| 28/28 [00:01<00:00, 22.70it/s]\n"
     ]
    },
    {
     "name": "stdout",
     "output_type": "stream",
     "text": [
      "Epoch :  249 Epoch 1/1, Batch Loss: 22.25325\n"
     ]
    },
    {
     "name": "stderr",
     "output_type": "stream",
     "text": [
      "100%|██████████████████████████████████████████████████████████████████████████████████| 28/28 [00:01<00:00, 21.14it/s]\n"
     ]
    },
    {
     "name": "stdout",
     "output_type": "stream",
     "text": [
      "Epoch :  250 Epoch 1/1, Batch Loss: 22.23917\n"
     ]
    },
    {
     "name": "stderr",
     "output_type": "stream",
     "text": [
      "100%|██████████████████████████████████████████████████████████████████████████████████| 28/28 [00:01<00:00, 21.04it/s]\n"
     ]
    },
    {
     "name": "stdout",
     "output_type": "stream",
     "text": [
      "Epoch :  251 Epoch 1/1, Batch Loss: 21.63531\n"
     ]
    },
    {
     "name": "stderr",
     "output_type": "stream",
     "text": [
      "100%|██████████████████████████████████████████████████████████████████████████████████| 28/28 [00:01<00:00, 20.63it/s]\n"
     ]
    },
    {
     "name": "stdout",
     "output_type": "stream",
     "text": [
      "Epoch :  252 Epoch 1/1, Batch Loss: 21.13862\n"
     ]
    },
    {
     "name": "stderr",
     "output_type": "stream",
     "text": [
      "100%|██████████████████████████████████████████████████████████████████████████████████| 28/28 [00:01<00:00, 20.79it/s]\n"
     ]
    },
    {
     "name": "stdout",
     "output_type": "stream",
     "text": [
      "Epoch :  253 Epoch 1/1, Batch Loss: 21.29666\n"
     ]
    },
    {
     "name": "stderr",
     "output_type": "stream",
     "text": [
      "100%|██████████████████████████████████████████████████████████████████████████████████| 28/28 [00:01<00:00, 20.12it/s]\n"
     ]
    },
    {
     "name": "stdout",
     "output_type": "stream",
     "text": [
      "Epoch :  254 Epoch 1/1, Batch Loss: 20.7663\n"
     ]
    },
    {
     "name": "stderr",
     "output_type": "stream",
     "text": [
      "100%|██████████████████████████████████████████████████████████████████████████████████| 28/28 [00:01<00:00, 20.39it/s]\n"
     ]
    },
    {
     "name": "stdout",
     "output_type": "stream",
     "text": [
      "Epoch :  255 Epoch 1/1, Batch Loss: 19.22603\n"
     ]
    },
    {
     "name": "stderr",
     "output_type": "stream",
     "text": [
      "100%|██████████████████████████████████████████████████████████████████████████████████| 28/28 [00:01<00:00, 20.07it/s]\n"
     ]
    },
    {
     "name": "stdout",
     "output_type": "stream",
     "text": [
      "Epoch :  256 Epoch 1/1, Batch Loss: 18.24964\n"
     ]
    },
    {
     "name": "stderr",
     "output_type": "stream",
     "text": [
      "100%|██████████████████████████████████████████████████████████████████████████████████| 28/28 [00:01<00:00, 20.72it/s]\n"
     ]
    },
    {
     "name": "stdout",
     "output_type": "stream",
     "text": [
      "Epoch :  257 Epoch 1/1, Batch Loss: 20.29089\n"
     ]
    },
    {
     "name": "stderr",
     "output_type": "stream",
     "text": [
      "100%|██████████████████████████████████████████████████████████████████████████████████| 28/28 [00:01<00:00, 21.24it/s]\n"
     ]
    },
    {
     "name": "stdout",
     "output_type": "stream",
     "text": [
      "Epoch :  258 Epoch 1/1, Batch Loss: 20.64997\n"
     ]
    },
    {
     "name": "stderr",
     "output_type": "stream",
     "text": [
      "100%|██████████████████████████████████████████████████████████████████████████████████| 28/28 [00:01<00:00, 21.92it/s]\n"
     ]
    },
    {
     "name": "stdout",
     "output_type": "stream",
     "text": [
      "Epoch :  259 Epoch 1/1, Batch Loss: 21.34529\n"
     ]
    },
    {
     "name": "stderr",
     "output_type": "stream",
     "text": [
      "100%|██████████████████████████████████████████████████████████████████████████████████| 28/28 [00:01<00:00, 22.33it/s]\n"
     ]
    },
    {
     "name": "stdout",
     "output_type": "stream",
     "text": [
      "Epoch :  260 Epoch 1/1, Batch Loss: 20.35963\n"
     ]
    },
    {
     "name": "stderr",
     "output_type": "stream",
     "text": [
      "100%|██████████████████████████████████████████████████████████████████████████████████| 28/28 [00:01<00:00, 20.51it/s]\n"
     ]
    },
    {
     "name": "stdout",
     "output_type": "stream",
     "text": [
      "Epoch :  261 Epoch 1/1, Batch Loss: 21.0738\n"
     ]
    },
    {
     "name": "stderr",
     "output_type": "stream",
     "text": [
      "100%|██████████████████████████████████████████████████████████████████████████████████| 28/28 [00:01<00:00, 23.33it/s]\n"
     ]
    },
    {
     "name": "stdout",
     "output_type": "stream",
     "text": [
      "Epoch :  262 Epoch 1/1, Batch Loss: 19.86723\n"
     ]
    },
    {
     "name": "stderr",
     "output_type": "stream",
     "text": [
      "100%|██████████████████████████████████████████████████████████████████████████████████| 28/28 [00:01<00:00, 22.45it/s]\n"
     ]
    },
    {
     "name": "stdout",
     "output_type": "stream",
     "text": [
      "Epoch :  263 Epoch 1/1, Batch Loss: 18.62343\n"
     ]
    },
    {
     "name": "stderr",
     "output_type": "stream",
     "text": [
      "100%|██████████████████████████████████████████████████████████████████████████████████| 28/28 [00:01<00:00, 24.36it/s]\n"
     ]
    },
    {
     "name": "stdout",
     "output_type": "stream",
     "text": [
      "Epoch :  264 Epoch 1/1, Batch Loss: 19.54017\n"
     ]
    },
    {
     "name": "stderr",
     "output_type": "stream",
     "text": [
      "100%|██████████████████████████████████████████████████████████████████████████████████| 28/28 [00:01<00:00, 23.36it/s]\n"
     ]
    },
    {
     "name": "stdout",
     "output_type": "stream",
     "text": [
      "Epoch :  265 Epoch 1/1, Batch Loss: 19.75499\n"
     ]
    },
    {
     "name": "stderr",
     "output_type": "stream",
     "text": [
      "100%|██████████████████████████████████████████████████████████████████████████████████| 28/28 [00:01<00:00, 22.54it/s]\n"
     ]
    },
    {
     "name": "stdout",
     "output_type": "stream",
     "text": [
      "Epoch :  266 Epoch 1/1, Batch Loss: 21.73104\n"
     ]
    },
    {
     "name": "stderr",
     "output_type": "stream",
     "text": [
      "100%|██████████████████████████████████████████████████████████████████████████████████| 28/28 [00:01<00:00, 22.94it/s]\n"
     ]
    },
    {
     "name": "stdout",
     "output_type": "stream",
     "text": [
      "Epoch :  267 Epoch 1/1, Batch Loss: 20.29742\n"
     ]
    },
    {
     "name": "stderr",
     "output_type": "stream",
     "text": [
      "100%|██████████████████████████████████████████████████████████████████████████████████| 28/28 [00:01<00:00, 23.18it/s]\n"
     ]
    },
    {
     "name": "stdout",
     "output_type": "stream",
     "text": [
      "Epoch :  268 Epoch 1/1, Batch Loss: 19.63713\n"
     ]
    },
    {
     "name": "stderr",
     "output_type": "stream",
     "text": [
      "100%|██████████████████████████████████████████████████████████████████████████████████| 28/28 [00:01<00:00, 21.61it/s]\n"
     ]
    },
    {
     "name": "stdout",
     "output_type": "stream",
     "text": [
      "Epoch :  269 Epoch 1/1, Batch Loss: 17.90665\n"
     ]
    },
    {
     "name": "stderr",
     "output_type": "stream",
     "text": [
      "100%|██████████████████████████████████████████████████████████████████████████████████| 28/28 [00:01<00:00, 21.79it/s]\n"
     ]
    },
    {
     "name": "stdout",
     "output_type": "stream",
     "text": [
      "Epoch :  270 Epoch 1/1, Batch Loss: 19.71128\n"
     ]
    },
    {
     "name": "stderr",
     "output_type": "stream",
     "text": [
      "100%|██████████████████████████████████████████████████████████████████████████████████| 28/28 [00:01<00:00, 23.32it/s]\n"
     ]
    },
    {
     "name": "stdout",
     "output_type": "stream",
     "text": [
      "Epoch :  271 Epoch 1/1, Batch Loss: 17.0444\n"
     ]
    },
    {
     "name": "stderr",
     "output_type": "stream",
     "text": [
      "100%|██████████████████████████████████████████████████████████████████████████████████| 28/28 [00:01<00:00, 22.93it/s]\n"
     ]
    },
    {
     "name": "stdout",
     "output_type": "stream",
     "text": [
      "Epoch :  272 Epoch 1/1, Batch Loss: 18.54446\n"
     ]
    },
    {
     "name": "stderr",
     "output_type": "stream",
     "text": [
      "100%|██████████████████████████████████████████████████████████████████████████████████| 28/28 [00:01<00:00, 23.12it/s]\n"
     ]
    },
    {
     "name": "stdout",
     "output_type": "stream",
     "text": [
      "Epoch :  273 Epoch 1/1, Batch Loss: 19.75468\n"
     ]
    },
    {
     "name": "stderr",
     "output_type": "stream",
     "text": [
      "100%|██████████████████████████████████████████████████████████████████████████████████| 28/28 [00:01<00:00, 21.45it/s]\n"
     ]
    },
    {
     "name": "stdout",
     "output_type": "stream",
     "text": [
      "Epoch :  274 Epoch 1/1, Batch Loss: 20.20219\n"
     ]
    },
    {
     "name": "stderr",
     "output_type": "stream",
     "text": [
      "100%|██████████████████████████████████████████████████████████████████████████████████| 28/28 [00:01<00:00, 20.96it/s]\n"
     ]
    },
    {
     "name": "stdout",
     "output_type": "stream",
     "text": [
      "Epoch :  275 Epoch 1/1, Batch Loss: 17.58102\n"
     ]
    },
    {
     "name": "stderr",
     "output_type": "stream",
     "text": [
      "100%|██████████████████████████████████████████████████████████████████████████████████| 28/28 [00:01<00:00, 22.67it/s]\n"
     ]
    },
    {
     "name": "stdout",
     "output_type": "stream",
     "text": [
      "Epoch :  276 Epoch 1/1, Batch Loss: 22.79895\n"
     ]
    },
    {
     "name": "stderr",
     "output_type": "stream",
     "text": [
      "100%|██████████████████████████████████████████████████████████████████████████████████| 28/28 [00:01<00:00, 24.87it/s]\n"
     ]
    },
    {
     "name": "stdout",
     "output_type": "stream",
     "text": [
      "Epoch :  277 Epoch 1/1, Batch Loss: 18.33734\n"
     ]
    },
    {
     "name": "stderr",
     "output_type": "stream",
     "text": [
      "100%|██████████████████████████████████████████████████████████████████████████████████| 28/28 [00:01<00:00, 26.36it/s]\n"
     ]
    },
    {
     "name": "stdout",
     "output_type": "stream",
     "text": [
      "Epoch :  278 Epoch 1/1, Batch Loss: 17.64341\n"
     ]
    },
    {
     "name": "stderr",
     "output_type": "stream",
     "text": [
      "100%|██████████████████████████████████████████████████████████████████████████████████| 28/28 [00:01<00:00, 25.29it/s]\n"
     ]
    },
    {
     "name": "stdout",
     "output_type": "stream",
     "text": [
      "Epoch :  279 Epoch 1/1, Batch Loss: 16.47317\n"
     ]
    },
    {
     "name": "stderr",
     "output_type": "stream",
     "text": [
      "100%|██████████████████████████████████████████████████████████████████████████████████| 28/28 [00:01<00:00, 23.84it/s]\n"
     ]
    },
    {
     "name": "stdout",
     "output_type": "stream",
     "text": [
      "Epoch :  280 Epoch 1/1, Batch Loss: 18.89268\n"
     ]
    },
    {
     "name": "stderr",
     "output_type": "stream",
     "text": [
      "100%|██████████████████████████████████████████████████████████████████████████████████| 28/28 [00:01<00:00, 20.42it/s]\n"
     ]
    },
    {
     "name": "stdout",
     "output_type": "stream",
     "text": [
      "Epoch :  281 Epoch 1/1, Batch Loss: 17.80165\n"
     ]
    },
    {
     "name": "stderr",
     "output_type": "stream",
     "text": [
      "100%|██████████████████████████████████████████████████████████████████████████████████| 28/28 [00:01<00:00, 24.58it/s]\n"
     ]
    },
    {
     "name": "stdout",
     "output_type": "stream",
     "text": [
      "Epoch :  282 Epoch 1/1, Batch Loss: 17.06783\n"
     ]
    },
    {
     "name": "stderr",
     "output_type": "stream",
     "text": [
      "100%|██████████████████████████████████████████████████████████████████████████████████| 28/28 [00:01<00:00, 27.77it/s]\n"
     ]
    },
    {
     "name": "stdout",
     "output_type": "stream",
     "text": [
      "Epoch :  283 Epoch 1/1, Batch Loss: 17.87902\n"
     ]
    },
    {
     "name": "stderr",
     "output_type": "stream",
     "text": [
      "100%|██████████████████████████████████████████████████████████████████████████████████| 28/28 [00:01<00:00, 26.47it/s]\n"
     ]
    },
    {
     "name": "stdout",
     "output_type": "stream",
     "text": [
      "Epoch :  284 Epoch 1/1, Batch Loss: 14.83837\n"
     ]
    },
    {
     "name": "stderr",
     "output_type": "stream",
     "text": [
      "100%|██████████████████████████████████████████████████████████████████████████████████| 28/28 [00:01<00:00, 24.68it/s]\n"
     ]
    },
    {
     "name": "stdout",
     "output_type": "stream",
     "text": [
      "Epoch :  285 Epoch 1/1, Batch Loss: 20.61431\n"
     ]
    },
    {
     "name": "stderr",
     "output_type": "stream",
     "text": [
      "100%|██████████████████████████████████████████████████████████████████████████████████| 28/28 [00:01<00:00, 25.42it/s]\n"
     ]
    },
    {
     "name": "stdout",
     "output_type": "stream",
     "text": [
      "Epoch :  286 Epoch 1/1, Batch Loss: 17.94511\n"
     ]
    },
    {
     "name": "stderr",
     "output_type": "stream",
     "text": [
      "100%|██████████████████████████████████████████████████████████████████████████████████| 28/28 [00:01<00:00, 26.95it/s]\n"
     ]
    },
    {
     "name": "stdout",
     "output_type": "stream",
     "text": [
      "Epoch :  287 Epoch 1/1, Batch Loss: 15.75425\n"
     ]
    },
    {
     "name": "stderr",
     "output_type": "stream",
     "text": [
      "100%|██████████████████████████████████████████████████████████████████████████████████| 28/28 [00:01<00:00, 24.26it/s]\n"
     ]
    },
    {
     "name": "stdout",
     "output_type": "stream",
     "text": [
      "Epoch :  288 Epoch 1/1, Batch Loss: 17.52456\n"
     ]
    },
    {
     "name": "stderr",
     "output_type": "stream",
     "text": [
      "100%|██████████████████████████████████████████████████████████████████████████████████| 28/28 [00:01<00:00, 23.88it/s]\n"
     ]
    },
    {
     "name": "stdout",
     "output_type": "stream",
     "text": [
      "Epoch :  289 Epoch 1/1, Batch Loss: 15.13062\n"
     ]
    },
    {
     "name": "stderr",
     "output_type": "stream",
     "text": [
      "100%|██████████████████████████████████████████████████████████████████████████████████| 28/28 [00:01<00:00, 22.30it/s]\n"
     ]
    },
    {
     "name": "stdout",
     "output_type": "stream",
     "text": [
      "Epoch :  290 Epoch 1/1, Batch Loss: 15.499\n"
     ]
    },
    {
     "name": "stderr",
     "output_type": "stream",
     "text": [
      "100%|██████████████████████████████████████████████████████████████████████████████████| 28/28 [00:01<00:00, 25.51it/s]\n"
     ]
    },
    {
     "name": "stdout",
     "output_type": "stream",
     "text": [
      "Epoch :  291 Epoch 1/1, Batch Loss: 15.46511\n"
     ]
    },
    {
     "name": "stderr",
     "output_type": "stream",
     "text": [
      "100%|██████████████████████████████████████████████████████████████████████████████████| 28/28 [00:01<00:00, 23.66it/s]\n"
     ]
    },
    {
     "name": "stdout",
     "output_type": "stream",
     "text": [
      "Epoch :  292 Epoch 1/1, Batch Loss: 15.3744\n"
     ]
    },
    {
     "name": "stderr",
     "output_type": "stream",
     "text": [
      "100%|██████████████████████████████████████████████████████████████████████████████████| 28/28 [00:01<00:00, 26.71it/s]\n"
     ]
    },
    {
     "name": "stdout",
     "output_type": "stream",
     "text": [
      "Epoch :  293 Epoch 1/1, Batch Loss: 19.80843\n"
     ]
    },
    {
     "name": "stderr",
     "output_type": "stream",
     "text": [
      "100%|██████████████████████████████████████████████████████████████████████████████████| 28/28 [00:01<00:00, 24.93it/s]\n"
     ]
    },
    {
     "name": "stdout",
     "output_type": "stream",
     "text": [
      "Epoch :  294 Epoch 1/1, Batch Loss: 18.32804\n"
     ]
    },
    {
     "name": "stderr",
     "output_type": "stream",
     "text": [
      "100%|██████████████████████████████████████████████████████████████████████████████████| 28/28 [00:01<00:00, 27.34it/s]\n"
     ]
    },
    {
     "name": "stdout",
     "output_type": "stream",
     "text": [
      "Epoch :  295 Epoch 1/1, Batch Loss: 14.79146\n"
     ]
    },
    {
     "name": "stderr",
     "output_type": "stream",
     "text": [
      "100%|██████████████████████████████████████████████████████████████████████████████████| 28/28 [00:01<00:00, 26.41it/s]\n"
     ]
    },
    {
     "name": "stdout",
     "output_type": "stream",
     "text": [
      "Epoch :  296 Epoch 1/1, Batch Loss: 19.30509\n"
     ]
    },
    {
     "name": "stderr",
     "output_type": "stream",
     "text": [
      "100%|██████████████████████████████████████████████████████████████████████████████████| 28/28 [00:01<00:00, 26.45it/s]\n"
     ]
    },
    {
     "name": "stdout",
     "output_type": "stream",
     "text": [
      "Epoch :  297 Epoch 1/1, Batch Loss: 15.0596\n"
     ]
    },
    {
     "name": "stderr",
     "output_type": "stream",
     "text": [
      "100%|██████████████████████████████████████████████████████████████████████████████████| 28/28 [00:01<00:00, 26.17it/s]\n"
     ]
    },
    {
     "name": "stdout",
     "output_type": "stream",
     "text": [
      "Epoch :  298 Epoch 1/1, Batch Loss: 17.31083\n"
     ]
    },
    {
     "name": "stderr",
     "output_type": "stream",
     "text": [
      "100%|██████████████████████████████████████████████████████████████████████████████████| 28/28 [00:01<00:00, 27.76it/s]\n"
     ]
    },
    {
     "name": "stdout",
     "output_type": "stream",
     "text": [
      "Epoch :  299 Epoch 1/1, Batch Loss: 15.93018\n"
     ]
    },
    {
     "name": "stderr",
     "output_type": "stream",
     "text": [
      "100%|██████████████████████████████████████████████████████████████████████████████████| 28/28 [00:01<00:00, 25.92it/s]\n"
     ]
    },
    {
     "name": "stdout",
     "output_type": "stream",
     "text": [
      "Epoch :  300 Epoch 1/1, Batch Loss: 19.9783\n"
     ]
    },
    {
     "name": "stderr",
     "output_type": "stream",
     "text": [
      "100%|██████████████████████████████████████████████████████████████████████████████████| 28/28 [00:01<00:00, 27.06it/s]\n"
     ]
    },
    {
     "name": "stdout",
     "output_type": "stream",
     "text": [
      "Epoch :  301 Epoch 1/1, Batch Loss: 16.54019\n"
     ]
    },
    {
     "name": "stderr",
     "output_type": "stream",
     "text": [
      "100%|██████████████████████████████████████████████████████████████████████████████████| 28/28 [00:01<00:00, 23.95it/s]\n"
     ]
    },
    {
     "name": "stdout",
     "output_type": "stream",
     "text": [
      "Epoch :  302 Epoch 1/1, Batch Loss: 13.25243\n"
     ]
    },
    {
     "name": "stderr",
     "output_type": "stream",
     "text": [
      "100%|██████████████████████████████████████████████████████████████████████████████████| 28/28 [00:01<00:00, 26.66it/s]\n"
     ]
    },
    {
     "name": "stdout",
     "output_type": "stream",
     "text": [
      "Epoch :  303 Epoch 1/1, Batch Loss: 14.23594\n"
     ]
    },
    {
     "name": "stderr",
     "output_type": "stream",
     "text": [
      "100%|██████████████████████████████████████████████████████████████████████████████████| 28/28 [00:01<00:00, 25.23it/s]\n"
     ]
    },
    {
     "name": "stdout",
     "output_type": "stream",
     "text": [
      "Epoch :  304 Epoch 1/1, Batch Loss: 19.46579\n"
     ]
    },
    {
     "name": "stderr",
     "output_type": "stream",
     "text": [
      "100%|██████████████████████████████████████████████████████████████████████████████████| 28/28 [00:01<00:00, 20.20it/s]\n"
     ]
    },
    {
     "name": "stdout",
     "output_type": "stream",
     "text": [
      "Epoch :  305 Epoch 1/1, Batch Loss: 15.60728\n"
     ]
    },
    {
     "name": "stderr",
     "output_type": "stream",
     "text": [
      "100%|██████████████████████████████████████████████████████████████████████████████████| 28/28 [00:01<00:00, 21.02it/s]\n"
     ]
    },
    {
     "name": "stdout",
     "output_type": "stream",
     "text": [
      "Epoch :  306 Epoch 1/1, Batch Loss: 13.2661\n"
     ]
    },
    {
     "name": "stderr",
     "output_type": "stream",
     "text": [
      "100%|██████████████████████████████████████████████████████████████████████████████████| 28/28 [00:01<00:00, 19.79it/s]\n"
     ]
    },
    {
     "name": "stdout",
     "output_type": "stream",
     "text": [
      "Epoch :  307 Epoch 1/1, Batch Loss: 14.56831\n"
     ]
    },
    {
     "name": "stderr",
     "output_type": "stream",
     "text": [
      "100%|██████████████████████████████████████████████████████████████████████████████████| 28/28 [00:01<00:00, 17.97it/s]\n"
     ]
    },
    {
     "name": "stdout",
     "output_type": "stream",
     "text": [
      "Epoch :  308 Epoch 1/1, Batch Loss: 13.27691\n"
     ]
    },
    {
     "name": "stderr",
     "output_type": "stream",
     "text": [
      "100%|██████████████████████████████████████████████████████████████████████████████████| 28/28 [00:01<00:00, 15.78it/s]\n"
     ]
    },
    {
     "name": "stdout",
     "output_type": "stream",
     "text": [
      "Epoch :  309 Epoch 1/1, Batch Loss: 17.82437\n"
     ]
    },
    {
     "name": "stderr",
     "output_type": "stream",
     "text": [
      "100%|██████████████████████████████████████████████████████████████████████████████████| 28/28 [00:01<00:00, 17.40it/s]\n"
     ]
    },
    {
     "name": "stdout",
     "output_type": "stream",
     "text": [
      "Epoch :  310 Epoch 1/1, Batch Loss: 17.02339\n"
     ]
    },
    {
     "name": "stderr",
     "output_type": "stream",
     "text": [
      "100%|██████████████████████████████████████████████████████████████████████████████████| 28/28 [00:01<00:00, 17.45it/s]\n"
     ]
    },
    {
     "name": "stdout",
     "output_type": "stream",
     "text": [
      "Epoch :  311 Epoch 1/1, Batch Loss: 14.43777\n"
     ]
    },
    {
     "name": "stderr",
     "output_type": "stream",
     "text": [
      "100%|██████████████████████████████████████████████████████████████████████████████████| 28/28 [00:01<00:00, 17.98it/s]\n"
     ]
    },
    {
     "name": "stdout",
     "output_type": "stream",
     "text": [
      "Epoch :  312 Epoch 1/1, Batch Loss: 17.53609\n"
     ]
    },
    {
     "name": "stderr",
     "output_type": "stream",
     "text": [
      "100%|██████████████████████████████████████████████████████████████████████████████████| 28/28 [00:01<00:00, 19.85it/s]\n"
     ]
    },
    {
     "name": "stdout",
     "output_type": "stream",
     "text": [
      "Epoch :  313 Epoch 1/1, Batch Loss: 13.76913\n"
     ]
    },
    {
     "name": "stderr",
     "output_type": "stream",
     "text": [
      "100%|██████████████████████████████████████████████████████████████████████████████████| 28/28 [00:01<00:00, 18.04it/s]\n"
     ]
    },
    {
     "name": "stdout",
     "output_type": "stream",
     "text": [
      "Epoch :  314 Epoch 1/1, Batch Loss: 13.76315\n"
     ]
    },
    {
     "name": "stderr",
     "output_type": "stream",
     "text": [
      "100%|██████████████████████████████████████████████████████████████████████████████████| 28/28 [00:01<00:00, 22.14it/s]\n"
     ]
    },
    {
     "name": "stdout",
     "output_type": "stream",
     "text": [
      "Epoch :  315 Epoch 1/1, Batch Loss: 16.34956\n"
     ]
    },
    {
     "name": "stderr",
     "output_type": "stream",
     "text": [
      "100%|██████████████████████████████████████████████████████████████████████████████████| 28/28 [00:01<00:00, 21.53it/s]\n"
     ]
    },
    {
     "name": "stdout",
     "output_type": "stream",
     "text": [
      "Epoch :  316 Epoch 1/1, Batch Loss: 12.37611\n"
     ]
    },
    {
     "name": "stderr",
     "output_type": "stream",
     "text": [
      "100%|██████████████████████████████████████████████████████████████████████████████████| 28/28 [00:01<00:00, 22.37it/s]\n"
     ]
    },
    {
     "name": "stdout",
     "output_type": "stream",
     "text": [
      "Epoch :  317 Epoch 1/1, Batch Loss: 12.07682\n"
     ]
    },
    {
     "name": "stderr",
     "output_type": "stream",
     "text": [
      "100%|██████████████████████████████████████████████████████████████████████████████████| 28/28 [00:01<00:00, 24.16it/s]\n"
     ]
    },
    {
     "name": "stdout",
     "output_type": "stream",
     "text": [
      "Epoch :  318 Epoch 1/1, Batch Loss: 14.16446\n"
     ]
    },
    {
     "name": "stderr",
     "output_type": "stream",
     "text": [
      "100%|██████████████████████████████████████████████████████████████████████████████████| 28/28 [00:01<00:00, 23.52it/s]\n"
     ]
    },
    {
     "name": "stdout",
     "output_type": "stream",
     "text": [
      "Epoch :  319 Epoch 1/1, Batch Loss: 15.66402\n"
     ]
    },
    {
     "name": "stderr",
     "output_type": "stream",
     "text": [
      "100%|██████████████████████████████████████████████████████████████████████████████████| 28/28 [00:01<00:00, 24.21it/s]\n"
     ]
    },
    {
     "name": "stdout",
     "output_type": "stream",
     "text": [
      "Epoch :  320 Epoch 1/1, Batch Loss: 14.12671\n"
     ]
    },
    {
     "name": "stderr",
     "output_type": "stream",
     "text": [
      "100%|██████████████████████████████████████████████████████████████████████████████████| 28/28 [00:01<00:00, 22.57it/s]\n"
     ]
    },
    {
     "name": "stdout",
     "output_type": "stream",
     "text": [
      "Epoch :  321 Epoch 1/1, Batch Loss: 13.51339\n"
     ]
    },
    {
     "name": "stderr",
     "output_type": "stream",
     "text": [
      "100%|██████████████████████████████████████████████████████████████████████████████████| 28/28 [00:01<00:00, 22.03it/s]\n"
     ]
    },
    {
     "name": "stdout",
     "output_type": "stream",
     "text": [
      "Epoch :  322 Epoch 1/1, Batch Loss: 14.55036\n"
     ]
    },
    {
     "name": "stderr",
     "output_type": "stream",
     "text": [
      "100%|██████████████████████████████████████████████████████████████████████████████████| 28/28 [00:01<00:00, 21.72it/s]\n"
     ]
    },
    {
     "name": "stdout",
     "output_type": "stream",
     "text": [
      "Epoch :  323 Epoch 1/1, Batch Loss: 15.28503\n"
     ]
    },
    {
     "name": "stderr",
     "output_type": "stream",
     "text": [
      "100%|██████████████████████████████████████████████████████████████████████████████████| 28/28 [00:01<00:00, 22.88it/s]\n"
     ]
    },
    {
     "name": "stdout",
     "output_type": "stream",
     "text": [
      "Epoch :  324 Epoch 1/1, Batch Loss: 11.27022\n"
     ]
    },
    {
     "name": "stderr",
     "output_type": "stream",
     "text": [
      "100%|██████████████████████████████████████████████████████████████████████████████████| 28/28 [00:01<00:00, 23.86it/s]\n"
     ]
    },
    {
     "name": "stdout",
     "output_type": "stream",
     "text": [
      "Epoch :  325 Epoch 1/1, Batch Loss: 16.74858\n"
     ]
    },
    {
     "name": "stderr",
     "output_type": "stream",
     "text": [
      "100%|██████████████████████████████████████████████████████████████████████████████████| 28/28 [00:01<00:00, 23.54it/s]\n"
     ]
    },
    {
     "name": "stdout",
     "output_type": "stream",
     "text": [
      "Epoch :  326 Epoch 1/1, Batch Loss: 12.13253\n"
     ]
    },
    {
     "name": "stderr",
     "output_type": "stream",
     "text": [
      "100%|██████████████████████████████████████████████████████████████████████████████████| 28/28 [00:01<00:00, 24.32it/s]\n"
     ]
    },
    {
     "name": "stdout",
     "output_type": "stream",
     "text": [
      "Epoch :  327 Epoch 1/1, Batch Loss: 12.02106\n"
     ]
    },
    {
     "name": "stderr",
     "output_type": "stream",
     "text": [
      "100%|██████████████████████████████████████████████████████████████████████████████████| 28/28 [00:01<00:00, 24.68it/s]\n"
     ]
    },
    {
     "name": "stdout",
     "output_type": "stream",
     "text": [
      "Epoch :  328 Epoch 1/1, Batch Loss: 10.87798\n"
     ]
    },
    {
     "name": "stderr",
     "output_type": "stream",
     "text": [
      "100%|██████████████████████████████████████████████████████████████████████████████████| 28/28 [00:01<00:00, 24.16it/s]\n"
     ]
    },
    {
     "name": "stdout",
     "output_type": "stream",
     "text": [
      "Epoch :  329 Epoch 1/1, Batch Loss: 16.16638\n"
     ]
    },
    {
     "name": "stderr",
     "output_type": "stream",
     "text": [
      "100%|██████████████████████████████████████████████████████████████████████████████████| 28/28 [00:01<00:00, 24.70it/s]\n"
     ]
    },
    {
     "name": "stdout",
     "output_type": "stream",
     "text": [
      "Epoch :  330 Epoch 1/1, Batch Loss: 11.6532\n"
     ]
    },
    {
     "name": "stderr",
     "output_type": "stream",
     "text": [
      "100%|██████████████████████████████████████████████████████████████████████████████████| 28/28 [00:01<00:00, 24.15it/s]\n"
     ]
    },
    {
     "name": "stdout",
     "output_type": "stream",
     "text": [
      "Epoch :  331 Epoch 1/1, Batch Loss: 10.09468\n"
     ]
    },
    {
     "name": "stderr",
     "output_type": "stream",
     "text": [
      "100%|██████████████████████████████████████████████████████████████████████████████████| 28/28 [00:01<00:00, 24.54it/s]\n"
     ]
    },
    {
     "name": "stdout",
     "output_type": "stream",
     "text": [
      "Epoch :  332 Epoch 1/1, Batch Loss: 12.26368\n"
     ]
    },
    {
     "name": "stderr",
     "output_type": "stream",
     "text": [
      "100%|██████████████████████████████████████████████████████████████████████████████████| 28/28 [00:01<00:00, 23.15it/s]\n"
     ]
    },
    {
     "name": "stdout",
     "output_type": "stream",
     "text": [
      "Epoch :  333 Epoch 1/1, Batch Loss: 13.54971\n"
     ]
    },
    {
     "name": "stderr",
     "output_type": "stream",
     "text": [
      "100%|██████████████████████████████████████████████████████████████████████████████████| 28/28 [00:01<00:00, 24.75it/s]\n"
     ]
    },
    {
     "name": "stdout",
     "output_type": "stream",
     "text": [
      "Epoch :  334 Epoch 1/1, Batch Loss: 12.1781\n"
     ]
    },
    {
     "name": "stderr",
     "output_type": "stream",
     "text": [
      "100%|██████████████████████████████████████████████████████████████████████████████████| 28/28 [00:01<00:00, 23.35it/s]\n"
     ]
    },
    {
     "name": "stdout",
     "output_type": "stream",
     "text": [
      "Epoch :  335 Epoch 1/1, Batch Loss: 15.12936\n"
     ]
    },
    {
     "name": "stderr",
     "output_type": "stream",
     "text": [
      "100%|██████████████████████████████████████████████████████████████████████████████████| 28/28 [00:01<00:00, 24.35it/s]\n"
     ]
    },
    {
     "name": "stdout",
     "output_type": "stream",
     "text": [
      "Epoch :  336 Epoch 1/1, Batch Loss: 11.30646\n"
     ]
    },
    {
     "name": "stderr",
     "output_type": "stream",
     "text": [
      "100%|██████████████████████████████████████████████████████████████████████████████████| 28/28 [00:01<00:00, 23.22it/s]\n"
     ]
    },
    {
     "name": "stdout",
     "output_type": "stream",
     "text": [
      "Epoch :  337 Epoch 1/1, Batch Loss: 9.73488\n"
     ]
    },
    {
     "name": "stderr",
     "output_type": "stream",
     "text": [
      "100%|██████████████████████████████████████████████████████████████████████████████████| 28/28 [00:01<00:00, 23.41it/s]\n"
     ]
    },
    {
     "name": "stdout",
     "output_type": "stream",
     "text": [
      "Epoch :  338 Epoch 1/1, Batch Loss: 14.03277\n"
     ]
    },
    {
     "name": "stderr",
     "output_type": "stream",
     "text": [
      "100%|██████████████████████████████████████████████████████████████████████████████████| 28/28 [00:01<00:00, 25.32it/s]\n"
     ]
    },
    {
     "name": "stdout",
     "output_type": "stream",
     "text": [
      "Epoch :  339 Epoch 1/1, Batch Loss: 10.68907\n"
     ]
    },
    {
     "name": "stderr",
     "output_type": "stream",
     "text": [
      "100%|██████████████████████████████████████████████████████████████████████████████████| 28/28 [00:01<00:00, 25.56it/s]\n"
     ]
    },
    {
     "name": "stdout",
     "output_type": "stream",
     "text": [
      "Epoch :  340 Epoch 1/1, Batch Loss: 12.0149\n"
     ]
    },
    {
     "name": "stderr",
     "output_type": "stream",
     "text": [
      "100%|██████████████████████████████████████████████████████████████████████████████████| 28/28 [00:01<00:00, 27.14it/s]\n"
     ]
    },
    {
     "name": "stdout",
     "output_type": "stream",
     "text": [
      "Epoch :  341 Epoch 1/1, Batch Loss: 17.88457\n"
     ]
    },
    {
     "name": "stderr",
     "output_type": "stream",
     "text": [
      "100%|██████████████████████████████████████████████████████████████████████████████████| 28/28 [00:01<00:00, 25.90it/s]\n"
     ]
    },
    {
     "name": "stdout",
     "output_type": "stream",
     "text": [
      "Epoch :  342 Epoch 1/1, Batch Loss: 9.55002\n"
     ]
    },
    {
     "name": "stderr",
     "output_type": "stream",
     "text": [
      "100%|██████████████████████████████████████████████████████████████████████████████████| 28/28 [00:01<00:00, 27.07it/s]\n"
     ]
    },
    {
     "name": "stdout",
     "output_type": "stream",
     "text": [
      "Epoch :  343 Epoch 1/1, Batch Loss: 13.70481\n"
     ]
    },
    {
     "name": "stderr",
     "output_type": "stream",
     "text": [
      "100%|██████████████████████████████████████████████████████████████████████████████████| 28/28 [00:01<00:00, 25.63it/s]\n"
     ]
    },
    {
     "name": "stdout",
     "output_type": "stream",
     "text": [
      "Epoch :  344 Epoch 1/1, Batch Loss: 17.76862\n"
     ]
    },
    {
     "name": "stderr",
     "output_type": "stream",
     "text": [
      "100%|██████████████████████████████████████████████████████████████████████████████████| 28/28 [00:01<00:00, 26.90it/s]\n"
     ]
    },
    {
     "name": "stdout",
     "output_type": "stream",
     "text": [
      "Epoch :  345 Epoch 1/1, Batch Loss: 15.0569\n"
     ]
    },
    {
     "name": "stderr",
     "output_type": "stream",
     "text": [
      "100%|██████████████████████████████████████████████████████████████████████████████████| 28/28 [00:01<00:00, 25.15it/s]\n"
     ]
    },
    {
     "name": "stdout",
     "output_type": "stream",
     "text": [
      "Epoch :  346 Epoch 1/1, Batch Loss: 9.63048\n"
     ]
    },
    {
     "name": "stderr",
     "output_type": "stream",
     "text": [
      "100%|██████████████████████████████████████████████████████████████████████████████████| 28/28 [00:01<00:00, 26.24it/s]\n"
     ]
    },
    {
     "name": "stdout",
     "output_type": "stream",
     "text": [
      "Epoch :  347 Epoch 1/1, Batch Loss: 16.36278\n"
     ]
    },
    {
     "name": "stderr",
     "output_type": "stream",
     "text": [
      "100%|██████████████████████████████████████████████████████████████████████████████████| 28/28 [00:01<00:00, 26.05it/s]\n"
     ]
    },
    {
     "name": "stdout",
     "output_type": "stream",
     "text": [
      "Epoch :  348 Epoch 1/1, Batch Loss: 9.57667\n"
     ]
    },
    {
     "name": "stderr",
     "output_type": "stream",
     "text": [
      "100%|██████████████████████████████████████████████████████████████████████████████████| 28/28 [00:01<00:00, 27.00it/s]\n"
     ]
    },
    {
     "name": "stdout",
     "output_type": "stream",
     "text": [
      "Epoch :  349 Epoch 1/1, Batch Loss: 10.22691\n"
     ]
    },
    {
     "name": "stderr",
     "output_type": "stream",
     "text": [
      "100%|██████████████████████████████████████████████████████████████████████████████████| 28/28 [00:01<00:00, 26.21it/s]\n"
     ]
    },
    {
     "name": "stdout",
     "output_type": "stream",
     "text": [
      "Epoch :  350 Epoch 1/1, Batch Loss: 7.07041\n"
     ]
    },
    {
     "name": "stderr",
     "output_type": "stream",
     "text": [
      "100%|██████████████████████████████████████████████████████████████████████████████████| 28/28 [00:00<00:00, 28.22it/s]\n"
     ]
    },
    {
     "name": "stdout",
     "output_type": "stream",
     "text": [
      "Epoch :  351 Epoch 1/1, Batch Loss: 11.69504\n"
     ]
    },
    {
     "name": "stderr",
     "output_type": "stream",
     "text": [
      "100%|██████████████████████████████████████████████████████████████████████████████████| 28/28 [00:01<00:00, 26.88it/s]\n"
     ]
    },
    {
     "name": "stdout",
     "output_type": "stream",
     "text": [
      "Epoch :  352 Epoch 1/1, Batch Loss: 10.58969\n"
     ]
    },
    {
     "name": "stderr",
     "output_type": "stream",
     "text": [
      "100%|██████████████████████████████████████████████████████████████████████████████████| 28/28 [00:01<00:00, 27.57it/s]\n"
     ]
    },
    {
     "name": "stdout",
     "output_type": "stream",
     "text": [
      "Epoch :  353 Epoch 1/1, Batch Loss: 10.35881\n"
     ]
    },
    {
     "name": "stderr",
     "output_type": "stream",
     "text": [
      "100%|██████████████████████████████████████████████████████████████████████████████████| 28/28 [00:01<00:00, 26.84it/s]\n"
     ]
    },
    {
     "name": "stdout",
     "output_type": "stream",
     "text": [
      "Epoch :  354 Epoch 1/1, Batch Loss: 9.14666\n"
     ]
    },
    {
     "name": "stderr",
     "output_type": "stream",
     "text": [
      "100%|██████████████████████████████████████████████████████████████████████████████████| 28/28 [00:01<00:00, 27.69it/s]\n"
     ]
    },
    {
     "name": "stdout",
     "output_type": "stream",
     "text": [
      "Epoch :  355 Epoch 1/1, Batch Loss: 12.70243\n"
     ]
    },
    {
     "name": "stderr",
     "output_type": "stream",
     "text": [
      "100%|██████████████████████████████████████████████████████████████████████████████████| 28/28 [00:01<00:00, 26.44it/s]\n"
     ]
    },
    {
     "name": "stdout",
     "output_type": "stream",
     "text": [
      "Epoch :  356 Epoch 1/1, Batch Loss: 12.38807\n"
     ]
    },
    {
     "name": "stderr",
     "output_type": "stream",
     "text": [
      "100%|██████████████████████████████████████████████████████████████████████████████████| 28/28 [00:01<00:00, 27.98it/s]\n"
     ]
    },
    {
     "name": "stdout",
     "output_type": "stream",
     "text": [
      "Epoch :  357 Epoch 1/1, Batch Loss: 9.29746\n"
     ]
    },
    {
     "name": "stderr",
     "output_type": "stream",
     "text": [
      "100%|██████████████████████████████████████████████████████████████████████████████████| 28/28 [00:01<00:00, 26.28it/s]\n"
     ]
    },
    {
     "name": "stdout",
     "output_type": "stream",
     "text": [
      "Epoch :  358 Epoch 1/1, Batch Loss: 9.6302\n"
     ]
    },
    {
     "name": "stderr",
     "output_type": "stream",
     "text": [
      "100%|██████████████████████████████████████████████████████████████████████████████████| 28/28 [00:01<00:00, 27.00it/s]\n"
     ]
    },
    {
     "name": "stdout",
     "output_type": "stream",
     "text": [
      "Epoch :  359 Epoch 1/1, Batch Loss: 8.89405\n"
     ]
    },
    {
     "name": "stderr",
     "output_type": "stream",
     "text": [
      "100%|██████████████████████████████████████████████████████████████████████████████████| 28/28 [00:01<00:00, 26.23it/s]\n"
     ]
    },
    {
     "name": "stdout",
     "output_type": "stream",
     "text": [
      "Epoch :  360 Epoch 1/1, Batch Loss: 11.87774\n"
     ]
    },
    {
     "name": "stderr",
     "output_type": "stream",
     "text": [
      "100%|██████████████████████████████████████████████████████████████████████████████████| 28/28 [00:01<00:00, 27.23it/s]\n"
     ]
    },
    {
     "name": "stdout",
     "output_type": "stream",
     "text": [
      "Epoch :  361 Epoch 1/1, Batch Loss: 8.86511\n"
     ]
    },
    {
     "name": "stderr",
     "output_type": "stream",
     "text": [
      "100%|██████████████████████████████████████████████████████████████████████████████████| 28/28 [00:01<00:00, 26.48it/s]\n"
     ]
    },
    {
     "name": "stdout",
     "output_type": "stream",
     "text": [
      "Epoch :  362 Epoch 1/1, Batch Loss: 8.92726\n"
     ]
    },
    {
     "name": "stderr",
     "output_type": "stream",
     "text": [
      "100%|██████████████████████████████████████████████████████████████████████████████████| 28/28 [00:01<00:00, 27.51it/s]\n"
     ]
    },
    {
     "name": "stdout",
     "output_type": "stream",
     "text": [
      "Epoch :  363 Epoch 1/1, Batch Loss: 12.60818\n"
     ]
    },
    {
     "name": "stderr",
     "output_type": "stream",
     "text": [
      "100%|██████████████████████████████████████████████████████████████████████████████████| 28/28 [00:01<00:00, 27.04it/s]\n"
     ]
    },
    {
     "name": "stdout",
     "output_type": "stream",
     "text": [
      "Epoch :  364 Epoch 1/1, Batch Loss: 5.88146\n"
     ]
    },
    {
     "name": "stderr",
     "output_type": "stream",
     "text": [
      "100%|██████████████████████████████████████████████████████████████████████████████████| 28/28 [00:00<00:00, 28.19it/s]\n"
     ]
    },
    {
     "name": "stdout",
     "output_type": "stream",
     "text": [
      "Epoch :  365 Epoch 1/1, Batch Loss: 8.51655\n"
     ]
    },
    {
     "name": "stderr",
     "output_type": "stream",
     "text": [
      "100%|██████████████████████████████████████████████████████████████████████████████████| 28/28 [00:01<00:00, 27.20it/s]\n"
     ]
    },
    {
     "name": "stdout",
     "output_type": "stream",
     "text": [
      "Epoch :  366 Epoch 1/1, Batch Loss: 14.03121\n"
     ]
    },
    {
     "name": "stderr",
     "output_type": "stream",
     "text": [
      "100%|██████████████████████████████████████████████████████████████████████████████████| 28/28 [00:01<00:00, 27.42it/s]\n"
     ]
    },
    {
     "name": "stdout",
     "output_type": "stream",
     "text": [
      "Epoch :  367 Epoch 1/1, Batch Loss: 9.25318\n"
     ]
    },
    {
     "name": "stderr",
     "output_type": "stream",
     "text": [
      "100%|██████████████████████████████████████████████████████████████████████████████████| 28/28 [00:01<00:00, 27.33it/s]\n"
     ]
    },
    {
     "name": "stdout",
     "output_type": "stream",
     "text": [
      "Epoch :  368 Epoch 1/1, Batch Loss: 8.84802\n"
     ]
    },
    {
     "name": "stderr",
     "output_type": "stream",
     "text": [
      "100%|██████████████████████████████████████████████████████████████████████████████████| 28/28 [00:00<00:00, 28.00it/s]\n"
     ]
    },
    {
     "name": "stdout",
     "output_type": "stream",
     "text": [
      "Epoch :  369 Epoch 1/1, Batch Loss: 11.28151\n"
     ]
    },
    {
     "name": "stderr",
     "output_type": "stream",
     "text": [
      "100%|██████████████████████████████████████████████████████████████████████████████████| 28/28 [00:01<00:00, 27.96it/s]\n"
     ]
    },
    {
     "name": "stdout",
     "output_type": "stream",
     "text": [
      "Epoch :  370 Epoch 1/1, Batch Loss: 6.80319\n"
     ]
    },
    {
     "name": "stderr",
     "output_type": "stream",
     "text": [
      "100%|██████████████████████████████████████████████████████████████████████████████████| 28/28 [00:01<00:00, 27.80it/s]\n"
     ]
    },
    {
     "name": "stdout",
     "output_type": "stream",
     "text": [
      "Epoch :  371 Epoch 1/1, Batch Loss: 7.85251\n"
     ]
    },
    {
     "name": "stderr",
     "output_type": "stream",
     "text": [
      "100%|██████████████████████████████████████████████████████████████████████████████████| 28/28 [00:01<00:00, 26.58it/s]\n"
     ]
    },
    {
     "name": "stdout",
     "output_type": "stream",
     "text": [
      "Epoch :  372 Epoch 1/1, Batch Loss: 11.99043\n"
     ]
    },
    {
     "name": "stderr",
     "output_type": "stream",
     "text": [
      "100%|██████████████████████████████████████████████████████████████████████████████████| 28/28 [00:01<00:00, 27.79it/s]\n"
     ]
    },
    {
     "name": "stdout",
     "output_type": "stream",
     "text": [
      "Epoch :  373 Epoch 1/1, Batch Loss: 9.98721\n"
     ]
    },
    {
     "name": "stderr",
     "output_type": "stream",
     "text": [
      "100%|██████████████████████████████████████████████████████████████████████████████████| 28/28 [00:01<00:00, 25.61it/s]\n"
     ]
    },
    {
     "name": "stdout",
     "output_type": "stream",
     "text": [
      "Epoch :  374 Epoch 1/1, Batch Loss: 5.30772\n"
     ]
    },
    {
     "name": "stderr",
     "output_type": "stream",
     "text": [
      "100%|██████████████████████████████████████████████████████████████████████████████████| 28/28 [00:01<00:00, 27.62it/s]\n"
     ]
    },
    {
     "name": "stdout",
     "output_type": "stream",
     "text": [
      "Epoch :  375 Epoch 1/1, Batch Loss: 6.13217\n"
     ]
    },
    {
     "name": "stderr",
     "output_type": "stream",
     "text": [
      "100%|██████████████████████████████████████████████████████████████████████████████████| 28/28 [00:01<00:00, 26.49it/s]\n"
     ]
    },
    {
     "name": "stdout",
     "output_type": "stream",
     "text": [
      "Epoch :  376 Epoch 1/1, Batch Loss: 9.91747\n"
     ]
    },
    {
     "name": "stderr",
     "output_type": "stream",
     "text": [
      "100%|██████████████████████████████████████████████████████████████████████████████████| 28/28 [00:01<00:00, 27.58it/s]\n"
     ]
    },
    {
     "name": "stdout",
     "output_type": "stream",
     "text": [
      "Epoch :  377 Epoch 1/1, Batch Loss: 4.78233\n"
     ]
    },
    {
     "name": "stderr",
     "output_type": "stream",
     "text": [
      "100%|██████████████████████████████████████████████████████████████████████████████████| 28/28 [00:01<00:00, 26.34it/s]\n"
     ]
    },
    {
     "name": "stdout",
     "output_type": "stream",
     "text": [
      "Epoch :  378 Epoch 1/1, Batch Loss: 8.17335\n"
     ]
    },
    {
     "name": "stderr",
     "output_type": "stream",
     "text": [
      "100%|██████████████████████████████████████████████████████████████████████████████████| 28/28 [00:01<00:00, 27.41it/s]\n"
     ]
    },
    {
     "name": "stdout",
     "output_type": "stream",
     "text": [
      "Epoch :  379 Epoch 1/1, Batch Loss: 5.61521\n"
     ]
    },
    {
     "name": "stderr",
     "output_type": "stream",
     "text": [
      "100%|██████████████████████████████████████████████████████████████████████████████████| 28/28 [00:01<00:00, 26.26it/s]\n"
     ]
    },
    {
     "name": "stdout",
     "output_type": "stream",
     "text": [
      "Epoch :  380 Epoch 1/1, Batch Loss: 10.65764\n"
     ]
    },
    {
     "name": "stderr",
     "output_type": "stream",
     "text": [
      "100%|██████████████████████████████████████████████████████████████████████████████████| 28/28 [00:00<00:00, 28.13it/s]\n"
     ]
    },
    {
     "name": "stdout",
     "output_type": "stream",
     "text": [
      "Epoch :  381 Epoch 1/1, Batch Loss: 5.78838\n"
     ]
    },
    {
     "name": "stderr",
     "output_type": "stream",
     "text": [
      "100%|██████████████████████████████████████████████████████████████████████████████████| 28/28 [00:01<00:00, 25.45it/s]\n"
     ]
    },
    {
     "name": "stdout",
     "output_type": "stream",
     "text": [
      "Epoch :  382 Epoch 1/1, Batch Loss: 4.86633\n"
     ]
    },
    {
     "name": "stderr",
     "output_type": "stream",
     "text": [
      "100%|██████████████████████████████████████████████████████████████████████████████████| 28/28 [00:01<00:00, 26.87it/s]\n"
     ]
    },
    {
     "name": "stdout",
     "output_type": "stream",
     "text": [
      "Epoch :  383 Epoch 1/1, Batch Loss: 8.33855\n"
     ]
    },
    {
     "name": "stderr",
     "output_type": "stream",
     "text": [
      "100%|██████████████████████████████████████████████████████████████████████████████████| 28/28 [00:01<00:00, 26.63it/s]\n"
     ]
    },
    {
     "name": "stdout",
     "output_type": "stream",
     "text": [
      "Epoch :  384 Epoch 1/1, Batch Loss: 9.00385\n"
     ]
    },
    {
     "name": "stderr",
     "output_type": "stream",
     "text": [
      "100%|██████████████████████████████████████████████████████████████████████████████████| 28/28 [00:01<00:00, 27.86it/s]\n"
     ]
    },
    {
     "name": "stdout",
     "output_type": "stream",
     "text": [
      "Epoch :  385 Epoch 1/1, Batch Loss: 5.23689\n"
     ]
    },
    {
     "name": "stderr",
     "output_type": "stream",
     "text": [
      "100%|██████████████████████████████████████████████████████████████████████████████████| 28/28 [00:01<00:00, 26.48it/s]\n"
     ]
    },
    {
     "name": "stdout",
     "output_type": "stream",
     "text": [
      "Epoch :  386 Epoch 1/1, Batch Loss: 9.96907\n"
     ]
    },
    {
     "name": "stderr",
     "output_type": "stream",
     "text": [
      "100%|██████████████████████████████████████████████████████████████████████████████████| 28/28 [00:01<00:00, 27.39it/s]\n"
     ]
    },
    {
     "name": "stdout",
     "output_type": "stream",
     "text": [
      "Epoch :  387 Epoch 1/1, Batch Loss: 7.562\n"
     ]
    },
    {
     "name": "stderr",
     "output_type": "stream",
     "text": [
      "100%|██████████████████████████████████████████████████████████████████████████████████| 28/28 [00:01<00:00, 26.07it/s]\n"
     ]
    },
    {
     "name": "stdout",
     "output_type": "stream",
     "text": [
      "Epoch :  388 Epoch 1/1, Batch Loss: 7.26265\n"
     ]
    },
    {
     "name": "stderr",
     "output_type": "stream",
     "text": [
      "100%|██████████████████████████████████████████████████████████████████████████████████| 28/28 [00:01<00:00, 26.89it/s]\n"
     ]
    },
    {
     "name": "stdout",
     "output_type": "stream",
     "text": [
      "Epoch :  389 Epoch 1/1, Batch Loss: 7.9307\n"
     ]
    },
    {
     "name": "stderr",
     "output_type": "stream",
     "text": [
      "100%|██████████████████████████████████████████████████████████████████████████████████| 28/28 [00:01<00:00, 26.55it/s]\n"
     ]
    },
    {
     "name": "stdout",
     "output_type": "stream",
     "text": [
      "Epoch :  390 Epoch 1/1, Batch Loss: 3.20113\n"
     ]
    },
    {
     "name": "stderr",
     "output_type": "stream",
     "text": [
      "100%|██████████████████████████████████████████████████████████████████████████████████| 28/28 [00:01<00:00, 27.22it/s]\n"
     ]
    },
    {
     "name": "stdout",
     "output_type": "stream",
     "text": [
      "Epoch :  391 Epoch 1/1, Batch Loss: 4.99418\n"
     ]
    },
    {
     "name": "stderr",
     "output_type": "stream",
     "text": [
      "100%|██████████████████████████████████████████████████████████████████████████████████| 28/28 [00:01<00:00, 26.04it/s]\n"
     ]
    },
    {
     "name": "stdout",
     "output_type": "stream",
     "text": [
      "Epoch :  392 Epoch 1/1, Batch Loss: 9.6103\n"
     ]
    },
    {
     "name": "stderr",
     "output_type": "stream",
     "text": [
      "100%|██████████████████████████████████████████████████████████████████████████████████| 28/28 [00:01<00:00, 26.15it/s]\n"
     ]
    },
    {
     "name": "stdout",
     "output_type": "stream",
     "text": [
      "Epoch :  393 Epoch 1/1, Batch Loss: 6.30316\n"
     ]
    },
    {
     "name": "stderr",
     "output_type": "stream",
     "text": [
      "100%|██████████████████████████████████████████████████████████████████████████████████| 28/28 [00:01<00:00, 25.80it/s]\n"
     ]
    },
    {
     "name": "stdout",
     "output_type": "stream",
     "text": [
      "Epoch :  394 Epoch 1/1, Batch Loss: 8.72257\n"
     ]
    },
    {
     "name": "stderr",
     "output_type": "stream",
     "text": [
      "100%|██████████████████████████████████████████████████████████████████████████████████| 28/28 [00:01<00:00, 27.03it/s]\n"
     ]
    },
    {
     "name": "stdout",
     "output_type": "stream",
     "text": [
      "Epoch :  395 Epoch 1/1, Batch Loss: 9.48253\n"
     ]
    },
    {
     "name": "stderr",
     "output_type": "stream",
     "text": [
      "100%|██████████████████████████████████████████████████████████████████████████████████| 28/28 [00:01<00:00, 26.31it/s]\n"
     ]
    },
    {
     "name": "stdout",
     "output_type": "stream",
     "text": [
      "Epoch :  396 Epoch 1/1, Batch Loss: 4.36405\n"
     ]
    },
    {
     "name": "stderr",
     "output_type": "stream",
     "text": [
      "100%|██████████████████████████████████████████████████████████████████████████████████| 28/28 [00:01<00:00, 27.01it/s]\n"
     ]
    },
    {
     "name": "stdout",
     "output_type": "stream",
     "text": [
      "Epoch :  397 Epoch 1/1, Batch Loss: 2.15307\n"
     ]
    },
    {
     "name": "stderr",
     "output_type": "stream",
     "text": [
      "100%|██████████████████████████████████████████████████████████████████████████████████| 28/28 [00:01<00:00, 26.03it/s]\n"
     ]
    },
    {
     "name": "stdout",
     "output_type": "stream",
     "text": [
      "Epoch :  398 Epoch 1/1, Batch Loss: 3.37389\n"
     ]
    },
    {
     "name": "stderr",
     "output_type": "stream",
     "text": [
      "100%|██████████████████████████████████████████████████████████████████████████████████| 28/28 [00:01<00:00, 26.99it/s]\n"
     ]
    },
    {
     "name": "stdout",
     "output_type": "stream",
     "text": [
      "Epoch :  399 Epoch 1/1, Batch Loss: 3.60009\n"
     ]
    },
    {
     "name": "stderr",
     "output_type": "stream",
     "text": [
      "100%|██████████████████████████████████████████████████████████████████████████████████| 28/28 [00:01<00:00, 26.07it/s]\n"
     ]
    },
    {
     "name": "stdout",
     "output_type": "stream",
     "text": [
      "Epoch :  400 Epoch 1/1, Batch Loss: 3.85143\n"
     ]
    },
    {
     "name": "stderr",
     "output_type": "stream",
     "text": [
      "100%|██████████████████████████████████████████████████████████████████████████████████| 28/28 [00:01<00:00, 26.72it/s]\n"
     ]
    },
    {
     "name": "stdout",
     "output_type": "stream",
     "text": [
      "Epoch :  401 Epoch 1/1, Batch Loss: 7.84779\n"
     ]
    },
    {
     "name": "stderr",
     "output_type": "stream",
     "text": [
      "100%|██████████████████████████████████████████████████████████████████████████████████| 28/28 [00:01<00:00, 25.79it/s]\n"
     ]
    },
    {
     "name": "stdout",
     "output_type": "stream",
     "text": [
      "Epoch :  402 Epoch 1/1, Batch Loss: 0.97567\n"
     ]
    },
    {
     "name": "stderr",
     "output_type": "stream",
     "text": [
      "100%|██████████████████████████████████████████████████████████████████████████████████| 28/28 [00:01<00:00, 27.11it/s]\n"
     ]
    },
    {
     "name": "stdout",
     "output_type": "stream",
     "text": [
      "Epoch :  403 Epoch 1/1, Batch Loss: 6.77015\n"
     ]
    },
    {
     "name": "stderr",
     "output_type": "stream",
     "text": [
      "100%|██████████████████████████████████████████████████████████████████████████████████| 28/28 [00:01<00:00, 24.42it/s]\n"
     ]
    },
    {
     "name": "stdout",
     "output_type": "stream",
     "text": [
      "Epoch :  404 Epoch 1/1, Batch Loss: 7.76541\n"
     ]
    },
    {
     "name": "stderr",
     "output_type": "stream",
     "text": [
      "100%|██████████████████████████████████████████████████████████████████████████████████| 28/28 [00:01<00:00, 26.90it/s]\n"
     ]
    },
    {
     "name": "stdout",
     "output_type": "stream",
     "text": [
      "Epoch :  405 Epoch 1/1, Batch Loss: 3.24989\n"
     ]
    },
    {
     "name": "stderr",
     "output_type": "stream",
     "text": [
      "100%|██████████████████████████████████████████████████████████████████████████████████| 28/28 [00:01<00:00, 25.77it/s]\n"
     ]
    },
    {
     "name": "stdout",
     "output_type": "stream",
     "text": [
      "Epoch :  406 Epoch 1/1, Batch Loss: 2.87259\n"
     ]
    },
    {
     "name": "stderr",
     "output_type": "stream",
     "text": [
      "100%|██████████████████████████████████████████████████████████████████████████████████| 28/28 [00:01<00:00, 27.23it/s]\n"
     ]
    },
    {
     "name": "stdout",
     "output_type": "stream",
     "text": [
      "Epoch :  407 Epoch 1/1, Batch Loss: 4.05933\n"
     ]
    },
    {
     "name": "stderr",
     "output_type": "stream",
     "text": [
      "100%|██████████████████████████████████████████████████████████████████████████████████| 28/28 [00:01<00:00, 26.42it/s]\n"
     ]
    },
    {
     "name": "stdout",
     "output_type": "stream",
     "text": [
      "Epoch :  408 Epoch 1/1, Batch Loss: 6.64246\n"
     ]
    },
    {
     "name": "stderr",
     "output_type": "stream",
     "text": [
      "100%|██████████████████████████████████████████████████████████████████████████████████| 28/28 [00:01<00:00, 26.86it/s]\n"
     ]
    },
    {
     "name": "stdout",
     "output_type": "stream",
     "text": [
      "Epoch :  409 Epoch 1/1, Batch Loss: 10.15661\n"
     ]
    },
    {
     "name": "stderr",
     "output_type": "stream",
     "text": [
      "100%|██████████████████████████████████████████████████████████████████████████████████| 28/28 [00:01<00:00, 26.31it/s]\n"
     ]
    },
    {
     "name": "stdout",
     "output_type": "stream",
     "text": [
      "Epoch :  410 Epoch 1/1, Batch Loss: 9.16929\n"
     ]
    },
    {
     "name": "stderr",
     "output_type": "stream",
     "text": [
      "100%|██████████████████████████████████████████████████████████████████████████████████| 28/28 [00:01<00:00, 27.37it/s]\n"
     ]
    },
    {
     "name": "stdout",
     "output_type": "stream",
     "text": [
      "Epoch :  411 Epoch 1/1, Batch Loss: 3.59743\n"
     ]
    },
    {
     "name": "stderr",
     "output_type": "stream",
     "text": [
      "100%|██████████████████████████████████████████████████████████████████████████████████| 28/28 [00:01<00:00, 26.11it/s]\n"
     ]
    },
    {
     "name": "stdout",
     "output_type": "stream",
     "text": [
      "Epoch :  412 Epoch 1/1, Batch Loss: 2.02739\n"
     ]
    },
    {
     "name": "stderr",
     "output_type": "stream",
     "text": [
      "100%|██████████████████████████████████████████████████████████████████████████████████| 28/28 [00:01<00:00, 27.03it/s]\n"
     ]
    },
    {
     "name": "stdout",
     "output_type": "stream",
     "text": [
      "Epoch :  413 Epoch 1/1, Batch Loss: 1.2785\n"
     ]
    },
    {
     "name": "stderr",
     "output_type": "stream",
     "text": [
      "100%|██████████████████████████████████████████████████████████████████████████████████| 28/28 [00:01<00:00, 26.44it/s]\n"
     ]
    },
    {
     "name": "stdout",
     "output_type": "stream",
     "text": [
      "Epoch :  414 Epoch 1/1, Batch Loss: 6.90583\n"
     ]
    },
    {
     "name": "stderr",
     "output_type": "stream",
     "text": [
      "100%|██████████████████████████████████████████████████████████████████████████████████| 28/28 [00:01<00:00, 26.58it/s]\n"
     ]
    },
    {
     "name": "stdout",
     "output_type": "stream",
     "text": [
      "Epoch :  415 Epoch 1/1, Batch Loss: 1.24709\n"
     ]
    },
    {
     "name": "stderr",
     "output_type": "stream",
     "text": [
      "100%|██████████████████████████████████████████████████████████████████████████████████| 28/28 [00:01<00:00, 26.16it/s]\n"
     ]
    },
    {
     "name": "stdout",
     "output_type": "stream",
     "text": [
      "Epoch :  416 Epoch 1/1, Batch Loss: 1.71982\n"
     ]
    },
    {
     "name": "stderr",
     "output_type": "stream",
     "text": [
      "100%|██████████████████████████████████████████████████████████████████████████████████| 28/28 [00:01<00:00, 27.07it/s]\n"
     ]
    },
    {
     "name": "stdout",
     "output_type": "stream",
     "text": [
      "Epoch :  417 Epoch 1/1, Batch Loss: 1.24444\n"
     ]
    },
    {
     "name": "stderr",
     "output_type": "stream",
     "text": [
      "100%|██████████████████████████████████████████████████████████████████████████████████| 28/28 [00:01<00:00, 26.44it/s]\n"
     ]
    },
    {
     "name": "stdout",
     "output_type": "stream",
     "text": [
      "Epoch :  418 Epoch 1/1, Batch Loss: -0.70621\n"
     ]
    },
    {
     "name": "stderr",
     "output_type": "stream",
     "text": [
      "100%|██████████████████████████████████████████████████████████████████████████████████| 28/28 [00:01<00:00, 27.55it/s]\n"
     ]
    },
    {
     "name": "stdout",
     "output_type": "stream",
     "text": [
      "Epoch :  419 Epoch 1/1, Batch Loss: 4.20345\n"
     ]
    },
    {
     "name": "stderr",
     "output_type": "stream",
     "text": [
      "100%|██████████████████████████████████████████████████████████████████████████████████| 28/28 [00:01<00:00, 26.29it/s]\n"
     ]
    },
    {
     "name": "stdout",
     "output_type": "stream",
     "text": [
      "Epoch :  420 Epoch 1/1, Batch Loss: 1.71813\n"
     ]
    },
    {
     "name": "stderr",
     "output_type": "stream",
     "text": [
      "100%|██████████████████████████████████████████████████████████████████████████████████| 28/28 [00:01<00:00, 27.21it/s]\n"
     ]
    },
    {
     "name": "stdout",
     "output_type": "stream",
     "text": [
      "Epoch :  421 Epoch 1/1, Batch Loss: 0.87191\n"
     ]
    },
    {
     "name": "stderr",
     "output_type": "stream",
     "text": [
      "100%|██████████████████████████████████████████████████████████████████████████████████| 28/28 [00:01<00:00, 25.81it/s]\n"
     ]
    },
    {
     "name": "stdout",
     "output_type": "stream",
     "text": [
      "Epoch :  422 Epoch 1/1, Batch Loss: -2.84087\n"
     ]
    },
    {
     "name": "stderr",
     "output_type": "stream",
     "text": [
      "100%|██████████████████████████████████████████████████████████████████████████████████| 28/28 [00:01<00:00, 26.86it/s]\n"
     ]
    },
    {
     "name": "stdout",
     "output_type": "stream",
     "text": [
      "Epoch :  423 Epoch 1/1, Batch Loss: 5.8152\n"
     ]
    },
    {
     "name": "stderr",
     "output_type": "stream",
     "text": [
      "100%|██████████████████████████████████████████████████████████████████████████████████| 28/28 [00:01<00:00, 25.50it/s]\n"
     ]
    },
    {
     "name": "stdout",
     "output_type": "stream",
     "text": [
      "Epoch :  424 Epoch 1/1, Batch Loss: -1.57026\n"
     ]
    },
    {
     "name": "stderr",
     "output_type": "stream",
     "text": [
      "100%|██████████████████████████████████████████████████████████████████████████████████| 28/28 [00:01<00:00, 27.37it/s]\n"
     ]
    },
    {
     "name": "stdout",
     "output_type": "stream",
     "text": [
      "Epoch :  425 Epoch 1/1, Batch Loss: 6.93209\n"
     ]
    },
    {
     "name": "stderr",
     "output_type": "stream",
     "text": [
      "100%|██████████████████████████████████████████████████████████████████████████████████| 28/28 [00:01<00:00, 26.50it/s]\n"
     ]
    },
    {
     "name": "stdout",
     "output_type": "stream",
     "text": [
      "Epoch :  426 Epoch 1/1, Batch Loss: 1.09694\n"
     ]
    },
    {
     "name": "stderr",
     "output_type": "stream",
     "text": [
      "100%|██████████████████████████████████████████████████████████████████████████████████| 28/28 [00:01<00:00, 27.24it/s]\n"
     ]
    },
    {
     "name": "stdout",
     "output_type": "stream",
     "text": [
      "Epoch :  427 Epoch 1/1, Batch Loss: 4.32616\n"
     ]
    },
    {
     "name": "stderr",
     "output_type": "stream",
     "text": [
      "100%|██████████████████████████████████████████████████████████████████████████████████| 28/28 [00:01<00:00, 26.67it/s]\n"
     ]
    },
    {
     "name": "stdout",
     "output_type": "stream",
     "text": [
      "Epoch :  428 Epoch 1/1, Batch Loss: -0.16383\n"
     ]
    },
    {
     "name": "stderr",
     "output_type": "stream",
     "text": [
      "100%|██████████████████████████████████████████████████████████████████████████████████| 28/28 [00:01<00:00, 26.82it/s]\n"
     ]
    },
    {
     "name": "stdout",
     "output_type": "stream",
     "text": [
      "Epoch :  429 Epoch 1/1, Batch Loss: -0.29883\n"
     ]
    },
    {
     "name": "stderr",
     "output_type": "stream",
     "text": [
      "100%|██████████████████████████████████████████████████████████████████████████████████| 28/28 [00:01<00:00, 25.64it/s]\n"
     ]
    },
    {
     "name": "stdout",
     "output_type": "stream",
     "text": [
      "Epoch :  430 Epoch 1/1, Batch Loss: 5.10924\n"
     ]
    },
    {
     "name": "stderr",
     "output_type": "stream",
     "text": [
      "100%|██████████████████████████████████████████████████████████████████████████████████| 28/28 [00:01<00:00, 27.04it/s]\n"
     ]
    },
    {
     "name": "stdout",
     "output_type": "stream",
     "text": [
      "Epoch :  431 Epoch 1/1, Batch Loss: 2.38498\n"
     ]
    },
    {
     "name": "stderr",
     "output_type": "stream",
     "text": [
      "100%|██████████████████████████████████████████████████████████████████████████████████| 28/28 [00:01<00:00, 25.31it/s]\n"
     ]
    },
    {
     "name": "stdout",
     "output_type": "stream",
     "text": [
      "Epoch :  432 Epoch 1/1, Batch Loss: 2.29428\n"
     ]
    },
    {
     "name": "stderr",
     "output_type": "stream",
     "text": [
      "100%|██████████████████████████████████████████████████████████████████████████████████| 28/28 [00:01<00:00, 24.91it/s]\n"
     ]
    },
    {
     "name": "stdout",
     "output_type": "stream",
     "text": [
      "Epoch :  433 Epoch 1/1, Batch Loss: -0.59715\n"
     ]
    },
    {
     "name": "stderr",
     "output_type": "stream",
     "text": [
      "100%|██████████████████████████████████████████████████████████████████████████████████| 28/28 [00:01<00:00, 24.62it/s]\n"
     ]
    },
    {
     "name": "stdout",
     "output_type": "stream",
     "text": [
      "Epoch :  434 Epoch 1/1, Batch Loss: 7.5958\n"
     ]
    },
    {
     "name": "stderr",
     "output_type": "stream",
     "text": [
      "100%|██████████████████████████████████████████████████████████████████████████████████| 28/28 [00:01<00:00, 24.85it/s]\n"
     ]
    },
    {
     "name": "stdout",
     "output_type": "stream",
     "text": [
      "Epoch :  435 Epoch 1/1, Batch Loss: -1.68963\n"
     ]
    },
    {
     "name": "stderr",
     "output_type": "stream",
     "text": [
      "100%|██████████████████████████████████████████████████████████████████████████████████| 28/28 [00:01<00:00, 24.72it/s]\n"
     ]
    },
    {
     "name": "stdout",
     "output_type": "stream",
     "text": [
      "Epoch :  436 Epoch 1/1, Batch Loss: 1.30292\n"
     ]
    },
    {
     "name": "stderr",
     "output_type": "stream",
     "text": [
      "100%|██████████████████████████████████████████████████████████████████████████████████| 28/28 [00:01<00:00, 27.55it/s]\n"
     ]
    },
    {
     "name": "stdout",
     "output_type": "stream",
     "text": [
      "Epoch :  437 Epoch 1/1, Batch Loss: -1.70121\n"
     ]
    },
    {
     "name": "stderr",
     "output_type": "stream",
     "text": [
      "100%|██████████████████████████████████████████████████████████████████████████████████| 28/28 [00:01<00:00, 26.09it/s]\n"
     ]
    },
    {
     "name": "stdout",
     "output_type": "stream",
     "text": [
      "Epoch :  438 Epoch 1/1, Batch Loss: 6.5962\n"
     ]
    },
    {
     "name": "stderr",
     "output_type": "stream",
     "text": [
      "100%|██████████████████████████████████████████████████████████████████████████████████| 28/28 [00:01<00:00, 27.01it/s]\n"
     ]
    },
    {
     "name": "stdout",
     "output_type": "stream",
     "text": [
      "Epoch :  439 Epoch 1/1, Batch Loss: -0.39736\n"
     ]
    },
    {
     "name": "stderr",
     "output_type": "stream",
     "text": [
      "100%|██████████████████████████████████████████████████████████████████████████████████| 28/28 [00:01<00:00, 26.33it/s]\n"
     ]
    },
    {
     "name": "stdout",
     "output_type": "stream",
     "text": [
      "Epoch :  440 Epoch 1/1, Batch Loss: -1.2608\n"
     ]
    },
    {
     "name": "stderr",
     "output_type": "stream",
     "text": [
      "100%|██████████████████████████████████████████████████████████████████████████████████| 28/28 [00:01<00:00, 26.90it/s]\n"
     ]
    },
    {
     "name": "stdout",
     "output_type": "stream",
     "text": [
      "Epoch :  441 Epoch 1/1, Batch Loss: -0.87895\n"
     ]
    },
    {
     "name": "stderr",
     "output_type": "stream",
     "text": [
      "100%|██████████████████████████████████████████████████████████████████████████████████| 28/28 [00:01<00:00, 26.09it/s]\n"
     ]
    },
    {
     "name": "stdout",
     "output_type": "stream",
     "text": [
      "Epoch :  442 Epoch 1/1, Batch Loss: -3.74386\n"
     ]
    },
    {
     "name": "stderr",
     "output_type": "stream",
     "text": [
      "100%|██████████████████████████████████████████████████████████████████████████████████| 28/28 [00:01<00:00, 27.75it/s]\n"
     ]
    },
    {
     "name": "stdout",
     "output_type": "stream",
     "text": [
      "Epoch :  443 Epoch 1/1, Batch Loss: 0.48545\n"
     ]
    },
    {
     "name": "stderr",
     "output_type": "stream",
     "text": [
      "100%|██████████████████████████████████████████████████████████████████████████████████| 28/28 [00:01<00:00, 26.07it/s]\n"
     ]
    },
    {
     "name": "stdout",
     "output_type": "stream",
     "text": [
      "Epoch :  444 Epoch 1/1, Batch Loss: -3.169\n"
     ]
    },
    {
     "name": "stderr",
     "output_type": "stream",
     "text": [
      "100%|██████████████████████████████████████████████████████████████████████████████████| 28/28 [00:01<00:00, 27.84it/s]\n"
     ]
    },
    {
     "name": "stdout",
     "output_type": "stream",
     "text": [
      "Epoch :  445 Epoch 1/1, Batch Loss: 4.08528\n"
     ]
    },
    {
     "name": "stderr",
     "output_type": "stream",
     "text": [
      "100%|██████████████████████████████████████████████████████████████████████████████████| 28/28 [00:01<00:00, 26.76it/s]\n"
     ]
    },
    {
     "name": "stdout",
     "output_type": "stream",
     "text": [
      "Epoch :  446 Epoch 1/1, Batch Loss: 0.27457\n"
     ]
    },
    {
     "name": "stderr",
     "output_type": "stream",
     "text": [
      "100%|██████████████████████████████████████████████████████████████████████████████████| 28/28 [00:01<00:00, 27.77it/s]\n"
     ]
    },
    {
     "name": "stdout",
     "output_type": "stream",
     "text": [
      "Epoch :  447 Epoch 1/1, Batch Loss: 10.5603\n"
     ]
    },
    {
     "name": "stderr",
     "output_type": "stream",
     "text": [
      "100%|██████████████████████████████████████████████████████████████████████████████████| 28/28 [00:01<00:00, 26.58it/s]\n"
     ]
    },
    {
     "name": "stdout",
     "output_type": "stream",
     "text": [
      "Epoch :  448 Epoch 1/1, Batch Loss: 2.03409\n"
     ]
    },
    {
     "name": "stderr",
     "output_type": "stream",
     "text": [
      "100%|██████████████████████████████████████████████████████████████████████████████████| 28/28 [00:01<00:00, 27.41it/s]\n"
     ]
    },
    {
     "name": "stdout",
     "output_type": "stream",
     "text": [
      "Epoch :  449 Epoch 1/1, Batch Loss: -2.42484\n"
     ]
    },
    {
     "name": "stderr",
     "output_type": "stream",
     "text": [
      "100%|██████████████████████████████████████████████████████████████████████████████████| 28/28 [00:01<00:00, 26.28it/s]\n"
     ]
    },
    {
     "name": "stdout",
     "output_type": "stream",
     "text": [
      "Epoch :  450 Epoch 1/1, Batch Loss: -0.75367\n"
     ]
    },
    {
     "name": "stderr",
     "output_type": "stream",
     "text": [
      "100%|██████████████████████████████████████████████████████████████████████████████████| 28/28 [00:01<00:00, 27.04it/s]\n"
     ]
    },
    {
     "name": "stdout",
     "output_type": "stream",
     "text": [
      "Epoch :  451 Epoch 1/1, Batch Loss: 0.70705\n"
     ]
    },
    {
     "name": "stderr",
     "output_type": "stream",
     "text": [
      "100%|██████████████████████████████████████████████████████████████████████████████████| 28/28 [00:01<00:00, 26.01it/s]\n"
     ]
    },
    {
     "name": "stdout",
     "output_type": "stream",
     "text": [
      "Epoch :  452 Epoch 1/1, Batch Loss: 4.7423\n"
     ]
    },
    {
     "name": "stderr",
     "output_type": "stream",
     "text": [
      "100%|██████████████████████████████████████████████████████████████████████████████████| 28/28 [00:00<00:00, 28.26it/s]\n"
     ]
    },
    {
     "name": "stdout",
     "output_type": "stream",
     "text": [
      "Epoch :  453 Epoch 1/1, Batch Loss: -1.46716\n"
     ]
    },
    {
     "name": "stderr",
     "output_type": "stream",
     "text": [
      "100%|██████████████████████████████████████████████████████████████████████████████████| 28/28 [00:01<00:00, 26.42it/s]\n"
     ]
    },
    {
     "name": "stdout",
     "output_type": "stream",
     "text": [
      "Epoch :  454 Epoch 1/1, Batch Loss: -5.84389\n"
     ]
    },
    {
     "name": "stderr",
     "output_type": "stream",
     "text": [
      "100%|██████████████████████████████████████████████████████████████████████████████████| 28/28 [00:00<00:00, 28.25it/s]\n"
     ]
    },
    {
     "name": "stdout",
     "output_type": "stream",
     "text": [
      "Epoch :  455 Epoch 1/1, Batch Loss: -3.64489\n"
     ]
    },
    {
     "name": "stderr",
     "output_type": "stream",
     "text": [
      "100%|██████████████████████████████████████████████████████████████████████████████████| 28/28 [00:01<00:00, 23.94it/s]\n"
     ]
    },
    {
     "name": "stdout",
     "output_type": "stream",
     "text": [
      "Epoch :  456 Epoch 1/1, Batch Loss: -5.42435\n"
     ]
    },
    {
     "name": "stderr",
     "output_type": "stream",
     "text": [
      "100%|██████████████████████████████████████████████████████████████████████████████████| 28/28 [00:01<00:00, 24.43it/s]\n"
     ]
    },
    {
     "name": "stdout",
     "output_type": "stream",
     "text": [
      "Epoch :  457 Epoch 1/1, Batch Loss: -0.69239\n"
     ]
    },
    {
     "name": "stderr",
     "output_type": "stream",
     "text": [
      "100%|██████████████████████████████████████████████████████████████████████████████████| 28/28 [00:01<00:00, 24.99it/s]\n"
     ]
    },
    {
     "name": "stdout",
     "output_type": "stream",
     "text": [
      "Epoch :  458 Epoch 1/1, Batch Loss: 1.89139\n"
     ]
    },
    {
     "name": "stderr",
     "output_type": "stream",
     "text": [
      "100%|██████████████████████████████████████████████████████████████████████████████████| 28/28 [00:01<00:00, 24.32it/s]\n"
     ]
    },
    {
     "name": "stdout",
     "output_type": "stream",
     "text": [
      "Epoch :  459 Epoch 1/1, Batch Loss: 1.23493\n"
     ]
    },
    {
     "name": "stderr",
     "output_type": "stream",
     "text": [
      "100%|██████████████████████████████████████████████████████████████████████████████████| 28/28 [00:01<00:00, 25.36it/s]\n"
     ]
    },
    {
     "name": "stdout",
     "output_type": "stream",
     "text": [
      "Epoch :  460 Epoch 1/1, Batch Loss: -5.00987\n"
     ]
    },
    {
     "name": "stderr",
     "output_type": "stream",
     "text": [
      "100%|██████████████████████████████████████████████████████████████████████████████████| 28/28 [00:01<00:00, 23.11it/s]\n"
     ]
    },
    {
     "name": "stdout",
     "output_type": "stream",
     "text": [
      "Epoch :  461 Epoch 1/1, Batch Loss: -6.28007\n"
     ]
    },
    {
     "name": "stderr",
     "output_type": "stream",
     "text": [
      "100%|██████████████████████████████████████████████████████████████████████████████████| 28/28 [00:01<00:00, 25.62it/s]\n"
     ]
    },
    {
     "name": "stdout",
     "output_type": "stream",
     "text": [
      "Epoch :  462 Epoch 1/1, Batch Loss: -0.44672\n"
     ]
    },
    {
     "name": "stderr",
     "output_type": "stream",
     "text": [
      "100%|██████████████████████████████████████████████████████████████████████████████████| 28/28 [00:01<00:00, 25.99it/s]\n"
     ]
    },
    {
     "name": "stdout",
     "output_type": "stream",
     "text": [
      "Epoch :  463 Epoch 1/1, Batch Loss: -5.43701\n"
     ]
    },
    {
     "name": "stderr",
     "output_type": "stream",
     "text": [
      "100%|██████████████████████████████████████████████████████████████████████████████████| 28/28 [00:01<00:00, 27.31it/s]\n"
     ]
    },
    {
     "name": "stdout",
     "output_type": "stream",
     "text": [
      "Epoch :  464 Epoch 1/1, Batch Loss: -1.50149\n"
     ]
    },
    {
     "name": "stderr",
     "output_type": "stream",
     "text": [
      "100%|██████████████████████████████████████████████████████████████████████████████████| 28/28 [00:01<00:00, 25.52it/s]\n"
     ]
    },
    {
     "name": "stdout",
     "output_type": "stream",
     "text": [
      "Epoch :  465 Epoch 1/1, Batch Loss: -3.74614\n"
     ]
    },
    {
     "name": "stderr",
     "output_type": "stream",
     "text": [
      "100%|██████████████████████████████████████████████████████████████████████████████████| 28/28 [00:01<00:00, 27.14it/s]\n"
     ]
    },
    {
     "name": "stdout",
     "output_type": "stream",
     "text": [
      "Epoch :  466 Epoch 1/1, Batch Loss: -5.56943\n"
     ]
    },
    {
     "name": "stderr",
     "output_type": "stream",
     "text": [
      "100%|██████████████████████████████████████████████████████████████████████████████████| 28/28 [00:01<00:00, 25.33it/s]\n"
     ]
    },
    {
     "name": "stdout",
     "output_type": "stream",
     "text": [
      "Epoch :  467 Epoch 1/1, Batch Loss: 1.7569\n"
     ]
    },
    {
     "name": "stderr",
     "output_type": "stream",
     "text": [
      "100%|██████████████████████████████████████████████████████████████████████████████████| 28/28 [00:01<00:00, 26.21it/s]\n"
     ]
    },
    {
     "name": "stdout",
     "output_type": "stream",
     "text": [
      "Epoch :  468 Epoch 1/1, Batch Loss: -0.66769\n"
     ]
    },
    {
     "name": "stderr",
     "output_type": "stream",
     "text": [
      " 79%|████████████████████████████████████████████████████████████████▍                 | 22/28 [00:01<00:00, 21.71it/s]\n"
     ]
    },
    {
     "ename": "KeyboardInterrupt",
     "evalue": "",
     "output_type": "error",
     "traceback": [
      "\u001b[1;31m---------------------------------------------------------------------------\u001b[0m",
      "\u001b[1;31mKeyboardInterrupt\u001b[0m                         Traceback (most recent call last)",
      "Cell \u001b[1;32mIn[18], line 85\u001b[0m\n\u001b[0;32m     80\u001b[0m \u001b[38;5;66;03m#         print(\"output_action : \", output_action)\u001b[39;00m\n\u001b[0;32m     81\u001b[0m \u001b[38;5;66;03m#         print(\"action : \", action)\u001b[39;00m\n\u001b[0;32m     82\u001b[0m         \u001b[38;5;66;03m# print(\"loss_bc_traj : \", loss_bc_traj)\u001b[39;00m\n\u001b[0;32m     83\u001b[0m         batch_loss \u001b[38;5;241m=\u001b[39m loss_bc_traj\u001b[38;5;241m.\u001b[39mmean()\n\u001b[1;32m---> 85\u001b[0m         \u001b[43mupdater_obj\u001b[49m\u001b[38;5;241;43m.\u001b[39;49m\u001b[43mrun_policy_optimizer\u001b[49m\u001b[43m(\u001b[49m\u001b[43mpolicy_loss\u001b[49m\u001b[38;5;241;43m=\u001b[39;49m\u001b[43mloss_bc_traj\u001b[49m\u001b[43m)\u001b[49m\n\u001b[0;32m     87\u001b[0m         loss_value \u001b[38;5;241m=\u001b[39m \u001b[38;5;28mround\u001b[39m(batch_loss\u001b[38;5;241m.\u001b[39mitem(), \u001b[38;5;241m5\u001b[39m)\n\u001b[0;32m     88\u001b[0m         loss_value_str \u001b[38;5;241m=\u001b[39m \u001b[38;5;28mstr\u001b[39m(loss_value)\u001b[38;5;241m.\u001b[39mreplace(\u001b[38;5;124m\"\u001b[39m\u001b[38;5;124m.\u001b[39m\u001b[38;5;124m\"\u001b[39m, \u001b[38;5;124m\"\u001b[39m\u001b[38;5;124m_\u001b[39m\u001b[38;5;124m\"\u001b[39m)\n",
      "File \u001b[1;32mc:\\users\\24989903\\research-uts\\codes\\learning-trust-behavior\\src\\optimization\\updater.py:148\u001b[0m, in \u001b[0;36mUpdater.run_policy_optimizer\u001b[1;34m(self, policy_loss)\u001b[0m\n\u001b[0;32m    146\u001b[0m \u001b[38;5;28mself\u001b[39m\u001b[38;5;241m.\u001b[39mpolicy_optimizer\u001b[38;5;241m.\u001b[39mzero_grad()\n\u001b[0;32m    147\u001b[0m policy_loss\u001b[38;5;241m.\u001b[39mbackward()\n\u001b[1;32m--> 148\u001b[0m \u001b[38;5;28;43mself\u001b[39;49m\u001b[38;5;241;43m.\u001b[39;49m\u001b[43mpolicy_optimizer\u001b[49m\u001b[38;5;241;43m.\u001b[39;49m\u001b[43mstep\u001b[49m\u001b[43m(\u001b[49m\u001b[43m)\u001b[49m\n\u001b[0;32m    149\u001b[0m \u001b[38;5;28mself\u001b[39m\u001b[38;5;241m.\u001b[39mpolicy_scheduler\u001b[38;5;241m.\u001b[39mstep()\n",
      "File \u001b[1;32mC:\\ProgramData\\anaconda3\\lib\\site-packages\\torch\\optim\\lr_scheduler.py:65\u001b[0m, in \u001b[0;36m_LRScheduler.__init__.<locals>.with_counter.<locals>.wrapper\u001b[1;34m(*args, **kwargs)\u001b[0m\n\u001b[0;32m     63\u001b[0m instance\u001b[38;5;241m.\u001b[39m_step_count \u001b[38;5;241m+\u001b[39m\u001b[38;5;241m=\u001b[39m \u001b[38;5;241m1\u001b[39m\n\u001b[0;32m     64\u001b[0m wrapped \u001b[38;5;241m=\u001b[39m func\u001b[38;5;241m.\u001b[39m\u001b[38;5;21m__get__\u001b[39m(instance, \u001b[38;5;28mcls\u001b[39m)\n\u001b[1;32m---> 65\u001b[0m \u001b[38;5;28;01mreturn\u001b[39;00m wrapped(\u001b[38;5;241m*\u001b[39margs, \u001b[38;5;241m*\u001b[39m\u001b[38;5;241m*\u001b[39mkwargs)\n",
      "File \u001b[1;32mC:\\ProgramData\\anaconda3\\lib\\site-packages\\torch\\optim\\optimizer.py:113\u001b[0m, in \u001b[0;36mOptimizer._hook_for_profile.<locals>.profile_hook_step.<locals>.wrapper\u001b[1;34m(*args, **kwargs)\u001b[0m\n\u001b[0;32m    111\u001b[0m profile_name \u001b[38;5;241m=\u001b[39m \u001b[38;5;124m\"\u001b[39m\u001b[38;5;124mOptimizer.step#\u001b[39m\u001b[38;5;132;01m{}\u001b[39;00m\u001b[38;5;124m.step\u001b[39m\u001b[38;5;124m\"\u001b[39m\u001b[38;5;241m.\u001b[39mformat(obj\u001b[38;5;241m.\u001b[39m\u001b[38;5;18m__class__\u001b[39m\u001b[38;5;241m.\u001b[39m\u001b[38;5;18m__name__\u001b[39m)\n\u001b[0;32m    112\u001b[0m \u001b[38;5;28;01mwith\u001b[39;00m torch\u001b[38;5;241m.\u001b[39mautograd\u001b[38;5;241m.\u001b[39mprofiler\u001b[38;5;241m.\u001b[39mrecord_function(profile_name):\n\u001b[1;32m--> 113\u001b[0m     \u001b[38;5;28;01mreturn\u001b[39;00m func(\u001b[38;5;241m*\u001b[39margs, \u001b[38;5;241m*\u001b[39m\u001b[38;5;241m*\u001b[39mkwargs)\n",
      "File \u001b[1;32mC:\\ProgramData\\anaconda3\\lib\\site-packages\\torch\\autograd\\grad_mode.py:27\u001b[0m, in \u001b[0;36m_DecoratorContextManager.__call__.<locals>.decorate_context\u001b[1;34m(*args, **kwargs)\u001b[0m\n\u001b[0;32m     24\u001b[0m \u001b[38;5;129m@functools\u001b[39m\u001b[38;5;241m.\u001b[39mwraps(func)\n\u001b[0;32m     25\u001b[0m \u001b[38;5;28;01mdef\u001b[39;00m \u001b[38;5;21mdecorate_context\u001b[39m(\u001b[38;5;241m*\u001b[39margs, \u001b[38;5;241m*\u001b[39m\u001b[38;5;241m*\u001b[39mkwargs):\n\u001b[0;32m     26\u001b[0m     \u001b[38;5;28;01mwith\u001b[39;00m \u001b[38;5;28mself\u001b[39m\u001b[38;5;241m.\u001b[39mclone():\n\u001b[1;32m---> 27\u001b[0m         \u001b[38;5;28;01mreturn\u001b[39;00m func(\u001b[38;5;241m*\u001b[39margs, \u001b[38;5;241m*\u001b[39m\u001b[38;5;241m*\u001b[39mkwargs)\n",
      "File \u001b[1;32mC:\\ProgramData\\anaconda3\\lib\\site-packages\\torch\\optim\\adam.py:157\u001b[0m, in \u001b[0;36mAdam.step\u001b[1;34m(self, closure)\u001b[0m\n\u001b[0;32m    153\u001b[0m                 max_exp_avg_sqs\u001b[38;5;241m.\u001b[39mappend(state[\u001b[38;5;124m'\u001b[39m\u001b[38;5;124mmax_exp_avg_sq\u001b[39m\u001b[38;5;124m'\u001b[39m])\n\u001b[0;32m    155\u001b[0m             state_steps\u001b[38;5;241m.\u001b[39mappend(state[\u001b[38;5;124m'\u001b[39m\u001b[38;5;124mstep\u001b[39m\u001b[38;5;124m'\u001b[39m])\n\u001b[1;32m--> 157\u001b[0m     \u001b[43madam\u001b[49m\u001b[43m(\u001b[49m\u001b[43mparams_with_grad\u001b[49m\u001b[43m,\u001b[49m\n\u001b[0;32m    158\u001b[0m \u001b[43m         \u001b[49m\u001b[43mgrads\u001b[49m\u001b[43m,\u001b[49m\n\u001b[0;32m    159\u001b[0m \u001b[43m         \u001b[49m\u001b[43mexp_avgs\u001b[49m\u001b[43m,\u001b[49m\n\u001b[0;32m    160\u001b[0m \u001b[43m         \u001b[49m\u001b[43mexp_avg_sqs\u001b[49m\u001b[43m,\u001b[49m\n\u001b[0;32m    161\u001b[0m \u001b[43m         \u001b[49m\u001b[43mmax_exp_avg_sqs\u001b[49m\u001b[43m,\u001b[49m\n\u001b[0;32m    162\u001b[0m \u001b[43m         \u001b[49m\u001b[43mstate_steps\u001b[49m\u001b[43m,\u001b[49m\n\u001b[0;32m    163\u001b[0m \u001b[43m         \u001b[49m\u001b[43mamsgrad\u001b[49m\u001b[38;5;241;43m=\u001b[39;49m\u001b[43mgroup\u001b[49m\u001b[43m[\u001b[49m\u001b[38;5;124;43m'\u001b[39;49m\u001b[38;5;124;43mamsgrad\u001b[39;49m\u001b[38;5;124;43m'\u001b[39;49m\u001b[43m]\u001b[49m\u001b[43m,\u001b[49m\n\u001b[0;32m    164\u001b[0m \u001b[43m         \u001b[49m\u001b[43mbeta1\u001b[49m\u001b[38;5;241;43m=\u001b[39;49m\u001b[43mbeta1\u001b[49m\u001b[43m,\u001b[49m\n\u001b[0;32m    165\u001b[0m \u001b[43m         \u001b[49m\u001b[43mbeta2\u001b[49m\u001b[38;5;241;43m=\u001b[39;49m\u001b[43mbeta2\u001b[49m\u001b[43m,\u001b[49m\n\u001b[0;32m    166\u001b[0m \u001b[43m         \u001b[49m\u001b[43mlr\u001b[49m\u001b[38;5;241;43m=\u001b[39;49m\u001b[43mgroup\u001b[49m\u001b[43m[\u001b[49m\u001b[38;5;124;43m'\u001b[39;49m\u001b[38;5;124;43mlr\u001b[39;49m\u001b[38;5;124;43m'\u001b[39;49m\u001b[43m]\u001b[49m\u001b[43m,\u001b[49m\n\u001b[0;32m    167\u001b[0m \u001b[43m         \u001b[49m\u001b[43mweight_decay\u001b[49m\u001b[38;5;241;43m=\u001b[39;49m\u001b[43mgroup\u001b[49m\u001b[43m[\u001b[49m\u001b[38;5;124;43m'\u001b[39;49m\u001b[38;5;124;43mweight_decay\u001b[39;49m\u001b[38;5;124;43m'\u001b[39;49m\u001b[43m]\u001b[49m\u001b[43m,\u001b[49m\n\u001b[0;32m    168\u001b[0m \u001b[43m         \u001b[49m\u001b[43meps\u001b[49m\u001b[38;5;241;43m=\u001b[39;49m\u001b[43mgroup\u001b[49m\u001b[43m[\u001b[49m\u001b[38;5;124;43m'\u001b[39;49m\u001b[38;5;124;43meps\u001b[39;49m\u001b[38;5;124;43m'\u001b[39;49m\u001b[43m]\u001b[49m\u001b[43m,\u001b[49m\n\u001b[0;32m    169\u001b[0m \u001b[43m         \u001b[49m\u001b[43mmaximize\u001b[49m\u001b[38;5;241;43m=\u001b[39;49m\u001b[43mgroup\u001b[49m\u001b[43m[\u001b[49m\u001b[38;5;124;43m'\u001b[39;49m\u001b[38;5;124;43mmaximize\u001b[39;49m\u001b[38;5;124;43m'\u001b[39;49m\u001b[43m]\u001b[49m\u001b[43m,\u001b[49m\n\u001b[0;32m    170\u001b[0m \u001b[43m         \u001b[49m\u001b[43mforeach\u001b[49m\u001b[38;5;241;43m=\u001b[39;49m\u001b[43mgroup\u001b[49m\u001b[43m[\u001b[49m\u001b[38;5;124;43m'\u001b[39;49m\u001b[38;5;124;43mforeach\u001b[39;49m\u001b[38;5;124;43m'\u001b[39;49m\u001b[43m]\u001b[49m\u001b[43m,\u001b[49m\n\u001b[0;32m    171\u001b[0m \u001b[43m         \u001b[49m\u001b[43mcapturable\u001b[49m\u001b[38;5;241;43m=\u001b[39;49m\u001b[43mgroup\u001b[49m\u001b[43m[\u001b[49m\u001b[38;5;124;43m'\u001b[39;49m\u001b[38;5;124;43mcapturable\u001b[39;49m\u001b[38;5;124;43m'\u001b[39;49m\u001b[43m]\u001b[49m\u001b[43m)\u001b[49m\n\u001b[0;32m    173\u001b[0m \u001b[38;5;28;01mreturn\u001b[39;00m loss\n",
      "File \u001b[1;32mC:\\ProgramData\\anaconda3\\lib\\site-packages\\torch\\optim\\adam.py:213\u001b[0m, in \u001b[0;36madam\u001b[1;34m(params, grads, exp_avgs, exp_avg_sqs, max_exp_avg_sqs, state_steps, foreach, capturable, amsgrad, beta1, beta2, lr, weight_decay, eps, maximize)\u001b[0m\n\u001b[0;32m    210\u001b[0m \u001b[38;5;28;01melse\u001b[39;00m:\n\u001b[0;32m    211\u001b[0m     func \u001b[38;5;241m=\u001b[39m _single_tensor_adam\n\u001b[1;32m--> 213\u001b[0m \u001b[43mfunc\u001b[49m\u001b[43m(\u001b[49m\u001b[43mparams\u001b[49m\u001b[43m,\u001b[49m\n\u001b[0;32m    214\u001b[0m \u001b[43m     \u001b[49m\u001b[43mgrads\u001b[49m\u001b[43m,\u001b[49m\n\u001b[0;32m    215\u001b[0m \u001b[43m     \u001b[49m\u001b[43mexp_avgs\u001b[49m\u001b[43m,\u001b[49m\n\u001b[0;32m    216\u001b[0m \u001b[43m     \u001b[49m\u001b[43mexp_avg_sqs\u001b[49m\u001b[43m,\u001b[49m\n\u001b[0;32m    217\u001b[0m \u001b[43m     \u001b[49m\u001b[43mmax_exp_avg_sqs\u001b[49m\u001b[43m,\u001b[49m\n\u001b[0;32m    218\u001b[0m \u001b[43m     \u001b[49m\u001b[43mstate_steps\u001b[49m\u001b[43m,\u001b[49m\n\u001b[0;32m    219\u001b[0m \u001b[43m     \u001b[49m\u001b[43mamsgrad\u001b[49m\u001b[38;5;241;43m=\u001b[39;49m\u001b[43mamsgrad\u001b[49m\u001b[43m,\u001b[49m\n\u001b[0;32m    220\u001b[0m \u001b[43m     \u001b[49m\u001b[43mbeta1\u001b[49m\u001b[38;5;241;43m=\u001b[39;49m\u001b[43mbeta1\u001b[49m\u001b[43m,\u001b[49m\n\u001b[0;32m    221\u001b[0m \u001b[43m     \u001b[49m\u001b[43mbeta2\u001b[49m\u001b[38;5;241;43m=\u001b[39;49m\u001b[43mbeta2\u001b[49m\u001b[43m,\u001b[49m\n\u001b[0;32m    222\u001b[0m \u001b[43m     \u001b[49m\u001b[43mlr\u001b[49m\u001b[38;5;241;43m=\u001b[39;49m\u001b[43mlr\u001b[49m\u001b[43m,\u001b[49m\n\u001b[0;32m    223\u001b[0m \u001b[43m     \u001b[49m\u001b[43mweight_decay\u001b[49m\u001b[38;5;241;43m=\u001b[39;49m\u001b[43mweight_decay\u001b[49m\u001b[43m,\u001b[49m\n\u001b[0;32m    224\u001b[0m \u001b[43m     \u001b[49m\u001b[43meps\u001b[49m\u001b[38;5;241;43m=\u001b[39;49m\u001b[43meps\u001b[49m\u001b[43m,\u001b[49m\n\u001b[0;32m    225\u001b[0m \u001b[43m     \u001b[49m\u001b[43mmaximize\u001b[49m\u001b[38;5;241;43m=\u001b[39;49m\u001b[43mmaximize\u001b[49m\u001b[43m,\u001b[49m\n\u001b[0;32m    226\u001b[0m \u001b[43m     \u001b[49m\u001b[43mcapturable\u001b[49m\u001b[38;5;241;43m=\u001b[39;49m\u001b[43mcapturable\u001b[49m\u001b[43m)\u001b[49m\n",
      "File \u001b[1;32mC:\\ProgramData\\anaconda3\\lib\\site-packages\\torch\\optim\\adam.py:259\u001b[0m, in \u001b[0;36m_single_tensor_adam\u001b[1;34m(params, grads, exp_avgs, exp_avg_sqs, max_exp_avg_sqs, state_steps, amsgrad, beta1, beta2, lr, weight_decay, eps, maximize, capturable)\u001b[0m\n\u001b[0;32m    256\u001b[0m step_t \u001b[38;5;241m+\u001b[39m\u001b[38;5;241m=\u001b[39m \u001b[38;5;241m1\u001b[39m\n\u001b[0;32m    258\u001b[0m \u001b[38;5;28;01mif\u001b[39;00m weight_decay \u001b[38;5;241m!=\u001b[39m \u001b[38;5;241m0\u001b[39m:\n\u001b[1;32m--> 259\u001b[0m     grad \u001b[38;5;241m=\u001b[39m \u001b[43mgrad\u001b[49m\u001b[38;5;241;43m.\u001b[39;49m\u001b[43madd\u001b[49m\u001b[43m(\u001b[49m\u001b[43mparam\u001b[49m\u001b[43m,\u001b[49m\u001b[43m \u001b[49m\u001b[43malpha\u001b[49m\u001b[38;5;241;43m=\u001b[39;49m\u001b[43mweight_decay\u001b[49m\u001b[43m)\u001b[49m\n\u001b[0;32m    261\u001b[0m \u001b[38;5;66;03m# Decay the first and second moment running average coefficient\u001b[39;00m\n\u001b[0;32m    262\u001b[0m exp_avg\u001b[38;5;241m.\u001b[39mmul_(beta1)\u001b[38;5;241m.\u001b[39madd_(grad, alpha\u001b[38;5;241m=\u001b[39m\u001b[38;5;241m1\u001b[39m \u001b[38;5;241m-\u001b[39m beta1)\n",
      "\u001b[1;31mKeyboardInterrupt\u001b[0m: "
     ]
    }
   ],
   "source": [
    "all_policy_loss = []\n",
    "mean_reward_value = []\n",
    "\n",
    "for i in range(NUM_EPOCHS):\n",
    "    \n",
    "    samp_trajs = [generate_session(t_max=constants.TRAJECTORY_SIZE,\n",
    "                                   updater_obj=updater_obj,\n",
    "                                   replay_buffer=replay_buffer,\n",
    "                                   is_policy_inference=True,\n",
    "                                   is_policy_update=False,\n",
    "                                   is_deterministic=False) for _ in range(EPISODES_TO_PLAY)]\n",
    "    \n",
    "    samp_reward_values = []\n",
    "    for traji in samp_trajs:\n",
    "        rewardii = traji[3]\n",
    "        for rewardi in rewardii:\n",
    "            samp_reward_values.append(rewardi.item())\n",
    "    \n",
    "    D_samp = preprocess_traj(traj_list_=samp_trajs,\n",
    "                             step_tensor=D_samp,\n",
    "                             is_Demo=False)\n",
    "    \n",
    "    loss_reward, loss_policy = [], []\n",
    "#     samp_reward_values = []\n",
    "    is_early_stop = False\n",
    "    \n",
    "    for _ in range(REWARD_FUNCTION_UPDATE):\n",
    "        \n",
    "        selected_samp = np.random.choice(len(D_samp), int(DEMO_BATCH/2), replace=True)\n",
    "        selected_demo = np.random.choice(len(D_demo), int(DEMO_BATCH), replace=False)\n",
    "        \n",
    "        D_s_samp = D_samp[selected_samp].clone().detach()\n",
    "        D_s_demo = D_demo[selected_demo].clone().detach()\n",
    "        \n",
    "        D_s_samp = torch.cat((D_s_demo, D_s_samp), dim=0)\n",
    "        D_sr_samp = D_s_samp[torch.randperm(int(D_s_samp.size(0)))]\n",
    "        \n",
    "        states_robot, log_probs_robot, actions_robot = D_sr_samp[:, :3], D_sr_samp[:, 3:4], D_sr_samp[:, 4:]\n",
    "        states_expert, actions_expert = D_s_demo[:, :3], D_s_demo[:, 4:]\n",
    "        \n",
    "        samp_rewards = updater_obj.reward_network.estimate_reward(state=states_robot.float(), is_reward_inference=False)\n",
    "        demo_rewards = updater_obj.reward_network.estimate_reward(state=states_expert.float(), is_reward_inference=False)\n",
    "        \n",
    "        loss_IOC = - torch.mean(demo_rewards) + torch.log(torch.mean(torch.exp(samp_rewards) / (torch.exp(log_probs_robot) + 1e-7)))\n",
    "#         loss_IOC = - torch.mean(demo_rewards) #+ torch.log(torch.mean(torch.exp(samp_rewards) / (torch.exp(log_probs_robot) + 1e-7)))\n",
    "        \n",
    "        # print(\"loss_IOC : \", loss_IOC.detach().numpy())\n",
    "        # print(\"torch.mean(demo_rewards) : \", torch.mean(demo_rewards))\n",
    "        \n",
    "        updater_obj.run_reward_optimizer(reward_loss=loss_IOC)\n",
    "        \n",
    "        loss_reward.append(loss_IOC.detach().item())\n",
    "        \n",
    "        if torch.mean(demo_rewards) >= 0.99:\n",
    "            is_early_stop = True\n",
    "    \n",
    "    # compute standar deviation minimization weight based on the annealing strategy\n",
    "    std_weight = compute_annealing_factor(epoch=i)\n",
    "    \n",
    "    bc_training_epochs = 1\n",
    "    for epoch in range(bc_training_epochs):\n",
    "\n",
    "        # loop through each batch inside the dataset\n",
    "        for batch_train_data in tqdm(train_loader):\n",
    "\n",
    "            # get batch of data\n",
    "            input_state, output_action, _, _ = functions.read_each_loader(configs=configs,\n",
    "                                                                          sample_data=tuple(batch_train_data))\n",
    "\n",
    "            # forward pass to get mean of Gaussian distribution\n",
    "            action, action_std, action_log_prob, action_entropy = policy_network.estimate_action(state=input_state,\n",
    "                                                                                                 is_policy_inference=False,\n",
    "                                                                                                 is_deterministic=True)\n",
    "\n",
    "            # compute negative log-likelihood loss value for maximum likelihood estimation\n",
    "            loss_bc_traj = updater_obj.multivariate_gaussian_nll_loss(action_true=output_action,\n",
    "                                                                      action_pred_mu=action,\n",
    "                                                                      action_log_std=torch.log(action_std),\n",
    "                                                                      std_weight=std_weight)\n",
    "    #         print(\"output_action : \", output_action)\n",
    "    #         print(\"action : \", action)\n",
    "            # print(\"loss_bc_traj : \", loss_bc_traj)\n",
    "            batch_loss = loss_bc_traj.mean()\n",
    "\n",
    "            updater_obj.run_policy_optimizer(policy_loss=loss_bc_traj)\n",
    "\n",
    "            loss_value = round(batch_loss.item(), 5)\n",
    "            loss_value_str = str(loss_value).replace(\".\", \"_\")\n",
    "            \n",
    "        loss_policy.append(loss_value)\n",
    "\n",
    "        print(\"Epoch : \", i, f\"Epoch {epoch + 1}/{bc_training_epochs}, Batch Loss: {loss_value}\")\n",
    "    \n",
    "#     for _ in range(POLICY_FUNCTION_UPDATE):\n",
    "#         samp_trajs = generate_session(t_max=constants.TRAJECTORY_SIZE,\n",
    "#                                       updater_obj=updater_obj,\n",
    "#                                       replay_buffer=replay_buffer,\n",
    "#                                       is_policy_inference=False,\n",
    "#                                       is_policy_update=True)\n",
    "        \n",
    "#         loss_policy.append(samp_trajs[4])\n",
    "#         all_policy_loss.append(samp_trajs[4])\n",
    "#         samp_reward_values.append(torch.mean(torch.stack(samp_trajs[3])).item())\n",
    "    \n",
    "    mean_loss_reward.append(np.mean(loss_reward))\n",
    "    mean_loss_policy.append(np.mean(loss_policy))\n",
    "    mean_reward_value.append(np.mean(samp_reward_values))\n",
    "    \n",
    "#     if i % 10 == 0:\n",
    "#         print(\"Avg. Reward : \", torch.mean(rewards_tensor).item())\n",
    "#         functions.save_reward(epoch=i,\n",
    "#                               reward_network=updater_obj.reward_network,\n",
    "#                               saving_path=reward_saving_path,\n",
    "#                               loss_value_str=str(abs(np.mean(loss_reward))).replace(\".\", \"_\"))\n",
    "#         functions.save_policy(epoch=i,\n",
    "#                               policy_network=updater_obj.policy_network,\n",
    "#                               saving_path=policy_saving_path,\n",
    "#                               loss_value_str=str(abs(np.mean(loss_policy))).replace(\".\", \"_\"))\n",
    "    \n",
    "#     if is_early_stop:\n",
    "#         break"
   ]
  },
  {
   "cell_type": "code",
   "execution_count": 19,
   "id": "eb5a5448",
   "metadata": {},
   "outputs": [
    {
     "data": {
      "text/plain": [
       "[([tensor([0.2060, 0.5034, 0.3047]),\n",
       "   tensor([0.1278, 0.4607, 0.2784]),\n",
       "   tensor([0.1816, 0.4893, 0.2613]),\n",
       "   tensor([0.1341, 0.4543, 0.2730]),\n",
       "   tensor([0.1124, 0.4616, 0.3366]),\n",
       "   tensor([0.1977, 0.5388, 0.3099]),\n",
       "   tensor([0.2267, 0.5512, 0.2931]),\n",
       "   tensor([0.2089, 0.5490, 0.3081]),\n",
       "   tensor([0.1179, 0.4221, 0.2652]),\n",
       "   tensor([0.0919, 0.4430, 0.2937]),\n",
       "   tensor([0.1137, 0.4331, 0.2766]),\n",
       "   tensor([0.0909, 0.3820, 0.2871]),\n",
       "   tensor([0.0843, 0.3490, 0.2523]),\n",
       "   tensor([0.2005, 0.2919, 0.1960]),\n",
       "   tensor([0.1984, 0.1677, 0.1187]),\n",
       "   tensor([0.3166, 0.1120, 0.1078]),\n",
       "   tensor([0.2688, 0.1076, 0.1032]),\n",
       "   tensor([0.2617, 0.1229, 0.1184]),\n",
       "   tensor([0.2594, 0.1136, 0.1081]),\n",
       "   tensor([0.2602, 0.1168, 0.0983])],\n",
       "  [tensor([-0.1134, -0.1615, -0.3332]),\n",
       "   tensor([-0.3794, -0.2026, -0.3846]),\n",
       "   tensor([-0.3408, -0.1354, -0.3496]),\n",
       "   tensor([-0.2005, -0.0884, -0.1587]),\n",
       "   tensor([-0.1693, -0.2761, -0.2388]),\n",
       "   tensor([-0.3528, -0.2935, -0.2892]),\n",
       "   tensor([-0.2395, -0.2940, -0.2442]),\n",
       "   tensor([-0.3558, -0.0752, -0.3730]),\n",
       "   tensor([-0.2208, -0.1108, -0.2873]),\n",
       "   tensor([-0.3342, -0.0905, -0.3387]),\n",
       "   tensor([-0.3132,  0.0312, -0.3073]),\n",
       "   tensor([-0.3151,  0.0494, -0.4115]),\n",
       "   tensor([-0.4315,  0.1799, -0.5804]),\n",
       "   tensor([-0.2605,  0.2266, -0.8123]),\n",
       "   tensor([-0.1793,  0.4305, -0.8451]),\n",
       "   tensor([-0.1601,  0.3439, -0.8589]),\n",
       "   tensor([-0.2117,  0.3467, -0.8134]),\n",
       "   tensor([-0.1731,  0.3332, -0.8443]),\n",
       "   tensor([-0.1159,  0.3155, -0.8735]),\n",
       "   tensor([-0.2261,  0.4164, -0.8714])],\n",
       "  [tensor(3.2306),\n",
       "   tensor(2.6176),\n",
       "   tensor(4.3573),\n",
       "   tensor(0.8710),\n",
       "   tensor(1.8222),\n",
       "   tensor(3.8338),\n",
       "   tensor(3.7216),\n",
       "   tensor(1.4189),\n",
       "   tensor(3.2711),\n",
       "   tensor(3.8479),\n",
       "   tensor(3.6879),\n",
       "   tensor(3.8715),\n",
       "   tensor(-0.2260),\n",
       "   tensor(-2.2250),\n",
       "   tensor(1.1099),\n",
       "   tensor(4.9378),\n",
       "   tensor(4.5214),\n",
       "   tensor(4.7416),\n",
       "   tensor(3.2010),\n",
       "   tensor(3.3411)],\n",
       "  [tensor([0.5596], grad_fn=<CloneBackward0>),\n",
       "   tensor([0.7247], grad_fn=<CloneBackward0>),\n",
       "   tensor([0.6214], grad_fn=<CloneBackward0>),\n",
       "   tensor([0.7214], grad_fn=<CloneBackward0>),\n",
       "   tensor([0.7364], grad_fn=<CloneBackward0>),\n",
       "   tensor([0.5404], grad_fn=<CloneBackward0>),\n",
       "   tensor([0.4809], grad_fn=<CloneBackward0>),\n",
       "   tensor([0.5118], grad_fn=<CloneBackward0>),\n",
       "   tensor([0.7670], grad_fn=<CloneBackward0>),\n",
       "   tensor([0.7813], grad_fn=<CloneBackward0>),\n",
       "   tensor([0.7633], grad_fn=<CloneBackward0>),\n",
       "   tensor([0.8189], grad_fn=<CloneBackward0>),\n",
       "   tensor([0.8438], grad_fn=<CloneBackward0>),\n",
       "   tensor([0.7516], grad_fn=<CloneBackward0>),\n",
       "   tensor([0.8462], grad_fn=<CloneBackward0>),\n",
       "   tensor([0.7883], grad_fn=<CloneBackward0>),\n",
       "   tensor([0.8355], grad_fn=<CloneBackward0>),\n",
       "   tensor([0.8316], grad_fn=<CloneBackward0>),\n",
       "   tensor([0.8384], grad_fn=<CloneBackward0>),\n",
       "   tensor([0.8353], grad_fn=<CloneBackward0>)],\n",
       "  None),\n",
       " ([tensor([0.1969, 0.5036, 0.3279]),\n",
       "   tensor([0.1950, 0.5196, 0.3340]),\n",
       "   tensor([0.1708, 0.4473, 0.2888]),\n",
       "   tensor([0.0870, 0.3825, 0.2683]),\n",
       "   tensor([0.1522, 0.3688, 0.2732]),\n",
       "   tensor([0.1685, 0.2461, 0.2259]),\n",
       "   tensor([0.2170, 0.1678, 0.1461]),\n",
       "   tensor([0.2483, 0.1268, 0.1202]),\n",
       "   tensor([0.2659, 0.1642, 0.1019]),\n",
       "   tensor([0.2240, 0.1329, 0.0968]),\n",
       "   tensor([0.2925, 0.1470, 0.1453]),\n",
       "   tensor([0.2578, 0.1138, 0.0992]),\n",
       "   tensor([0.2778, 0.1120, 0.1004]),\n",
       "   tensor([0.2540, 0.1082, 0.0880]),\n",
       "   tensor([0.2852, 0.1046, 0.1040]),\n",
       "   tensor([0.2513, 0.1172, 0.1069]),\n",
       "   tensor([0.2652, 0.1073, 0.0893]),\n",
       "   tensor([0.2906, 0.1002, 0.0975]),\n",
       "   tensor([0.2536, 0.1135, 0.0877]),\n",
       "   tensor([0.2682, 0.1114, 0.1085])],\n",
       "  [tensor([-0.3887, -0.1743, -0.1664]),\n",
       "   tensor([-0.4392, -0.0570, -0.3022]),\n",
       "   tensor([-0.0766, -0.0105, -0.3635]),\n",
       "   tensor([ 0.0127,  0.0673, -0.3490]),\n",
       "   tensor([-0.2348,  0.2494, -0.4907]),\n",
       "   tensor([-0.2559,  0.2875, -0.7301]),\n",
       "   tensor([-0.1769,  0.3248, -0.8078]),\n",
       "   tensor([-0.3547,  0.3028, -0.8629]),\n",
       "   tensor([-0.2251,  0.2560, -0.8782]),\n",
       "   tensor([-0.1633,  0.4132, -0.7325]),\n",
       "   tensor([-0.2343,  0.3213, -0.8708]),\n",
       "   tensor([-0.2487,  0.3563, -0.8673]),\n",
       "   tensor([-0.1417,  0.2986, -0.9046]),\n",
       "   tensor([-0.1925,  0.3754, -0.8564]),\n",
       "   tensor([-0.2085,  0.3189, -0.8477]),\n",
       "   tensor([-0.1222,  0.3170, -0.9007]),\n",
       "   tensor([-0.2145,  0.3788, -0.8761]),\n",
       "   tensor([-0.1229,  0.2933, -0.9054]),\n",
       "   tensor([-0.1693,  0.3485, -0.8430]),\n",
       "   tensor([-0.2119,  0.3369, -0.8399])],\n",
       "  [tensor(0.8255),\n",
       "   tensor(1.5367),\n",
       "   tensor(2.2850),\n",
       "   tensor(0.7687),\n",
       "   tensor(1.7913),\n",
       "   tensor(2.7873),\n",
       "   tensor(4.3002),\n",
       "   tensor(-0.3163),\n",
       "   tensor(3.9237),\n",
       "   tensor(2.1542),\n",
       "   tensor(4.4286),\n",
       "   tensor(4.2354),\n",
       "   tensor(3.1028),\n",
       "   tensor(4.7165),\n",
       "   tensor(4.5405),\n",
       "   tensor(2.5046),\n",
       "   tensor(4.5501),\n",
       "   tensor(2.5320),\n",
       "   tensor(4.7127),\n",
       "   tensor(4.7798)],\n",
       "  [tensor([0.5709], grad_fn=<CloneBackward0>),\n",
       "   tensor([0.5584], grad_fn=<CloneBackward0>),\n",
       "   tensor([0.6701], grad_fn=<CloneBackward0>),\n",
       "   tensor([0.8244], grad_fn=<CloneBackward0>),\n",
       "   tensor([0.7585], grad_fn=<CloneBackward0>),\n",
       "   tensor([0.8230], grad_fn=<CloneBackward0>),\n",
       "   tensor([0.8359], grad_fn=<CloneBackward0>),\n",
       "   tensor([0.8385], grad_fn=<CloneBackward0>),\n",
       "   tensor([0.7928], grad_fn=<CloneBackward0>),\n",
       "   tensor([0.8488], grad_fn=<CloneBackward0>),\n",
       "   tensor([0.7834], grad_fn=<CloneBackward0>),\n",
       "   tensor([0.8388], grad_fn=<CloneBackward0>),\n",
       "   tensor([0.8254], grad_fn=<CloneBackward0>),\n",
       "   tensor([0.8441], grad_fn=<CloneBackward0>),\n",
       "   tensor([0.8249], grad_fn=<CloneBackward0>),\n",
       "   tensor([0.8415], grad_fn=<CloneBackward0>),\n",
       "   tensor([0.8373], grad_fn=<CloneBackward0>),\n",
       "   tensor([0.8232], grad_fn=<CloneBackward0>),\n",
       "   tensor([0.8411], grad_fn=<CloneBackward0>),\n",
       "   tensor([0.8338], grad_fn=<CloneBackward0>)],\n",
       "  None),\n",
       " ([tensor([0.1679, 0.5232, 0.3802]),\n",
       "   tensor([0.2007, 0.5384, 0.3028]),\n",
       "   tensor([0.1032, 0.4488, 0.2758]),\n",
       "   tensor([0.0894, 0.4099, 0.2932]),\n",
       "   tensor([0.0620, 0.3574, 0.2457]),\n",
       "   tensor([0.1406, 0.3591, 0.2806]),\n",
       "   tensor([0.0920, 0.3119, 0.2540]),\n",
       "   tensor([0.0795, 0.3259, 0.2641]),\n",
       "   tensor([0.2195, 0.3276, 0.2548]),\n",
       "   tensor([0.1257, 0.2571, 0.2108]),\n",
       "   tensor([0.1670, 0.2529, 0.1691]),\n",
       "   tensor([0.1566, 0.2515, 0.1734]),\n",
       "   tensor([0.3087, 0.1657, 0.1360]),\n",
       "   tensor([0.2252, 0.1322, 0.1068]),\n",
       "   tensor([0.2857, 0.1275, 0.1208]),\n",
       "   tensor([0.3031, 0.0967, 0.0913]),\n",
       "   tensor([0.3067, 0.0799, 0.0796]),\n",
       "   tensor([0.2924, 0.0853, 0.0803]),\n",
       "   tensor([0.2878, 0.0976, 0.0949]),\n",
       "   tensor([0.3123, 0.0879, 0.0856])],\n",
       "  [tensor([-0.2777, -0.2756, -0.2601]),\n",
       "   tensor([-0.1991, -0.1457, -0.3410]),\n",
       "   tensor([-0.3055, -0.0261, -0.2890]),\n",
       "   tensor([-0.1074,  0.0024, -0.4315]),\n",
       "   tensor([-0.3710,  0.1082, -0.3268]),\n",
       "   tensor([-0.2563,  0.1245, -0.4064]),\n",
       "   tensor([-0.2429,  0.1056, -0.3763]),\n",
       "   tensor([ 0.0639,  0.1958, -0.4040]),\n",
       "   tensor([-0.2507,  0.1759, -0.5361]),\n",
       "   tensor([-0.0282,  0.1472, -0.6612]),\n",
       "   tensor([-0.3372,  0.1616, -0.6482]),\n",
       "   tensor([-0.3177,  0.4194, -0.7604]),\n",
       "   tensor([-0.2077,  0.2713, -0.8482]),\n",
       "   tensor([-0.2411,  0.3867, -0.8061]),\n",
       "   tensor([-0.1323,  0.3896, -0.8946]),\n",
       "   tensor([-0.1887,  0.3911, -0.9298]),\n",
       "   tensor([-0.1435,  0.3622, -0.9276]),\n",
       "   tensor([-0.2122,  0.3718, -0.8839]),\n",
       "   tensor([-0.2011,  0.4064, -0.9117]),\n",
       "   tensor([-0.1468,  0.2945, -0.8831])],\n",
       "  [tensor(3.6638),\n",
       "   tensor(3.9279),\n",
       "   tensor(4.0148),\n",
       "   tensor(2.4083),\n",
       "   tensor(2.8547),\n",
       "   tensor(4.0692),\n",
       "   tensor(3.3963),\n",
       "   tensor(-0.6907),\n",
       "   tensor(4.4535),\n",
       "   tensor(0.2654),\n",
       "   tensor(3.1430),\n",
       "   tensor(-1.5886),\n",
       "   tensor(4.9445),\n",
       "   tensor(3.9878),\n",
       "   tensor(2.8231),\n",
       "   tensor(3.4061),\n",
       "   tensor(3.9890),\n",
       "   tensor(4.8666),\n",
       "   tensor(3.7021),\n",
       "   tensor(3.4711)],\n",
       "  [tensor([0.5928], grad_fn=<CloneBackward0>),\n",
       "   tensor([0.5369], grad_fn=<CloneBackward0>),\n",
       "   tensor([0.7661], grad_fn=<CloneBackward0>),\n",
       "   tensor([0.8046], grad_fn=<CloneBackward0>),\n",
       "   tensor([0.8541], grad_fn=<CloneBackward0>),\n",
       "   tensor([0.7784], grad_fn=<CloneBackward0>),\n",
       "   tensor([0.8503], grad_fn=<CloneBackward0>),\n",
       "   tensor([0.8523], grad_fn=<CloneBackward0>),\n",
       "   tensor([0.6977], grad_fn=<CloneBackward0>),\n",
       "   tensor([0.8471], grad_fn=<CloneBackward0>),\n",
       "   tensor([0.8161], grad_fn=<CloneBackward0>),\n",
       "   tensor([0.8259], grad_fn=<CloneBackward0>),\n",
       "   tensor([0.7462], grad_fn=<CloneBackward0>),\n",
       "   tensor([0.8490], grad_fn=<CloneBackward0>),\n",
       "   tensor([0.8064], grad_fn=<CloneBackward0>),\n",
       "   tensor([0.8141], grad_fn=<CloneBackward0>),\n",
       "   tensor([0.8240], grad_fn=<CloneBackward0>),\n",
       "   tensor([0.8317], grad_fn=<CloneBackward0>),\n",
       "   tensor([0.8275], grad_fn=<CloneBackward0>),\n",
       "   tensor([0.8125], grad_fn=<CloneBackward0>)],\n",
       "  None)]"
      ]
     },
     "execution_count": 19,
     "metadata": {},
     "output_type": "execute_result"
    }
   ],
   "source": [
    "samp_trajs"
   ]
  },
  {
   "cell_type": "code",
   "execution_count": 20,
   "id": "14e94bc5",
   "metadata": {},
   "outputs": [
    {
     "data": {
      "image/png": "[encoded data removed]",
      "text/plain": [
       "<Figure size 1600x1200 with 3 Axes>"
      ]
     },
     "metadata": {},
     "output_type": "display_data"
    }
   ],
   "source": [
    "# print(f\"mean reward loss:{np.mean(mean_loss_reward)} loss: {loss_IOC.item()}\")\n",
    "# print(f\"mean policy loss:{np.mean(mean_loss_policy)} loss: {loss_POL.item()}\")\n",
    "\n",
    "plt.figure(figsize=[16, 12])\n",
    "plt.subplot(3, 1, 1)\n",
    "plt.title(f\"Mean reward function loss value per {EPISODES_TO_PLAY} games\")\n",
    "plt.plot(mean_loss_reward)\n",
    "plt.grid()\n",
    "\n",
    "plt.subplot(3, 1, 2)\n",
    "plt.title(f\"Mean policy function loss per {EPISODES_TO_PLAY} games\")\n",
    "plt.plot(mean_loss_policy)\n",
    "plt.grid()\n",
    "\n",
    "plt.subplot(3, 1, 3)\n",
    "plt.title(f\"Mean reward function value per {EPISODES_TO_PLAY} games\")\n",
    "plt.plot(mean_reward_value)\n",
    "plt.grid()\n",
    "\n",
    "plt.show()"
   ]
  },
  {
   "cell_type": "markdown",
   "id": "9264f49a",
   "metadata": {},
   "source": [
    "# Evaluate Optimized Reward Function"
   ]
  },
  {
   "cell_type": "code",
   "execution_count": 21,
   "id": "ed6cacd0",
   "metadata": {},
   "outputs": [],
   "source": [
    "test_trajectories = []\n",
    "\n",
    "# loop through each separate trajectory inside the testing dataset\n",
    "for traj_start_index in range(len(trajectory_indices)):\n",
    "    \n",
    "    traj_df, reward_values_demo_data, reward_values_estim_data, logprob_action_estim_avg = \\\n",
    "        functions.get_estimated_rewards(configs=configs,\n",
    "                                        updater_obj=updater_obj,\n",
    "                                        data_loader=training_data,\n",
    "                                        policy_network=updater_obj.policy_network,\n",
    "                                        reward_network=updater_obj.reward_network,\n",
    "                                        trajectory_indices=trajectory_indices,\n",
    "                                        traj_start_index=traj_start_index,\n",
    "                                        is_inference_reward=True,\n",
    "                                        is_inference_policy=True,\n",
    "                                        is_deterministic=True)\n",
    "    \n",
    "    # store outputs in the dataframe of trajectory information\n",
    "    traj_df[constants.ACTION_PREDICTION_AVG_LOGPROB_NAME] = logprob_action_estim_avg.numpy().flatten()\n",
    "    traj_df[constants.REWARD_DEMONSTRATION_TRAJECTORY_NAME] = reward_values_demo_data.numpy().flatten()\n",
    "    traj_df[constants.REWARD_ROBOT_TRAJECTORY_NAME] = reward_values_estim_data.numpy().flatten()\n",
    "    \n",
    "    test_trajectories.append(traj_df)\n",
    "    \n",
    "    del traj_df"
   ]
  },
  {
   "cell_type": "code",
   "execution_count": 23,
   "id": "1503c586",
   "metadata": {
    "scrolled": true
   },
   "outputs": [
    {
     "data": {
      "text/html": [
       "<div>\n",
       "<style scoped>\n",
       "    .dataframe tbody tr th:only-of-type {\n",
       "        vertical-align: middle;\n",
       "    }\n",
       "\n",
       "    .dataframe tbody tr th {\n",
       "        vertical-align: top;\n",
       "    }\n",
       "\n",
       "    .dataframe thead th {\n",
       "        text-align: right;\n",
       "    }\n",
       "</style>\n",
       "<table border=\"1\" class=\"dataframe\">\n",
       "  <thead>\n",
       "    <tr style=\"text-align: right;\">\n",
       "      <th></th>\n",
       "      <th>state_label_norm_1</th>\n",
       "      <th>state_label_norm_2</th>\n",
       "      <th>state_label_norm_3</th>\n",
       "      <th>state_label_denorm_1</th>\n",
       "      <th>state_label_denorm_2</th>\n",
       "      <th>state_label_denorm_3</th>\n",
       "      <th>action_label_norm_1</th>\n",
       "      <th>action_label_norm_2</th>\n",
       "      <th>action_label_norm_3</th>\n",
       "      <th>action_label_denorm_1</th>\n",
       "      <th>action_label_denorm_2</th>\n",
       "      <th>action_label_denorm_3</th>\n",
       "      <th>action_pred_logprob_1</th>\n",
       "      <th>action_pred_norm_1</th>\n",
       "      <th>action_pred_norm_2</th>\n",
       "      <th>action_pred_norm_3</th>\n",
       "      <th>action_pred_std_1</th>\n",
       "      <th>action_pred_std_2</th>\n",
       "      <th>action_pred_std_3</th>\n",
       "      <th>action_pred_denorm_1</th>\n",
       "      <th>action_pred_denorm_2</th>\n",
       "      <th>action_pred_denorm_3</th>\n",
       "      <th>trajectory_index</th>\n",
       "      <th>state_number</th>\n",
       "      <th>gnll_loss</th>\n",
       "      <th>state_est_norm_1</th>\n",
       "      <th>state_est_norm_2</th>\n",
       "      <th>state_est_norm_3</th>\n",
       "      <th>state_est_denorm_1</th>\n",
       "      <th>state_est_denorm_2</th>\n",
       "      <th>state_est_denorm_3</th>\n",
       "      <th>next_state_label_norm_1</th>\n",
       "      <th>next_state_label_norm_2</th>\n",
       "      <th>next_state_label_norm_3</th>\n",
       "      <th>next_state_label_denorm_1</th>\n",
       "      <th>next_state_label_denorm_2</th>\n",
       "      <th>next_state_label_denorm_3</th>\n",
       "      <th>next_state_est_norm_1</th>\n",
       "      <th>next_state_est_norm_2</th>\n",
       "      <th>next_state_est_norm_3</th>\n",
       "      <th>next_state_est_denorm_1</th>\n",
       "      <th>next_state_est_denorm_2</th>\n",
       "      <th>next_state_est_denorm_3</th>\n",
       "      <th>action_pred_avg_logprob</th>\n",
       "      <th>reward_demo_traj</th>\n",
       "      <th>reward_robot_traj</th>\n",
       "    </tr>\n",
       "  </thead>\n",
       "  <tbody>\n",
       "    <tr>\n",
       "      <th>0</th>\n",
       "      <td>0.239584520459</td>\n",
       "      <td>0.549098074436</td>\n",
       "      <td>0.238536208868</td>\n",
       "      <td>0.718753561378</td>\n",
       "      <td>1.647294223309</td>\n",
       "      <td>0.715608626604</td>\n",
       "      <td>-0.294840991497</td>\n",
       "      <td>-0.343237370253</td>\n",
       "      <td>-0.462992191315</td>\n",
       "      <td>-0.589681982994</td>\n",
       "      <td>-0.686474800110</td>\n",
       "      <td>0.537007808685</td>\n",
       "      <td>5.180546283722</td>\n",
       "      <td>-0.276771545410</td>\n",
       "      <td>-0.235122680664</td>\n",
       "      <td>-0.375591576099</td>\n",
       "      <td>0.078413404524</td>\n",
       "      <td>0.075163058937</td>\n",
       "      <td>0.060597240925</td>\n",
       "      <td>-0.553543090820</td>\n",
       "      <td>-0.470245361328</td>\n",
       "      <td>0.624408423901</td>\n",
       "      <td>42</td>\n",
       "      <td>0</td>\n",
       "      <td>-3.079351425171</td>\n",
       "      <td>0.239584520459</td>\n",
       "      <td>0.549098074436</td>\n",
       "      <td>0.238536208868</td>\n",
       "      <td>0.718753561378</td>\n",
       "      <td>1.647294223309</td>\n",
       "      <td>0.715608626604</td>\n",
       "      <td>0.237467106593</td>\n",
       "      <td>0.544856140522</td>\n",
       "      <td>0.235169269562</td>\n",
       "      <td>0.712401319780</td>\n",
       "      <td>1.634568421567</td>\n",
       "      <td>0.705507808685</td>\n",
       "      <td>0.166554471152</td>\n",
       "      <td>0.494904171756</td>\n",
       "      <td>0.264302807967</td>\n",
       "      <td>0.499663413455</td>\n",
       "      <td>1.484712515268</td>\n",
       "      <td>0.792908423901</td>\n",
       "      <td>5.180546283722</td>\n",
       "      <td>0.464516043663</td>\n",
       "      <td>0.464516043663</td>\n",
       "    </tr>\n",
       "    <tr>\n",
       "      <th>1</th>\n",
       "      <td>0.237467095256</td>\n",
       "      <td>0.544856131077</td>\n",
       "      <td>0.235169276595</td>\n",
       "      <td>0.712401285768</td>\n",
       "      <td>1.634568393230</td>\n",
       "      <td>0.705507829785</td>\n",
       "      <td>-0.343397021294</td>\n",
       "      <td>-0.293848335743</td>\n",
       "      <td>-0.443808555603</td>\n",
       "      <td>-0.686794042587</td>\n",
       "      <td>-0.587696671486</td>\n",
       "      <td>0.556191444397</td>\n",
       "      <td>4.735224723816</td>\n",
       "      <td>-0.268564313650</td>\n",
       "      <td>-0.149159744382</td>\n",
       "      <td>-0.342566609383</td>\n",
       "      <td>0.092488318682</td>\n",
       "      <td>0.085618466139</td>\n",
       "      <td>0.070403456688</td>\n",
       "      <td>-0.537128686905</td>\n",
       "      <td>-0.298319458961</td>\n",
       "      <td>0.657433390617</td>\n",
       "      <td>42</td>\n",
       "      <td>1</td>\n",
       "      <td>-1.946021556854</td>\n",
       "      <td>0.166554465890</td>\n",
       "      <td>0.494904160500</td>\n",
       "      <td>0.264302819967</td>\n",
       "      <td>0.499663397670</td>\n",
       "      <td>1.484712481499</td>\n",
       "      <td>0.792908459902</td>\n",
       "      <td>0.217981396497</td>\n",
       "      <td>0.524437506881</td>\n",
       "      <td>0.241563814799</td>\n",
       "      <td>0.653944189490</td>\n",
       "      <td>1.573312520644</td>\n",
       "      <td>0.724691444397</td>\n",
       "      <td>0.114744761518</td>\n",
       "      <td>0.453975893126</td>\n",
       "      <td>0.275311130206</td>\n",
       "      <td>0.344234284553</td>\n",
       "      <td>1.361927679378</td>\n",
       "      <td>0.825933390617</td>\n",
       "      <td>4.735224723816</td>\n",
       "      <td>0.472018331289</td>\n",
       "      <td>0.640935242176</td>\n",
       "    </tr>\n",
       "    <tr>\n",
       "      <th>2</th>\n",
       "      <td>0.217981398106</td>\n",
       "      <td>0.524437487125</td>\n",
       "      <td>0.241563811898</td>\n",
       "      <td>0.653944194317</td>\n",
       "      <td>1.573312461376</td>\n",
       "      <td>0.724691435695</td>\n",
       "      <td>-0.381538033485</td>\n",
       "      <td>-0.232243731618</td>\n",
       "      <td>-0.422912865877</td>\n",
       "      <td>-0.763076066971</td>\n",
       "      <td>-0.464487433434</td>\n",
       "      <td>0.577087163925</td>\n",
       "      <td>4.418835163116</td>\n",
       "      <td>-0.262955248356</td>\n",
       "      <td>-0.084094405174</td>\n",
       "      <td>-0.327398985624</td>\n",
       "      <td>0.103401310742</td>\n",
       "      <td>0.093583181500</td>\n",
       "      <td>0.079055227339</td>\n",
       "      <td>-0.525910496712</td>\n",
       "      <td>-0.168188810349</td>\n",
       "      <td>0.672600984573</td>\n",
       "      <td>42</td>\n",
       "      <td>2</td>\n",
       "      <td>-1.778307437897</td>\n",
       "      <td>0.114744760096</td>\n",
       "      <td>0.453975886106</td>\n",
       "      <td>0.275311142206</td>\n",
       "      <td>0.344234280288</td>\n",
       "      <td>1.361927658319</td>\n",
       "      <td>0.825933426619</td>\n",
       "      <td>0.196668311678</td>\n",
       "      <td>0.499147023329</td>\n",
       "      <td>0.248529054642</td>\n",
       "      <td>0.590004935033</td>\n",
       "      <td>1.497441069986</td>\n",
       "      <td>0.745587163925</td>\n",
       "      <td>0.080420507784</td>\n",
       "      <td>0.423631837413</td>\n",
       "      <td>0.280366994858</td>\n",
       "      <td>0.241261523353</td>\n",
       "      <td>1.270895512240</td>\n",
       "      <td>0.841100984573</td>\n",
       "      <td>4.418835163116</td>\n",
       "      <td>0.526120603085</td>\n",
       "      <td>0.748207032681</td>\n",
       "    </tr>\n",
       "    <tr>\n",
       "      <th>3</th>\n",
       "      <td>0.196668326855</td>\n",
       "      <td>0.499147027731</td>\n",
       "      <td>0.248529046774</td>\n",
       "      <td>0.590004980564</td>\n",
       "      <td>1.497441083193</td>\n",
       "      <td>0.745587140322</td>\n",
       "      <td>-0.395962834358</td>\n",
       "      <td>-0.158211961389</td>\n",
       "      <td>-0.407188266516</td>\n",
       "      <td>-0.791925668716</td>\n",
       "      <td>-0.316423892975</td>\n",
       "      <td>0.592811703682</td>\n",
       "      <td>4.205156803131</td>\n",
       "      <td>-0.258985817432</td>\n",
       "      <td>-0.035601463169</td>\n",
       "      <td>-0.322800278664</td>\n",
       "      <td>0.111072279513</td>\n",
       "      <td>0.099096253514</td>\n",
       "      <td>0.086057938635</td>\n",
       "      <td>-0.517971634865</td>\n",
       "      <td>-0.071202874184</td>\n",
       "      <td>0.677199721336</td>\n",
       "      <td>42</td>\n",
       "      <td>3</td>\n",
       "      <td>-2.198513031006</td>\n",
       "      <td>0.080420508981</td>\n",
       "      <td>0.423631846905</td>\n",
       "      <td>0.280366986990</td>\n",
       "      <td>0.241261526942</td>\n",
       "      <td>1.270895540714</td>\n",
       "      <td>0.841100960970</td>\n",
       "      <td>0.168403008084</td>\n",
       "      <td>0.465053422103</td>\n",
       "      <td>0.253770567894</td>\n",
       "      <td>0.505209024253</td>\n",
       "      <td>1.395160266308</td>\n",
       "      <td>0.761311703682</td>\n",
       "      <td>0.061612883990</td>\n",
       "      <td>0.401079838495</td>\n",
       "      <td>0.281899907112</td>\n",
       "      <td>0.184838651970</td>\n",
       "      <td>1.203239515485</td>\n",
       "      <td>0.845699721336</td>\n",
       "      <td>4.205156803131</td>\n",
       "      <td>0.587319314480</td>\n",
       "      <td>0.808465659618</td>\n",
       "    </tr>\n",
       "    <tr>\n",
       "      <th>4</th>\n",
       "      <td>0.168403014541</td>\n",
       "      <td>0.465053439140</td>\n",
       "      <td>0.253770589828</td>\n",
       "      <td>0.505209043622</td>\n",
       "      <td>1.395160317421</td>\n",
       "      <td>0.761311769485</td>\n",
       "      <td>-0.406059920788</td>\n",
       "      <td>-0.071958206594</td>\n",
       "      <td>-0.405145823956</td>\n",
       "      <td>-0.812119841576</td>\n",
       "      <td>-0.143916368484</td>\n",
       "      <td>0.594854176044</td>\n",
       "      <td>4.079229831696</td>\n",
       "      <td>-0.256139636040</td>\n",
       "      <td>0.000774115149</td>\n",
       "      <td>-0.328075021505</td>\n",
       "      <td>0.115246966481</td>\n",
       "      <td>0.102050490677</td>\n",
       "      <td>0.091347917914</td>\n",
       "      <td>-0.512279272079</td>\n",
       "      <td>0.001548290253</td>\n",
       "      <td>0.671924948692</td>\n",
       "      <td>42</td>\n",
       "      <td>4</td>\n",
       "      <td>-2.623212814331</td>\n",
       "      <td>0.061612885445</td>\n",
       "      <td>0.401079833508</td>\n",
       "      <td>0.281899899244</td>\n",
       "      <td>0.184838656336</td>\n",
       "      <td>1.203239500523</td>\n",
       "      <td>0.845699697733</td>\n",
       "      <td>0.146144429566</td>\n",
       "      <td>0.424573652531</td>\n",
       "      <td>0.254451392015</td>\n",
       "      <td>0.438433288698</td>\n",
       "      <td>1.273720957594</td>\n",
       "      <td>0.763354176044</td>\n",
       "      <td>0.054278423855</td>\n",
       "      <td>0.382973904145</td>\n",
       "      <td>0.280141649564</td>\n",
       "      <td>0.162835271565</td>\n",
       "      <td>1.148921712434</td>\n",
       "      <td>0.840424948692</td>\n",
       "      <td>4.079229831696</td>\n",
       "      <td>0.664444029331</td>\n",
       "      <td>0.836340963840</td>\n",
       "    </tr>\n",
       "    <tr>\n",
       "      <th>5</th>\n",
       "      <td>0.146144434810</td>\n",
       "      <td>0.424573659897</td>\n",
       "      <td>0.254451394081</td>\n",
       "      <td>0.438433304429</td>\n",
       "      <td>1.273720979691</td>\n",
       "      <td>0.763354182243</td>\n",
       "      <td>-0.408551156521</td>\n",
       "      <td>0.003365676850</td>\n",
       "      <td>-0.402593553066</td>\n",
       "      <td>-0.817102313042</td>\n",
       "      <td>0.006731271744</td>\n",
       "      <td>0.597406446934</td>\n",
       "      <td>4.016422271729</td>\n",
       "      <td>-0.254010111094</td>\n",
       "      <td>0.030140088871</td>\n",
       "      <td>-0.342607945204</td>\n",
       "      <td>0.116459652781</td>\n",
       "      <td>0.102887816727</td>\n",
       "      <td>0.095473051071</td>\n",
       "      <td>-0.508020162582</td>\n",
       "      <td>0.060280084610</td>\n",
       "      <td>0.657392024994</td>\n",
       "      <td>42</td>\n",
       "      <td>5</td>\n",
       "      <td>-2.904728651047</td>\n",
       "      <td>0.054278422147</td>\n",
       "      <td>0.382973909378</td>\n",
       "      <td>0.280141651630</td>\n",
       "      <td>0.162835266441</td>\n",
       "      <td>1.148921728134</td>\n",
       "      <td>0.840424954891</td>\n",
       "      <td>0.139802944334</td>\n",
       "      <td>0.391313225147</td>\n",
       "      <td>0.255302148978</td>\n",
       "      <td>0.419408833001</td>\n",
       "      <td>1.173939675442</td>\n",
       "      <td>0.765906446934</td>\n",
       "      <td>0.053740068806</td>\n",
       "      <td>0.366319527156</td>\n",
       "      <td>0.275297341665</td>\n",
       "      <td>0.161220206417</td>\n",
       "      <td>1.098958581467</td>\n",
       "      <td>0.825892024994</td>\n",
       "      <td>4.016422271729</td>\n",
       "      <td>0.729889333248</td>\n",
       "      <td>0.849135875702</td>\n",
       "    </tr>\n",
       "    <tr>\n",
       "      <th>6</th>\n",
       "      <td>0.139802932739</td>\n",
       "      <td>0.391313195229</td>\n",
       "      <td>0.255302160978</td>\n",
       "      <td>0.419408798218</td>\n",
       "      <td>1.173939585686</td>\n",
       "      <td>0.765906482935</td>\n",
       "      <td>-0.405172199011</td>\n",
       "      <td>0.099050916731</td>\n",
       "      <td>-0.401026189327</td>\n",
       "      <td>-0.810344457626</td>\n",
       "      <td>0.198101758957</td>\n",
       "      <td>0.598973810673</td>\n",
       "      <td>3.989665985107</td>\n",
       "      <td>-0.252240538597</td>\n",
       "      <td>0.057054165751</td>\n",
       "      <td>-0.364595264196</td>\n",
       "      <td>0.115733206272</td>\n",
       "      <td>0.102361373603</td>\n",
       "      <td>0.099185056984</td>\n",
       "      <td>-0.504481077194</td>\n",
       "      <td>0.114108324051</td>\n",
       "      <td>0.635404706001</td>\n",
       "      <td>42</td>\n",
       "      <td>6</td>\n",
       "      <td>-2.964976549149</td>\n",
       "      <td>0.053740069270</td>\n",
       "      <td>0.366319537163</td>\n",
       "      <td>0.275297343731</td>\n",
       "      <td>0.161220207810</td>\n",
       "      <td>1.098958611488</td>\n",
       "      <td>0.825892031193</td>\n",
       "      <td>0.152625003213</td>\n",
       "      <td>0.352592584956</td>\n",
       "      <td>0.255824603558</td>\n",
       "      <td>0.457875009640</td>\n",
       "      <td>1.057777754867</td>\n",
       "      <td>0.767473810673</td>\n",
       "      <td>0.058274952947</td>\n",
       "      <td>0.349178631231</td>\n",
       "      <td>0.267968235334</td>\n",
       "      <td>0.174824858840</td>\n",
       "      <td>1.047535893694</td>\n",
       "      <td>0.803904706001</td>\n",
       "      <td>3.989665985107</td>\n",
       "      <td>0.761851191521</td>\n",
       "      <td>0.854841113091</td>\n",
       "    </tr>\n",
       "    <tr>\n",
       "      <th>7</th>\n",
       "      <td>0.152624994516</td>\n",
       "      <td>0.352592557669</td>\n",
       "      <td>0.255824595690</td>\n",
       "      <td>0.457874983549</td>\n",
       "      <td>1.057777673006</td>\n",
       "      <td>0.767473787069</td>\n",
       "      <td>-0.393052279949</td>\n",
       "      <td>0.166853696108</td>\n",
       "      <td>-0.416617780924</td>\n",
       "      <td>-0.786104559898</td>\n",
       "      <td>0.333707332611</td>\n",
       "      <td>0.583382248878</td>\n",
       "      <td>3.987407207489</td>\n",
       "      <td>-0.250551313162</td>\n",
       "      <td>0.084689013660</td>\n",
       "      <td>-0.393571317196</td>\n",
       "      <td>0.113526009023</td>\n",
       "      <td>0.100784040987</td>\n",
       "      <td>0.102928154171</td>\n",
       "      <td>-0.501102685928</td>\n",
       "      <td>0.169378042221</td>\n",
       "      <td>0.606428682804</td>\n",
       "      <td>42</td>\n",
       "      <td>7</td>\n",
       "      <td>-2.842221260071</td>\n",
       "      <td>0.058274954557</td>\n",
       "      <td>0.349178642035</td>\n",
       "      <td>0.267968237400</td>\n",
       "      <td>0.174824863672</td>\n",
       "      <td>1.047535926104</td>\n",
       "      <td>0.803904712200</td>\n",
       "      <td>0.170391911507</td>\n",
       "      <td>0.322704423370</td>\n",
       "      <td>0.250627416293</td>\n",
       "      <td>0.511175734520</td>\n",
       "      <td>0.968113270109</td>\n",
       "      <td>0.751882248878</td>\n",
       "      <td>0.068035481813</td>\n",
       "      <td>0.330180281997</td>\n",
       "      <td>0.258309560935</td>\n",
       "      <td>0.204106445438</td>\n",
       "      <td>0.990540845990</td>\n",
       "      <td>0.774928682804</td>\n",
       "      <td>3.987407207489</td>\n",
       "      <td>0.771476686001</td>\n",
       "      <td>0.857589066029</td>\n",
       "    </tr>\n",
       "    <tr>\n",
       "      <th>8</th>\n",
       "      <td>0.170391917229</td>\n",
       "      <td>0.322704404593</td>\n",
       "      <td>0.250627398491</td>\n",
       "      <td>0.511175751686</td>\n",
       "      <td>0.968113213778</td>\n",
       "      <td>0.751882195473</td>\n",
       "      <td>-0.377247929573</td>\n",
       "      <td>0.228944808245</td>\n",
       "      <td>-0.442189842463</td>\n",
       "      <td>-0.754495859146</td>\n",
       "      <td>0.457889556885</td>\n",
       "      <td>0.557810187340</td>\n",
       "      <td>4.008111953735</td>\n",
       "      <td>-0.248752221465</td>\n",
       "      <td>0.115321546793</td>\n",
       "      <td>-0.430380314589</td>\n",
       "      <td>0.109860144556</td>\n",
       "      <td>0.098148576915</td>\n",
       "      <td>0.106980636716</td>\n",
       "      <td>-0.497504472733</td>\n",
       "      <td>0.230643033981</td>\n",
       "      <td>0.569619655609</td>\n",
       "      <td>42</td>\n",
       "      <td>8</td>\n",
       "      <td>-2.647906303406</td>\n",
       "      <td>0.068035483360</td>\n",
       "      <td>0.330180287361</td>\n",
       "      <td>0.258309572935</td>\n",
       "      <td>0.204106450081</td>\n",
       "      <td>0.990540862083</td>\n",
       "      <td>0.774928718805</td>\n",
       "      <td>0.193029841672</td>\n",
       "      <td>0.294498896398</td>\n",
       "      <td>0.242103395780</td>\n",
       "      <td>0.579089525016</td>\n",
       "      <td>0.883496689195</td>\n",
       "      <td>0.726310187340</td>\n",
       "      <td>0.083631004995</td>\n",
       "      <td>0.308154730761</td>\n",
       "      <td>0.246039885203</td>\n",
       "      <td>0.250893014985</td>\n",
       "      <td>0.924464192282</td>\n",
       "      <td>0.738119655609</td>\n",
       "      <td>4.008111953735</td>\n",
       "      <td>0.769665062428</td>\n",
       "      <td>0.858329176903</td>\n",
       "    </tr>\n",
       "    <tr>\n",
       "      <th>9</th>\n",
       "      <td>0.193029865623</td>\n",
       "      <td>0.294498890638</td>\n",
       "      <td>0.242103382945</td>\n",
       "      <td>0.579089596868</td>\n",
       "      <td>0.883496671915</td>\n",
       "      <td>0.726310148835</td>\n",
       "      <td>-0.331732362509</td>\n",
       "      <td>0.288093000650</td>\n",
       "      <td>-0.496102273464</td>\n",
       "      <td>-0.663464784622</td>\n",
       "      <td>0.576185941696</td>\n",
       "      <td>0.503897726536</td>\n",
       "      <td>4.052944183350</td>\n",
       "      <td>-0.246707826853</td>\n",
       "      <td>0.150765180588</td>\n",
       "      <td>-0.475894123316</td>\n",
       "      <td>0.104688540101</td>\n",
       "      <td>0.094395227730</td>\n",
       "      <td>0.111611716449</td>\n",
       "      <td>-0.493415594101</td>\n",
       "      <td>0.301530361176</td>\n",
       "      <td>0.524105906487</td>\n",
       "      <td>42</td>\n",
       "      <td>9</td>\n",
       "      <td>-2.648498535156</td>\n",
       "      <td>0.083631001413</td>\n",
       "      <td>0.308154731989</td>\n",
       "      <td>0.246039882302</td>\n",
       "      <td>0.250893004239</td>\n",
       "      <td>0.924464195967</td>\n",
       "      <td>0.738119646907</td>\n",
       "      <td>0.211847473945</td>\n",
       "      <td>0.254246920085</td>\n",
       "      <td>0.224132575512</td>\n",
       "      <td>0.635542421834</td>\n",
       "      <td>0.762740760254</td>\n",
       "      <td>0.672397726536</td>\n",
       "      <td>0.105693839177</td>\n",
       "      <td>0.282246240985</td>\n",
       "      <td>0.230868635496</td>\n",
       "      <td>0.317081517530</td>\n",
       "      <td>0.846738722954</td>\n",
       "      <td>0.692605906487</td>\n",
       "      <td>4.052944183350</td>\n",
       "      <td>0.760919034481</td>\n",
       "      <td>0.856993734837</td>\n",
       "    </tr>\n",
       "    <tr>\n",
       "      <th>10</th>\n",
       "      <td>0.211847484112</td>\n",
       "      <td>0.254246890545</td>\n",
       "      <td>0.224132582545</td>\n",
       "      <td>0.635542452335</td>\n",
       "      <td>0.762740671635</td>\n",
       "      <td>0.672397747636</td>\n",
       "      <td>-0.276751458645</td>\n",
       "      <td>0.335781484842</td>\n",
       "      <td>-0.592514753342</td>\n",
       "      <td>-0.553502917290</td>\n",
       "      <td>0.671562910080</td>\n",
       "      <td>0.407485246658</td>\n",
       "      <td>4.123682975769</td>\n",
       "      <td>-0.244323194027</td>\n",
       "      <td>0.192176803946</td>\n",
       "      <td>-0.529898226261</td>\n",
       "      <td>0.098059371114</td>\n",
       "      <td>0.089524552226</td>\n",
       "      <td>0.117059387267</td>\n",
       "      <td>-0.488646388054</td>\n",
       "      <td>0.384353637695</td>\n",
       "      <td>0.470101773739</td>\n",
       "      <td>42</td>\n",
       "      <td>10</td>\n",
       "      <td>-2.639397144318</td>\n",
       "      <td>0.105693839490</td>\n",
       "      <td>0.282246232033</td>\n",
       "      <td>0.230868637562</td>\n",
       "      <td>0.317081518471</td>\n",
       "      <td>0.846738696098</td>\n",
       "      <td>0.692605912685</td>\n",
       "      <td>0.234763820031</td>\n",
       "      <td>0.205180745263</td>\n",
       "      <td>0.191995082219</td>\n",
       "      <td>0.704291460092</td>\n",
       "      <td>0.615542235789</td>\n",
       "      <td>0.575985246658</td>\n",
       "      <td>0.134422556513</td>\n",
       "      <td>0.252341311045</td>\n",
       "      <td>0.212867257913</td>\n",
       "      <td>0.403267669538</td>\n",
       "      <td>0.757023933136</td>\n",
       "      <td>0.638601773739</td>\n",
       "      <td>4.123682975769</td>\n",
       "      <td>0.773687243462</td>\n",
       "      <td>0.852536618710</td>\n",
       "    </tr>\n",
       "    <tr>\n",
       "      <th>11</th>\n",
       "      <td>0.234763845801</td>\n",
       "      <td>0.205180734396</td>\n",
       "      <td>0.191995084286</td>\n",
       "      <td>0.704291537404</td>\n",
       "      <td>0.615542203188</td>\n",
       "      <td>0.575985252857</td>\n",
       "      <td>-0.253508478403</td>\n",
       "      <td>0.360343039036</td>\n",
       "      <td>-0.776394307613</td>\n",
       "      <td>-0.507016897202</td>\n",
       "      <td>0.720685958862</td>\n",
       "      <td>0.223605692387</td>\n",
       "      <td>4.221054077148</td>\n",
       "      <td>-0.241575002670</td>\n",
       "      <td>0.239348977804</td>\n",
       "      <td>-0.590018212795</td>\n",
       "      <td>0.090246133506</td>\n",
       "      <td>0.083695456386</td>\n",
       "      <td>0.123429588974</td>\n",
       "      <td>-0.483150005341</td>\n",
       "      <td>0.478698015213</td>\n",
       "      <td>0.409981787205</td>\n",
       "      <td>42</td>\n",
       "      <td>11</td>\n",
       "      <td>-2.027345180511</td>\n",
       "      <td>0.134422555566</td>\n",
       "      <td>0.252341300249</td>\n",
       "      <td>0.212867259979</td>\n",
       "      <td>0.403267666698</td>\n",
       "      <td>0.757023900747</td>\n",
       "      <td>0.638601779938</td>\n",
       "      <td>0.266666930436</td>\n",
       "      <td>0.140551578796</td>\n",
       "      <td>0.130701897462</td>\n",
       "      <td>0.800000791307</td>\n",
       "      <td>0.421654736388</td>\n",
       "      <td>0.392105692387</td>\n",
       "      <td>0.168920414783</td>\n",
       "      <td>0.219763496181</td>\n",
       "      <td>0.192827262402</td>\n",
       "      <td>0.506761244349</td>\n",
       "      <td>0.659290488543</td>\n",
       "      <td>0.578481787205</td>\n",
       "      <td>4.221054077148</td>\n",
       "      <td>0.793269455433</td>\n",
       "      <td>0.843513846397</td>\n",
       "    </tr>\n",
       "    <tr>\n",
       "      <th>12</th>\n",
       "      <td>0.266666978598</td>\n",
       "      <td>0.140551581979</td>\n",
       "      <td>0.130701899529</td>\n",
       "      <td>0.800000935793</td>\n",
       "      <td>0.421654745936</td>\n",
       "      <td>0.392105698586</td>\n",
       "      <td>-0.239919826388</td>\n",
       "      <td>0.352672040462</td>\n",
       "      <td>-0.902632832527</td>\n",
       "      <td>-0.479839682579</td>\n",
       "      <td>0.705344200134</td>\n",
       "      <td>0.097367167473</td>\n",
       "      <td>4.385591983795</td>\n",
       "      <td>-0.232925951481</td>\n",
       "      <td>0.284712791443</td>\n",
       "      <td>-0.668978810310</td>\n",
       "      <td>0.079303622246</td>\n",
       "      <td>0.075342781842</td>\n",
       "      <td>0.132360145450</td>\n",
       "      <td>-0.465851902962</td>\n",
       "      <td>0.569425582886</td>\n",
       "      <td>0.331021189690</td>\n",
       "      <td>42</td>\n",
       "      <td>12</td>\n",
       "      <td>-2.416775703430</td>\n",
       "      <td>0.168920412660</td>\n",
       "      <td>0.219763502479</td>\n",
       "      <td>0.192827269435</td>\n",
       "      <td>0.506761237979</td>\n",
       "      <td>0.659290507436</td>\n",
       "      <td>0.578481808305</td>\n",
       "      <td>0.281345647305</td>\n",
       "      <td>0.099569781626</td>\n",
       "      <td>0.088622389158</td>\n",
       "      <td>0.844036941916</td>\n",
       "      <td>0.298709344877</td>\n",
       "      <td>0.265867167473</td>\n",
       "      <td>0.205020735378</td>\n",
       "      <td>0.182864898858</td>\n",
       "      <td>0.166507063230</td>\n",
       "      <td>0.615062206135</td>\n",
       "      <td>0.548594696575</td>\n",
       "      <td>0.499521189690</td>\n",
       "      <td>4.385591983795</td>\n",
       "      <td>0.814483880997</td>\n",
       "      <td>0.839114487171</td>\n",
       "    </tr>\n",
       "    <tr>\n",
       "      <th>13</th>\n",
       "      <td>0.281345605850</td>\n",
       "      <td>0.099569782615</td>\n",
       "      <td>0.088622383773</td>\n",
       "      <td>0.844036817551</td>\n",
       "      <td>0.298709347844</td>\n",
       "      <td>0.265867151320</td>\n",
       "      <td>-0.231816753745</td>\n",
       "      <td>0.346487820148</td>\n",
       "      <td>-0.937599718571</td>\n",
       "      <td>-0.463633537292</td>\n",
       "      <td>0.692975521088</td>\n",
       "      <td>0.062400281429</td>\n",
       "      <td>4.585548400879</td>\n",
       "      <td>-0.219511136413</td>\n",
       "      <td>0.311561733484</td>\n",
       "      <td>-0.747344851494</td>\n",
       "      <td>0.067968480289</td>\n",
       "      <td>0.066237859428</td>\n",
       "      <td>0.143826171756</td>\n",
       "      <td>-0.439022302628</td>\n",
       "      <td>0.623123407364</td>\n",
       "      <td>0.252655148506</td>\n",
       "      <td>42</td>\n",
       "      <td>13</td>\n",
       "      <td>-3.555231094360</td>\n",
       "      <td>0.205020740628</td>\n",
       "      <td>0.182864904404</td>\n",
       "      <td>0.166507065296</td>\n",
       "      <td>0.615062221885</td>\n",
       "      <td>0.548594713211</td>\n",
       "      <td>0.499521195889</td>\n",
       "      <td>0.284005982565</td>\n",
       "      <td>0.088183911589</td>\n",
       "      <td>0.076966760476</td>\n",
       "      <td>0.852017947695</td>\n",
       "      <td>0.264551734766</td>\n",
       "      <td>0.230900281429</td>\n",
       "      <td>0.231087823716</td>\n",
       "      <td>0.150992610890</td>\n",
       "      <td>0.140385049502</td>\n",
       "      <td>0.693263471149</td>\n",
       "      <td>0.452977832670</td>\n",
       "      <td>0.421155148506</td>\n",
       "      <td>4.585548400879</td>\n",
       "      <td>0.831270277500</td>\n",
       "      <td>0.836299955845</td>\n",
       "    </tr>\n",
       "    <tr>\n",
       "      <th>14</th>\n",
       "      <td>0.284005999565</td>\n",
       "      <td>0.088183902204</td>\n",
       "      <td>0.076966762543</td>\n",
       "      <td>0.852017998695</td>\n",
       "      <td>0.264551706612</td>\n",
       "      <td>0.230900287628</td>\n",
       "      <td>-0.236513525248</td>\n",
       "      <td>0.349878728390</td>\n",
       "      <td>-0.878065943718</td>\n",
       "      <td>-0.473026990891</td>\n",
       "      <td>0.699757575989</td>\n",
       "      <td>0.121934056282</td>\n",
       "      <td>4.732444763184</td>\n",
       "      <td>-0.208262175322</td>\n",
       "      <td>0.330724716187</td>\n",
       "      <td>-0.798885285854</td>\n",
       "      <td>0.060295507312</td>\n",
       "      <td>0.059901572764</td>\n",
       "      <td>0.154786229134</td>\n",
       "      <td>-0.416524410248</td>\n",
       "      <td>0.661449432373</td>\n",
       "      <td>0.201114714146</td>\n",
       "      <td>42</td>\n",
       "      <td>14</td>\n",
       "      <td>-4.440712928772</td>\n",
       "      <td>0.231087818742</td>\n",
       "      <td>0.150992617011</td>\n",
       "      <td>0.140385046601</td>\n",
       "      <td>0.693263456225</td>\n",
       "      <td>0.452977851033</td>\n",
       "      <td>0.421155139804</td>\n",
       "      <td>0.275211955949</td>\n",
       "      <td>0.106489978584</td>\n",
       "      <td>0.096811352094</td>\n",
       "      <td>0.825635867846</td>\n",
       "      <td>0.319469935752</td>\n",
       "      <td>0.290434056282</td>\n",
       "      <td>0.249959203937</td>\n",
       "      <td>0.129783268738</td>\n",
       "      <td>0.123204904715</td>\n",
       "      <td>0.749877611810</td>\n",
       "      <td>0.389349806214</td>\n",
       "      <td>0.369614714146</td>\n",
       "      <td>4.732444763184</td>\n",
       "      <td>0.836012005806</td>\n",
       "      <td>0.836794197559</td>\n",
       "    </tr>\n",
       "    <tr>\n",
       "      <th>15</th>\n",
       "      <td>0.275211930275</td>\n",
       "      <td>0.106489986181</td>\n",
       "      <td>0.096811339259</td>\n",
       "      <td>0.825635790825</td>\n",
       "      <td>0.319469958544</td>\n",
       "      <td>0.290434017777</td>\n",
       "      <td>-0.249433964491</td>\n",
       "      <td>0.360743224621</td>\n",
       "      <td>-0.900521814823</td>\n",
       "      <td>-0.498867988586</td>\n",
       "      <td>0.721486568451</td>\n",
       "      <td>0.099478185177</td>\n",
       "      <td>4.838625431061</td>\n",
       "      <td>-0.200544953346</td>\n",
       "      <td>0.343200057745</td>\n",
       "      <td>-0.828573226929</td>\n",
       "      <td>0.055446334183</td>\n",
       "      <td>0.055829655379</td>\n",
       "      <td>0.162406787276</td>\n",
       "      <td>-0.401089906693</td>\n",
       "      <td>0.686400175095</td>\n",
       "      <td>0.171426773071</td>\n",
       "      <td>42</td>\n",
       "      <td>15</td>\n",
       "      <td>-4.302395820618</td>\n",
       "      <td>0.249959200621</td>\n",
       "      <td>0.129783272743</td>\n",
       "      <td>0.123204901814</td>\n",
       "      <td>0.749877601862</td>\n",
       "      <td>0.389349818230</td>\n",
       "      <td>0.369614705443</td>\n",
       "      <td>0.286144452209</td>\n",
       "      <td>0.101898740056</td>\n",
       "      <td>0.089326061726</td>\n",
       "      <td>0.858433356628</td>\n",
       "      <td>0.305696220169</td>\n",
       "      <td>0.267978185177</td>\n",
       "      <td>0.261939064633</td>\n",
       "      <td>0.117486416334</td>\n",
       "      <td>0.113308924357</td>\n",
       "      <td>0.785817193900</td>\n",
       "      <td>0.352459249002</td>\n",
       "      <td>0.339926773071</td>\n",
       "      <td>4.838625431061</td>\n",
       "      <td>0.831735432148</td>\n",
       "      <td>0.836093902588</td>\n",
       "    </tr>\n",
       "    <tr>\n",
       "      <th>16</th>\n",
       "      <td>0.286144405603</td>\n",
       "      <td>0.101898752153</td>\n",
       "      <td>0.089326068759</td>\n",
       "      <td>0.858433216810</td>\n",
       "      <td>0.305696256459</td>\n",
       "      <td>0.267978206277</td>\n",
       "      <td>-0.246950343251</td>\n",
       "      <td>0.360257238150</td>\n",
       "      <td>-0.910007238388</td>\n",
       "      <td>-0.493900656700</td>\n",
       "      <td>0.720514535904</td>\n",
       "      <td>0.089992761612</td>\n",
       "      <td>4.906003952026</td>\n",
       "      <td>-0.195922270417</td>\n",
       "      <td>0.350260466337</td>\n",
       "      <td>-0.844420909882</td>\n",
       "      <td>0.052663136274</td>\n",
       "      <td>0.053466856480</td>\n",
       "      <td>0.166912317276</td>\n",
       "      <td>-0.391844511032</td>\n",
       "      <td>0.700520992279</td>\n",
       "      <td>0.155579090118</td>\n",
       "      <td>42</td>\n",
       "      <td>16</td>\n",
       "      <td>-4.341889858246</td>\n",
       "      <td>0.261939078569</td>\n",
       "      <td>0.117486417294</td>\n",
       "      <td>0.113308921456</td>\n",
       "      <td>0.785817235708</td>\n",
       "      <td>0.352459251881</td>\n",
       "      <td>0.339926764369</td>\n",
       "      <td>0.287375334721</td>\n",
       "      <td>0.098430293907</td>\n",
       "      <td>0.086164253871</td>\n",
       "      <td>0.862126004163</td>\n",
       "      <td>0.295290881721</td>\n",
       "      <td>0.258492761612</td>\n",
       "      <td>0.268645862316</td>\n",
       "      <td>0.110989820378</td>\n",
       "      <td>0.108026363373</td>\n",
       "      <td>0.805937586948</td>\n",
       "      <td>0.332969461135</td>\n",
       "      <td>0.324079090118</td>\n",
       "      <td>4.906003952026</td>\n",
       "      <td>0.825749397278</td>\n",
       "      <td>0.834977746010</td>\n",
       "    </tr>\n",
       "    <tr>\n",
       "      <th>17</th>\n",
       "      <td>0.287375330925</td>\n",
       "      <td>0.098430305719</td>\n",
       "      <td>0.086164258420</td>\n",
       "      <td>0.862125992775</td>\n",
       "      <td>0.295290917158</td>\n",
       "      <td>0.258492775261</td>\n",
       "      <td>-0.246955484152</td>\n",
       "      <td>0.360248863697</td>\n",
       "      <td>-0.910233199596</td>\n",
       "      <td>-0.493911027908</td>\n",
       "      <td>0.720497608185</td>\n",
       "      <td>0.089766800404</td>\n",
       "      <td>4.943799495697</td>\n",
       "      <td>-0.193426877260</td>\n",
       "      <td>0.353899061680</td>\n",
       "      <td>-0.852444410324</td>\n",
       "      <td>0.051191534847</td>\n",
       "      <td>0.052210148424</td>\n",
       "      <td>0.169321581721</td>\n",
       "      <td>-0.386853694916</td>\n",
       "      <td>0.707798004150</td>\n",
       "      <td>0.147555589676</td>\n",
       "      <td>42</td>\n",
       "      <td>17</td>\n",
       "      <td>-4.331466674805</td>\n",
       "      <td>0.268645852804</td>\n",
       "      <td>0.110989823937</td>\n",
       "      <td>0.108026362956</td>\n",
       "      <td>0.805937558413</td>\n",
       "      <td>0.332969471812</td>\n",
       "      <td>0.324079088867</td>\n",
       "      <td>0.287411541593</td>\n",
       "      <td>0.098366881498</td>\n",
       "      <td>0.086088933468</td>\n",
       "      <td>0.862234624780</td>\n",
       "      <td>0.295100644495</td>\n",
       "      <td>0.258266800404</td>\n",
       "      <td>0.272100450957</td>\n",
       "      <td>0.107745247373</td>\n",
       "      <td>0.105351863225</td>\n",
       "      <td>0.816301352872</td>\n",
       "      <td>0.323235742120</td>\n",
       "      <td>0.316055589676</td>\n",
       "      <td>4.943799495697</td>\n",
       "      <td>0.827192723751</td>\n",
       "      <td>0.834121763706</td>\n",
       "    </tr>\n",
       "    <tr>\n",
       "      <th>18</th>\n",
       "      <td>0.287411570549</td>\n",
       "      <td>0.098366864026</td>\n",
       "      <td>0.086088933051</td>\n",
       "      <td>0.862234711647</td>\n",
       "      <td>0.295100592077</td>\n",
       "      <td>0.258266799152</td>\n",
       "      <td>-0.246997386217</td>\n",
       "      <td>0.360244363546</td>\n",
       "      <td>-0.910017609596</td>\n",
       "      <td>-0.493994712830</td>\n",
       "      <td>0.720488786697</td>\n",
       "      <td>0.089982390404</td>\n",
       "      <td>4.963308811188</td>\n",
       "      <td>-0.192165866494</td>\n",
       "      <td>0.355682373047</td>\n",
       "      <td>-0.856369733810</td>\n",
       "      <td>0.050455015153</td>\n",
       "      <td>0.051579345018</td>\n",
       "      <td>0.170534536242</td>\n",
       "      <td>-0.384331703186</td>\n",
       "      <td>0.711364746094</td>\n",
       "      <td>0.143630266190</td>\n",
       "      <td>42</td>\n",
       "      <td>18</td>\n",
       "      <td>-4.319412708282</td>\n",
       "      <td>0.272100448608</td>\n",
       "      <td>0.107745245099</td>\n",
       "      <td>0.105351865292</td>\n",
       "      <td>0.816301345825</td>\n",
       "      <td>0.323235735297</td>\n",
       "      <td>0.316055595875</td>\n",
       "      <td>0.287373438773</td>\n",
       "      <td>0.098442927322</td>\n",
       "      <td>0.086160796801</td>\n",
       "      <td>0.862120316320</td>\n",
       "      <td>0.295328781966</td>\n",
       "      <td>0.258482390404</td>\n",
       "      <td>0.273798104031</td>\n",
       "      <td>0.106173562231</td>\n",
       "      <td>0.104043422063</td>\n",
       "      <td>0.821394312092</td>\n",
       "      <td>0.318520686694</td>\n",
       "      <td>0.312130266190</td>\n",
       "      <td>4.963308811188</td>\n",
       "      <td>0.827205419540</td>\n",
       "      <td>0.833617985249</td>\n",
       "    </tr>\n",
       "  </tbody>\n",
       "</table>\n",
       "</div>"
      ],
      "text/plain": [
       "    state_label_norm_1  state_label_norm_2  state_label_norm_3  \\\n",
       "0       0.239584520459      0.549098074436      0.238536208868   \n",
       "1       0.237467095256      0.544856131077      0.235169276595   \n",
       "2       0.217981398106      0.524437487125      0.241563811898   \n",
       "3       0.196668326855      0.499147027731      0.248529046774   \n",
       "4       0.168403014541      0.465053439140      0.253770589828   \n",
       "5       0.146144434810      0.424573659897      0.254451394081   \n",
       "6       0.139802932739      0.391313195229      0.255302160978   \n",
       "7       0.152624994516      0.352592557669      0.255824595690   \n",
       "8       0.170391917229      0.322704404593      0.250627398491   \n",
       "9       0.193029865623      0.294498890638      0.242103382945   \n",
       "10      0.211847484112      0.254246890545      0.224132582545   \n",
       "11      0.234763845801      0.205180734396      0.191995084286   \n",
       "12      0.266666978598      0.140551581979      0.130701899529   \n",
       "13      0.281345605850      0.099569782615      0.088622383773   \n",
       "14      0.284005999565      0.088183902204      0.076966762543   \n",
       "15      0.275211930275      0.106489986181      0.096811339259   \n",
       "16      0.286144405603      0.101898752153      0.089326068759   \n",
       "17      0.287375330925      0.098430305719      0.086164258420   \n",
       "18      0.287411570549      0.098366864026      0.086088933051   \n",
       "\n",
       "    state_label_denorm_1  state_label_denorm_2  state_label_denorm_3  \\\n",
       "0         0.718753561378        1.647294223309        0.715608626604   \n",
       "1         0.712401285768        1.634568393230        0.705507829785   \n",
       "2         0.653944194317        1.573312461376        0.724691435695   \n",
       "3         0.590004980564        1.497441083193        0.745587140322   \n",
       "4         0.505209043622        1.395160317421        0.761311769485   \n",
       "5         0.438433304429        1.273720979691        0.763354182243   \n",
       "6         0.419408798218        1.173939585686        0.765906482935   \n",
       "7         0.457874983549        1.057777673006        0.767473787069   \n",
       "8         0.511175751686        0.968113213778        0.751882195473   \n",
       "9         0.579089596868        0.883496671915        0.726310148835   \n",
       "10        0.635542452335        0.762740671635        0.672397747636   \n",
       "11        0.704291537404        0.615542203188        0.575985252857   \n",
       "12        0.800000935793        0.421654745936        0.392105698586   \n",
       "13        0.844036817551        0.298709347844        0.265867151320   \n",
       "14        0.852017998695        0.264551706612        0.230900287628   \n",
       "15        0.825635790825        0.319469958544        0.290434017777   \n",
       "16        0.858433216810        0.305696256459        0.267978206277   \n",
       "17        0.862125992775        0.295290917158        0.258492775261   \n",
       "18        0.862234711647        0.295100592077        0.258266799152   \n",
       "\n",
       "    action_label_norm_1  action_label_norm_2  action_label_norm_3  \\\n",
       "0       -0.294840991497      -0.343237370253      -0.462992191315   \n",
       "1       -0.343397021294      -0.293848335743      -0.443808555603   \n",
       "2       -0.381538033485      -0.232243731618      -0.422912865877   \n",
       "3       -0.395962834358      -0.158211961389      -0.407188266516   \n",
       "4       -0.406059920788      -0.071958206594      -0.405145823956   \n",
       "5       -0.408551156521       0.003365676850      -0.402593553066   \n",
       "6       -0.405172199011       0.099050916731      -0.401026189327   \n",
       "7       -0.393052279949       0.166853696108      -0.416617780924   \n",
       "8       -0.377247929573       0.228944808245      -0.442189842463   \n",
       "9       -0.331732362509       0.288093000650      -0.496102273464   \n",
       "10      -0.276751458645       0.335781484842      -0.592514753342   \n",
       "11      -0.253508478403       0.360343039036      -0.776394307613   \n",
       "12      -0.239919826388       0.352672040462      -0.902632832527   \n",
       "13      -0.231816753745       0.346487820148      -0.937599718571   \n",
       "14      -0.236513525248       0.349878728390      -0.878065943718   \n",
       "15      -0.249433964491       0.360743224621      -0.900521814823   \n",
       "16      -0.246950343251       0.360257238150      -0.910007238388   \n",
       "17      -0.246955484152       0.360248863697      -0.910233199596   \n",
       "18      -0.246997386217       0.360244363546      -0.910017609596   \n",
       "\n",
       "    action_label_denorm_1  action_label_denorm_2  action_label_denorm_3  \\\n",
       "0         -0.589681982994        -0.686474800110         0.537007808685   \n",
       "1         -0.686794042587        -0.587696671486         0.556191444397   \n",
       "2         -0.763076066971        -0.464487433434         0.577087163925   \n",
       "3         -0.791925668716        -0.316423892975         0.592811703682   \n",
       "4         -0.812119841576        -0.143916368484         0.594854176044   \n",
       "5         -0.817102313042         0.006731271744         0.597406446934   \n",
       "6         -0.810344457626         0.198101758957         0.598973810673   \n",
       "7         -0.786104559898         0.333707332611         0.583382248878   \n",
       "8         -0.754495859146         0.457889556885         0.557810187340   \n",
       "9         -0.663464784622         0.576185941696         0.503897726536   \n",
       "10        -0.553502917290         0.671562910080         0.407485246658   \n",
       "11        -0.507016897202         0.720685958862         0.223605692387   \n",
       "12        -0.479839682579         0.705344200134         0.097367167473   \n",
       "13        -0.463633537292         0.692975521088         0.062400281429   \n",
       "14        -0.473026990891         0.699757575989         0.121934056282   \n",
       "15        -0.498867988586         0.721486568451         0.099478185177   \n",
       "16        -0.493900656700         0.720514535904         0.089992761612   \n",
       "17        -0.493911027908         0.720497608185         0.089766800404   \n",
       "18        -0.493994712830         0.720488786697         0.089982390404   \n",
       "\n",
       "    action_pred_logprob_1  action_pred_norm_1  action_pred_norm_2  \\\n",
       "0          5.180546283722     -0.276771545410     -0.235122680664   \n",
       "1          4.735224723816     -0.268564313650     -0.149159744382   \n",
       "2          4.418835163116     -0.262955248356     -0.084094405174   \n",
       "3          4.205156803131     -0.258985817432     -0.035601463169   \n",
       "4          4.079229831696     -0.256139636040      0.000774115149   \n",
       "5          4.016422271729     -0.254010111094      0.030140088871   \n",
       "6          3.989665985107     -0.252240538597      0.057054165751   \n",
       "7          3.987407207489     -0.250551313162      0.084689013660   \n",
       "8          4.008111953735     -0.248752221465      0.115321546793   \n",
       "9          4.052944183350     -0.246707826853      0.150765180588   \n",
       "10         4.123682975769     -0.244323194027      0.192176803946   \n",
       "11         4.221054077148     -0.241575002670      0.239348977804   \n",
       "12         4.385591983795     -0.232925951481      0.284712791443   \n",
       "13         4.585548400879     -0.219511136413      0.311561733484   \n",
       "14         4.732444763184     -0.208262175322      0.330724716187   \n",
       "15         4.838625431061     -0.200544953346      0.343200057745   \n",
       "16         4.906003952026     -0.195922270417      0.350260466337   \n",
       "17         4.943799495697     -0.193426877260      0.353899061680   \n",
       "18         4.963308811188     -0.192165866494      0.355682373047   \n",
       "\n",
       "    action_pred_norm_3  action_pred_std_1  action_pred_std_2  \\\n",
       "0      -0.375591576099     0.078413404524     0.075163058937   \n",
       "1      -0.342566609383     0.092488318682     0.085618466139   \n",
       "2      -0.327398985624     0.103401310742     0.093583181500   \n",
       "3      -0.322800278664     0.111072279513     0.099096253514   \n",
       "4      -0.328075021505     0.115246966481     0.102050490677   \n",
       "5      -0.342607945204     0.116459652781     0.102887816727   \n",
       "6      -0.364595264196     0.115733206272     0.102361373603   \n",
       "7      -0.393571317196     0.113526009023     0.100784040987   \n",
       "8      -0.430380314589     0.109860144556     0.098148576915   \n",
       "9      -0.475894123316     0.104688540101     0.094395227730   \n",
       "10     -0.529898226261     0.098059371114     0.089524552226   \n",
       "11     -0.590018212795     0.090246133506     0.083695456386   \n",
       "12     -0.668978810310     0.079303622246     0.075342781842   \n",
       "13     -0.747344851494     0.067968480289     0.066237859428   \n",
       "14     -0.798885285854     0.060295507312     0.059901572764   \n",
       "15     -0.828573226929     0.055446334183     0.055829655379   \n",
       "16     -0.844420909882     0.052663136274     0.053466856480   \n",
       "17     -0.852444410324     0.051191534847     0.052210148424   \n",
       "18     -0.856369733810     0.050455015153     0.051579345018   \n",
       "\n",
       "    action_pred_std_3  action_pred_denorm_1  action_pred_denorm_2  \\\n",
       "0      0.060597240925       -0.553543090820       -0.470245361328   \n",
       "1      0.070403456688       -0.537128686905       -0.298319458961   \n",
       "2      0.079055227339       -0.525910496712       -0.168188810349   \n",
       "3      0.086057938635       -0.517971634865       -0.071202874184   \n",
       "4      0.091347917914       -0.512279272079        0.001548290253   \n",
       "5      0.095473051071       -0.508020162582        0.060280084610   \n",
       "6      0.099185056984       -0.504481077194        0.114108324051   \n",
       "7      0.102928154171       -0.501102685928        0.169378042221   \n",
       "8      0.106980636716       -0.497504472733        0.230643033981   \n",
       "9      0.111611716449       -0.493415594101        0.301530361176   \n",
       "10     0.117059387267       -0.488646388054        0.384353637695   \n",
       "11     0.123429588974       -0.483150005341        0.478698015213   \n",
       "12     0.132360145450       -0.465851902962        0.569425582886   \n",
       "13     0.143826171756       -0.439022302628        0.623123407364   \n",
       "14     0.154786229134       -0.416524410248        0.661449432373   \n",
       "15     0.162406787276       -0.401089906693        0.686400175095   \n",
       "16     0.166912317276       -0.391844511032        0.700520992279   \n",
       "17     0.169321581721       -0.386853694916        0.707798004150   \n",
       "18     0.170534536242       -0.384331703186        0.711364746094   \n",
       "\n",
       "    action_pred_denorm_3  trajectory_index  state_number       gnll_loss  \\\n",
       "0         0.624408423901                42             0 -3.079351425171   \n",
       "1         0.657433390617                42             1 -1.946021556854   \n",
       "2         0.672600984573                42             2 -1.778307437897   \n",
       "3         0.677199721336                42             3 -2.198513031006   \n",
       "4         0.671924948692                42             4 -2.623212814331   \n",
       "5         0.657392024994                42             5 -2.904728651047   \n",
       "6         0.635404706001                42             6 -2.964976549149   \n",
       "7         0.606428682804                42             7 -2.842221260071   \n",
       "8         0.569619655609                42             8 -2.647906303406   \n",
       "9         0.524105906487                42             9 -2.648498535156   \n",
       "10        0.470101773739                42            10 -2.639397144318   \n",
       "11        0.409981787205                42            11 -2.027345180511   \n",
       "12        0.331021189690                42            12 -2.416775703430   \n",
       "13        0.252655148506                42            13 -3.555231094360   \n",
       "14        0.201114714146                42            14 -4.440712928772   \n",
       "15        0.171426773071                42            15 -4.302395820618   \n",
       "16        0.155579090118                42            16 -4.341889858246   \n",
       "17        0.147555589676                42            17 -4.331466674805   \n",
       "18        0.143630266190                42            18 -4.319412708282   \n",
       "\n",
       "    state_est_norm_1  state_est_norm_2  state_est_norm_3  state_est_denorm_1  \\\n",
       "0     0.239584520459    0.549098074436    0.238536208868      0.718753561378   \n",
       "1     0.166554465890    0.494904160500    0.264302819967      0.499663397670   \n",
       "2     0.114744760096    0.453975886106    0.275311142206      0.344234280288   \n",
       "3     0.080420508981    0.423631846905    0.280366986990      0.241261526942   \n",
       "4     0.061612885445    0.401079833508    0.281899899244      0.184838656336   \n",
       "5     0.054278422147    0.382973909378    0.280141651630      0.162835266441   \n",
       "6     0.053740069270    0.366319537163    0.275297343731      0.161220207810   \n",
       "7     0.058274954557    0.349178642035    0.267968237400      0.174824863672   \n",
       "8     0.068035483360    0.330180287361    0.258309572935      0.204106450081   \n",
       "9     0.083631001413    0.308154731989    0.246039882302      0.250893004239   \n",
       "10    0.105693839490    0.282246232033    0.230868637562      0.317081518471   \n",
       "11    0.134422555566    0.252341300249    0.212867259979      0.403267666698   \n",
       "12    0.168920412660    0.219763502479    0.192827269435      0.506761237979   \n",
       "13    0.205020740628    0.182864904404    0.166507065296      0.615062221885   \n",
       "14    0.231087818742    0.150992617011    0.140385046601      0.693263456225   \n",
       "15    0.249959200621    0.129783272743    0.123204901814      0.749877601862   \n",
       "16    0.261939078569    0.117486417294    0.113308921456      0.785817235708   \n",
       "17    0.268645852804    0.110989823937    0.108026362956      0.805937558413   \n",
       "18    0.272100448608    0.107745245099    0.105351865292      0.816301345825   \n",
       "\n",
       "    state_est_denorm_2  state_est_denorm_3  next_state_label_norm_1  \\\n",
       "0       1.647294223309      0.715608626604           0.237467106593   \n",
       "1       1.484712481499      0.792908459902           0.217981396497   \n",
       "2       1.361927658319      0.825933426619           0.196668311678   \n",
       "3       1.270895540714      0.841100960970           0.168403008084   \n",
       "4       1.203239500523      0.845699697733           0.146144429566   \n",
       "5       1.148921728134      0.840424954891           0.139802944334   \n",
       "6       1.098958611488      0.825892031193           0.152625003213   \n",
       "7       1.047535926104      0.803904712200           0.170391911507   \n",
       "8       0.990540862083      0.774928718805           0.193029841672   \n",
       "9       0.924464195967      0.738119646907           0.211847473945   \n",
       "10      0.846738696098      0.692605912685           0.234763820031   \n",
       "11      0.757023900747      0.638601779938           0.266666930436   \n",
       "12      0.659290507436      0.578481808305           0.281345647305   \n",
       "13      0.548594713211      0.499521195889           0.284005982565   \n",
       "14      0.452977851033      0.421155139804           0.275211955949   \n",
       "15      0.389349818230      0.369614705443           0.286144452209   \n",
       "16      0.352459251881      0.339926764369           0.287375334721   \n",
       "17      0.332969471812      0.324079088867           0.287411541593   \n",
       "18      0.323235735297      0.316055595875           0.287373438773   \n",
       "\n",
       "    next_state_label_norm_2  next_state_label_norm_3  \\\n",
       "0            0.544856140522           0.235169269562   \n",
       "1            0.524437506881           0.241563814799   \n",
       "2            0.499147023329           0.248529054642   \n",
       "3            0.465053422103           0.253770567894   \n",
       "4            0.424573652531           0.254451392015   \n",
       "5            0.391313225147           0.255302148978   \n",
       "6            0.352592584956           0.255824603558   \n",
       "7            0.322704423370           0.250627416293   \n",
       "8            0.294498896398           0.242103395780   \n",
       "9            0.254246920085           0.224132575512   \n",
       "10           0.205180745263           0.191995082219   \n",
       "11           0.140551578796           0.130701897462   \n",
       "12           0.099569781626           0.088622389158   \n",
       "13           0.088183911589           0.076966760476   \n",
       "14           0.106489978584           0.096811352094   \n",
       "15           0.101898740056           0.089326061726   \n",
       "16           0.098430293907           0.086164253871   \n",
       "17           0.098366881498           0.086088933468   \n",
       "18           0.098442927322           0.086160796801   \n",
       "\n",
       "    next_state_label_denorm_1  next_state_label_denorm_2  \\\n",
       "0              0.712401319780             1.634568421567   \n",
       "1              0.653944189490             1.573312520644   \n",
       "2              0.590004935033             1.497441069986   \n",
       "3              0.505209024253             1.395160266308   \n",
       "4              0.438433288698             1.273720957594   \n",
       "5              0.419408833001             1.173939675442   \n",
       "6              0.457875009640             1.057777754867   \n",
       "7              0.511175734520             0.968113270109   \n",
       "8              0.579089525016             0.883496689195   \n",
       "9              0.635542421834             0.762740760254   \n",
       "10             0.704291460092             0.615542235789   \n",
       "11             0.800000791307             0.421654736388   \n",
       "12             0.844036941916             0.298709344877   \n",
       "13             0.852017947695             0.264551734766   \n",
       "14             0.825635867846             0.319469935752   \n",
       "15             0.858433356628             0.305696220169   \n",
       "16             0.862126004163             0.295290881721   \n",
       "17             0.862234624780             0.295100644495   \n",
       "18             0.862120316320             0.295328781966   \n",
       "\n",
       "    next_state_label_denorm_3  next_state_est_norm_1  next_state_est_norm_2  \\\n",
       "0              0.705507808685         0.166554471152         0.494904171756   \n",
       "1              0.724691444397         0.114744761518         0.453975893126   \n",
       "2              0.745587163925         0.080420507784         0.423631837413   \n",
       "3              0.761311703682         0.061612883990         0.401079838495   \n",
       "4              0.763354176044         0.054278423855         0.382973904145   \n",
       "5              0.765906446934         0.053740068806         0.366319527156   \n",
       "6              0.767473810673         0.058274952947         0.349178631231   \n",
       "7              0.751882248878         0.068035481813         0.330180281997   \n",
       "8              0.726310187340         0.083631004995         0.308154730761   \n",
       "9              0.672397726536         0.105693839177         0.282246240985   \n",
       "10             0.575985246658         0.134422556513         0.252341311045   \n",
       "11             0.392105692387         0.168920414783         0.219763496181   \n",
       "12             0.265867167473         0.205020735378         0.182864898858   \n",
       "13             0.230900281429         0.231087823716         0.150992610890   \n",
       "14             0.290434056282         0.249959203937         0.129783268738   \n",
       "15             0.267978185177         0.261939064633         0.117486416334   \n",
       "16             0.258492761612         0.268645862316         0.110989820378   \n",
       "17             0.258266800404         0.272100450957         0.107745247373   \n",
       "18             0.258482390404         0.273798104031         0.106173562231   \n",
       "\n",
       "    next_state_est_norm_3  next_state_est_denorm_1  next_state_est_denorm_2  \\\n",
       "0          0.264302807967           0.499663413455           1.484712515268   \n",
       "1          0.275311130206           0.344234284553           1.361927679378   \n",
       "2          0.280366994858           0.241261523353           1.270895512240   \n",
       "3          0.281899907112           0.184838651970           1.203239515485   \n",
       "4          0.280141649564           0.162835271565           1.148921712434   \n",
       "5          0.275297341665           0.161220206417           1.098958581467   \n",
       "6          0.267968235334           0.174824858840           1.047535893694   \n",
       "7          0.258309560935           0.204106445438           0.990540845990   \n",
       "8          0.246039885203           0.250893014985           0.924464192282   \n",
       "9          0.230868635496           0.317081517530           0.846738722954   \n",
       "10         0.212867257913           0.403267669538           0.757023933136   \n",
       "11         0.192827262402           0.506761244349           0.659290488543   \n",
       "12         0.166507063230           0.615062206135           0.548594696575   \n",
       "13         0.140385049502           0.693263471149           0.452977832670   \n",
       "14         0.123204904715           0.749877611810           0.389349806214   \n",
       "15         0.113308924357           0.785817193900           0.352459249002   \n",
       "16         0.108026363373           0.805937586948           0.332969461135   \n",
       "17         0.105351863225           0.816301352872           0.323235742120   \n",
       "18         0.104043422063           0.821394312092           0.318520686694   \n",
       "\n",
       "    next_state_est_denorm_3  action_pred_avg_logprob  reward_demo_traj  \\\n",
       "0            0.792908423901           5.180546283722    0.464516043663   \n",
       "1            0.825933390617           4.735224723816    0.472018331289   \n",
       "2            0.841100984573           4.418835163116    0.526120603085   \n",
       "3            0.845699721336           4.205156803131    0.587319314480   \n",
       "4            0.840424948692           4.079229831696    0.664444029331   \n",
       "5            0.825892024994           4.016422271729    0.729889333248   \n",
       "6            0.803904706001           3.989665985107    0.761851191521   \n",
       "7            0.774928682804           3.987407207489    0.771476686001   \n",
       "8            0.738119655609           4.008111953735    0.769665062428   \n",
       "9            0.692605906487           4.052944183350    0.760919034481   \n",
       "10           0.638601773739           4.123682975769    0.773687243462   \n",
       "11           0.578481787205           4.221054077148    0.793269455433   \n",
       "12           0.499521189690           4.385591983795    0.814483880997   \n",
       "13           0.421155148506           4.585548400879    0.831270277500   \n",
       "14           0.369614714146           4.732444763184    0.836012005806   \n",
       "15           0.339926773071           4.838625431061    0.831735432148   \n",
       "16           0.324079090118           4.906003952026    0.825749397278   \n",
       "17           0.316055589676           4.943799495697    0.827192723751   \n",
       "18           0.312130266190           4.963308811188    0.827205419540   \n",
       "\n",
       "    reward_robot_traj  \n",
       "0      0.464516043663  \n",
       "1      0.640935242176  \n",
       "2      0.748207032681  \n",
       "3      0.808465659618  \n",
       "4      0.836340963840  \n",
       "5      0.849135875702  \n",
       "6      0.854841113091  \n",
       "7      0.857589066029  \n",
       "8      0.858329176903  \n",
       "9      0.856993734837  \n",
       "10     0.852536618710  \n",
       "11     0.843513846397  \n",
       "12     0.839114487171  \n",
       "13     0.836299955845  \n",
       "14     0.836794197559  \n",
       "15     0.836093902588  \n",
       "16     0.834977746010  \n",
       "17     0.834121763706  \n",
       "18     0.833617985249  "
      ]
     },
     "execution_count": 23,
     "metadata": {},
     "output_type": "execute_result"
    }
   ],
   "source": [
    "test_trajectories[-1]"
   ]
  },
  {
   "cell_type": "code",
   "execution_count": null,
   "id": "cb06274c",
   "metadata": {},
   "outputs": [],
   "source": [
    "samp_trajs = [generate_session(t_max=constants.TRAJECTORY_SIZE,\n",
    "                               updater_obj=updater_obj,\n",
    "                               replay_buffer=replay_buffer,\n",
    "                               is_policy_inference=True,\n",
    "                               is_policy_update=False,\n",
    "                               is_deterministic=True) for _ in range(EPISODES_TO_PLAY)]\n",
    "samp_trajs"
   ]
  },
  {
   "cell_type": "markdown",
   "id": "7c828e25",
   "metadata": {},
   "source": [
    "# Train Behavior Cloning Agent"
   ]
  },
  {
   "cell_type": "code",
   "execution_count": null,
   "id": "f31fc445",
   "metadata": {},
   "outputs": [],
   "source": [
    "updater_obj.policy_network = RobotPolicy(state_size=configs.state_size,\n",
    "                                         hidden_size=configs.hidden_size,\n",
    "                                         out_size=configs.action_size,\n",
    "                                         log_std_min=configs.policy_log_std_min,\n",
    "                                         log_std_max=configs.policy_log_std_max,\n",
    "                                         log_std_init=configs.policy_log_std_init,\n",
    "                                         device=configs.device)\n",
    "updater_obj.policy_optimizer = torch.optim.Adam(updater_obj.policy_network.parameters(),\n",
    "                                                lr=configs.policy_lr)"
   ]
  },
  {
   "cell_type": "code",
   "execution_count": null,
   "id": "97a67efa",
   "metadata": {},
   "outputs": [],
   "source": [
    "bc_training_epochs = 100"
   ]
  },
  {
   "cell_type": "code",
   "execution_count": null,
   "id": "84c21f42",
   "metadata": {
    "scrolled": true
   },
   "outputs": [],
   "source": [
    "# lambda_pg = 1.0\n",
    "# lambda_bc = 1.0\n",
    "\n",
    "# mean_loss_bc, mean_loss_pg = [], []\n",
    "\n",
    "# for epoch in range(bc_training_epochs):\n",
    "    \n",
    "#     bc_loss_list, pg_loss_list = [], []\n",
    "    \n",
    "#     for demo_traj_df in demo_traj_list:\n",
    "        \n",
    "#         states_demo = torch.Tensor(demo_traj_df[[\n",
    "#             \"state_label_norm_1\", \"state_label_norm_2\", \"state_label_norm_3\"]].values.astype(np.float32), device=configs.device)\n",
    "#         actions_demo = torch.Tensor(demo_traj_df[[\n",
    "#             \"action_label_norm_1\", \"action_label_norm_2\", \"action_label_norm_3\"]].values.astype(np.float32), device=configs.device)\n",
    "#         probs_demo = torch.Tensor(np.ones((\n",
    "#             actions_demo.shape[0], actions_demo.shape[1])).astype(np.float32), device=configs.device)\n",
    "        \n",
    "#         demo_rewards_ = updater_obj.reward_network.estimate_reward(state_action=states_demo,\n",
    "#                                                                    is_inference=True)\n",
    "#         cumulative_returns = get_cumulative_rewards(demo_rewards_, 0.99).to(torch.float32)\n",
    "        \n",
    "# #         _, _, traj_log_probs, _, actions_pred_mu_std, _ = updater_obj.policy_network.estimate_action(state=states_demo,\n",
    "# #                                                                                                  is_inference=False)\n",
    "# #         cumulative_log_probs = torch.cumsum(traj_log_probs, dim=0)\n",
    "        \n",
    "# #         loss_pg_demo = policy_gradient_loss(cumulative_log_probs=cumulative_log_probs,\n",
    "# #                                             advantages=cumulative_returns)\n",
    "        \n",
    "#         loss_bc_traj = updater_obj.multivariate_gaussian_nll_loss(y_true=actions_demo,\n",
    "#                                                                   y_pred=actions_pred_mu_std)\n",
    "        \n",
    "# #         total_loss = (lambda_pg * loss_pg_demo) + (lambda_bc * loss_bc_traj)\n",
    "        \n",
    "#         updater_obj.run_policy_optimizer(bc_loss=loss_bc_traj)\n",
    "        \n",
    "#         bc_loss_list.append(loss_bc_traj.item())\n",
    "# #         pg_loss_list.append(loss_pg_demo.item())\n",
    "    \n",
    "#     mean_loss_bc.append(np.mean(bc_loss_list))\n",
    "# #     mean_loss_pg.append(np.mean(pg_loss_list))\n",
    "\n",
    "#     print(\"Epoch : \", epoch, \" Avg. BC Loss : \", np.mean(bc_loss_list), \" Avg. PG Loss : \", np.mean(pg_loss_list))"
   ]
  },
  {
   "cell_type": "code",
   "execution_count": null,
   "id": "de08c6e7",
   "metadata": {
    "scrolled": true
   },
   "outputs": [],
   "source": [
    "# for epoch in range(bc_training_epochs):\n",
    "    \n",
    "#     # loop through each batch inside the dataset\n",
    "#     for batch_train_data in tqdm(train_loader):\n",
    "        \n",
    "#         # get batch of data\n",
    "#         input_state, output_action, _, _ = functions.read_each_loader(configs=configs,\n",
    "#                                                                       sample_data=tuple(batch_train_data))\n",
    "        \n",
    "#         # forward pass to get mean of Gaussian distribution\n",
    "#         action_pred, action_std, action_log_prob, action_entropy, action_mu_and_std, action_dist = \\\n",
    "#             policy_network.estimate_action(state=input_state,\n",
    "#                                            is_inference=False)\n",
    "        \n",
    "#         # compute negative log-likelihood loss value for maximum likelihood estimation\n",
    "#         loss_bc_traj = updater_obj.multivariate_gaussian_nll_loss(y_true=output_action,\n",
    "#                                                                   y_pred=action_mu_and_std)\n",
    "#         batch_loss = loss_bc_traj.mean()\n",
    "        \n",
    "#         updater_obj.run_policy_optimizer(bc_loss=loss_bc_traj)\n",
    "        \n",
    "#         loss_value = round(batch_loss.item(), 5)\n",
    "#         loss_value_str = str(loss_value).replace(\".\", \"_\")\n",
    "        \n",
    "#     print(f\"Epoch {epoch + 1}/{bc_training_epochs}, Batch Loss: {loss_value}\")"
   ]
  },
  {
   "cell_type": "code",
   "execution_count": null,
   "id": "e10ae6dc",
   "metadata": {
    "scrolled": true
   },
   "outputs": [],
   "source": [
    "action_pred"
   ]
  },
  {
   "cell_type": "code",
   "execution_count": null,
   "id": "ecac15a8",
   "metadata": {},
   "outputs": [],
   "source": [
    "action_mu_and_std"
   ]
  },
  {
   "cell_type": "markdown",
   "id": "468f695e",
   "metadata": {},
   "source": [
    "# Generate Random Initial State Trajectories with Trained BC Policy"
   ]
  },
  {
   "cell_type": "code",
   "execution_count": null,
   "id": "740ea432",
   "metadata": {},
   "outputs": [],
   "source": [
    "for param in updater_obj.policy_network.parameters():\n",
    "    param.requires_grad = False\n",
    "updater_obj.policy_network = updater_obj.policy_network.eval()"
   ]
  },
  {
   "cell_type": "code",
   "execution_count": null,
   "id": "e6853b74",
   "metadata": {},
   "outputs": [],
   "source": [
    "# bc_trajs = [generate_session(t_max=constants.TRAJECTORY_SIZE, updater_obj=updater_obj) for _ in range(5)]"
   ]
  },
  {
   "cell_type": "code",
   "execution_count": null,
   "id": "28619746",
   "metadata": {},
   "outputs": [],
   "source": [
    "state_0 = generate_initial_rand_state()\n",
    "input_state_norm = torch.Tensor(state_0)\n",
    "    \n",
    "created_trajectory_df, logprob_action_sum_tensor, reward_values_tensor = \\\n",
    "    functions.trajectory_generation(configs=configs,\n",
    "                                    state_norms=training_data.state_norms,\n",
    "                                    action_norms=training_data.action_norms,\n",
    "                                    policy_network=updater_obj.policy_network,\n",
    "                                    reward_network=updater_obj.reward_network,\n",
    "                                    input_state_norm=input_state_norm)"
   ]
  },
  {
   "cell_type": "code",
   "execution_count": null,
   "id": "36e550dc",
   "metadata": {
    "scrolled": true
   },
   "outputs": [],
   "source": [
    "created_trajectory_df"
   ]
  },
  {
   "cell_type": "code",
   "execution_count": null,
   "id": "c6c2b80d",
   "metadata": {
    "scrolled": true
   },
   "outputs": [],
   "source": [
    "reward_values_tensor"
   ]
  },
  {
   "cell_type": "markdown",
   "id": "0fef8533",
   "metadata": {},
   "source": [
    "# Evalutions"
   ]
  },
  {
   "cell_type": "code",
   "execution_count": null,
   "id": "1a909242",
   "metadata": {},
   "outputs": [],
   "source": [
    "# test_bc_trajectories = []\n",
    "\n",
    "# # loop through each separate trajectory inside the testing dataset\n",
    "# for traj_start_index in range(len(trajectory_indices)):\n",
    "    \n",
    "#     traj_df, reward_values_demo_data, reward_values_estim_data, logprob_action_estim_avg = \\\n",
    "#         functions.get_estimated_rewards(configs=configs,\n",
    "#                                         updater_obj=updater_obj,\n",
    "#                                         data_loader=training_data,\n",
    "#                                         policy_network=updater_obj.policy_network,\n",
    "#                                         reward_network=updater_obj.reward_network,\n",
    "#                                         trajectory_indices=trajectory_indices,\n",
    "#                                         traj_start_index=traj_start_index,\n",
    "#                                         is_inference_reward=True,\n",
    "#                                         is_inference_policy=True)\n",
    "    \n",
    "#     # store outputs in the dataframe of trajectory information\n",
    "#     traj_df[constants.ACTION_PREDICTION_AVG_LOGPROB_NAME] = logprob_action_estim_avg.numpy().flatten()\n",
    "#     traj_df[constants.REWARD_DEMONSTRATION_TRAJECTORY_NAME] = reward_values_demo_data.numpy().flatten()\n",
    "#     traj_df[constants.REWARD_ROBOT_TRAJECTORY_NAME] = reward_values_estim_data.numpy().flatten()\n",
    "    \n",
    "#     test_bc_trajectories.append(traj_df)\n",
    "    \n",
    "#     del traj_df"
   ]
  },
  {
   "cell_type": "code",
   "execution_count": null,
   "id": "36e768e6",
   "metadata": {
    "scrolled": true
   },
   "outputs": [],
   "source": [
    "# test_bc_trajectories[-1]"
   ]
  },
  {
   "cell_type": "code",
   "execution_count": null,
   "id": "dd69e075",
   "metadata": {},
   "outputs": [],
   "source": []
  }
 ],
 "metadata": {
  "kernelspec": {
   "display_name": "Python 3 (ipykernel)",
   "language": "python",
   "name": "python3"
  },
  "language_info": {
   "codemirror_mode": {
    "name": "ipython",
    "version": 3
   },
   "file_extension": ".py",
   "mimetype": "text/x-python",
   "name": "python",
   "nbconvert_exporter": "python",
   "pygments_lexer": "ipython3",
   "version": "3.10.9"
  }
 },
 "nbformat": 4,
 "nbformat_minor": 5
}
