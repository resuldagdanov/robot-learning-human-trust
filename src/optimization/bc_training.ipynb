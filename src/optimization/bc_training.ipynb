{
 "cells": [
  {
   "cell_type": "markdown",
   "id": "74556c78",
   "metadata": {},
   "source": [
    "## Behavior Cloning Policy Training Example"
   ]
  },
  {
   "cell_type": "code",
   "execution_count": 1,
   "id": "f96ad21b",
   "metadata": {},
   "outputs": [],
   "source": [
    "import os\n",
    "import sys\n",
    "\n",
    "import numpy as np\n",
    "import pandas as pd\n",
    "\n",
    "import torch\n",
    "\n",
    "from tqdm import tqdm\n",
    "\n",
    "# get the current script's directory\n",
    "current_directory = os.path.dirname(os.path.abspath(__file__)) if \"__file__\" in locals() else os.getcwd()\n",
    "# get the parent directory\n",
    "parent_directory = os.path.dirname(current_directory)\n",
    "# Add the parent directory to the sys.path\n",
    "sys.path.append(parent_directory)\n",
    "\n",
    "from utils import common, constants\n",
    "from utils.config import Config\n",
    "from utils.dataset_loader import PolicyDatasetLoader\n",
    "\n",
    "from models.policy_model import RobotPolicy"
   ]
  },
  {
   "cell_type": "code",
   "execution_count": 2,
   "id": "2f832e40",
   "metadata": {},
   "outputs": [],
   "source": [
    "current_path = os.getcwd()\n",
    "parent_path = os.path.dirname(current_path)\n",
    "grand_parent_path = os.path.dirname(parent_path)"
   ]
  },
  {
   "cell_type": "code",
   "execution_count": 3,
   "id": "5bd102d5",
   "metadata": {},
   "outputs": [],
   "source": [
    "results_path = os.path.join(grand_parent_path, \"results\")"
   ]
  },
  {
   "cell_type": "code",
   "execution_count": 4,
   "id": "71ee4f88",
   "metadata": {},
   "outputs": [],
   "source": [
    "dataset_path = os.path.join(grand_parent_path, \"dataset\")\n",
    "demo_path = os.path.join(dataset_path, \"human_demonstrations\")"
   ]
  },
  {
   "cell_type": "code",
   "execution_count": 5,
   "id": "2baf96ac",
   "metadata": {},
   "outputs": [],
   "source": [
    "# collected dataset folder name in (\"dataset \\\\ human_demonstrations \\\\ collection_date\")\n",
    "collection_date = \"2024_01_23\" # year_month_day"
   ]
  },
  {
   "cell_type": "code",
   "execution_count": 6,
   "id": "f9026bd1",
   "metadata": {},
   "outputs": [],
   "source": [
    "dataset_folder = os.path.join(demo_path,\n",
    "                              collection_date)"
   ]
  },
  {
   "cell_type": "code",
   "execution_count": 7,
   "id": "859e9ea1",
   "metadata": {},
   "outputs": [],
   "source": [
    "json_files = os.listdir(dataset_folder + \"\\\\jsons\")"
   ]
  },
  {
   "cell_type": "code",
   "execution_count": 8,
   "id": "8e3610d6",
   "metadata": {},
   "outputs": [],
   "source": [
    "column_names = constants.COLUMN_NAMES"
   ]
  },
  {
   "cell_type": "markdown",
   "id": "d8724be2",
   "metadata": {},
   "source": [
    "# Test"
   ]
  },
  {
   "cell_type": "code",
   "execution_count": 9,
   "id": "31206892",
   "metadata": {},
   "outputs": [
    {
     "name": "stdout",
     "output_type": "stream",
     "text": [
      "Current Time:  Jan_27_2024-15_52_49\n"
     ]
    }
   ],
   "source": [
    "configs = Config()\n",
    "# call the parameters method to set the parameters\n",
    "configs.parameters()"
   ]
  },
  {
   "cell_type": "code",
   "execution_count": 10,
   "id": "1dff9162",
   "metadata": {},
   "outputs": [
    {
     "name": "stdout",
     "output_type": "stream",
     "text": [
      "Training Device:  cpu\n"
     ]
    }
   ],
   "source": [
    "device = torch.device(\"cuda\" if torch.cuda.is_available() else \"cpu\")\n",
    "print(\"Training Device: \", device)\n",
    "configs.device = device"
   ]
  },
  {
   "cell_type": "code",
   "execution_count": 11,
   "id": "50172b88",
   "metadata": {},
   "outputs": [],
   "source": [
    "model_directory = os.path.join(results_path, \"policy_network_params\")\n",
    "\n",
    "if not os.path.exists(model_directory):\n",
    "    os.makedirs(model_directory)"
   ]
  },
  {
   "cell_type": "code",
   "execution_count": 12,
   "id": "b89dac2a",
   "metadata": {},
   "outputs": [],
   "source": [
    "saving_path = configs.model_saving_path(directory=model_directory)"
   ]
  },
  {
   "cell_type": "code",
   "execution_count": 13,
   "id": "64f28d6c",
   "metadata": {},
   "outputs": [],
   "source": [
    "json_path = os.path.join(dataset_folder + \"\\\\jsons\", json_files[0])"
   ]
  },
  {
   "cell_type": "code",
   "execution_count": 14,
   "id": "8bec0800",
   "metadata": {},
   "outputs": [
    {
     "name": "stdout",
     "output_type": "stream",
     "text": [
      "\n",
      "================== Policy Dataset Loader ==================\n",
      "\n",
      "Number of Trajectories:  1\n",
      "Each Trajectory Length:  8\n",
      "Full Demo Dataset Size:  8\n"
     ]
    }
   ],
   "source": [
    "training_data = PolicyDatasetLoader(demo_data_json_paths=[json_path])"
   ]
  },
  {
   "cell_type": "code",
   "execution_count": 15,
   "id": "fe8d72c6",
   "metadata": {},
   "outputs": [
    {
     "data": {
      "text/plain": [
       "<torch.utils.data.dataloader.DataLoader at 0x1e134282530>"
      ]
     },
     "execution_count": 15,
     "metadata": {},
     "output_type": "execute_result"
    }
   ],
   "source": [
    "torch_loader = torch.utils.data.DataLoader(training_data,\n",
    "                                           batch_size=configs.batch_size,\n",
    "                                           shuffle=configs.data_shuffle,\n",
    "                                           num_workers=configs.num_workers)\n",
    "torch_loader"
   ]
  },
  {
   "cell_type": "code",
   "execution_count": 16,
   "id": "2518c6ba",
   "metadata": {},
   "outputs": [
    {
     "data": {
      "text/plain": [
       "RobotPolicy(\n",
       "  (policy): Sequential(\n",
       "    (0): Linear(in_features=4, out_features=64, bias=True)\n",
       "    (1): ReLU()\n",
       "    (2): Linear(in_features=64, out_features=64, bias=True)\n",
       "    (3): ReLU()\n",
       "    (4): Linear(in_features=64, out_features=3, bias=True)\n",
       "    (5): Tanh()\n",
       "  )\n",
       ")"
      ]
     },
     "execution_count": 16,
     "metadata": {},
     "output_type": "execute_result"
    }
   ],
   "source": [
    "policy_network = RobotPolicy(state_size=configs.state_size,\n",
    "                             hidden_size=configs.hidden_size,\n",
    "                             out_size=configs.action_size,\n",
    "                             device=configs.device)\n",
    "policy_network"
   ]
  },
  {
   "cell_type": "code",
   "execution_count": 17,
   "id": "7e6b212c",
   "metadata": {},
   "outputs": [],
   "source": [
    "# mean squared error loss\n",
    "criterion = torch.nn.MSELoss()"
   ]
  },
  {
   "cell_type": "code",
   "execution_count": 18,
   "id": "c972377e",
   "metadata": {},
   "outputs": [],
   "source": [
    "# adam optimizer\n",
    "optimizer = torch.optim.Adam(policy_network.parameters(),\n",
    "                             lr=0.001)"
   ]
  },
  {
   "cell_type": "code",
   "execution_count": 19,
   "id": "3b098782",
   "metadata": {},
   "outputs": [],
   "source": [
    "num_epochs = 2"
   ]
  },
  {
   "cell_type": "code",
   "execution_count": 20,
   "id": "427cb8a9",
   "metadata": {},
   "outputs": [
    {
     "name": "stderr",
     "output_type": "stream",
     "text": [
      "100%|███████████████████████████████████████████████████████████████████████████████████| 4/4 [00:00<00:00, 403.18it/s]\n"
     ]
    },
    {
     "name": "stdout",
     "output_type": "stream",
     "text": [
      "Epoch 1/2, Loss: 0.09494465589523315\n",
      "Epoch 1/2, Loss: 0.09170800447463989\n",
      "Epoch 1/2, Loss: 0.08233990520238876\n",
      "Epoch 1/2, Loss: 0.06857556849718094\n"
     ]
    },
    {
     "name": "stderr",
     "output_type": "stream",
     "text": [
      "100%|██████████████████████████████████████████████████████████████████████████████████| 4/4 [00:00<00:00, 1997.53it/s]"
     ]
    },
    {
     "name": "stdout",
     "output_type": "stream",
     "text": [
      "Epoch 2/2, Loss: 0.05991328880190849\n",
      "Epoch 2/2, Loss: 0.060775965452194214\n",
      "Epoch 2/2, Loss: 0.05463934317231178\n",
      "Epoch 2/2, Loss: 0.07716011255979538\n"
     ]
    },
    {
     "name": "stderr",
     "output_type": "stream",
     "text": [
      "\n"
     ]
    }
   ],
   "source": [
    "for epoch in range(num_epochs):\n",
    "    \n",
    "    # loop through each batch inside the dataset\n",
    "    for sample in tqdm(torch_loader):\n",
    "        \n",
    "        # get batch of data\n",
    "        state_input, action_output = sample\n",
    "        \n",
    "        # forward pass\n",
    "        action_predictions = policy_network.forward(x=state_input)\n",
    "        \n",
    "        # compute mse loss\n",
    "        loss = criterion(action_predictions, action_output)\n",
    "        \n",
    "        # backward pass and optimization\n",
    "        optimizer.zero_grad()\n",
    "        loss.backward()\n",
    "        optimizer.step()\n",
    "        \n",
    "        print(f\"Epoch {epoch + 1}/{num_epochs}, Loss: {loss.item()}\")\n",
    "    \n",
    "    # save the action prediction model after each epoch\n",
    "    filename = f\"policy_network_epoch_{epoch + 1}.pt\"\n",
    "    torch.save(obj=policy_network.state_dict(),\n",
    "               f=os.path.join(saving_path, filename))"
   ]
  },
  {
   "cell_type": "code",
   "execution_count": null,
   "id": "1f1c75fd",
   "metadata": {},
   "outputs": [],
   "source": []
  }
 ],
 "metadata": {
  "kernelspec": {
   "display_name": "Python 3 (ipykernel)",
   "language": "python",
   "name": "python3"
  },
  "language_info": {
   "codemirror_mode": {
    "name": "ipython",
    "version": 3
   },
   "file_extension": ".py",
   "mimetype": "text/x-python",
   "name": "python",
   "nbconvert_exporter": "python",
   "pygments_lexer": "ipython3",
   "version": "3.10.9"
  }
 },
 "nbformat": 4,
 "nbformat_minor": 5
}
