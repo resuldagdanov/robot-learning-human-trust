{
 "cells": [
  {
   "cell_type": "markdown",
   "id": "dfd7e58f",
   "metadata": {},
   "source": [
    "## Behavior Cloning Policy Training Example"
   ]
  },
  {
   "cell_type": "code",
   "execution_count": 1,
   "id": "c9a30365",
   "metadata": {},
   "outputs": [],
   "source": [
    "import os\n",
    "import sys\n",
    "\n",
    "import numpy as np\n",
    "import pandas as pd\n",
    "\n",
    "import torch\n",
    "\n",
    "from tqdm import tqdm\n",
    "\n",
    "# get the current script's directory\n",
    "current_directory = os.path.dirname(os.path.abspath(__file__)) if \"__file__\" in locals() else os.getcwd()\n",
    "# get the parent directory\n",
    "parent_directory = os.path.dirname(current_directory)\n",
    "# Add the parent directory to the sys.path\n",
    "sys.path.append(parent_directory)\n",
    "\n",
    "from utils import common, constants\n",
    "from utils.config import Config\n",
    "from utils.dataset_loader import PolicyDatasetLoader\n",
    "\n",
    "from models.policy_model import RobotPolicy"
   ]
  },
  {
   "cell_type": "code",
   "execution_count": 2,
   "id": "a21ac506",
   "metadata": {},
   "outputs": [],
   "source": [
    "current_path = os.getcwd()\n",
    "parent_path = os.path.dirname(current_path)\n",
    "grand_parent_path = os.path.dirname(parent_path)"
   ]
  },
  {
   "cell_type": "code",
   "execution_count": 3,
   "id": "9aadea10",
   "metadata": {},
   "outputs": [],
   "source": [
    "results_path = os.path.join(grand_parent_path, \"results\")"
   ]
  },
  {
   "cell_type": "code",
   "execution_count": 4,
   "id": "927a1eda",
   "metadata": {},
   "outputs": [],
   "source": [
    "dataset_path = os.path.join(grand_parent_path, \"dataset\")\n",
    "demo_path = os.path.join(dataset_path, \"human_demonstrations\")"
   ]
  },
  {
   "cell_type": "code",
   "execution_count": 5,
   "id": "ec8ebf56",
   "metadata": {},
   "outputs": [],
   "source": [
    "# collected dataset folder name in (\"dataset \\\\ human_demonstrations \\\\ collection_date\")\n",
    "collection_date = \"2024_01_23\" # year_month_day"
   ]
  },
  {
   "cell_type": "code",
   "execution_count": 6,
   "id": "eb191b24",
   "metadata": {},
   "outputs": [],
   "source": [
    "dataset_folder = os.path.join(demo_path,\n",
    "                              collection_date)"
   ]
  },
  {
   "cell_type": "code",
   "execution_count": 7,
   "id": "69f2a4b3",
   "metadata": {},
   "outputs": [],
   "source": [
    "json_files = os.listdir(dataset_folder + \"\\\\jsons\")"
   ]
  },
  {
   "cell_type": "code",
   "execution_count": 8,
   "id": "8eede00e",
   "metadata": {},
   "outputs": [],
   "source": [
    "column_names = constants.COLUMN_NAMES"
   ]
  },
  {
   "cell_type": "markdown",
   "id": "0d05666e",
   "metadata": {},
   "source": [
    "# Test"
   ]
  },
  {
   "cell_type": "code",
   "execution_count": 9,
   "id": "bc24829e",
   "metadata": {},
   "outputs": [
    {
     "name": "stdout",
     "output_type": "stream",
     "text": [
      "Current Time:  Jan_27_2024-19_40_18\n"
     ]
    }
   ],
   "source": [
    "configs = Config()\n",
    "# call the parameters method to set the parameters\n",
    "configs.parameters()"
   ]
  },
  {
   "cell_type": "code",
   "execution_count": 10,
   "id": "b4c20266",
   "metadata": {},
   "outputs": [
    {
     "name": "stdout",
     "output_type": "stream",
     "text": [
      "Training Device:  cpu\n"
     ]
    }
   ],
   "source": [
    "device = torch.device(\"cuda\" if torch.cuda.is_available() else \"cpu\")\n",
    "print(\"Training Device: \", device)\n",
    "configs.device = device"
   ]
  },
  {
   "cell_type": "code",
   "execution_count": 11,
   "id": "09fe5305",
   "metadata": {},
   "outputs": [],
   "source": [
    "model_directory = os.path.join(results_path, \"policy_network_params\")\n",
    "\n",
    "if not os.path.exists(model_directory):\n",
    "    os.makedirs(model_directory)"
   ]
  },
  {
   "cell_type": "code",
   "execution_count": 12,
   "id": "d517735c",
   "metadata": {},
   "outputs": [],
   "source": [
    "saving_path = configs.model_saving_path(directory=model_directory)"
   ]
  },
  {
   "cell_type": "code",
   "execution_count": 13,
   "id": "eff7617e",
   "metadata": {},
   "outputs": [],
   "source": [
    "json_path = os.path.join(dataset_folder + \"\\\\jsons\", json_files[0])"
   ]
  },
  {
   "cell_type": "code",
   "execution_count": 14,
   "id": "03b26174",
   "metadata": {},
   "outputs": [
    {
     "name": "stdout",
     "output_type": "stream",
     "text": [
      "\n",
      "================== Policy Dataset Loader ==================\n",
      "\n",
      "Number of Trajectories:  1\n",
      "Each Trajectory Length:  8\n",
      "Full Demo Dataset Size:  8\n"
     ]
    }
   ],
   "source": [
    "training_data = PolicyDatasetLoader(demo_data_json_paths=[json_path])"
   ]
  },
  {
   "cell_type": "code",
   "execution_count": 15,
   "id": "4b990b56",
   "metadata": {},
   "outputs": [
    {
     "data": {
      "text/plain": [
       "<torch.utils.data.dataloader.DataLoader at 0x2782aca6770>"
      ]
     },
     "execution_count": 15,
     "metadata": {},
     "output_type": "execute_result"
    }
   ],
   "source": [
    "torch_loader = torch.utils.data.DataLoader(training_data,\n",
    "                                           batch_size=configs.batch_size,\n",
    "                                           shuffle=configs.data_shuffle,\n",
    "                                           num_workers=configs.num_workers)\n",
    "torch_loader"
   ]
  },
  {
   "cell_type": "code",
   "execution_count": 16,
   "id": "fa641beb",
   "metadata": {},
   "outputs": [
    {
     "data": {
      "text/plain": [
       "RobotPolicy(\n",
       "  (backbone): Sequential(\n",
       "    (0): Linear(in_features=4, out_features=64, bias=True)\n",
       "    (1): ReLU()\n",
       "    (2): Linear(in_features=64, out_features=64, bias=True)\n",
       "    (3): ReLU()\n",
       "  )\n",
       "  (policy_mu): Sequential(\n",
       "    (0): Linear(in_features=64, out_features=3, bias=True)\n",
       "    (1): Tanh()\n",
       "  )\n",
       "  (policy_log_std): Sequential(\n",
       "    (0): Linear(in_features=64, out_features=3, bias=True)\n",
       "    (1): ReLU()\n",
       "  )\n",
       ")"
      ]
     },
     "execution_count": 16,
     "metadata": {},
     "output_type": "execute_result"
    }
   ],
   "source": [
    "policy_network = RobotPolicy(state_size=configs.state_size,\n",
    "                             hidden_size=configs.hidden_size,\n",
    "                             out_size=configs.action_size,\n",
    "                             std_min=configs.policy_std_min,\n",
    "                             std_max=configs.policy_std_max,\n",
    "                             device=configs.device)\n",
    "policy_network"
   ]
  },
  {
   "cell_type": "code",
   "execution_count": 17,
   "id": "031178b2",
   "metadata": {},
   "outputs": [],
   "source": [
    "# adam optimizer\n",
    "optimizer = torch.optim.Adam(policy_network.parameters(),\n",
    "                             lr=configs.policy_lr)"
   ]
  },
  {
   "cell_type": "code",
   "execution_count": 18,
   "id": "c739d1e4",
   "metadata": {},
   "outputs": [],
   "source": [
    "num_epochs = 2"
   ]
  },
  {
   "cell_type": "code",
   "execution_count": 19,
   "id": "2728b8f4",
   "metadata": {},
   "outputs": [
    {
     "name": "stderr",
     "output_type": "stream",
     "text": [
      "100%|███████████████████████████████████████████████████████████████████████████████████| 4/4 [00:00<00:00, 221.55it/s]\n"
     ]
    },
    {
     "name": "stdout",
     "output_type": "stream",
     "text": [
      "Epoch 1/2, Batch Loss: 2.95097\n",
      "Epoch 1/2, Batch Loss: 2.94773\n",
      "Epoch 1/2, Batch Loss: 2.98054\n",
      "Epoch 1/2, Batch Loss: 2.9507\n"
     ]
    },
    {
     "name": "stderr",
     "output_type": "stream",
     "text": [
      "100%|███████████████████████████████████████████████████████████████████████████████████| 4/4 [00:00<00:00, 439.47it/s]"
     ]
    },
    {
     "name": "stdout",
     "output_type": "stream",
     "text": [
      "Epoch 2/2, Batch Loss: 2.93442\n",
      "Epoch 2/2, Batch Loss: 2.93531\n",
      "Epoch 2/2, Batch Loss: 2.94034\n",
      "Epoch 2/2, Batch Loss: 2.87056\n"
     ]
    },
    {
     "name": "stderr",
     "output_type": "stream",
     "text": [
      "\n"
     ]
    }
   ],
   "source": [
    "for epoch in range(num_epochs):\n",
    "    \n",
    "    # loop through each batch inside the dataset\n",
    "    for sample in tqdm(torch_loader):\n",
    "        \n",
    "        # get batch of data\n",
    "        input_state, output_action = sample\n",
    "        \n",
    "        # forward pass to get mean of Gaussian distribution\n",
    "        action_pred, action_std = policy_network.forward(x=input_state)\n",
    "        action_prob, action_dist = policy_network.calculate_distribution(action_mu=action_pred,\n",
    "                                                                         action_std=action_std)\n",
    "        \n",
    "        # policy distribution entropy\n",
    "        entropy = action_dist.entropy()\n",
    "        \n",
    "        # compute negative log-likelihood loss value for maximum likelihood estimation\n",
    "        loss_nll = - action_dist.log_prob(output_action).sum(axis=-1)\n",
    "        batch_loss = loss_nll.mean()\n",
    "        \n",
    "        # backward pass and optimization\n",
    "        optimizer.zero_grad()\n",
    "        batch_loss.backward()\n",
    "        optimizer.step()\n",
    "        \n",
    "        loss_value = round(batch_loss.item(), 5)\n",
    "        loss_value_str = str(loss_value).replace(\".\", \"_\")\n",
    "        \n",
    "        print(f\"Epoch {epoch + 1}/{num_epochs}, Batch Loss: {loss_value}\")\n",
    "    \n",
    "    # save the action prediction model after each epoch\n",
    "    filename = f\"policy_network_epoch_{epoch + 1}_loss_{loss_value_str}.pt\"\n",
    "    torch.save(obj=policy_network.state_dict(),\n",
    "               f=os.path.join(saving_path, filename))"
   ]
  },
  {
   "cell_type": "code",
   "execution_count": null,
   "id": "de118eba",
   "metadata": {},
   "outputs": [],
   "source": []
  }
 ],
 "metadata": {
  "kernelspec": {
   "display_name": "Python 3 (ipykernel)",
   "language": "python",
   "name": "python3"
  },
  "language_info": {
   "codemirror_mode": {
    "name": "ipython",
    "version": 3
   },
   "file_extension": ".py",
   "mimetype": "text/x-python",
   "name": "python",
   "nbconvert_exporter": "python",
   "pygments_lexer": "ipython3",
   "version": "3.10.9"
  }
 },
 "nbformat": 4,
 "nbformat_minor": 5
}
