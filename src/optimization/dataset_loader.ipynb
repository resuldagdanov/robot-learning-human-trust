{
 "cells": [
  {
   "cell_type": "markdown",
   "id": "657cc45c",
   "metadata": {},
   "source": [
    "## Load Dataset from JSON Files"
   ]
  },
  {
   "cell_type": "code",
   "execution_count": 1,
   "id": "4512844a",
   "metadata": {},
   "outputs": [],
   "source": [
    "import os\n",
    "import sys\n",
    "\n",
    "import pandas as pd\n",
    "\n",
    "# get the current script's directory\n",
    "current_directory = os.path.dirname(os.path.abspath(__file__)) if \"__file__\" in locals() else os.getcwd()\n",
    "# get the parent directory\n",
    "parent_directory = os.path.dirname(current_directory)\n",
    "# Add the parent directory to the sys.path\n",
    "sys.path.append(parent_directory)\n",
    "\n",
    "from utils import common\n",
    "from utils.config import Config\n",
    "from utils.dataset_loader import PolicyDatasetLoader"
   ]
  },
  {
   "cell_type": "code",
   "execution_count": 2,
   "id": "7266b65c",
   "metadata": {},
   "outputs": [],
   "source": [
    "current_path = os.getcwd()\n",
    "parent_path = os.path.dirname(current_path)\n",
    "grand_parent_path = os.path.dirname(parent_path)"
   ]
  },
  {
   "cell_type": "code",
   "execution_count": 3,
   "id": "aebc45c7",
   "metadata": {},
   "outputs": [],
   "source": [
    "dataset_path = os.path.join(grand_parent_path, \"dataset\")\n",
    "demo_path = os.path.join(dataset_path, \"human_demonstrations\")"
   ]
  },
  {
   "cell_type": "code",
   "execution_count": 4,
   "id": "60aabd68",
   "metadata": {},
   "outputs": [],
   "source": [
    "date = \"2024_01_23\" # year_month_day"
   ]
  },
  {
   "cell_type": "code",
   "execution_count": 5,
   "id": "bd8dedf9",
   "metadata": {},
   "outputs": [],
   "source": [
    "column_names = [\"time_seconds\",\n",
    "                \"distance_to_object\",\n",
    "                \"distance_to_target\",\n",
    "                \"distance_to_start\",\n",
    "                \"distance_to_ground\",\n",
    "                \"arm_action_x\",\n",
    "                \"arm_action_y\",\n",
    "                \"arm_action_z\"]"
   ]
  },
  {
   "cell_type": "code",
   "execution_count": 6,
   "id": "681c83e0",
   "metadata": {},
   "outputs": [],
   "source": [
    "dataset_folder = os.path.join(demo_path, date)"
   ]
  },
  {
   "cell_type": "code",
   "execution_count": 7,
   "id": "ea4d378c",
   "metadata": {},
   "outputs": [],
   "source": [
    "json_files = os.listdir(dataset_folder + \"\\\\jsons\")"
   ]
  },
  {
   "cell_type": "markdown",
   "id": "c1f78658",
   "metadata": {},
   "source": [
    "# Test"
   ]
  },
  {
   "cell_type": "code",
   "execution_count": 8,
   "id": "665c3315",
   "metadata": {},
   "outputs": [],
   "source": [
    "json_path = os.path.join(dataset_folder + \"\\\\jsons\", json_files[0])"
   ]
  },
  {
   "cell_type": "code",
   "execution_count": 9,
   "id": "b975ec29",
   "metadata": {},
   "outputs": [],
   "source": [
    "df = common.json2dataframe(json_path=json_path,\n",
    "                           column_names=column_names)"
   ]
  },
  {
   "cell_type": "code",
   "execution_count": 10,
   "id": "639a6d2a",
   "metadata": {},
   "outputs": [
    {
     "data": {
      "text/html": [
       "<div>\n",
       "<style scoped>\n",
       "    .dataframe tbody tr th:only-of-type {\n",
       "        vertical-align: middle;\n",
       "    }\n",
       "\n",
       "    .dataframe tbody tr th {\n",
       "        vertical-align: top;\n",
       "    }\n",
       "\n",
       "    .dataframe thead th {\n",
       "        text-align: right;\n",
       "    }\n",
       "</style>\n",
       "<table border=\"1\" class=\"dataframe\">\n",
       "  <thead>\n",
       "    <tr style=\"text-align: right;\">\n",
       "      <th></th>\n",
       "      <th>time_seconds</th>\n",
       "      <th>distance_to_object</th>\n",
       "      <th>distance_to_target</th>\n",
       "      <th>distance_to_start</th>\n",
       "      <th>distance_to_ground</th>\n",
       "      <th>arm_action_x</th>\n",
       "      <th>arm_action_y</th>\n",
       "      <th>arm_action_z</th>\n",
       "    </tr>\n",
       "  </thead>\n",
       "  <tbody>\n",
       "    <tr>\n",
       "      <th>0</th>\n",
       "      <td>0.000000000000</td>\n",
       "      <td>0.817355930805</td>\n",
       "      <td>1.359579205513</td>\n",
       "      <td>0.062782458961</td>\n",
       "      <td>0.729507565498</td>\n",
       "      <td>-0.335555800893</td>\n",
       "      <td>-0.360375206095</td>\n",
       "      <td>0.550946666147</td>\n",
       "    </tr>\n",
       "    <tr>\n",
       "      <th>1</th>\n",
       "      <td>0.099746228000</td>\n",
       "      <td>0.817353546619</td>\n",
       "      <td>1.359579443932</td>\n",
       "      <td>0.062790423632</td>\n",
       "      <td>0.729501664639</td>\n",
       "      <td>-0.335568257746</td>\n",
       "      <td>-0.360375250013</td>\n",
       "      <td>0.550944637046</td>\n",
       "    </tr>\n",
       "    <tr>\n",
       "      <th>2</th>\n",
       "      <td>0.199682951000</td>\n",
       "      <td>0.817350864410</td>\n",
       "      <td>1.359579086304</td>\n",
       "      <td>0.062790602446</td>\n",
       "      <td>0.729491591454</td>\n",
       "      <td>-0.335566791656</td>\n",
       "      <td>-0.360366870818</td>\n",
       "      <td>0.550941725920</td>\n",
       "    </tr>\n",
       "    <tr>\n",
       "      <th>3</th>\n",
       "      <td>0.300242901000</td>\n",
       "      <td>0.817341387272</td>\n",
       "      <td>1.359558224678</td>\n",
       "      <td>0.062806762755</td>\n",
       "      <td>0.729492783546</td>\n",
       "      <td>-0.335557995507</td>\n",
       "      <td>-0.360352511044</td>\n",
       "      <td>0.550926781668</td>\n",
       "    </tr>\n",
       "    <tr>\n",
       "      <th>4</th>\n",
       "      <td>0.401039839000</td>\n",
       "      <td>0.817355573177</td>\n",
       "      <td>1.359574794769</td>\n",
       "      <td>0.062787346542</td>\n",
       "      <td>0.729521393776</td>\n",
       "      <td>-0.335561725722</td>\n",
       "      <td>-0.360366586213</td>\n",
       "      <td>0.550960521340</td>\n",
       "    </tr>\n",
       "    <tr>\n",
       "      <th>...</th>\n",
       "      <td>...</td>\n",
       "      <td>...</td>\n",
       "      <td>...</td>\n",
       "      <td>...</td>\n",
       "      <td>...</td>\n",
       "      <td>...</td>\n",
       "      <td>...</td>\n",
       "      <td>...</td>\n",
       "    </tr>\n",
       "    <tr>\n",
       "      <th>195</th>\n",
       "      <td>19.500119210000</td>\n",
       "      <td>0.850081622601</td>\n",
       "      <td>0.048113469034</td>\n",
       "      <td>1.422283291817</td>\n",
       "      <td>0.072797060013</td>\n",
       "      <td>-0.313082576485</td>\n",
       "      <td>0.773622989678</td>\n",
       "      <td>-0.126457766779</td>\n",
       "    </tr>\n",
       "    <tr>\n",
       "      <th>196</th>\n",
       "      <td>19.600286246000</td>\n",
       "      <td>0.850076913834</td>\n",
       "      <td>0.048129044473</td>\n",
       "      <td>1.422270774841</td>\n",
       "      <td>0.072841219604</td>\n",
       "      <td>-0.313102904716</td>\n",
       "      <td>0.773603308759</td>\n",
       "      <td>-0.126492244804</td>\n",
       "    </tr>\n",
       "    <tr>\n",
       "      <th>197</th>\n",
       "      <td>19.700185299000</td>\n",
       "      <td>0.850070655346</td>\n",
       "      <td>0.048133403063</td>\n",
       "      <td>1.422261238098</td>\n",
       "      <td>0.072848275304</td>\n",
       "      <td>-0.313103610100</td>\n",
       "      <td>0.773589939683</td>\n",
       "      <td>-0.126495787024</td>\n",
       "    </tr>\n",
       "    <tr>\n",
       "      <th>198</th>\n",
       "      <td>19.800316811000</td>\n",
       "      <td>0.850042045116</td>\n",
       "      <td>0.048086442053</td>\n",
       "      <td>1.422260761261</td>\n",
       "      <td>0.072796903551</td>\n",
       "      <td>-0.313150948738</td>\n",
       "      <td>0.773604305678</td>\n",
       "      <td>-0.126445236947</td>\n",
       "    </tr>\n",
       "    <tr>\n",
       "      <th>199</th>\n",
       "      <td>19.899519444000</td>\n",
       "      <td>0.850062549114</td>\n",
       "      <td>0.048102516681</td>\n",
       "      <td>1.422268509865</td>\n",
       "      <td>0.072788611054</td>\n",
       "      <td>-0.313101184173</td>\n",
       "      <td>0.773604609264</td>\n",
       "      <td>-0.126462489710</td>\n",
       "    </tr>\n",
       "  </tbody>\n",
       "</table>\n",
       "<p>200 rows × 8 columns</p>\n",
       "</div>"
      ],
      "text/plain": [
       "       time_seconds distance_to_object distance_to_target distance_to_start  \\\n",
       "0    0.000000000000     0.817355930805     1.359579205513    0.062782458961   \n",
       "1    0.099746228000     0.817353546619     1.359579443932    0.062790423632   \n",
       "2    0.199682951000     0.817350864410     1.359579086304    0.062790602446   \n",
       "3    0.300242901000     0.817341387272     1.359558224678    0.062806762755   \n",
       "4    0.401039839000     0.817355573177     1.359574794769    0.062787346542   \n",
       "..              ...                ...                ...               ...   \n",
       "195 19.500119210000     0.850081622601     0.048113469034    1.422283291817   \n",
       "196 19.600286246000     0.850076913834     0.048129044473    1.422270774841   \n",
       "197 19.700185299000     0.850070655346     0.048133403063    1.422261238098   \n",
       "198 19.800316811000     0.850042045116     0.048086442053    1.422260761261   \n",
       "199 19.899519444000     0.850062549114     0.048102516681    1.422268509865   \n",
       "\n",
       "    distance_to_ground    arm_action_x    arm_action_y    arm_action_z  \n",
       "0       0.729507565498 -0.335555800893 -0.360375206095  0.550946666147  \n",
       "1       0.729501664639 -0.335568257746 -0.360375250013  0.550944637046  \n",
       "2       0.729491591454 -0.335566791656 -0.360366870818  0.550941725920  \n",
       "3       0.729492783546 -0.335557995507 -0.360352511044  0.550926781668  \n",
       "4       0.729521393776 -0.335561725722 -0.360366586213  0.550960521340  \n",
       "..                 ...             ...             ...             ...  \n",
       "195     0.072797060013 -0.313082576485  0.773622989678 -0.126457766779  \n",
       "196     0.072841219604 -0.313102904716  0.773603308759 -0.126492244804  \n",
       "197     0.072848275304 -0.313103610100  0.773589939683 -0.126495787024  \n",
       "198     0.072796903551 -0.313150948738  0.773604305678 -0.126445236947  \n",
       "199     0.072788611054 -0.313101184173  0.773604609264 -0.126462489710  \n",
       "\n",
       "[200 rows x 8 columns]"
      ]
     },
     "execution_count": 10,
     "metadata": {},
     "output_type": "execute_result"
    }
   ],
   "source": [
    "df"
   ]
  },
  {
   "cell_type": "code",
   "execution_count": 11,
   "id": "b77f040e",
   "metadata": {},
   "outputs": [
    {
     "name": "stdout",
     "output_type": "stream",
     "text": [
      "\n",
      "================== Policy Dataset Loader ==================\n",
      "\n"
     ]
    }
   ],
   "source": [
    "loader = PolicyDatasetLoader(demo_data_json_paths=[json_path])"
   ]
  },
  {
   "cell_type": "code",
   "execution_count": 12,
   "id": "5459fd4f",
   "metadata": {},
   "outputs": [
    {
     "name": "stdout",
     "output_type": "stream",
     "text": [
      "Sample State: tensor([0.5449, 0.9064, 0.0419, 0.4863])\n",
      "Sample Action: tensor([-0.2237, -0.2403,  0.3673])\n"
     ]
    }
   ],
   "source": [
    "sample_state, sample_action = loader[0]\n",
    "print(\"Sample State:\", sample_state)\n",
    "print(\"Sample Action:\", sample_action)"
   ]
  },
  {
   "cell_type": "code",
   "execution_count": null,
   "id": "449a149d",
   "metadata": {},
   "outputs": [],
   "source": []
  }
 ],
 "metadata": {
  "kernelspec": {
   "display_name": "Python 3 (ipykernel)",
   "language": "python",
   "name": "python3"
  },
  "language_info": {
   "codemirror_mode": {
    "name": "ipython",
    "version": 3
   },
   "file_extension": ".py",
   "mimetype": "text/x-python",
   "name": "python",
   "nbconvert_exporter": "python",
   "pygments_lexer": "ipython3",
   "version": "3.10.9"
  }
 },
 "nbformat": 4,
 "nbformat_minor": 5
}
