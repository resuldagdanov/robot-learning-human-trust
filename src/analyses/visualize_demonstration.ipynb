{
 "cells": [
  {
   "cell_type": "markdown",
   "id": "3aa89c22",
   "metadata": {},
   "source": [
    "## Plot Visualization of Demonstration Positions"
   ]
  },
  {
   "cell_type": "code",
   "execution_count": 1,
   "id": "80639957",
   "metadata": {},
   "outputs": [],
   "source": [
    "import os\n",
    "import sys\n",
    "\n",
    "import matplotlib.pyplot as plt\n",
    "\n",
    "# get the current script's directory\n",
    "current_directory = os.path.dirname(os.path.abspath(__file__)) if \"__file__\" in locals() else os.getcwd()\n",
    "# get the parent directory\n",
    "parent_directory = os.path.dirname(current_directory)\n",
    "# add the parent directory to the sys.path at the beginning\n",
    "sys.path.insert(0, parent_directory)\n",
    "\n",
    "from utils import common"
   ]
  },
  {
   "cell_type": "code",
   "execution_count": 2,
   "id": "eea0e7e3",
   "metadata": {},
   "outputs": [],
   "source": [
    "current_path = os.getcwd()\n",
    "parent_path = os.path.dirname(current_path)\n",
    "grand_parent_path = os.path.dirname(parent_path)"
   ]
  },
  {
   "cell_type": "code",
   "execution_count": 3,
   "id": "058d0445",
   "metadata": {},
   "outputs": [],
   "source": [
    "dataset_path = os.path.join(grand_parent_path, \"dataset\")\n",
    "demo_path = os.path.join(dataset_path, \"human_demonstrations\")"
   ]
  },
  {
   "cell_type": "code",
   "execution_count": 4,
   "id": "af3ad811",
   "metadata": {},
   "outputs": [],
   "source": [
    "date = \"2024_01_23_Train\" # year_month_day"
   ]
  },
  {
   "cell_type": "code",
   "execution_count": 5,
   "id": "67d9ac6e",
   "metadata": {},
   "outputs": [],
   "source": [
    "object_position = [-0.163, 0.920, 0.554] # x, y, z"
   ]
  },
  {
   "cell_type": "code",
   "execution_count": 6,
   "id": "5799c6dc",
   "metadata": {},
   "outputs": [],
   "source": [
    "ros_topics = [\"distance_to_object\", \"distance_to_target\", \"distance_to_start\", \"distance_to_ground\", \"arm_action\", \"arm_state\"]"
   ]
  },
  {
   "cell_type": "code",
   "execution_count": 7,
   "id": "2f145d01",
   "metadata": {},
   "outputs": [],
   "source": [
    "dataset_folder = os.path.join(demo_path, date)"
   ]
  },
  {
   "cell_type": "code",
   "execution_count": 8,
   "id": "a904af40",
   "metadata": {},
   "outputs": [],
   "source": [
    "json_files = os.listdir(dataset_folder + \"\\\\jsons\")"
   ]
  },
  {
   "cell_type": "markdown",
   "id": "bcf73b3f",
   "metadata": {},
   "source": [
    "# Functions"
   ]
  },
  {
   "cell_type": "code",
   "execution_count": 9,
   "id": "5abebe0b",
   "metadata": {},
   "outputs": [],
   "source": [
    "def plot_trajectory(ax,\n",
    "                    trajectory,\n",
    "                    color,\n",
    "                    traj_s,\n",
    "                    start_s,\n",
    "                    end_s,\n",
    "                    label):\n",
    "    \n",
    "    timestamps = [entry[4][\"timestamp\"] for entry in trajectory if not len(entry) < 5]\n",
    "    positions = [entry[4][\"message\"][\"position\"] for entry in trajectory if not len(entry) < 5]\n",
    "\n",
    "    start_index = timestamps.index(min(timestamps))\n",
    "    end_index = timestamps.index(max(timestamps))\n",
    "\n",
    "    x = [position[\"x\"] for position in positions]\n",
    "    y = [position[\"y\"] for position in positions]\n",
    "    z = [position[\"z\"] for position in positions]\n",
    "\n",
    "    scatter_traj = ax.scatter(x, y, z,\n",
    "                              c=color, marker=\"o\", s=traj_s, label=label)\n",
    "\n",
    "    scatter_start = ax.scatter(x[start_index], y[start_index], z[start_index],\n",
    "                               c=\"green\", marker=\"*\", s=start_s, label=\"Start Position\")\n",
    "    scatter_end = ax.scatter(x[end_index], y[end_index], z[end_index],\n",
    "                             c=\"blue\", marker=\"X\", s=end_s, label=\"End Position\")\n",
    "    \n",
    "    scatter_object = ax.scatter(object_position[0], object_position[1], object_position[2],\n",
    "                                c=\"red\", marker=\"s\", s=80, label=\"Obstacle\")"
   ]
  },
  {
   "cell_type": "code",
   "execution_count": 10,
   "id": "8f1046c4",
   "metadata": {},
   "outputs": [],
   "source": [
    "def visualize_trajectories(data_list):\n",
    "    \n",
    "    num_traj = len(data_list)\n",
    "    \n",
    "    %matplotlib notebook\n",
    "    \n",
    "    fig = plt.figure()\n",
    "    ax = fig.add_subplot(111,\n",
    "                         projection=\"3d\")\n",
    "\n",
    "    for i, trajectory in enumerate(data_list):\n",
    "        \n",
    "        # generate a color based on trajectory index\n",
    "        color = plt.cm.cividis(i / num_traj)\n",
    "        label = f\"Trajectory {i + 1}\"\n",
    "        \n",
    "        plot_trajectory(ax=ax,\n",
    "                        trajectory=trajectory,\n",
    "                        color=color,\n",
    "                        traj_s=1,\n",
    "                        start_s=40,\n",
    "                        end_s=30,\n",
    "                        label=label)\n",
    "\n",
    "    ax.set_xlabel(\"X Position [m]\")\n",
    "    ax.set_ylabel(\"Y Position [m]\")\n",
    "    ax.set_zlabel(\"Z Position [m]\")\n",
    "    ax.set_title(\"End-Effector 3D Positions Over Time\")\n",
    "    \n",
    "    # add colorbar\n",
    "    norm = plt.Normalize(0,\n",
    "                         num_traj)\n",
    "    sm = plt.cm.ScalarMappable(cmap=plt.cm.cividis,\n",
    "                               norm=norm)\n",
    "    sm.set_array([])\n",
    "    cbar = plt.colorbar(sm,\n",
    "                        ax=ax,\n",
    "                        shrink=0.4,\n",
    "                        orientation=\"vertical\",\n",
    "                        pad=0.15,\n",
    "                        label=\"Trajectory Index\")\n",
    "\n",
    "    legend_entries = [\"Trajectory\", \"Start Position\", \"End Position\", \"Obstacle\"]\n",
    "    legend_colors = [\"black\", \"green\", \"blue\", \"red\"]\n",
    "    \n",
    "    legend = ax.legend(legend_entries,\n",
    "                       loc=\"upper left\",\n",
    "                       bbox_to_anchor=(1, 1))\n",
    "    for i, text in enumerate(legend.get_texts()):\n",
    "        text.set_color(legend_colors[i])\n",
    "\n",
    "    plt.show()"
   ]
  },
  {
   "cell_type": "code",
   "execution_count": 11,
   "id": "37769d7b",
   "metadata": {},
   "outputs": [],
   "source": [
    "def plot_state(axs,\n",
    "               colors,\n",
    "               trajectory):\n",
    "    \n",
    "    timestamps = [int(entry[0][\"timestamp\"]) for entry in trajectory if not len(entry) < 5]\n",
    "    start_time = min(timestamps)\n",
    "    # convert nanoseconds to seconds\n",
    "    time_seconds = [(t - start_time) / 1e9 for t in timestamps]\n",
    "    \n",
    "    distance_to_object = [entry[0][\"message\"] for entry in trajectory if not len(entry) < 5]\n",
    "    distance_to_target = [entry[1][\"message\"] for entry in trajectory if not len(entry) < 5]\n",
    "    distance_to_start = [entry[2][\"message\"] for entry in trajectory if not len(entry) < 5]\n",
    "    distance_to_ground = [entry[3][\"message\"] for entry in trajectory if not len(entry) < 5]\n",
    "    \n",
    "    if len(axs) == 1:\n",
    "        axs[0].plot(time_seconds, distance_to_start,\n",
    "                    color=colors[0],\n",
    "                    label=\"Distance to Start\")\n",
    "        axs[0].plot(time_seconds, distance_to_target,\n",
    "                    color=colors[1],\n",
    "                    label=\"Distance to Target\")\n",
    "        axs[0].plot(time_seconds, distance_to_object,\n",
    "                    color=colors[2],\n",
    "                    label=\"Distance to Obstacle\")\n",
    "        axs[0].plot(time_seconds, distance_to_ground,\n",
    "                    color=colors[3],\n",
    "                    label=\"Distance to Ground\")\n",
    "    \n",
    "    else:\n",
    "        axs[0].plot(time_seconds, distance_to_start,\n",
    "                    color=colors[0])\n",
    "        axs[0].set_title(\"Distance to Start\")\n",
    "        axs[1].plot(time_seconds, distance_to_target,\n",
    "                    color=colors[1])\n",
    "        axs[1].set_title(\"Distance to Target\")\n",
    "        axs[2].plot(time_seconds, distance_to_object,\n",
    "                    color=colors[2])\n",
    "        axs[2].set_title(\"Distance to Obstacle\")\n",
    "        axs[3].plot(time_seconds, distance_to_ground,\n",
    "                    color=colors[3])\n",
    "        axs[3].set_title(\"Distance to Ground\")"
   ]
  },
  {
   "cell_type": "code",
   "execution_count": 12,
   "id": "fa88eca4",
   "metadata": {},
   "outputs": [],
   "source": [
    "def visualize_states(data_list):\n",
    "    \n",
    "    num_traj = len(data_list)\n",
    "    \n",
    "    fig, axes = plt.subplots(2, 2)\n",
    "    \n",
    "    for i, trajectory in enumerate(data_list):\n",
    "        \n",
    "        colors = [plt.cm.viridis(i / num_traj),\n",
    "                  plt.cm.ocean(i / num_traj),\n",
    "                  plt.cm.inferno(i / num_traj),\n",
    "                  plt.cm.cividis(i / num_traj)]\n",
    "        \n",
    "        plot_state(axs=[axes[0, 0], axes[1, 0], axes[0, 1], axes[1, 1]],\n",
    "                   colors=colors,\n",
    "                   trajectory=trajectory)\n",
    "        \n",
    "    plt.show()"
   ]
  },
  {
   "cell_type": "markdown",
   "id": "0a477ea1",
   "metadata": {},
   "source": [
    "# Test"
   ]
  },
  {
   "cell_type": "code",
   "execution_count": 13,
   "id": "63096b0a",
   "metadata": {},
   "outputs": [],
   "source": [
    "json_path = os.path.join(dataset_folder + \"\\\\jsons\", json_files[0])"
   ]
  },
  {
   "cell_type": "code",
   "execution_count": 14,
   "id": "8be38c6f",
   "metadata": {},
   "outputs": [],
   "source": [
    "data = common.read_json(json_path)"
   ]
  },
  {
   "cell_type": "code",
   "execution_count": null,
   "id": "a4fe8bbd",
   "metadata": {
    "scrolled": false
   },
   "outputs": [],
   "source": [
    "# enable interactive plots in Jupyter Notebook\n",
    "%matplotlib notebook\n",
    "\n",
    "fig = plt.figure()\n",
    "ax = fig.add_subplot(111,\n",
    "                     projection=\"3d\")\n",
    "\n",
    "plot_trajectory(ax=ax,\n",
    "                trajectory=data,\n",
    "                color=\"black\",\n",
    "                traj_s=20,\n",
    "                start_s=120,\n",
    "                end_s=85,\n",
    "                label=\"Trajectory\")\n",
    "\n",
    "ax.set_xlabel(\"X Position [m]\")\n",
    "ax.set_ylabel(\"Y Position [m]\")\n",
    "ax.set_zlabel(\"Z Position [m]\")\n",
    "ax.set_title(\"End-Effector 3D Positions Over Time\")\n",
    "\n",
    "ax.legend()\n",
    "\n",
    "plt.show()"
   ]
  },
  {
   "cell_type": "code",
   "execution_count": null,
   "id": "e4794e6d",
   "metadata": {},
   "outputs": [],
   "source": [
    "fig = plt.figure()\n",
    "ax = fig.add_subplot(111)\n",
    "\n",
    "plot_state(axs=[ax],\n",
    "           colors=[\"green\", \"blue\", \"red\", \"black\"],\n",
    "           trajectory=data)\n",
    "\n",
    "ax.set_xlabel(\"Time [s]\")\n",
    "ax.set_ylabel(\"Distance [m]\")\n",
    "ax.set_title(\"State Vector Over Time\")\n",
    "\n",
    "ax.legend()\n",
    "\n",
    "plt.show()"
   ]
  },
  {
   "cell_type": "markdown",
   "id": "a0f9ebdf",
   "metadata": {},
   "source": [
    "# Run Through All Files"
   ]
  },
  {
   "cell_type": "code",
   "execution_count": 17,
   "id": "7e65175b",
   "metadata": {},
   "outputs": [],
   "source": [
    "data_list = []\n",
    "\n",
    "for file in json_files:\n",
    "\n",
    "    json_path = os.path.join(dataset_folder + \"\\\\jsons\", file)\n",
    "    \n",
    "    data = common.read_json(json_path)\n",
    "    data_list.append(data)"
   ]
  },
  {
   "cell_type": "code",
   "execution_count": null,
   "id": "fca8819e",
   "metadata": {
    "scrolled": false
   },
   "outputs": [],
   "source": [
    "visualize_trajectories(data_list=data_list)"
   ]
  },
  {
   "cell_type": "code",
   "execution_count": null,
   "id": "ab0130e8",
   "metadata": {},
   "outputs": [],
   "source": [
    "visualize_states(data_list=data_list)"
   ]
  },
  {
   "cell_type": "code",
   "execution_count": null,
   "id": "6333eea7",
   "metadata": {},
   "outputs": [],
   "source": []
  }
 ],
 "metadata": {
  "kernelspec": {
   "display_name": "Python 3 (ipykernel)",
   "language": "python",
   "name": "python3"
  },
  "language_info": {
   "codemirror_mode": {
    "name": "ipython",
    "version": 3
   },
   "file_extension": ".py",
   "mimetype": "text/x-python",
   "name": "python",
   "nbconvert_exporter": "python",
   "pygments_lexer": "ipython3",
   "version": "3.10.9"
  }
 },
 "nbformat": 4,
 "nbformat_minor": 5
}
