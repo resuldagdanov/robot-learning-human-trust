{
 "cells": [
  {
   "cell_type": "markdown",
   "id": "8c549572",
   "metadata": {},
   "source": [
    "## Convert Ros Bag to Json Files"
   ]
  },
  {
   "cell_type": "code",
   "execution_count": 1,
   "id": "d6c8388a",
   "metadata": {
    "scrolled": true
   },
   "outputs": [
    {
     "name": "stdout",
     "output_type": "stream",
     "text": [
      "Defaulting to user installation because normal site-packages is not writeable\n",
      "Requirement already satisfied: bagpy in c:\\users\\24989903\\appdata\\roaming\\python\\python310\\site-packages (0.5)\n",
      "Requirement already satisfied: importlib-resources in c:\\users\\24989903\\appdata\\roaming\\python\\python310\\site-packages (from bagpy) (6.1.1)\n",
      "Requirement already satisfied: py3rosmsgs in c:\\users\\24989903\\appdata\\roaming\\python\\python310\\site-packages (from bagpy) (1.18.2)\n",
      "Requirement already satisfied: pytest in c:\\programdata\\anaconda3\\lib\\site-packages (from bagpy) (7.1.2)\n",
      "Requirement already satisfied: bitstring in c:\\users\\24989903\\appdata\\roaming\\python\\python310\\site-packages (from bagpy) (4.1.4)\n",
      "Requirement already satisfied: pyserial in c:\\users\\24989903\\appdata\\roaming\\python\\python310\\site-packages (from bagpy) (3.5)\n",
      "Requirement already satisfied: numpy in c:\\programdata\\anaconda3\\lib\\site-packages (from bagpy) (1.23.5)\n",
      "Requirement already satisfied: pyyaml in c:\\programdata\\anaconda3\\lib\\site-packages (from bagpy) (6.0)\n",
      "Requirement already satisfied: jinja2<3.1 in c:\\users\\24989903\\appdata\\roaming\\python\\python310\\site-packages (from bagpy) (3.0.3)\n",
      "Requirement already satisfied: pycryptodomex in c:\\users\\24989903\\appdata\\roaming\\python\\python310\\site-packages (from bagpy) (3.20.0)\n",
      "Requirement already satisfied: setuptools-scm in c:\\users\\24989903\\appdata\\roaming\\python\\python310\\site-packages (from bagpy) (8.0.4)\n",
      "Requirement already satisfied: matplotlib in c:\\programdata\\anaconda3\\lib\\site-packages (from bagpy) (3.7.0)\n",
      "Requirement already satisfied: rospkg in c:\\users\\24989903\\appdata\\roaming\\python\\python310\\site-packages (from bagpy) (1.5.0)\n",
      "Requirement already satisfied: ipython in c:\\programdata\\anaconda3\\lib\\site-packages (from bagpy) (8.10.0)\n",
      "Requirement already satisfied: pandas in c:\\programdata\\anaconda3\\lib\\site-packages (from bagpy) (1.5.3)\n",
      "Requirement already satisfied: seaborn>=0.9.0 in c:\\programdata\\anaconda3\\lib\\site-packages (from bagpy) (0.12.2)\n",
      "Requirement already satisfied: MarkupSafe>=2.0 in c:\\programdata\\anaconda3\\lib\\site-packages (from jinja2<3.1->bagpy) (2.1.1)\n",
      "Requirement already satisfied: pyparsing>=2.3.1 in c:\\programdata\\anaconda3\\lib\\site-packages (from matplotlib->bagpy) (3.0.9)\n",
      "Requirement already satisfied: pillow>=6.2.0 in c:\\programdata\\anaconda3\\lib\\site-packages (from matplotlib->bagpy) (9.4.0)\n",
      "Requirement already satisfied: cycler>=0.10 in c:\\programdata\\anaconda3\\lib\\site-packages (from matplotlib->bagpy) (0.11.0)\n",
      "Requirement already satisfied: contourpy>=1.0.1 in c:\\programdata\\anaconda3\\lib\\site-packages (from matplotlib->bagpy) (1.0.5)\n",
      "Requirement already satisfied: fonttools>=4.22.0 in c:\\programdata\\anaconda3\\lib\\site-packages (from matplotlib->bagpy) (4.25.0)\n",
      "Requirement already satisfied: python-dateutil>=2.7 in c:\\programdata\\anaconda3\\lib\\site-packages (from matplotlib->bagpy) (2.8.2)\n",
      "Requirement already satisfied: kiwisolver>=1.0.1 in c:\\programdata\\anaconda3\\lib\\site-packages (from matplotlib->bagpy) (1.4.4)\n",
      "Requirement already satisfied: packaging>=20.0 in c:\\programdata\\anaconda3\\lib\\site-packages (from matplotlib->bagpy) (22.0)\n",
      "Requirement already satisfied: pytz>=2020.1 in c:\\programdata\\anaconda3\\lib\\site-packages (from pandas->bagpy) (2022.7)\n",
      "Requirement already satisfied: bitarray<3.0.0,>=2.8.0 in c:\\users\\24989903\\appdata\\roaming\\python\\python310\\site-packages (from bitstring->bagpy) (2.9.2)\n",
      "Requirement already satisfied: matplotlib-inline in c:\\programdata\\anaconda3\\lib\\site-packages (from ipython->bagpy) (0.1.6)\n",
      "Requirement already satisfied: prompt-toolkit<3.1.0,>=3.0.30 in c:\\programdata\\anaconda3\\lib\\site-packages (from ipython->bagpy) (3.0.36)\n",
      "Requirement already satisfied: decorator in c:\\programdata\\anaconda3\\lib\\site-packages (from ipython->bagpy) (5.1.1)\n",
      "Requirement already satisfied: colorama in c:\\programdata\\anaconda3\\lib\\site-packages (from ipython->bagpy) (0.4.6)\n",
      "Requirement already satisfied: pygments>=2.4.0 in c:\\programdata\\anaconda3\\lib\\site-packages (from ipython->bagpy) (2.11.2)\n",
      "Requirement already satisfied: traitlets>=5 in c:\\programdata\\anaconda3\\lib\\site-packages (from ipython->bagpy) (5.7.1)\n",
      "Requirement already satisfied: stack-data in c:\\programdata\\anaconda3\\lib\\site-packages (from ipython->bagpy) (0.2.0)\n",
      "Requirement already satisfied: backcall in c:\\programdata\\anaconda3\\lib\\site-packages (from ipython->bagpy) (0.2.0)\n",
      "Requirement already satisfied: jedi>=0.16 in c:\\programdata\\anaconda3\\lib\\site-packages (from ipython->bagpy) (0.18.1)\n",
      "Requirement already satisfied: pickleshare in c:\\programdata\\anaconda3\\lib\\site-packages (from ipython->bagpy) (0.7.5)\n",
      "Requirement already satisfied: gnupg in c:\\users\\24989903\\appdata\\roaming\\python\\python310\\site-packages (from py3rosmsgs->bagpy) (2.3.1)\n",
      "Requirement already satisfied: attrs>=19.2.0 in c:\\programdata\\anaconda3\\lib\\site-packages (from pytest->bagpy) (22.1.0)\n",
      "Requirement already satisfied: iniconfig in c:\\programdata\\anaconda3\\lib\\site-packages (from pytest->bagpy) (1.1.1)\n",
      "Requirement already satisfied: pluggy<2.0,>=0.12 in c:\\programdata\\anaconda3\\lib\\site-packages (from pytest->bagpy) (1.0.0)\n",
      "Requirement already satisfied: py>=1.8.2 in c:\\programdata\\anaconda3\\lib\\site-packages (from pytest->bagpy) (1.11.0)\n",
      "Requirement already satisfied: tomli>=1.0.0 in c:\\programdata\\anaconda3\\lib\\site-packages (from pytest->bagpy) (2.0.1)\n",
      "Requirement already satisfied: atomicwrites>=1.0 in c:\\programdata\\anaconda3\\lib\\site-packages (from pytest->bagpy) (1.4.0)\n",
      "Requirement already satisfied: catkin-pkg in c:\\users\\24989903\\appdata\\roaming\\python\\python310\\site-packages (from rospkg->bagpy) (1.0.0)\n",
      "Requirement already satisfied: distro>=1.4.0 in c:\\users\\24989903\\appdata\\roaming\\python\\python310\\site-packages (from rospkg->bagpy) (1.9.0)\n",
      "Requirement already satisfied: typing-extensions in c:\\programdata\\anaconda3\\lib\\site-packages (from setuptools-scm->bagpy) (4.4.0)\n",
      "Requirement already satisfied: setuptools in c:\\programdata\\anaconda3\\lib\\site-packages (from setuptools-scm->bagpy) (65.6.3)\n",
      "Requirement already satisfied: parso<0.9.0,>=0.8.0 in c:\\programdata\\anaconda3\\lib\\site-packages (from jedi>=0.16->ipython->bagpy) (0.8.3)\n",
      "Requirement already satisfied: wcwidth in c:\\programdata\\anaconda3\\lib\\site-packages (from prompt-toolkit<3.1.0,>=3.0.30->ipython->bagpy) (0.2.5)\n",
      "Requirement already satisfied: six>=1.5 in c:\\programdata\\anaconda3\\lib\\site-packages (from python-dateutil>=2.7->matplotlib->bagpy) (1.16.0)\n",
      "Requirement already satisfied: docutils in c:\\programdata\\anaconda3\\lib\\site-packages (from catkin-pkg->rospkg->bagpy) (0.18.1)\n",
      "Requirement already satisfied: psutil>=1.2.1 in c:\\programdata\\anaconda3\\lib\\site-packages (from gnupg->py3rosmsgs->bagpy) (5.9.0)\n",
      "Requirement already satisfied: executing in c:\\programdata\\anaconda3\\lib\\site-packages (from stack-data->ipython->bagpy) (0.8.3)\n",
      "Requirement already satisfied: pure-eval in c:\\programdata\\anaconda3\\lib\\site-packages (from stack-data->ipython->bagpy) (0.2.2)\n",
      "Requirement already satisfied: asttokens in c:\\programdata\\anaconda3\\lib\\site-packages (from stack-data->ipython->bagpy) (2.0.5)\n",
      "Note: you may need to restart the kernel to use updated packages.\n"
     ]
    }
   ],
   "source": [
    "pip install bagpy"
   ]
  },
  {
   "cell_type": "code",
   "execution_count": 2,
   "id": "3e4b342c",
   "metadata": {},
   "outputs": [],
   "source": [
    "import os\n",
    "import sys\n",
    "import json\n",
    "\n",
    "import rosbag\n",
    "import numpy as np\n",
    "\n",
    "from std_msgs.msg import Int32, String\n",
    "\n",
    "# get the current script's directory\n",
    "current_directory = os.path.dirname(os.path.abspath(__file__)) if \"__file__\" in locals() else os.getcwd()\n",
    "# get the parent directory\n",
    "parent_directory = os.path.dirname(current_directory)\n",
    "# Add the parent directory to the sys.path\n",
    "sys.path.append(parent_directory)\n",
    "\n",
    "from utils import common"
   ]
  },
  {
   "cell_type": "code",
   "execution_count": 3,
   "id": "579a3f30",
   "metadata": {},
   "outputs": [],
   "source": [
    "current_path = os.getcwd()\n",
    "parent_path = os.path.dirname(current_path)\n",
    "grand_parent_path = os.path.dirname(parent_path)"
   ]
  },
  {
   "cell_type": "code",
   "execution_count": 4,
   "id": "755ac26d",
   "metadata": {},
   "outputs": [],
   "source": [
    "dataset_path = os.path.join(grand_parent_path, \"dataset\")\n",
    "demo_path = os.path.join(dataset_path, \"human_demonstrations\")"
   ]
  },
  {
   "cell_type": "code",
   "execution_count": 5,
   "id": "e740c898",
   "metadata": {},
   "outputs": [],
   "source": [
    "date = \"2024_01_23\" # year_month_day"
   ]
  },
  {
   "cell_type": "code",
   "execution_count": 6,
   "id": "4ae12833",
   "metadata": {},
   "outputs": [],
   "source": [
    "ros_topics = [\"distance_to_object\",\n",
    "              \"distance_to_target\",\n",
    "              \"distance_to_start\",\n",
    "              \"distance_to_ground\",\n",
    "              \"arm_action\",\n",
    "              \"arm_state\"]"
   ]
  },
  {
   "cell_type": "code",
   "execution_count": 7,
   "id": "dd17592b",
   "metadata": {},
   "outputs": [],
   "source": [
    "dataset_folder = os.path.join(demo_path, date)"
   ]
  },
  {
   "cell_type": "code",
   "execution_count": 8,
   "id": "290d8bac",
   "metadata": {},
   "outputs": [],
   "source": [
    "bag_files = os.listdir(dataset_folder + \"\\\\bags\")"
   ]
  },
  {
   "cell_type": "markdown",
   "id": "b9b95935",
   "metadata": {},
   "source": [
    "# Functions"
   ]
  },
  {
   "cell_type": "code",
   "execution_count": 9,
   "id": "52ae5d58",
   "metadata": {},
   "outputs": [],
   "source": [
    "def rosbag_to_json(bag_file,\n",
    "                   output_json_file):\n",
    "    \n",
    "    with rosbag.Bag(bag_file, \"r\") as bag:\n",
    "        messages, message_list = [], []\n",
    "\n",
    "        for topic, msg, t in bag.read_messages():\n",
    "            \n",
    "            if topic not in ros_topics:\n",
    "                continue\n",
    "            \n",
    "            if hasattr(msg, \"data\"):\n",
    "                message = msg.data\n",
    "                \n",
    "                # check if the value is numeric and has at most one decimal point\n",
    "                if not common.is_float(message):\n",
    "                    continue\n",
    "                \n",
    "            elif hasattr(msg, \"position\"):\n",
    "                message = {\n",
    "                    \"position\": {\n",
    "                        \"x\": msg.position.x,\n",
    "                        \"y\": msg.position.y,\n",
    "                        \"z\": msg.position.z\n",
    "                    },\n",
    "                    \"orientation\": {\n",
    "                        \"x\": msg.orientation.x,\n",
    "                        \"y\": msg.orientation.y,\n",
    "                        \"z\": msg.orientation.z,\n",
    "                        \"w\": msg.orientation.w\n",
    "                    }\n",
    "                }\n",
    "            \n",
    "            else:\n",
    "                messages.append(message_list)\n",
    "                message_list = []\n",
    "                \n",
    "                # ignore arm_state for now\n",
    "                continue\n",
    "            \n",
    "            message_dict = {\n",
    "                \"topic\": topic,\n",
    "                \"timestamp\": str(t),\n",
    "                \"message\": message\n",
    "            }\n",
    "            message_list.append(message_dict)\n",
    "    \n",
    "    with open(output_json_file, \"w\") as json_file:\n",
    "        json.dump(messages,\n",
    "                  json_file,\n",
    "                  indent=2)"
   ]
  },
  {
   "cell_type": "markdown",
   "id": "7d822518",
   "metadata": {},
   "source": [
    "# Test"
   ]
  },
  {
   "cell_type": "code",
   "execution_count": 10,
   "id": "fdd20204",
   "metadata": {},
   "outputs": [],
   "source": [
    "bag_path = os.path.join(dataset_folder + \"\\\\bags\", bag_files[0])"
   ]
  },
  {
   "cell_type": "code",
   "execution_count": 11,
   "id": "1ed668b3",
   "metadata": {},
   "outputs": [],
   "source": [
    "json_path = os.path.join(dataset_folder + \"\\\\jsons\", bag_files[0][:bag_files[0].index(\".bag\")] + \".json\")"
   ]
  },
  {
   "cell_type": "code",
   "execution_count": 12,
   "id": "8745b88e",
   "metadata": {},
   "outputs": [],
   "source": [
    "bag = rosbag.Bag(bag_path)"
   ]
  },
  {
   "cell_type": "code",
   "execution_count": 13,
   "id": "b5fbf41b",
   "metadata": {},
   "outputs": [],
   "source": [
    "common.rosbag2json(bag_file=bag_path,\n",
    "                   output_json_file=json_path,\n",
    "                   ros_topics=ros_topics)"
   ]
  },
  {
   "cell_type": "markdown",
   "id": "33e5e77f",
   "metadata": {},
   "source": [
    "# Run Through All Files"
   ]
  },
  {
   "cell_type": "code",
   "execution_count": 14,
   "id": "6ab81c1e",
   "metadata": {},
   "outputs": [],
   "source": [
    "for file in bag_files:\n",
    "\n",
    "    bag_path = os.path.join(dataset_folder + \"\\\\bags\", file)\n",
    "    json_path = os.path.join(dataset_folder + \"\\\\jsons\", file[:file.index(\".bag\")] + \".json\")\n",
    "    \n",
    "    rosbag_to_json(bag_file=bag_path,\n",
    "               output_json_file=json_path)"
   ]
  },
  {
   "cell_type": "code",
   "execution_count": null,
   "id": "50c7c502",
   "metadata": {},
   "outputs": [],
   "source": []
  }
 ],
 "metadata": {
  "kernelspec": {
   "display_name": "Python 3 (ipykernel)",
   "language": "python",
   "name": "python3"
  },
  "language_info": {
   "codemirror_mode": {
    "name": "ipython",
    "version": 3
   },
   "file_extension": ".py",
   "mimetype": "text/x-python",
   "name": "python",
   "nbconvert_exporter": "python",
   "pygments_lexer": "ipython3",
   "version": "3.10.9"
  }
 },
 "nbformat": 4,
 "nbformat_minor": 5
}
