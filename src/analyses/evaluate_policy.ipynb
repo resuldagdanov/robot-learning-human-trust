{
 "cells": [
  {
   "cell_type": "markdown",
   "id": "82ea4e4c",
   "metadata": {},
   "source": [
    "## Evaluate Trained Robot Policy Model and Visualize"
   ]
  },
  {
   "cell_type": "code",
   "execution_count": 1,
   "id": "508fc4de",
   "metadata": {},
   "outputs": [],
   "source": [
    "import os\n",
    "import sys\n",
    "\n",
    "import numpy as np\n",
    "import pandas as pd\n",
    "\n",
    "import torch\n",
    "\n",
    "import matplotlib.pyplot as plt\n",
    "\n",
    "from typing import List\n",
    "\n",
    "# get the current script's directory\n",
    "current_directory = os.path.dirname(os.path.abspath(__file__)) if \"__file__\" in locals() else os.getcwd()\n",
    "# get the parent directory\n",
    "parent_directory = os.path.dirname(current_directory)\n",
    "# add the parent directory to the sys.path\n",
    "sys.path.append(parent_directory)\n",
    "\n",
    "from utils import common, constants\n",
    "from utils.config import Config\n",
    "from utils.dataset_loader import PolicyDatasetLoader\n",
    "\n",
    "from optimization.updater import Updater\n",
    "from optimization.functions import setup_config, get_directories, load_policy\n",
    "from optimization.functions import read_each_loader, convert_sample_2_df, trajectory_estimation\n",
    "\n",
    "from models.policy_model import RobotPolicy"
   ]
  },
  {
   "cell_type": "code",
   "execution_count": 2,
   "id": "d33d6b9c",
   "metadata": {},
   "outputs": [
    {
     "name": "stdout",
     "output_type": "stream",
     "text": [
      "Evaluating Device:  cpu\n",
      "Current Time:  Jan_31_2024-17_08_25\n"
     ]
    }
   ],
   "source": [
    "# available evaluating machine\n",
    "device = torch.device(\"cuda\" if torch.cuda.is_available() else \"cpu\")\n",
    "print(\"Evaluating Device: \", device)\n",
    "\n",
    "# setup hyperparameters\n",
    "configs = setup_config(device=device)\n",
    "\n",
    "# create and return preliminary base paths\n",
    "json_paths, results_path = get_directories(parent_directory=parent_directory)"
   ]
  },
  {
   "cell_type": "code",
   "execution_count": 3,
   "id": "37dc42df",
   "metadata": {},
   "outputs": [
    {
     "name": "stdout",
     "output_type": "stream",
     "text": [
      "Evaluating Device:  cpu\n"
     ]
    }
   ],
   "source": [
    "device = torch.device(\"cuda\" if torch.cuda.is_available() else \"cpu\")\n",
    "print(\"Evaluating Device: \", device)\n",
    "configs.device = device"
   ]
  },
  {
   "cell_type": "code",
   "execution_count": 4,
   "id": "81cd3bff",
   "metadata": {},
   "outputs": [],
   "source": [
    "policy_network = RobotPolicy(state_size=configs.state_size,\n",
    "                             hidden_size=configs.hidden_size,\n",
    "                             out_size=configs.action_size,\n",
    "                             log_std_min=configs.policy_log_std_min,\n",
    "                             log_std_max=configs.policy_log_std_max,\n",
    "                             log_std_init=configs.policy_log_std_init,\n",
    "                             device=configs.device)"
   ]
  },
  {
   "cell_type": "code",
   "execution_count": 5,
   "id": "6bb3c03e",
   "metadata": {
    "scrolled": false
   },
   "outputs": [
    {
     "name": "stdout",
     "output_type": "stream",
     "text": [
      "\n",
      "================== Policy Dataset Loader ==================\n",
      "\n",
      "Number of Trajectories:  43\n",
      "Each Trajectory Length:  10\n",
      "Full Demo Dataset Size:  9\n"
     ]
    }
   ],
   "source": [
    "# load demonstrations dataset\n",
    "evaluation_data = PolicyDatasetLoader(demo_data_json_paths=json_paths)"
   ]
  },
  {
   "cell_type": "markdown",
   "id": "810ada36",
   "metadata": {},
   "source": [
    "# Functions"
   ]
  },
  {
   "cell_type": "code",
   "execution_count": 6,
   "id": "55321722",
   "metadata": {},
   "outputs": [],
   "source": [
    "def plt_2D_plotting(df: pd.DataFrame,\n",
    "                    column_names: List[str],\n",
    "                    x_axis_name: str,\n",
    "                    y_axis_name: str,\n",
    "                    x_label_name: str,\n",
    "                    title_label_name: str) -> None:\n",
    "    \n",
    "    if not isinstance(df, pd.DataFrame):\n",
    "        raise TypeError(\"Input 'df' must be a pandas DataFrame.\")\n",
    "    if not isinstance(column_names, list) or not all(isinstance(name, str) for name in column_names):\n",
    "        raise TypeError(\"Input 'column_names' must be a list of strings.\")\n",
    "    if not all(name in df.columns for name in column_names):\n",
    "        raise ValueError(\"Invalid column name(s) for column_names.\")\n",
    "    if not all(isinstance(label, str) for label in [x_axis_name, y_axis_name, title_label_name]):\n",
    "        raise TypeError(\"Axis labels and title must be strings.\")\n",
    "\n",
    "    for column_name in column_names:\n",
    "        if column_name not in df.columns:\n",
    "            raise ValueError(f\"Invalid column name: {column_name}\")\n",
    "\n",
    "    if len(column_names) not in [1, 2]:\n",
    "        raise ValueError(\"Invalid number of columns to plot. Must be 1 or 2.\")\n",
    "\n",
    "    if not isinstance(x_axis_name, str) or not isinstance(y_axis_name, str):\n",
    "        raise TypeError(\"Axis names must be strings.\")\n",
    "    if not isinstance(x_label_name, str):\n",
    "        raise TypeError(\"Column name for x axis must be string.\")\n",
    "    if not isinstance(title_label_name, str):\n",
    "        raise TypeError(\"Title must be a string.\")\n",
    "    \n",
    "    for column_name in column_names:\n",
    "        plt.scatter(df[x_label_name], df[column_name],\n",
    "                    label=column_name)\n",
    "    \n",
    "    if len(column_names) == 2:\n",
    "        mae_avg = np.mean(np.abs(df[column_names[0]] - df[column_names[1]]))\n",
    "        mae_max = np.max(np.abs(df[column_names[0]] - df[column_names[1]]))\n",
    "        \n",
    "        error_text = f\"Avg. MAE = {mae_avg:.5f} m\\nMax. MAE = {mae_max:.5f} m\"\n",
    "        \n",
    "        plt.text(0.95, 0.05,\n",
    "                 error_text,\n",
    "                 transform=plt.gca().transAxes,\n",
    "                 verticalalignment=\"bottom\",\n",
    "                 horizontalalignment=\"right\",\n",
    "                 bbox=dict(facecolor=\"white\", alpha=0.8))\n",
    "    \n",
    "    plt.xlabel(x_axis_name)\n",
    "    plt.ylabel(y_axis_name)\n",
    "    plt.title(title_label_name)\n",
    "    \n",
    "    plt.legend(loc=\"upper right\")\n",
    "    \n",
    "    plt.show()"
   ]
  },
  {
   "cell_type": "markdown",
   "id": "148aef9c",
   "metadata": {},
   "source": [
    "# Test"
   ]
  },
  {
   "cell_type": "code",
   "execution_count": 7,
   "id": "12d933c9",
   "metadata": {},
   "outputs": [],
   "source": [
    "# folder name where parameters are located (\"results / policy_network_params / loading_folder_name\")\n",
    "loading_folder_name = \"Jan_31_2024-09_57_07\""
   ]
  },
  {
   "cell_type": "code",
   "execution_count": 8,
   "id": "0f8933f7",
   "metadata": {},
   "outputs": [],
   "source": [
    "params_name = \"policy_network_epoch_100_loss_3_83506.pt\""
   ]
  },
  {
   "cell_type": "code",
   "execution_count": 9,
   "id": "fdd21aaf",
   "metadata": {},
   "outputs": [],
   "source": [
    "# location of the trained model parameters (make sure that the folder exists where model is trained priorly)\n",
    "model_folder_path = os.path.join(results_path,\n",
    "                                 \"policy_network_params\",\n",
    "                                 loading_folder_name)"
   ]
  },
  {
   "cell_type": "code",
   "execution_count": 10,
   "id": "b22767c5",
   "metadata": {},
   "outputs": [],
   "source": [
    "model_path = os.path.join(model_folder_path,\n",
    "                          params_name)"
   ]
  },
  {
   "cell_type": "code",
   "execution_count": 11,
   "id": "494ec0aa",
   "metadata": {},
   "outputs": [],
   "source": [
    "# set trained parameters to neural network\n",
    "policy_network = load_policy(policy_network=policy_network,\n",
    "                             model_path=model_path)"
   ]
  },
  {
   "cell_type": "code",
   "execution_count": 12,
   "id": "b43439d6",
   "metadata": {},
   "outputs": [],
   "source": [
    "updater = Updater(configs=configs,\n",
    "                  policy_network=policy_network)"
   ]
  },
  {
   "cell_type": "code",
   "execution_count": 13,
   "id": "3f34d0e4",
   "metadata": {},
   "outputs": [],
   "source": [
    "sample_index = 0"
   ]
  },
  {
   "cell_type": "code",
   "execution_count": 14,
   "id": "b7b5425e",
   "metadata": {},
   "outputs": [],
   "source": [
    "evaluation_sample = evaluation_data[sample_index]"
   ]
  },
  {
   "cell_type": "code",
   "execution_count": 15,
   "id": "dcbb181f",
   "metadata": {},
   "outputs": [
    {
     "data": {
      "text/plain": [
       "(tensor([0.4087, 0.6701, 0.0000, 0.3597]),\n",
       " tensor([-0.2056, -0.1539,  0.3044]),\n",
       " 0,\n",
       " 0)"
      ]
     },
     "execution_count": 15,
     "metadata": {},
     "output_type": "execute_result"
    }
   ],
   "source": [
    "evaluation_sample"
   ]
  },
  {
   "cell_type": "code",
   "execution_count": 16,
   "id": "658ae531",
   "metadata": {},
   "outputs": [],
   "source": [
    "input_state, output_action, trajectory_index, state_number = read_each_loader(configs=configs,\n",
    "                                                                              sample_data=evaluation_sample)"
   ]
  },
  {
   "cell_type": "code",
   "execution_count": 17,
   "id": "891e7a6a",
   "metadata": {},
   "outputs": [],
   "source": [
    "# add a batch dimension by unsqueezing\n",
    "action_pred, action_std, action_log_prob, action_entropy, action_mu_and_std, action_dist = policy_network.estimate_action(state=input_state.unsqueeze(0))"
   ]
  },
  {
   "cell_type": "code",
   "execution_count": 18,
   "id": "40d5f0e4",
   "metadata": {},
   "outputs": [],
   "source": [
    "# multivariate Gaussian negative log-likelihood loss function\n",
    "nll_loss = updater.multivariate_gaussian_nll_loss(y_true=output_action,\n",
    "                                                  y_pred=action_mu_and_std)"
   ]
  },
  {
   "cell_type": "code",
   "execution_count": 19,
   "id": "dc42fade",
   "metadata": {},
   "outputs": [],
   "source": [
    "real_state_input = common.denormalize_state(state_norm=input_state.numpy(),\n",
    "                                            norm_value_list=evaluation_data.state_norms)"
   ]
  },
  {
   "cell_type": "code",
   "execution_count": 20,
   "id": "f1bfd115",
   "metadata": {},
   "outputs": [],
   "source": [
    "real_action_output = common.denormalize_action(action_norm=output_action.unsqueeze(0).numpy(),\n",
    "                                               norm_range_list=evaluation_data.action_norms)[0]"
   ]
  },
  {
   "cell_type": "code",
   "execution_count": 21,
   "id": "e18e79f8",
   "metadata": {},
   "outputs": [],
   "source": [
    "real_action_pred = common.denormalize_action(action_norm=action_pred.detach().numpy(),\n",
    "                                             norm_range_list=evaluation_data.action_norms)[0]"
   ]
  },
  {
   "cell_type": "markdown",
   "id": "c7953993",
   "metadata": {},
   "source": [
    "# Run Through All Samples in a Trajectory for Every Trajectory"
   ]
  },
  {
   "cell_type": "code",
   "execution_count": 22,
   "id": "4be831b4",
   "metadata": {},
   "outputs": [],
   "source": [
    "# initialize an empty list to store dataframes\n",
    "trajectory_dataframes = []\n",
    "df = pd.DataFrame()"
   ]
  },
  {
   "cell_type": "code",
   "execution_count": 23,
   "id": "6d4f9bb5",
   "metadata": {},
   "outputs": [],
   "source": [
    "# initialize variables to keep track of the current trajectory index and dataframes\n",
    "current_trajectory_index = 0"
   ]
  },
  {
   "cell_type": "code",
   "execution_count": 24,
   "id": "9f88a179",
   "metadata": {},
   "outputs": [],
   "source": [
    "for idx, sample_data in enumerate(evaluation_data):\n",
    "    \n",
    "    input_state, output_action, trajectory_index, state_number = read_each_loader(configs=configs,\n",
    "                                                                                  sample_data=sample_data)\n",
    "    \n",
    "    # add a batch dimension by unsqueezing\n",
    "    action_pred, action_std, action_log_prob, action_entropy, action_mu_and_std, action_dist = policy_network.estimate_action(state=input_state.unsqueeze(0))\n",
    "    \n",
    "    # multivariate Gaussian negative log-likelihood loss function\n",
    "    nll_loss = updater.multivariate_gaussian_nll_loss(y_true=output_action,\n",
    "                                                      y_pred=action_mu_and_std)\n",
    "    \n",
    "    real_state_input = common.denormalize_state(state_norm=input_state.numpy(),\n",
    "                                                norm_value_list=evaluation_data.state_norms)\n",
    "    real_action_output = common.denormalize_action(action_norm=output_action.unsqueeze(0).numpy(),\n",
    "                                                   norm_range_list=evaluation_data.action_norms)[0]\n",
    "    real_action_pred = common.denormalize_action(action_norm=action_pred.detach().numpy(),\n",
    "                                                 norm_range_list=evaluation_data.action_norms)[0]\n",
    "    \n",
    "    # store every important detail in the dataframe\n",
    "    sample_df = convert_sample_2_df(input_state=input_state,\n",
    "                                    real_state_input=real_state_input,\n",
    "                                    output_action=output_action,\n",
    "                                    real_action_output=real_action_output,\n",
    "                                    action_log_prob=action_log_prob,\n",
    "                                    action_pred=action_pred,\n",
    "                                    action_std=action_std,\n",
    "                                    real_action_pred=real_action_pred,\n",
    "                                    trajectory_index=int(trajectory_index),\n",
    "                                    state_number=int(state_number),\n",
    "                                    nll_loss=nll_loss.item())\n",
    "    \n",
    "    # check if the trajectory index has changed\n",
    "    if trajectory_index == current_trajectory_index:\n",
    "        \n",
    "        df = pd.concat([df, sample_df],\n",
    "                       ignore_index=True)\n",
    "    else:\n",
    "        # append the dataframe to the list\n",
    "        trajectory_dataframes.append(df)\n",
    "        \n",
    "        # create a new dataframe for each trajectory_index\n",
    "        df = sample_df.copy(deep=True)\n",
    "        \n",
    "        # update the current_trajectory_index\n",
    "        current_trajectory_index = trajectory_index\n",
    "\n",
    "if len(trajectory_dataframes) == 0:\n",
    "    trajectory_dataframes.append(df)"
   ]
  },
  {
   "cell_type": "code",
   "execution_count": 25,
   "id": "baba1a95",
   "metadata": {},
   "outputs": [
    {
     "data": {
      "text/html": [
       "<div>\n",
       "<style scoped>\n",
       "    .dataframe tbody tr th:only-of-type {\n",
       "        vertical-align: middle;\n",
       "    }\n",
       "\n",
       "    .dataframe tbody tr th {\n",
       "        vertical-align: top;\n",
       "    }\n",
       "\n",
       "    .dataframe thead th {\n",
       "        text-align: right;\n",
       "    }\n",
       "</style>\n",
       "<table border=\"1\" class=\"dataframe\">\n",
       "  <thead>\n",
       "    <tr style=\"text-align: right;\">\n",
       "      <th></th>\n",
       "      <th>state_label_norm_1</th>\n",
       "      <th>state_label_norm_2</th>\n",
       "      <th>state_label_norm_3</th>\n",
       "      <th>state_label_norm_4</th>\n",
       "      <th>action_label_norm_1</th>\n",
       "      <th>action_label_norm_2</th>\n",
       "      <th>action_label_norm_3</th>\n",
       "      <th>state_number</th>\n",
       "      <th>trajectory_index</th>\n",
       "    </tr>\n",
       "  </thead>\n",
       "  <tbody>\n",
       "    <tr>\n",
       "      <th>0</th>\n",
       "      <td>0.408677965403</td>\n",
       "      <td>0.670065104961</td>\n",
       "      <td>0.000000000000</td>\n",
       "      <td>0.359723329544</td>\n",
       "      <td>-0.205633714795</td>\n",
       "      <td>-0.153896495700</td>\n",
       "      <td>0.304449856281</td>\n",
       "      <td>0</td>\n",
       "      <td>0</td>\n",
       "    </tr>\n",
       "    <tr>\n",
       "      <th>1</th>\n",
       "      <td>0.374670863152</td>\n",
       "      <td>0.664946675301</td>\n",
       "      <td>0.054441925138</td>\n",
       "      <td>0.388699829578</td>\n",
       "      <td>-0.291306763887</td>\n",
       "      <td>-0.110318548977</td>\n",
       "      <td>0.341170072556</td>\n",
       "      <td>1</td>\n",
       "      <td>0</td>\n",
       "    </tr>\n",
       "    <tr>\n",
       "      <th>2</th>\n",
       "      <td>0.305450677872</td>\n",
       "      <td>0.662353277206</td>\n",
       "      <td>0.156387746334</td>\n",
       "      <td>0.425420045853</td>\n",
       "      <td>-0.345367670059</td>\n",
       "      <td>0.015027273446</td>\n",
       "      <td>0.343466669321</td>\n",
       "      <td>2</td>\n",
       "      <td>0</td>\n",
       "    </tr>\n",
       "    <tr>\n",
       "      <th>3</th>\n",
       "      <td>0.201699137688</td>\n",
       "      <td>0.589209496975</td>\n",
       "      <td>0.272525340319</td>\n",
       "      <td>0.427716672421</td>\n",
       "      <td>-0.353839129210</td>\n",
       "      <td>0.170582592487</td>\n",
       "      <td>0.349496304989</td>\n",
       "      <td>3</td>\n",
       "      <td>0</td>\n",
       "    </tr>\n",
       "    <tr>\n",
       "      <th>4</th>\n",
       "      <td>0.173597857356</td>\n",
       "      <td>0.514131009579</td>\n",
       "      <td>0.403903335333</td>\n",
       "      <td>0.433746308088</td>\n",
       "      <td>-0.284977644682</td>\n",
       "      <td>0.318865031004</td>\n",
       "      <td>0.351500123739</td>\n",
       "      <td>4</td>\n",
       "      <td>0</td>\n",
       "    </tr>\n",
       "    <tr>\n",
       "      <th>5</th>\n",
       "      <td>0.280285775661</td>\n",
       "      <td>0.453069865704</td>\n",
       "      <td>0.518236815929</td>\n",
       "      <td>0.435750126839</td>\n",
       "      <td>-0.192852392793</td>\n",
       "      <td>0.367122590542</td>\n",
       "      <td>0.290766000748</td>\n",
       "      <td>5</td>\n",
       "      <td>0</td>\n",
       "    </tr>\n",
       "    <tr>\n",
       "      <th>6</th>\n",
       "      <td>0.335599184036</td>\n",
       "      <td>0.375661790371</td>\n",
       "      <td>0.548097670078</td>\n",
       "      <td>0.375016003847</td>\n",
       "      <td>-0.144896149635</td>\n",
       "      <td>0.363531738520</td>\n",
       "      <td>0.140422835946</td>\n",
       "      <td>6</td>\n",
       "      <td>0</td>\n",
       "    </tr>\n",
       "    <tr>\n",
       "      <th>7</th>\n",
       "      <td>0.345979988575</td>\n",
       "      <td>0.228409826756</td>\n",
       "      <td>0.560707509518</td>\n",
       "      <td>0.224672839046</td>\n",
       "      <td>-0.151764318347</td>\n",
       "      <td>0.381475418806</td>\n",
       "      <td>0.021389666945</td>\n",
       "      <td>7</td>\n",
       "      <td>0</td>\n",
       "    </tr>\n",
       "    <tr>\n",
       "      <th>8</th>\n",
       "      <td>0.379267781973</td>\n",
       "      <td>0.109404824674</td>\n",
       "      <td>0.616668701172</td>\n",
       "      <td>0.105639666319</td>\n",
       "      <td>-0.157793551683</td>\n",
       "      <td>0.386998146772</td>\n",
       "      <td>-0.058305241168</td>\n",
       "      <td>8</td>\n",
       "      <td>0</td>\n",
       "    </tr>\n",
       "  </tbody>\n",
       "</table>\n",
       "</div>"
      ],
      "text/plain": [
       "   state_label_norm_1  state_label_norm_2  state_label_norm_3  \\\n",
       "0      0.408677965403      0.670065104961      0.000000000000   \n",
       "1      0.374670863152      0.664946675301      0.054441925138   \n",
       "2      0.305450677872      0.662353277206      0.156387746334   \n",
       "3      0.201699137688      0.589209496975      0.272525340319   \n",
       "4      0.173597857356      0.514131009579      0.403903335333   \n",
       "5      0.280285775661      0.453069865704      0.518236815929   \n",
       "6      0.335599184036      0.375661790371      0.548097670078   \n",
       "7      0.345979988575      0.228409826756      0.560707509518   \n",
       "8      0.379267781973      0.109404824674      0.616668701172   \n",
       "\n",
       "   state_label_norm_4  action_label_norm_1  action_label_norm_2  \\\n",
       "0      0.359723329544      -0.205633714795      -0.153896495700   \n",
       "1      0.388699829578      -0.291306763887      -0.110318548977   \n",
       "2      0.425420045853      -0.345367670059       0.015027273446   \n",
       "3      0.427716672421      -0.353839129210       0.170582592487   \n",
       "4      0.433746308088      -0.284977644682       0.318865031004   \n",
       "5      0.435750126839      -0.192852392793       0.367122590542   \n",
       "6      0.375016003847      -0.144896149635       0.363531738520   \n",
       "7      0.224672839046      -0.151764318347       0.381475418806   \n",
       "8      0.105639666319      -0.157793551683       0.386998146772   \n",
       "\n",
       "   action_label_norm_3  state_number  trajectory_index  \n",
       "0       0.304449856281             0                 0  \n",
       "1       0.341170072556             1                 0  \n",
       "2       0.343466669321             2                 0  \n",
       "3       0.349496304989             3                 0  \n",
       "4       0.351500123739             4                 0  \n",
       "5       0.290766000748             5                 0  \n",
       "6       0.140422835946             6                 0  \n",
       "7       0.021389666945             7                 0  \n",
       "8      -0.058305241168             8                 0  "
      ]
     },
     "execution_count": 25,
     "metadata": {},
     "output_type": "execute_result"
    }
   ],
   "source": [
    "trajectory_dataframes[0][[\"state_label_norm_1\", \"state_label_norm_2\", \"state_label_norm_3\", \"state_label_norm_4\",\n",
    "                          \"action_label_norm_1\", \"action_label_norm_2\", \"action_label_norm_3\",\n",
    "                          \"state_number\", \"trajectory_index\"]]"
   ]
  },
  {
   "cell_type": "code",
   "execution_count": 26,
   "id": "38434ce7",
   "metadata": {},
   "outputs": [],
   "source": [
    "action_1_columns = [constants.ACTION_PREDICTION_DENORMALIZED_NAME + \"_1\",\n",
    "                    constants.ACTION_DENORMALIZED_LABEL_NAME + \"_1\"]\n",
    "action_1_title_name = \"Prediction vs. Actual End-Effector X-Axis Position\"\n",
    "action_1_y_axis_name = \"X-Axis Location [m]\""
   ]
  },
  {
   "cell_type": "code",
   "execution_count": 27,
   "id": "f04b9c1a",
   "metadata": {},
   "outputs": [
    {
     "data": {
      "image/png": "[encoded data removed]",
      "text/plain": [
       "<Figure size 640x480 with 1 Axes>"
      ]
     },
     "metadata": {},
     "output_type": "display_data"
    }
   ],
   "source": [
    "plt_2D_plotting(df=trajectory_dataframes[-1],\n",
    "                column_names=action_1_columns,\n",
    "                x_axis_name=\"State Counter [#]\",\n",
    "                y_axis_name=action_1_y_axis_name,\n",
    "                x_label_name=constants.STATE_NUMBER_COLUMN,\n",
    "                title_label_name=action_1_title_name)"
   ]
  },
  {
   "cell_type": "code",
   "execution_count": 28,
   "id": "4c21836d",
   "metadata": {},
   "outputs": [],
   "source": [
    "input_state, output_action, trajectory_index, state_number = read_each_loader(configs=configs,\n",
    "                                                                              sample_data=evaluation_data[0])"
   ]
  },
  {
   "cell_type": "code",
   "execution_count": 29,
   "id": "3f816bcd",
   "metadata": {
    "scrolled": true
   },
   "outputs": [
    {
     "name": "stdout",
     "output_type": "stream",
     "text": [
      "\n",
      "state_number :  0\n",
      "initial_state_location :  [-0.4112674  -0.30779302  0.60889959]\n",
      "action_denorm_label :  [-0.4112674  -0.30779302  0.60889959]\n",
      "current_state_denorm_estimation :  [0.81735593 1.34013021 0.         0.71944666]\n",
      "next_state_denorm_label :  [0.86942815 1.32989333 0.         0.77739959]\n",
      "\n",
      "state_number :  1\n",
      "initial_state_location :  [-0.4112674  -0.30779302  0.60889959]\n",
      "action_denorm_label :  [-0.58261347 -0.22063708  0.68234015]\n",
      "current_state_denorm_estimation :  [0.79990083 1.27436996 0.08214173 0.77243286]\n",
      "next_state_denorm_label :  [1.01522468 1.32470659 0.20578908 0.85084015]\n",
      "\n",
      "state_number :  2\n",
      "initial_state_location :  [-0.4112674  -0.30779302  0.60889959]\n",
      "action_denorm_label :  [-0.69073534  0.03005457  0.68693328]\n",
      "current_state_denorm_estimation :  [0.72506672 1.23828602 0.17458729 0.7977162 ]\n",
      "next_state_denorm_label :  [1.09921705 1.17841894 0.44534546 0.85543328]\n",
      "\n",
      "state_number :  3\n",
      "initial_state_location :  [-0.4112674  -0.30779302  0.60889959]\n",
      "action_denorm_label :  [-0.70767832  0.34116507  0.69899273]\n",
      "current_state_denorm_estimation :  [0.76727152 1.15417051 0.27206424 0.81845814]\n",
      "next_state_denorm_label :  [1.16806154 1.02826225 0.71911251 0.86749273]\n",
      "\n",
      "state_number :  4\n",
      "initial_state_location :  [-0.4112674  -0.30779302  0.60889959]\n",
      "action_denorm_label :  [-0.56995535  0.63773012  0.70300031]\n",
      "current_state_denorm_estimation :  [0.60354686 1.15134466 0.35603258 0.8147276 ]\n",
      "next_state_denorm_label :  [1.17034789 0.90613981 0.96335394 0.87150031]\n",
      "\n",
      "state_number :  5\n",
      "initial_state_location :  [-0.4112674  -0.30779302  0.60889959]\n",
      "action_denorm_label :  [-0.38570476  0.7342453   0.581532  ]\n",
      "current_state_denorm_estimation :  [0.83054048 1.02170193 0.45695195 0.80889159]\n",
      "next_state_denorm_label :  [1.07573516 0.75132359 1.04271103 0.750032  ]\n",
      "\n",
      "state_number :  6\n",
      "initial_state_location :  [-0.4112674  -0.30779302  0.60889959]\n",
      "action_denorm_label :  [-0.2897923   0.72706342  0.28084564]\n",
      "current_state_denorm_estimation :  [0.40228871 1.12666118 0.53504175 0.77064282]\n",
      "next_state_denorm_label :  [1.03877232 0.45681963 1.09238429 0.44934564]\n",
      "\n",
      "state_number :  7\n",
      "initial_state_location :  [-0.4112674  -0.30779302  0.60889959]\n",
      "action_denorm_label :  [-0.30352867  0.7629509   0.04277945]\n",
      "current_state_denorm_estimation :  [1.06335509 0.96756256 0.63132477 0.79688746]\n",
      "next_state_denorm_label :  [1.15688941 0.21880975 1.21597376 0.21127945]\n",
      "\n",
      "state_number :  8\n",
      "initial_state_location :  [-0.4112674  -0.30779302  0.60889959]\n",
      "action_denorm_label :  [-0.31558704  0.77399635 -0.11661053]\n",
      "current_state_denorm_estimation :  [0.25173217 1.18421388 0.64815742 0.7551468 ]\n",
      "next_state_denorm_label :  [1.24934129 0.06841783 1.30605816 0.05188947]\n"
     ]
    }
   ],
   "source": [
    "input_state, output_action, trajectory_index, state_number = read_each_loader(configs=configs,\n",
    "                                                                              sample_data=evaluation_data[0])\n",
    "\n",
    "# index location where the each trajectory starts in the dataframe\n",
    "traj_start_index = 0\n",
    "\n",
    "trajectory_estimation(configs=configs,\n",
    "                      data_loader=evaluation_data,\n",
    "                      policy_network=policy_network,\n",
    "                      trajectory_length=constants.TRAJECTORY_SIZE,\n",
    "                      traj_start_index=traj_start_index)"
   ]
  },
  {
   "cell_type": "code",
   "execution_count": 30,
   "id": "0cf3d8de",
   "metadata": {},
   "outputs": [
    {
     "data": {
      "text/html": [
       "<div>\n",
       "<style scoped>\n",
       "    .dataframe tbody tr th:only-of-type {\n",
       "        vertical-align: middle;\n",
       "    }\n",
       "\n",
       "    .dataframe tbody tr th {\n",
       "        vertical-align: top;\n",
       "    }\n",
       "\n",
       "    .dataframe thead th {\n",
       "        text-align: right;\n",
       "    }\n",
       "</style>\n",
       "<table border=\"1\" class=\"dataframe\">\n",
       "  <thead>\n",
       "    <tr style=\"text-align: right;\">\n",
       "      <th></th>\n",
       "      <th>state_label_denorm_1</th>\n",
       "      <th>state_label_denorm_2</th>\n",
       "      <th>state_label_denorm_3</th>\n",
       "      <th>state_label_denorm_4</th>\n",
       "      <th>action_label_denorm_1</th>\n",
       "      <th>action_label_denorm_2</th>\n",
       "      <th>action_label_denorm_3</th>\n",
       "      <th>state_number</th>\n",
       "      <th>trajectory_index</th>\n",
       "    </tr>\n",
       "  </thead>\n",
       "  <tbody>\n",
       "    <tr>\n",
       "      <th>0</th>\n",
       "      <td>0.817355930805</td>\n",
       "      <td>1.340130209923</td>\n",
       "      <td>0.000000000000</td>\n",
       "      <td>0.719446659088</td>\n",
       "      <td>-0.411267399788</td>\n",
       "      <td>-0.307793021202</td>\n",
       "      <td>0.608899593353</td>\n",
       "      <td>0</td>\n",
       "      <td>0</td>\n",
       "    </tr>\n",
       "    <tr>\n",
       "      <th>1</th>\n",
       "      <td>0.749341726303</td>\n",
       "      <td>1.329893350601</td>\n",
       "      <td>0.108883850276</td>\n",
       "      <td>0.777399659157</td>\n",
       "      <td>-0.582613468170</td>\n",
       "      <td>-0.220637083054</td>\n",
       "      <td>0.682340145111</td>\n",
       "      <td>1</td>\n",
       "      <td>0</td>\n",
       "    </tr>\n",
       "    <tr>\n",
       "      <th>2</th>\n",
       "      <td>0.610901355743</td>\n",
       "      <td>1.324706554413</td>\n",
       "      <td>0.312775492668</td>\n",
       "      <td>0.850840091705</td>\n",
       "      <td>-0.690735340118</td>\n",
       "      <td>0.030054569244</td>\n",
       "      <td>0.686933279037</td>\n",
       "      <td>2</td>\n",
       "      <td>0</td>\n",
       "    </tr>\n",
       "    <tr>\n",
       "      <th>3</th>\n",
       "      <td>0.403398275375</td>\n",
       "      <td>1.178418993950</td>\n",
       "      <td>0.545050680637</td>\n",
       "      <td>0.855433344841</td>\n",
       "      <td>-0.707678318024</td>\n",
       "      <td>0.341165065765</td>\n",
       "      <td>0.698992729187</td>\n",
       "      <td>3</td>\n",
       "      <td>0</td>\n",
       "    </tr>\n",
       "    <tr>\n",
       "      <th>4</th>\n",
       "      <td>0.347195714712</td>\n",
       "      <td>1.028262019157</td>\n",
       "      <td>0.807806670666</td>\n",
       "      <td>0.867492616177</td>\n",
       "      <td>-0.569955348969</td>\n",
       "      <td>0.637730121613</td>\n",
       "      <td>0.703000307083</td>\n",
       "      <td>4</td>\n",
       "      <td>0</td>\n",
       "    </tr>\n",
       "    <tr>\n",
       "      <th>5</th>\n",
       "      <td>0.560571551323</td>\n",
       "      <td>0.906139731407</td>\n",
       "      <td>1.036473631859</td>\n",
       "      <td>0.871500253677</td>\n",
       "      <td>-0.385704755783</td>\n",
       "      <td>0.734245300293</td>\n",
       "      <td>0.581532001495</td>\n",
       "      <td>5</td>\n",
       "      <td>0</td>\n",
       "    </tr>\n",
       "    <tr>\n",
       "      <th>6</th>\n",
       "      <td>0.671198368073</td>\n",
       "      <td>0.751323580742</td>\n",
       "      <td>1.096195340157</td>\n",
       "      <td>0.750032007694</td>\n",
       "      <td>-0.289792299271</td>\n",
       "      <td>0.727063417435</td>\n",
       "      <td>0.280845642090</td>\n",
       "      <td>6</td>\n",
       "      <td>0</td>\n",
       "    </tr>\n",
       "    <tr>\n",
       "      <th>7</th>\n",
       "      <td>0.691959977150</td>\n",
       "      <td>0.456819653511</td>\n",
       "      <td>1.121415019035</td>\n",
       "      <td>0.449345678091</td>\n",
       "      <td>-0.303528666496</td>\n",
       "      <td>0.762950897217</td>\n",
       "      <td>0.042779445648</td>\n",
       "      <td>7</td>\n",
       "      <td>0</td>\n",
       "    </tr>\n",
       "    <tr>\n",
       "      <th>8</th>\n",
       "      <td>0.758535563946</td>\n",
       "      <td>0.218809649348</td>\n",
       "      <td>1.233337402344</td>\n",
       "      <td>0.211279332638</td>\n",
       "      <td>-0.315587043762</td>\n",
       "      <td>0.773996353149</td>\n",
       "      <td>-0.116610527039</td>\n",
       "      <td>8</td>\n",
       "      <td>0</td>\n",
       "    </tr>\n",
       "  </tbody>\n",
       "</table>\n",
       "</div>"
      ],
      "text/plain": [
       "   state_label_denorm_1  state_label_denorm_2  state_label_denorm_3  \\\n",
       "0        0.817355930805        1.340130209923        0.000000000000   \n",
       "1        0.749341726303        1.329893350601        0.108883850276   \n",
       "2        0.610901355743        1.324706554413        0.312775492668   \n",
       "3        0.403398275375        1.178418993950        0.545050680637   \n",
       "4        0.347195714712        1.028262019157        0.807806670666   \n",
       "5        0.560571551323        0.906139731407        1.036473631859   \n",
       "6        0.671198368073        0.751323580742        1.096195340157   \n",
       "7        0.691959977150        0.456819653511        1.121415019035   \n",
       "8        0.758535563946        0.218809649348        1.233337402344   \n",
       "\n",
       "   state_label_denorm_4  action_label_denorm_1  action_label_denorm_2  \\\n",
       "0        0.719446659088        -0.411267399788        -0.307793021202   \n",
       "1        0.777399659157        -0.582613468170        -0.220637083054   \n",
       "2        0.850840091705        -0.690735340118         0.030054569244   \n",
       "3        0.855433344841        -0.707678318024         0.341165065765   \n",
       "4        0.867492616177        -0.569955348969         0.637730121613   \n",
       "5        0.871500253677        -0.385704755783         0.734245300293   \n",
       "6        0.750032007694        -0.289792299271         0.727063417435   \n",
       "7        0.449345678091        -0.303528666496         0.762950897217   \n",
       "8        0.211279332638        -0.315587043762         0.773996353149   \n",
       "\n",
       "   action_label_denorm_3  state_number  trajectory_index  \n",
       "0         0.608899593353             0                 0  \n",
       "1         0.682340145111             1                 0  \n",
       "2         0.686933279037             2                 0  \n",
       "3         0.698992729187             3                 0  \n",
       "4         0.703000307083             4                 0  \n",
       "5         0.581532001495             5                 0  \n",
       "6         0.280845642090             6                 0  \n",
       "7         0.042779445648             7                 0  \n",
       "8        -0.116610527039             8                 0  "
      ]
     },
     "execution_count": 30,
     "metadata": {},
     "output_type": "execute_result"
    }
   ],
   "source": [
    "trajectory_dataframes[0][[\"state_label_denorm_1\", \"state_label_denorm_2\", \"state_label_denorm_3\", \"state_label_denorm_4\",\n",
    "                          \"action_label_denorm_1\", \"action_label_denorm_2\", \"action_label_denorm_3\",\n",
    "                          \"state_number\", \"trajectory_index\"]]"
   ]
  },
  {
   "cell_type": "code",
   "execution_count": null,
   "id": "5daa4b79",
   "metadata": {},
   "outputs": [],
   "source": []
  },
  {
   "cell_type": "code",
   "execution_count": null,
   "id": "23afc7ea",
   "metadata": {},
   "outputs": [],
   "source": []
  }
 ],
 "metadata": {
  "kernelspec": {
   "display_name": "Python 3 (ipykernel)",
   "language": "python",
   "name": "python3"
  },
  "language_info": {
   "codemirror_mode": {
    "name": "ipython",
    "version": 3
   },
   "file_extension": ".py",
   "mimetype": "text/x-python",
   "name": "python",
   "nbconvert_exporter": "python",
   "pygments_lexer": "ipython3",
   "version": "3.10.9"
  }
 },
 "nbformat": 4,
 "nbformat_minor": 5
}
