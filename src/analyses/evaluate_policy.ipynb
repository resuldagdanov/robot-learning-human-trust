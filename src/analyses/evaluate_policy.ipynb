{
 "cells": [
  {
   "cell_type": "markdown",
   "id": "82ea4e4c",
   "metadata": {},
   "source": [
    "## Evaluate Trained Robot Policy Model and Visualize"
   ]
  },
  {
   "cell_type": "code",
   "execution_count": 1,
   "id": "508fc4de",
   "metadata": {},
   "outputs": [],
   "source": [
    "import os\n",
    "import sys\n",
    "\n",
    "import torch"
   ]
  },
  {
   "cell_type": "code",
   "execution_count": 2,
   "id": "4b9c3dc7",
   "metadata": {},
   "outputs": [],
   "source": [
    "# get the current script's directory\n",
    "current_directory = os.path.dirname(os.path.abspath(__file__)) if \"__file__\" in locals() else os.getcwd()\n",
    "# get the parent directory\n",
    "parent_directory = os.path.dirname(current_directory)\n",
    "# add the parent directory to the sys.path\n",
    "sys.path.append(parent_directory)"
   ]
  },
  {
   "cell_type": "code",
   "execution_count": 3,
   "id": "68efb077",
   "metadata": {},
   "outputs": [],
   "source": [
    "from utils import common, constants\n",
    "from utils.config import Config\n",
    "from utils.dataset_loader import PolicyDatasetLoader\n",
    "\n",
    "from optimization.updater import Updater\n",
    "from optimization.functions import setup_config, get_directories, load_policy\n",
    "\n",
    "from models.policy_model import RobotPolicy"
   ]
  },
  {
   "cell_type": "code",
   "execution_count": 4,
   "id": "d33d6b9c",
   "metadata": {},
   "outputs": [
    {
     "name": "stdout",
     "output_type": "stream",
     "text": [
      "Evaluating Device:  cpu\n",
      "Current Time:  Jan_29_2024-20_28_41\n"
     ]
    }
   ],
   "source": [
    "# available evaluating machine\n",
    "device = torch.device(\"cuda\" if torch.cuda.is_available() else \"cpu\")\n",
    "print(\"Evaluating Device: \", device)\n",
    "\n",
    "# setup hyperparameters\n",
    "configs = setup_config(device=device)\n",
    "\n",
    "# create and return preliminary base paths\n",
    "json_paths, results_path = get_directories(parent_directory=parent_directory)"
   ]
  },
  {
   "cell_type": "code",
   "execution_count": 5,
   "id": "37dc42df",
   "metadata": {},
   "outputs": [
    {
     "name": "stdout",
     "output_type": "stream",
     "text": [
      "Evaluating Device:  cpu\n"
     ]
    }
   ],
   "source": [
    "device = torch.device(\"cuda\" if torch.cuda.is_available() else \"cpu\")\n",
    "print(\"Evaluating Device: \", device)\n",
    "configs.device = device"
   ]
  },
  {
   "cell_type": "code",
   "execution_count": 6,
   "id": "81cd3bff",
   "metadata": {},
   "outputs": [],
   "source": [
    "policy_network = RobotPolicy(state_size=configs.state_size,\n",
    "                             hidden_size=configs.hidden_size,\n",
    "                             out_size=configs.action_size,\n",
    "                             log_std_min=configs.policy_log_std_min,\n",
    "                             log_std_max=configs.policy_log_std_max,\n",
    "                             log_std_init=configs.policy_log_std_init,\n",
    "                             device=configs.device)"
   ]
  },
  {
   "cell_type": "code",
   "execution_count": 7,
   "id": "6bb3c03e",
   "metadata": {},
   "outputs": [
    {
     "name": "stdout",
     "output_type": "stream",
     "text": [
      "\n",
      "================== Policy Dataset Loader ==================\n",
      "\n",
      "Number of Trajectories:  43\n",
      "Each Trajectory Length:  20\n",
      "Full Demo Dataset Size:  922\n"
     ]
    }
   ],
   "source": [
    "# load demonstrations dataset\n",
    "evaluation_data = PolicyDatasetLoader(demo_data_json_paths=json_paths)"
   ]
  },
  {
   "cell_type": "markdown",
   "id": "810ada36",
   "metadata": {},
   "source": [
    "# Functions"
   ]
  },
  {
   "cell_type": "code",
   "execution_count": null,
   "id": "e0e3f2cb",
   "metadata": {},
   "outputs": [],
   "source": []
  },
  {
   "cell_type": "markdown",
   "id": "148aef9c",
   "metadata": {},
   "source": [
    "# Test"
   ]
  },
  {
   "cell_type": "code",
   "execution_count": 8,
   "id": "12d933c9",
   "metadata": {},
   "outputs": [],
   "source": [
    "# folder name where parameters are located (\"results / policy_network_params / loading_folder_name\")\n",
    "loading_folder_name = \"Jan_29_2024-18_35_10\""
   ]
  },
  {
   "cell_type": "code",
   "execution_count": 9,
   "id": "0f8933f7",
   "metadata": {},
   "outputs": [],
   "source": [
    "params_name = \"policy_network_epoch_100_loss_3_19916.pt\""
   ]
  },
  {
   "cell_type": "code",
   "execution_count": 10,
   "id": "fdd21aaf",
   "metadata": {},
   "outputs": [],
   "source": [
    "# location of the trained model parameters (make sure that the folder exists where model is trained priorly)\n",
    "model_folder_path = os.path.join(results_path,\n",
    "                                 \"policy_network_params\",\n",
    "                                 loading_folder_name)"
   ]
  },
  {
   "cell_type": "code",
   "execution_count": 11,
   "id": "b22767c5",
   "metadata": {},
   "outputs": [],
   "source": [
    "model_path = os.path.join(model_folder_path, params_name)"
   ]
  },
  {
   "cell_type": "code",
   "execution_count": 12,
   "id": "494ec0aa",
   "metadata": {},
   "outputs": [],
   "source": [
    "# set trained parameters to neural network\n",
    "policy_network = load_policy(policy_network=policy_network,\n",
    "                             model_path=model_path)"
   ]
  },
  {
   "cell_type": "code",
   "execution_count": 13,
   "id": "b43439d6",
   "metadata": {},
   "outputs": [],
   "source": [
    "updater = Updater(configs=configs,\n",
    "                  policy_network=policy_network)"
   ]
  },
  {
   "cell_type": "code",
   "execution_count": 14,
   "id": "3f34d0e4",
   "metadata": {},
   "outputs": [],
   "source": [
    "sample_index = 25"
   ]
  },
  {
   "cell_type": "code",
   "execution_count": 15,
   "id": "b7b5425e",
   "metadata": {},
   "outputs": [],
   "source": [
    "evaluation_sample = evaluation_data[sample_index]"
   ]
  },
  {
   "cell_type": "code",
   "execution_count": 16,
   "id": "c1aa879a",
   "metadata": {},
   "outputs": [],
   "source": [
    "# extract sample data in correct order\n",
    "input_state = evaluation_sample[0].float().to(configs.device)\n",
    "output_action = evaluation_sample[1].float().to(configs.device)\n",
    "trajectory_index = evaluation_sample[2]\n",
    "state_number = evaluation_sample[3]"
   ]
  },
  {
   "cell_type": "code",
   "execution_count": 17,
   "id": "891e7a6a",
   "metadata": {},
   "outputs": [],
   "source": [
    "# forward pass to get mean of Gaussian distribution\n",
    "# add a batch dimension by unsqueezing\n",
    "action_pred, action_std = policy_network.forward(x=input_state.unsqueeze(0))\n",
    "action_log_prob, action_dist = policy_network.calculate_distribution(action_mu=action_pred,\n",
    "                                                                     action_std=action_std)"
   ]
  },
  {
   "cell_type": "code",
   "execution_count": 18,
   "id": "4b611759",
   "metadata": {},
   "outputs": [],
   "source": [
    "action_mu_and_std = torch.cat((action_pred, action_std),\n",
    "                              dim=-1)"
   ]
  },
  {
   "cell_type": "code",
   "execution_count": 19,
   "id": "40d5f0e4",
   "metadata": {},
   "outputs": [],
   "source": [
    "# multivariate Gaussian negative log-likelihood loss function\n",
    "nll_loss = updater.gaussian_nll_loss(y_true=output_action,\n",
    "                                     y_pred=action_mu_and_std)"
   ]
  },
  {
   "cell_type": "code",
   "execution_count": 20,
   "id": "dc42fade",
   "metadata": {},
   "outputs": [],
   "source": [
    "real_state_input = common.denormalize_state(state_norm=input_state.numpy(),\n",
    "                                            norm_value_list=evaluation_data.state_norms)"
   ]
  },
  {
   "cell_type": "code",
   "execution_count": 21,
   "id": "f1bfd115",
   "metadata": {},
   "outputs": [],
   "source": [
    "real_action_output = common.denormalize_action(action_norm=output_action.unsqueeze(0).numpy(),\n",
    "                                               norm_range_list=evaluation_data.action_norms)"
   ]
  },
  {
   "cell_type": "code",
   "execution_count": 22,
   "id": "e18e79f8",
   "metadata": {},
   "outputs": [],
   "source": [
    "pred_action_output = common.denormalize_action(action_norm=action_pred.detach().numpy(),\n",
    "                                               norm_range_list=evaluation_data.action_norms)"
   ]
  },
  {
   "cell_type": "code",
   "execution_count": null,
   "id": "d9d420d7",
   "metadata": {},
   "outputs": [],
   "source": []
  }
 ],
 "metadata": {
  "kernelspec": {
   "display_name": "Python 3 (ipykernel)",
   "language": "python",
   "name": "python3"
  },
  "language_info": {
   "codemirror_mode": {
    "name": "ipython",
    "version": 3
   },
   "file_extension": ".py",
   "mimetype": "text/x-python",
   "name": "python",
   "nbconvert_exporter": "python",
   "pygments_lexer": "ipython3",
   "version": "3.10.9"
  }
 },
 "nbformat": 4,
 "nbformat_minor": 5
}
