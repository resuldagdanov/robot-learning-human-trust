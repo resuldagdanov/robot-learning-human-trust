{
 "cells": [
  {
   "cell_type": "markdown",
   "id": "937e9f75",
   "metadata": {},
   "source": [
    "## Evaluate Trained Robot Policy Model and Visualize"
   ]
  },
  {
   "cell_type": "code",
   "execution_count": 1,
   "id": "431547e5",
   "metadata": {},
   "outputs": [],
   "source": [
    "import os\n",
    "import sys\n",
    "\n",
    "import torch"
   ]
  },
  {
   "cell_type": "code",
   "execution_count": 2,
   "id": "f4c5cba5",
   "metadata": {},
   "outputs": [],
   "source": [
    "# get the current script's directory\n",
    "current_directory = os.path.dirname(os.path.abspath(__file__)) if \"__file__\" in locals() else os.getcwd()\n",
    "# get the parent directory\n",
    "parent_directory = os.path.dirname(current_directory)\n",
    "# add the parent directory to the sys.path\n",
    "sys.path.append(parent_directory)"
   ]
  },
  {
   "cell_type": "code",
   "execution_count": 5,
   "id": "50b0218d",
   "metadata": {},
   "outputs": [],
   "source": [
    "from utils import constants\n",
    "from utils.config import Config\n",
    "from utils.dataset_loader import PolicyDatasetLoader\n",
    "\n",
    "from optimization.functions import setup_config, get_directories, load_policy\n",
    "\n",
    "from models.policy_model import RobotPolicy"
   ]
  },
  {
   "cell_type": "code",
   "execution_count": 6,
   "id": "5a4feafa",
   "metadata": {},
   "outputs": [
    {
     "name": "stdout",
     "output_type": "stream",
     "text": [
      "Evaluating Device:  cpu\n",
      "Current Time:  Jan_29_2024-18_45_48\n"
     ]
    }
   ],
   "source": [
    "# available evaluating machine\n",
    "device = torch.device(\"cuda\" if torch.cuda.is_available() else \"cpu\")\n",
    "print(\"Evaluating Device: \", device)\n",
    "\n",
    "# setup hyperparameters\n",
    "configs = setup_config(device=device)\n",
    "\n",
    "# create and return preliminary base paths\n",
    "json_paths, results_path = get_directories(parent_directory=parent_directory)"
   ]
  },
  {
   "cell_type": "code",
   "execution_count": 7,
   "id": "8a268a2a",
   "metadata": {},
   "outputs": [
    {
     "name": "stdout",
     "output_type": "stream",
     "text": [
      "Evaluating Device:  cpu\n"
     ]
    }
   ],
   "source": [
    "device = torch.device(\"cuda\" if torch.cuda.is_available() else \"cpu\")\n",
    "print(\"Evaluating Device: \", device)\n",
    "configs.device = device"
   ]
  },
  {
   "cell_type": "code",
   "execution_count": 8,
   "id": "2bfeebfa",
   "metadata": {},
   "outputs": [],
   "source": [
    "policy_network = RobotPolicy(state_size=configs.state_size,\n",
    "                             hidden_size=configs.hidden_size,\n",
    "                             out_size=configs.action_size,\n",
    "                             log_std_min=configs.policy_log_std_min,\n",
    "                             log_std_max=configs.policy_log_std_max,\n",
    "                             log_std_init=configs.policy_log_std_init,\n",
    "                             device=configs.device)"
   ]
  },
  {
   "cell_type": "code",
   "execution_count": 9,
   "id": "b3fd4a69",
   "metadata": {},
   "outputs": [
    {
     "name": "stdout",
     "output_type": "stream",
     "text": [
      "\n",
      "================== Policy Dataset Loader ==================\n",
      "\n",
      "Number of Trajectories:  43\n",
      "Each Trajectory Length:  20\n",
      "Full Demo Dataset Size:  922\n"
     ]
    }
   ],
   "source": [
    "# load demonstrations dataset\n",
    "training_data = PolicyDatasetLoader(demo_data_json_paths=json_paths)"
   ]
  },
  {
   "cell_type": "markdown",
   "id": "7f0d8b46",
   "metadata": {},
   "source": [
    "# Functions"
   ]
  },
  {
   "cell_type": "code",
   "execution_count": null,
   "id": "e047a25b",
   "metadata": {},
   "outputs": [],
   "source": []
  },
  {
   "cell_type": "markdown",
   "id": "0c9aa42b",
   "metadata": {},
   "source": [
    "# Test"
   ]
  },
  {
   "cell_type": "code",
   "execution_count": 10,
   "id": "6652ddb9",
   "metadata": {},
   "outputs": [],
   "source": [
    "# folder name where parameters are located (\"results / policy_network_params / loading_folder_name\")\n",
    "loading_folder_name = \"Jan_29_2024-18_35_10\""
   ]
  },
  {
   "cell_type": "code",
   "execution_count": 11,
   "id": "3ad709d9",
   "metadata": {},
   "outputs": [],
   "source": [
    "params_name = \"policy_network_epoch_100_loss_3_19916.pt\""
   ]
  },
  {
   "cell_type": "code",
   "execution_count": 12,
   "id": "1ea1527f",
   "metadata": {},
   "outputs": [],
   "source": [
    "# location of the trained model parameters (make sure that the folder exists where model is trained priorly)\n",
    "model_folder_path = os.path.join(results_path, \"policy_network_params\", loading_folder_name)"
   ]
  },
  {
   "cell_type": "code",
   "execution_count": 13,
   "id": "5c65532c",
   "metadata": {},
   "outputs": [],
   "source": [
    "model_path = os.path.join(model_folder_path, params_name)"
   ]
  },
  {
   "cell_type": "code",
   "execution_count": 14,
   "id": "5b6d1166",
   "metadata": {},
   "outputs": [],
   "source": [
    "policy_network = load_policy(policy_network=policy_network,\n",
    "                             model_path=model_path)"
   ]
  },
  {
   "cell_type": "code",
   "execution_count": 16,
   "id": "6e6116e1",
   "metadata": {},
   "outputs": [
    {
     "data": {
      "text/plain": [
       "(tensor([0.5449, 0.9064, 0.0419, 0.4863]), tensor([-0.2237, -0.2403,  0.3673]))"
      ]
     },
     "execution_count": 16,
     "metadata": {},
     "output_type": "execute_result"
    }
   ],
   "source": [
    "training_data[0]"
   ]
  },
  {
   "cell_type": "code",
   "execution_count": null,
   "id": "52235eda",
   "metadata": {},
   "outputs": [],
   "source": []
  }
 ],
 "metadata": {
  "kernelspec": {
   "display_name": "Python 3 (ipykernel)",
   "language": "python",
   "name": "python3"
  },
  "language_info": {
   "codemirror_mode": {
    "name": "ipython",
    "version": 3
   },
   "file_extension": ".py",
   "mimetype": "text/x-python",
   "name": "python",
   "nbconvert_exporter": "python",
   "pygments_lexer": "ipython3",
   "version": "3.10.9"
  }
 },
 "nbformat": 4,
 "nbformat_minor": 5
}
