{
 "cells": [
  {
   "cell_type": "markdown",
   "id": "0314b100",
   "metadata": {},
   "source": [
    "## Evaluate Trained Robot Policy Model and Visualize"
   ]
  },
  {
   "cell_type": "code",
   "execution_count": 1,
   "id": "8b43c60d",
   "metadata": {},
   "outputs": [],
   "source": [
    "import os\n",
    "import sys\n",
    "\n",
    "import torch"
   ]
  },
  {
   "cell_type": "code",
   "execution_count": 2,
   "id": "73d489eb",
   "metadata": {},
   "outputs": [],
   "source": [
    "# get the current script's directory\n",
    "current_directory = os.path.dirname(os.path.abspath(__file__)) if \"__file__\" in locals() else os.getcwd()\n",
    "# get the parent directory\n",
    "parent_directory = os.path.dirname(current_directory)\n",
    "# add the parent directory to the sys.path\n",
    "sys.path.append(parent_directory)"
   ]
  },
  {
   "cell_type": "code",
   "execution_count": 3,
   "id": "7560ffd2",
   "metadata": {},
   "outputs": [],
   "source": [
    "from utils import constants\n",
    "from utils.config import Config\n",
    "from utils.dataset_loader import PolicyDatasetLoader\n",
    "\n",
    "from optimization.functions import setup_config, get_directories, load_policy\n",
    "\n",
    "from models.policy_model import RobotPolicy"
   ]
  },
  {
   "cell_type": "code",
   "execution_count": 4,
   "id": "ea2db536",
   "metadata": {},
   "outputs": [
    {
     "name": "stdout",
     "output_type": "stream",
     "text": [
      "Evaluating Device:  cpu\n",
      "Current Time:  Jan_29_2024-19_50_56\n"
     ]
    }
   ],
   "source": [
    "# available evaluating machine\n",
    "device = torch.device(\"cuda\" if torch.cuda.is_available() else \"cpu\")\n",
    "print(\"Evaluating Device: \", device)\n",
    "\n",
    "# setup hyperparameters\n",
    "configs = setup_config(device=device)\n",
    "\n",
    "# create and return preliminary base paths\n",
    "json_paths, results_path = get_directories(parent_directory=parent_directory)"
   ]
  },
  {
   "cell_type": "code",
   "execution_count": 5,
   "id": "5921ef1a",
   "metadata": {},
   "outputs": [
    {
     "name": "stdout",
     "output_type": "stream",
     "text": [
      "Evaluating Device:  cpu\n"
     ]
    }
   ],
   "source": [
    "device = torch.device(\"cuda\" if torch.cuda.is_available() else \"cpu\")\n",
    "print(\"Evaluating Device: \", device)\n",
    "configs.device = device"
   ]
  },
  {
   "cell_type": "code",
   "execution_count": 6,
   "id": "8c83c06d",
   "metadata": {},
   "outputs": [],
   "source": [
    "policy_network = RobotPolicy(state_size=configs.state_size,\n",
    "                             hidden_size=configs.hidden_size,\n",
    "                             out_size=configs.action_size,\n",
    "                             log_std_min=configs.policy_log_std_min,\n",
    "                             log_std_max=configs.policy_log_std_max,\n",
    "                             log_std_init=configs.policy_log_std_init,\n",
    "                             device=configs.device)"
   ]
  },
  {
   "cell_type": "code",
   "execution_count": 7,
   "id": "ad83a632",
   "metadata": {},
   "outputs": [
    {
     "name": "stdout",
     "output_type": "stream",
     "text": [
      "\n",
      "================== Policy Dataset Loader ==================\n",
      "\n",
      "Number of Trajectories:  43\n",
      "Each Trajectory Length:  20\n",
      "Full Demo Dataset Size:  922\n"
     ]
    }
   ],
   "source": [
    "# load demonstrations dataset\n",
    "training_data = PolicyDatasetLoader(demo_data_json_paths=json_paths)"
   ]
  },
  {
   "cell_type": "markdown",
   "id": "8a1260b5",
   "metadata": {},
   "source": [
    "# Functions"
   ]
  },
  {
   "cell_type": "code",
   "execution_count": null,
   "id": "1bfde9a8",
   "metadata": {},
   "outputs": [],
   "source": []
  },
  {
   "cell_type": "markdown",
   "id": "7daed245",
   "metadata": {},
   "source": [
    "# Test"
   ]
  },
  {
   "cell_type": "code",
   "execution_count": 8,
   "id": "584be6e9",
   "metadata": {},
   "outputs": [],
   "source": [
    "# folder name where parameters are located (\"results / policy_network_params / loading_folder_name\")\n",
    "loading_folder_name = \"Jan_29_2024-18_35_10\""
   ]
  },
  {
   "cell_type": "code",
   "execution_count": 9,
   "id": "a3fd3f1d",
   "metadata": {},
   "outputs": [],
   "source": [
    "params_name = \"policy_network_epoch_100_loss_3_19916.pt\""
   ]
  },
  {
   "cell_type": "code",
   "execution_count": 10,
   "id": "5edd57cf",
   "metadata": {},
   "outputs": [],
   "source": [
    "# location of the trained model parameters (make sure that the folder exists where model is trained priorly)\n",
    "model_folder_path = os.path.join(results_path, \"policy_network_params\", loading_folder_name)"
   ]
  },
  {
   "cell_type": "code",
   "execution_count": 11,
   "id": "d54bb63c",
   "metadata": {},
   "outputs": [],
   "source": [
    "model_path = os.path.join(model_folder_path, params_name)"
   ]
  },
  {
   "cell_type": "code",
   "execution_count": 12,
   "id": "f0dd92a6",
   "metadata": {},
   "outputs": [],
   "source": [
    "policy_network = load_policy(policy_network=policy_network,\n",
    "                             model_path=model_path)"
   ]
  },
  {
   "cell_type": "code",
   "execution_count": 13,
   "id": "53ddef01",
   "metadata": {},
   "outputs": [
    {
     "data": {
      "text/plain": [
       "(tensor([0.2958, 0.7073, 0.2999, 0.5409]),\n",
       " tensor([-0.3162,  0.0008,  0.4145]),\n",
       " 1,\n",
       " 5)"
      ]
     },
     "execution_count": 13,
     "metadata": {},
     "output_type": "execute_result"
    }
   ],
   "source": [
    "training_data[25]"
   ]
  },
  {
   "cell_type": "code",
   "execution_count": 14,
   "id": "11693462",
   "metadata": {},
   "outputs": [
    {
     "data": {
      "text/plain": [
       "(tensor([0.4475, 0.4495, 0.7963, 0.4696]),\n",
       " tensor([-0.2571,  0.4895,  0.3877]),\n",
       " 0,\n",
       " 12)"
      ]
     },
     "execution_count": 14,
     "metadata": {},
     "output_type": "execute_result"
    }
   ],
   "source": [
    "training_data[12]"
   ]
  }
 ],
 "metadata": {
  "kernelspec": {
   "display_name": "Python 3 (ipykernel)",
   "language": "python",
   "name": "python3"
  },
  "language_info": {
   "codemirror_mode": {
    "name": "ipython",
    "version": 3
   },
   "file_extension": ".py",
   "mimetype": "text/x-python",
   "name": "python",
   "nbconvert_exporter": "python",
   "pygments_lexer": "ipython3",
   "version": "3.10.9"
  }
 },
 "nbformat": 4,
 "nbformat_minor": 5
}
