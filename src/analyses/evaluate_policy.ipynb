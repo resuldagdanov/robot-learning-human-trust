{
 "cells": [
  {
   "cell_type": "markdown",
   "id": "8f7eed90",
   "metadata": {},
   "source": [
    "## Evaluate Trained Robot Policy Model and Visualize"
   ]
  },
  {
   "cell_type": "code",
   "execution_count": 1,
   "id": "f02977f6",
   "metadata": {},
   "outputs": [],
   "source": [
    "import os\n",
    "import sys\n",
    "\n",
    "import torch"
   ]
  },
  {
   "cell_type": "code",
   "execution_count": 2,
   "id": "33dba72c",
   "metadata": {},
   "outputs": [],
   "source": [
    "# get the current script's directory\n",
    "current_directory = os.path.dirname(os.path.abspath(__file__)) if \"__file__\" in locals() else os.getcwd()\n",
    "# get the parent directory\n",
    "parent_directory = os.path.dirname(current_directory)\n",
    "# add the parent directory to the sys.path\n",
    "sys.path.append(parent_directory)"
   ]
  },
  {
   "cell_type": "code",
   "execution_count": 15,
   "id": "f50ee190",
   "metadata": {},
   "outputs": [],
   "source": [
    "from utils import constants\n",
    "from utils.config import Config\n",
    "from utils.dataset_loader import PolicyDatasetLoader\n",
    "\n",
    "from optimization.updater import Updater\n",
    "from optimization.functions import setup_config, get_directories\n",
    "\n",
    "from models.policy_model import RobotPolicy"
   ]
  },
  {
   "cell_type": "code",
   "execution_count": 14,
   "id": "b6da871e",
   "metadata": {},
   "outputs": [
    {
     "name": "stdout",
     "output_type": "stream",
     "text": [
      "Evaluating Device:  cpu\n",
      "Current Time:  Jan_29_2024-18_27_37\n"
     ]
    }
   ],
   "source": [
    "# available evaluating machine\n",
    "device = torch.device(\"cuda\" if torch.cuda.is_available() else \"cpu\")\n",
    "print(\"Evaluating Device: \", device)\n",
    "\n",
    "# setup hyperparameters\n",
    "configs = setup_config(device=device)\n",
    "\n",
    "# create and return preliminary base paths\n",
    "json_paths, results_path = get_directories(parent_directory=parent_directory)"
   ]
  },
  {
   "cell_type": "code",
   "execution_count": 5,
   "id": "fd805d99",
   "metadata": {},
   "outputs": [
    {
     "name": "stdout",
     "output_type": "stream",
     "text": [
      "Evaluating Device:  cpu\n"
     ]
    }
   ],
   "source": [
    "device = torch.device(\"cuda\" if torch.cuda.is_available() else \"cpu\")\n",
    "print(\"Evaluating Device: \", device)\n",
    "configs.device = device"
   ]
  },
  {
   "cell_type": "code",
   "execution_count": 7,
   "id": "6bfe3076",
   "metadata": {},
   "outputs": [],
   "source": [
    "policy_network = RobotPolicy(state_size=configs.state_size,\n",
    "                             hidden_size=configs.hidden_size,\n",
    "                             out_size=configs.action_size,\n",
    "                             log_std_min=configs.policy_log_std_min,\n",
    "                             log_std_max=configs.policy_log_std_max,\n",
    "                             log_std_init=configs.policy_log_std_init,\n",
    "                             device=configs.device)"
   ]
  },
  {
   "cell_type": "code",
   "execution_count": 9,
   "id": "8e26e688",
   "metadata": {},
   "outputs": [
    {
     "name": "stdout",
     "output_type": "stream",
     "text": [
      "\n",
      "================== Policy Dataset Loader ==================\n",
      "\n",
      "Number of Trajectories:  43\n",
      "Each Trajectory Length:  20\n",
      "Full Demo Dataset Size:  922\n"
     ]
    }
   ],
   "source": [
    "# load demonstrations dataset\n",
    "training_data = PolicyDatasetLoader(demo_data_json_paths=json_paths)\n",
    "torch_loader = torch.utils.data.DataLoader(training_data,\n",
    "                                           batch_size=configs.batch_size,\n",
    "                                           shuffle=configs.data_shuffle,\n",
    "                                           num_workers=configs.num_workers)"
   ]
  },
  {
   "cell_type": "markdown",
   "id": "00bc5d9c",
   "metadata": {},
   "source": [
    "# Functions"
   ]
  },
  {
   "cell_type": "code",
   "execution_count": null,
   "id": "cd61d55e",
   "metadata": {},
   "outputs": [],
   "source": []
  },
  {
   "cell_type": "markdown",
   "id": "5400e7ad",
   "metadata": {},
   "source": [
    "# Test"
   ]
  },
  {
   "cell_type": "code",
   "execution_count": null,
   "id": "5cffade5",
   "metadata": {},
   "outputs": [],
   "source": []
  },
  {
   "cell_type": "code",
   "execution_count": null,
   "id": "d389ed6e",
   "metadata": {},
   "outputs": [],
   "source": []
  },
  {
   "cell_type": "code",
   "execution_count": null,
   "id": "3b091a0f",
   "metadata": {},
   "outputs": [],
   "source": []
  }
 ],
 "metadata": {
  "kernelspec": {
   "display_name": "Python 3 (ipykernel)",
   "language": "python",
   "name": "python3"
  },
  "language_info": {
   "codemirror_mode": {
    "name": "ipython",
    "version": 3
   },
   "file_extension": ".py",
   "mimetype": "text/x-python",
   "name": "python",
   "nbconvert_exporter": "python",
   "pygments_lexer": "ipython3",
   "version": "3.10.9"
  }
 },
 "nbformat": 4,
 "nbformat_minor": 5
}
